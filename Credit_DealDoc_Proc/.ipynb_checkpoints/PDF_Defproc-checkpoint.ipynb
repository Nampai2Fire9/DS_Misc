{
 "cells": [
  {
   "cell_type": "code",
   "execution_count": 1,
   "metadata": {},
   "outputs": [],
   "source": [
    "# library import\n",
    "import os\n",
    "import re\n",
    "import pdfplumber\n",
    "import numpy as np\n",
    "import pandas as pd \n",
    "import json\n",
    "\n",
    "import scrape   # custom file"
   ]
  },
  {
   "cell_type": "code",
   "execution_count": 2,
   "metadata": {},
   "outputs": [],
   "source": [
    "# Enable multiple output per cell. \n",
    "from IPython.core.interactiveshell import InteractiveShell\n",
    "InteractiveShell.ast_node_interactivity = \"all\""
   ]
  },
  {
   "cell_type": "markdown",
   "metadata": {},
   "source": [
    "### Definition Lists\n",
    "Grab full list of definition names from two files"
   ]
  },
  {
   "cell_type": "code",
   "execution_count": 3,
   "metadata": {},
   "outputs": [],
   "source": [
    "file_name_vib = 'Vibrant VIII - Indenture(133849278_1).pdf'\n",
    "start_page_vib = 8\n",
    "end_page_vib = 74\n",
    "\n",
    "file_name_oh = 'OHA XII Indenture.pdf'\n",
    "start_page_oh = 8\n",
    "end_page_oh = 85"
   ]
  },
  {
   "cell_type": "code",
   "execution_count": 4,
   "metadata": {},
   "outputs": [],
   "source": [
    "# extract pages from both documents\n",
    "oh_pages = scrape.pdf_extract_pages(file_name_oh, start_page_oh, end_page_oh)\n",
    "doc_str_oh = scrape.combine_strings(oh_pages) \n",
    "vib_pages = scrape.pdf_extract_pages(file_name_vib, start_page_vib, end_page_vib)\n",
    "doc_str_vib = scrape.combine_strings(vib_pages)"
   ]
  },
  {
   "cell_type": "code",
   "execution_count": null,
   "metadata": {},
   "outputs": [],
   "source": []
  },
  {
   "cell_type": "code",
   "execution_count": 9,
   "metadata": {},
   "outputs": [],
   "source": [
    "# isolate ranges for both files\n",
    "regex_oh = r'“.*”:'\n",
    "regex_vib = r'\".*\":'\n",
    "name_range_oh = scrape.text_match_str2list(regex_oh, doc_str_oh)\n",
    "name_range_vib = scrape.text_match_str2list(regex_vib, doc_str_vib)"
   ]
  },
  {
   "cell_type": "markdown",
   "metadata": {},
   "source": [
    "Store of list of definition names into dictionary, then export through dataframe"
   ]
  },
  {
   "cell_type": "code",
   "execution_count": 10,
   "metadata": {},
   "outputs": [],
   "source": [
    "# filter out beginning and end quote/colon from each line \n",
    "name_range_oh = [x[1:(len(x)-2)] for x in name_range_oh]\n",
    "name_range_vib = [x[1:(len(x)-2)] for x in name_range_vib]"
   ]
  },
  {
   "cell_type": "code",
   "execution_count": 11,
   "metadata": {},
   "outputs": [],
   "source": [
    "doc_def_dict={}\n",
    "doc_def_dict['OH'] = name_range_oh\n",
    "doc_def_dict['Vib'] = name_range_vib"
   ]
  },
  {
   "cell_type": "code",
   "execution_count": 12,
   "metadata": {},
   "outputs": [
    {
     "data": {
      "text/html": [
       "<div>\n",
       "<style scoped>\n",
       "    .dataframe tbody tr th:only-of-type {\n",
       "        vertical-align: middle;\n",
       "    }\n",
       "\n",
       "    .dataframe tbody tr th {\n",
       "        vertical-align: top;\n",
       "    }\n",
       "\n",
       "    .dataframe thead th {\n",
       "        text-align: right;\n",
       "    }\n",
       "</style>\n",
       "<table border=\"1\" class=\"dataframe\">\n",
       "  <thead>\n",
       "    <tr style=\"text-align: right;\">\n",
       "      <th></th>\n",
       "      <th>OH</th>\n",
       "      <th>Vib</th>\n",
       "    </tr>\n",
       "  </thead>\n",
       "  <tbody>\n",
       "    <tr>\n",
       "      <th>0</th>\n",
       "      <td>Acceleration Event</td>\n",
       "      <td>17g-5 Information Provider</td>\n",
       "    </tr>\n",
       "    <tr>\n",
       "      <th>1</th>\n",
       "      <td>Acceleration  Priority  of  Payments</td>\n",
       "      <td>17g-5  Information  Provider's  Website</td>\n",
       "    </tr>\n",
       "    <tr>\n",
       "      <th>2</th>\n",
       "      <td>Account Agreement</td>\n",
       "      <td>Acceleration Event</td>\n",
       "    </tr>\n",
       "    <tr>\n",
       "      <th>3</th>\n",
       "      <td>Accountants’ Effective Date Comparison AUP Report</td>\n",
       "      <td>Accountants' Report</td>\n",
       "    </tr>\n",
       "    <tr>\n",
       "      <th>4</th>\n",
       "      <td>Accountants’ Effective Date Recalculation AUP ...</td>\n",
       "      <td>Accounts</td>\n",
       "    </tr>\n",
       "  </tbody>\n",
       "</table>\n",
       "</div>"
      ],
      "text/plain": [
       "                                                  OH  \\\n",
       "0                                 Acceleration Event   \n",
       "1               Acceleration  Priority  of  Payments   \n",
       "2                                  Account Agreement   \n",
       "3  Accountants’ Effective Date Comparison AUP Report   \n",
       "4  Accountants’ Effective Date Recalculation AUP ...   \n",
       "\n",
       "                                       Vib  \n",
       "0               17g-5 Information Provider  \n",
       "1  17g-5  Information  Provider's  Website  \n",
       "2                       Acceleration Event  \n",
       "3                      Accountants' Report  \n",
       "4                                 Accounts  "
      ]
     },
     "execution_count": 12,
     "metadata": {},
     "output_type": "execute_result"
    }
   ],
   "source": [
    "df1 = pd.DataFrame(data=doc_def_dict['OH'])\n",
    "df1.columns = ['OH']\n",
    "df2 = pd.DataFrame(data=doc_def_dict['Vib'])\n",
    "df2.columns = ['Vib']\n",
    "df = pd.concat([df1, df2], axis=1)\n",
    "df.head() "
   ]
  },
  {
   "cell_type": "markdown",
   "metadata": {},
   "source": [
    "### Table of Definitions: Raw definitions (no table/bullet processing) \n",
    "1. Process full file: start with OH\n",
    "2. grab locations and map fields"
   ]
  },
  {
   "cell_type": "code",
   "execution_count": 13,
   "metadata": {},
   "outputs": [],
   "source": [
    "def_locs_oh = scrape.text_match_2list(regex_oh, doc_str_oh)\n",
    "def_descr_oh = scrape.list_betweenloc_to_string_bounded(def_locs_oh, doc_str_oh, len(doc_str_oh))"
   ]
  },
  {
   "cell_type": "code",
   "execution_count": 14,
   "metadata": {},
   "outputs": [
    {
     "data": {
      "text/html": [
       "<div>\n",
       "<style scoped>\n",
       "    .dataframe tbody tr th:only-of-type {\n",
       "        vertical-align: middle;\n",
       "    }\n",
       "\n",
       "    .dataframe tbody tr th {\n",
       "        vertical-align: top;\n",
       "    }\n",
       "\n",
       "    .dataframe thead th {\n",
       "        text-align: right;\n",
       "    }\n",
       "</style>\n",
       "<table border=\"1\" class=\"dataframe\">\n",
       "  <thead>\n",
       "    <tr style=\"text-align: right;\">\n",
       "      <th></th>\n",
       "      <th>def_name</th>\n",
       "      <th>def_description</th>\n",
       "    </tr>\n",
       "  </thead>\n",
       "  <tbody>\n",
       "    <tr>\n",
       "      <th>0</th>\n",
       "      <td>Acceleration Event</td>\n",
       "      <td>The meaning specified in the Acceleration Pr...</td>\n",
       "    </tr>\n",
       "    <tr>\n",
       "      <th>1</th>\n",
       "      <td>Acceleration  Priority  of  Payments</td>\n",
       "      <td>The  meaning  specified  in \\nSection 11.1...</td>\n",
       "    </tr>\n",
       "    <tr>\n",
       "      <th>2</th>\n",
       "      <td>Account Agreement</td>\n",
       "      <td>An agreement in substantially the form of Ex...</td>\n",
       "    </tr>\n",
       "    <tr>\n",
       "      <th>3</th>\n",
       "      <td>Accountants’ Effective Date Comparison AUP Report</td>\n",
       "      <td>A report of agreed \\nupon procedures perform...</td>\n",
       "    </tr>\n",
       "    <tr>\n",
       "      <th>4</th>\n",
       "      <td>Accountants’ Effective Date Recalculation AUP ...</td>\n",
       "      <td>A report of agreed \\nupon  procedures  perfor...</td>\n",
       "    </tr>\n",
       "  </tbody>\n",
       "</table>\n",
       "</div>"
      ],
      "text/plain": [
       "                                            def_name  \\\n",
       "0                                 Acceleration Event   \n",
       "1               Acceleration  Priority  of  Payments   \n",
       "2                                  Account Agreement   \n",
       "3  Accountants’ Effective Date Comparison AUP Report   \n",
       "4  Accountants’ Effective Date Recalculation AUP ...   \n",
       "\n",
       "                                     def_description  \n",
       "0    The meaning specified in the Acceleration Pr...  \n",
       "1      The  meaning  specified  in \\nSection 11.1...  \n",
       "2    An agreement in substantially the form of Ex...  \n",
       "3    A report of agreed \\nupon procedures perform...  \n",
       "4   A report of agreed \\nupon  procedures  perfor...  "
      ]
     },
     "execution_count": 14,
     "metadata": {},
     "output_type": "execute_result"
    }
   ],
   "source": [
    "df_defs = pd.DataFrame([doc_str_oh[x[0]+1:x[1]-2] for x in def_locs_oh])\n",
    "df_defs['description'] = def_descr_oh\n",
    "df_defs.columns = ['def_name','def_description']\n",
    "df_defs.head() "
   ]
  },
  {
   "cell_type": "markdown",
   "metadata": {},
   "source": [
    "### Detect bullet points / lists\n",
    "1. Detection of different lists: different permutations of roman, letter, x/y, \n",
    "   - Add their locations to table. \n",
    "2. Detection within lists: Create sub tables around different bullet types. \n",
    "3. merge back in sub table. \n"
   ]
  },
  {
   "cell_type": "code",
   "execution_count": 15,
   "metadata": {},
   "outputs": [
    {
     "data": {
      "text/html": [
       "<div>\n",
       "<style scoped>\n",
       "    .dataframe tbody tr th:only-of-type {\n",
       "        vertical-align: middle;\n",
       "    }\n",
       "\n",
       "    .dataframe tbody tr th {\n",
       "        vertical-align: top;\n",
       "    }\n",
       "\n",
       "    .dataframe thead th {\n",
       "        text-align: right;\n",
       "    }\n",
       "</style>\n",
       "<table border=\"1\" class=\"dataframe\">\n",
       "  <thead>\n",
       "    <tr style=\"text-align: right;\">\n",
       "      <th></th>\n",
       "      <th>def_name</th>\n",
       "      <th>def_description</th>\n",
       "      <th>roman_bullets_loc</th>\n",
       "    </tr>\n",
       "  </thead>\n",
       "  <tbody>\n",
       "    <tr>\n",
       "      <th>10</th>\n",
       "      <td>Additional  Notes  Closing  Date</td>\n",
       "      <td>The  closing  date  for  the  issuance  of...</td>\n",
       "      <td>0</td>\n",
       "    </tr>\n",
       "    <tr>\n",
       "      <th>11</th>\n",
       "      <td>Adjusted Collateral Principal Amount</td>\n",
       "      <td>As of any date of determination: \\n(a)  the ...</td>\n",
       "      <td>526</td>\n",
       "    </tr>\n",
       "    <tr>\n",
       "      <th>12</th>\n",
       "      <td>Adjusted Coupon</td>\n",
       "      <td>As of any date of determination and with res...</td>\n",
       "      <td>0</td>\n",
       "    </tr>\n",
       "    <tr>\n",
       "      <th>13</th>\n",
       "      <td>Adjusted Spread</td>\n",
       "      <td>As of any date of determination and with res...</td>\n",
       "      <td>0</td>\n",
       "    </tr>\n",
       "    <tr>\n",
       "      <th>14</th>\n",
       "      <td>Administration Agreement</td>\n",
       "      <td>An agreement between the Administrator and t...</td>\n",
       "      <td>0</td>\n",
       "    </tr>\n",
       "    <tr>\n",
       "      <th>15</th>\n",
       "      <td>Administrative Expense Cap</td>\n",
       "      <td>An amount equal on any Payment Date (when \\n...</td>\n",
       "      <td>419</td>\n",
       "    </tr>\n",
       "  </tbody>\n",
       "</table>\n",
       "</div>"
      ],
      "text/plain": [
       "                                def_name  \\\n",
       "10      Additional  Notes  Closing  Date   \n",
       "11  Adjusted Collateral Principal Amount   \n",
       "12                       Adjusted Coupon   \n",
       "13                       Adjusted Spread   \n",
       "14              Administration Agreement   \n",
       "15            Administrative Expense Cap   \n",
       "\n",
       "                                      def_description  roman_bullets_loc  \n",
       "10      The  closing  date  for  the  issuance  of...                  0  \n",
       "11    As of any date of determination: \\n(a)  the ...                526  \n",
       "12    As of any date of determination and with res...                  0  \n",
       "13    As of any date of determination and with res...                  0  \n",
       "14    An agreement between the Administrator and t...                  0  \n",
       "15    An amount equal on any Payment Date (when \\n...                419  "
      ]
     },
     "execution_count": 15,
     "metadata": {},
     "output_type": "execute_result"
    }
   ],
   "source": [
    "# Detect Roman numerals \n",
    "regex = r\"[\\n\\s]\\(i\\)\"\n",
    "match_reg = [re.search(regex, x) for x in df_defs['def_description']]\n",
    "roman_bullet_flag = [x.span()[0] if x is not None else 0 for x in match_reg]\n",
    "df_defs['roman_bullets_loc'] = roman_bullet_flag\n",
    "df_defs.iloc[10:16]   "
   ]
  },
  {
   "cell_type": "code",
   "execution_count": 16,
   "metadata": {},
   "outputs": [
    {
     "data": {
      "text/html": [
       "<div>\n",
       "<style scoped>\n",
       "    .dataframe tbody tr th:only-of-type {\n",
       "        vertical-align: middle;\n",
       "    }\n",
       "\n",
       "    .dataframe tbody tr th {\n",
       "        vertical-align: top;\n",
       "    }\n",
       "\n",
       "    .dataframe thead th {\n",
       "        text-align: right;\n",
       "    }\n",
       "</style>\n",
       "<table border=\"1\" class=\"dataframe\">\n",
       "  <thead>\n",
       "    <tr style=\"text-align: right;\">\n",
       "      <th></th>\n",
       "      <th>def_name</th>\n",
       "      <th>def_description</th>\n",
       "      <th>roman_bullets_loc</th>\n",
       "      <th>letter_bullets_loc</th>\n",
       "    </tr>\n",
       "  </thead>\n",
       "  <tbody>\n",
       "    <tr>\n",
       "      <th>6</th>\n",
       "      <td>Accounts</td>\n",
       "      <td>(i) The  Payment  Account;  (ii) the  Coll...</td>\n",
       "      <td>3</td>\n",
       "      <td>0</td>\n",
       "    </tr>\n",
       "    <tr>\n",
       "      <th>7</th>\n",
       "      <td>Accredited Investor</td>\n",
       "      <td>An accredited investor as defined in Regulat...</td>\n",
       "      <td>0</td>\n",
       "      <td>0</td>\n",
       "    </tr>\n",
       "    <tr>\n",
       "      <th>8</th>\n",
       "      <td>Act” and “Act of Holders</td>\n",
       "      <td>The meanings specified in Section 14.2 (Acts...</td>\n",
       "      <td>0</td>\n",
       "      <td>0</td>\n",
       "    </tr>\n",
       "    <tr>\n",
       "      <th>9</th>\n",
       "      <td>Additional Notes</td>\n",
       "      <td>Any Notes issued pursuant to Section 2.4(a) ...</td>\n",
       "      <td>0</td>\n",
       "      <td>0</td>\n",
       "    </tr>\n",
       "    <tr>\n",
       "      <th>10</th>\n",
       "      <td>Additional  Notes  Closing  Date</td>\n",
       "      <td>The  closing  date  for  the  issuance  of...</td>\n",
       "      <td>0</td>\n",
       "      <td>0</td>\n",
       "    </tr>\n",
       "    <tr>\n",
       "      <th>11</th>\n",
       "      <td>Adjusted Collateral Principal Amount</td>\n",
       "      <td>As of any date of determination: \\n(a)  the ...</td>\n",
       "      <td>526</td>\n",
       "      <td>35</td>\n",
       "    </tr>\n",
       "  </tbody>\n",
       "</table>\n",
       "</div>"
      ],
      "text/plain": [
       "                                def_name  \\\n",
       "6                               Accounts   \n",
       "7                    Accredited Investor   \n",
       "8               Act” and “Act of Holders   \n",
       "9                       Additional Notes   \n",
       "10      Additional  Notes  Closing  Date   \n",
       "11  Adjusted Collateral Principal Amount   \n",
       "\n",
       "                                      def_description  roman_bullets_loc  \\\n",
       "6       (i) The  Payment  Account;  (ii) the  Coll...                  3   \n",
       "7     An accredited investor as defined in Regulat...                  0   \n",
       "8     The meanings specified in Section 14.2 (Acts...                  0   \n",
       "9     Any Notes issued pursuant to Section 2.4(a) ...                  0   \n",
       "10      The  closing  date  for  the  issuance  of...                  0   \n",
       "11    As of any date of determination: \\n(a)  the ...                526   \n",
       "\n",
       "    letter_bullets_loc  \n",
       "6                    0  \n",
       "7                    0  \n",
       "8                    0  \n",
       "9                    0  \n",
       "10                   0  \n",
       "11                  35  "
      ]
     },
     "execution_count": 16,
     "metadata": {},
     "output_type": "execute_result"
    }
   ],
   "source": [
    "# Detect Letter bullets: look for '(a)'\n",
    "regex = r\"[\\n\\s]\\(a\\)\"\n",
    "match_reg = [re.search(regex, x) for x in df_defs['def_description']]\n",
    "letter_bullet_flag = [x.span()[0] if x is not None else 0 for x in match_reg]\n",
    "df_defs['letter_bullets_loc'] = letter_bullet_flag\n",
    "df_defs.iloc[6:12]   "
   ]
  },
  {
   "cell_type": "markdown",
   "metadata": {},
   "source": [
    "### Process roman numerals showing up first \n",
    "Process roman numeral bullets that show up first: this will be marked by roman bullet flag location being higher than letter bullet. \n",
    "1. Isolate table Roman letters come before letter bullets\n",
    "2. create substrings starting from roman numberal to end of string <br> \n",
    "Note: Only processing <font color=salmon> lower </font> case bullet points. will create regex for upper as well, but most bullet points in OH were lower. "
   ]
  },
  {
   "cell_type": "code",
   "execution_count": 17,
   "metadata": {},
   "outputs": [
    {
     "data": {
      "text/plain": [
       "def_name                                        Administrative Expenses\n",
       "def_description         Fees, expenses (including indemnities) and o...\n",
       "roman_bullets_loc                                                   452\n",
       "letter_bullets_loc                                                    0\n",
       "Name: 16, dtype: object"
      ]
     },
     "execution_count": 17,
     "metadata": {},
     "output_type": "execute_result"
    }
   ],
   "source": [
    "df_defs_sub1 =df_defs[(\n",
    "                        (df_defs.roman_bullets_loc < df_defs.letter_bullets_loc) & \n",
    "                         (df_defs.roman_bullets_loc != 0)\n",
    "                        ) | \n",
    "                     ( \n",
    "                        (df_defs.roman_bullets_loc !=0) & \n",
    "                          (df_defs.letter_bullets_loc == 0)\n",
    "                         )\n",
    "                    ]\n",
    "df_defs_sub1.iloc[2]"
   ]
  },
  {
   "cell_type": "markdown",
   "metadata": {},
   "source": [
    "### Create regex lists for roman numerals. \n",
    "1. Explore Administrative Expenses definitions: shows (x) before, but not in middle. \n",
    "2. Look at Affiliates. shows (x) between roman numerals. "
   ]
  },
  {
   "cell_type": "code",
   "execution_count": 1,
   "metadata": {},
   "outputs": [],
   "source": [
    "roman_regex_list = [r\"[\\n\\s]\\(i\\)\", r\"[\\n\\s]\\(ii\\)\", r\"[\\n\\s]\\(iii\\)\", r\"[\\n\\s]\\(iv\\)\",\n",
    "                     r\"[\\n\\s]\\(v\\)\", r\"[\\n\\s]\\(vi\\)\", r\"[\\n\\s]\\(vii\\)\", r\"[\\n\\s]\\(viii\\)\", \n",
    "                    r\"[\\n\\s]\\(ix\\)\", r\"[\\n\\s]\\(x\\)\", r\"[\\n\\s]\\(xi\\)\", r\"[\\n\\s]\\(xii\\)\", r\"[\\n\\s]\\(xiii\\)\", \n",
    "                    r\"[\\n\\s]\\(xiv\\)\", r\"[\\n\\s]\\(xv\\)\", r\"[\\n\\s]\\(xvi\\)\", r\"[\\n\\s]\\(xvii\\)\", \n",
    "                    r\"[\\n\\s]\\(xviii\\)\", r\"[\\n\\s]\\(xix\\)\", r\"[\\n\\s]\\(xx\\)\",  \n",
    "                    r\"[\\n\\s]\\(xxi\\)\", r\"[\\n\\s]\\(xxii\\)\", r\"[\\n\\s]\\(xxiii\\)\", r\"[\\n\\s]\\(xxiv\\)\",\n",
    "                    r\"[\\n\\s]\\(xxv\\)\", r\"[\\n\\s]\\(xxvi\\)\", r\"[\\n\\s]\\(xxvii\\)\", r\"[\\n\\s]\\(xxviii\\)\",\n",
    "                    r\"[\\n\\s]\\(xxix\\)\", r\"[\\n\\s]\\(xxx\\)\"\n",
    "                   ]\n",
    "\n",
    "roman_upper_regex_list =  [r\"[\\n\\s]\\(I\\)\", r\"[\\n\\s]\\(II\\)\", r\"[\\n\\s]\\(III\\)\", r\"[\\n\\s]\\(IV\\)\",\n",
    "                     r\"[\\n\\s]\\(V\\)\", r\"[\\n\\s]\\(VI\\)\", r\"[\\n\\s]\\(VII\\)\", r\"[\\n\\s]\\(VIII\\)\", \n",
    "                    r\"[\\n\\s]\\(IX\\)\", r\"[\\n\\s]\\(X\\)\", r\"[\\n\\s]\\(XI\\)\", r\"[\\n\\s]\\(XII\\)\", r\"[\\n\\s]\\(XIII\\)\", \n",
    "                    r\"[\\n\\s]\\(XIV\\)\", r\"[\\n\\s]\\(XV\\)\", r\"[\\n\\s]\\(XVI\\)\", r\"[\\n\\s]\\(XVII\\)\", \n",
    "                    r\"[\\n\\s]\\(XVIII\\)\", r\"[\\n\\s]\\(XIX\\)\", r\"[\\n\\s]\\(XX\\)\", \n",
    "                    r\"[\\n\\s]\\(XXI\\)\", r\"[\\n\\s]\\(XXII\\)\", r\"[\\n\\s]\\(XXIII\\)\", r\"[\\n\\s]\\(XXIV\\)\",\n",
    "                    r\"[\\n\\s]\\(XXV\\)\", r\"[\\n\\s]\\(XXVI\\)\", r\"[\\n\\s]\\(XXVII\\)\", r\"[\\n\\s]\\(XXVIII\\)\",\n",
    "                    r\"[\\n\\s]\\(XXIX\\)\", r\"[\\n\\s]\\(XXX\\)\"\n",
    "                   ]"
   ]
  },
  {
   "cell_type": "markdown",
   "metadata": {},
   "source": [
    "Admin Expenses: line 2 of definition (roman numerals first) subset <br> <br> \n",
    "Affiliates: line 18 of definitions set"
   ]
  },
  {
   "cell_type": "code",
   "execution_count": 19,
   "metadata": {},
   "outputs": [
    {
     "name": "stdout",
     "output_type": "stream",
     "text": [
      "Admin Expenses \n",
      "\n"
     ]
    },
    {
     "data": {
      "text/plain": [
       "[' (i) the  Independent  accountants,  agents  (other  than  the  Portfolio  Manager)  and \\ncounsel of the Issuer, any Issuer Subsidiary (for fees, expenses and any taxes or government fees \\nof such Issuer Subsidiary) and to any Person for any costs of Tax Account Reporting Rules \\nCompliance',\n",
       " ' (ii) the Rating Agencies for fees and expenses (including surveillance fees) in \\nconnection with any rating of the Secured Notes or any Collateral Obligations',\n",
       " ' (iii) any Person in \\nrespect of Petition Expenses',\n",
       " ' (iv) the Portfolio Manager under this Indenture and the Portfolio \\nManagement  Agreement,  including,  without  limitation,  expenses  of  the  Portfolio  Manager \\n(including fees for its accountants, agents and counsel) incurred in connection with the purchase \\nor  sale  of  any  Collateral  Obligations,  any  other  expenses  incurred  in  connection  with  the \\nCollateral Obligations and amounts payable pursuant to Sections 9(c) and 11 of the Portfolio \\nManagement Agreement but excluding the Management Fees',\n",
       " ' (v) the Administrator pursuant to \\nthe Administration Agreement',\n",
       " ' (vi) any other Person in respect of any other fees or expenses \\npermitted under this Indenture and the documents delivered pursuant to or in connection with \\nthis Indenture (including the payment of facility rating fees and all legal and other fees and \\nexpenses incurred in connection with the purchase or sale of any Collateral Obligations and any \\nother expenses incurred in connection with the Collateral Obligations) and the Notes, including \\nbut not limited to, amounts owed to the Co-Issuer pursuant to Section 7.1 (Payment of Principal \\nand Interest), any amounts due in respect of the listing of the Notes on any stock exchange or \\ntrading system, any costs associated with producing definitive Notes or the establishment and \\nmaintenance of any Issuer Subsidiary (other than those amounts paid under clause (i)); and',\n",
       " '\\n(vii) expenses and fees related to Refinancings or Re-Pricings (including reserves established for \\nRefinancings or Re-Pricings expected to occur); provided that amounts due in respect of actions \\ntaken on or before the Closing Date (or, at the Portfolio Manager’s discretion, expenses incurred \\nin connection with the acquisition of the initial portfolio of Collateral Obligations) will, so long \\n  -5-  \\nas the Expense Reserve Account remains open, be payable only from the Expense Reserve \\nAccount pursuant to Section 10.3(d) (Certain Transaction Accounts); provided, further, that the \\nAdministrative Expense Cap shall not apply to payments of Administrative Expenses made \\nunder the Acceleration Priority of Payments if the Trustee has commenced liquidating Assets \\nfollowing an Event of Default; provided, further, that, for the avoidance of doubt, the Periodic \\nGS Payment shall not constitute an Administrative Expense. ']"
      ]
     },
     "execution_count": 19,
     "metadata": {},
     "output_type": "execute_result"
    },
    {
     "name": "stdout",
     "output_type": "stream",
     "text": [
      "\n",
      " Affiliate Definitions \n",
      "\n"
     ]
    },
    {
     "data": {
      "text/plain": [
       "[' (i) of such \\nPerson',\n",
       " ' (ii) of any subsidiary or parent company of such Person o',\n",
       " ' (iii) of any Person described \\nin clause (a) above.  For the purposes of this definition, control of a Person means the power, \\ndirect or indirect, (x) to vote more than 50% of the securities having ordinary voting power for \\nthe election of directors of such Persons or (y) to direct or cause the direction of the management \\nand policies of such Person whether by contract or otherwise.  For purposes of this definition, \\n(i) no entity shall be deemed an Affiliate of the Issuer or the Co-Issuer solely because the \\nAdministrator or any of its Affiliates acts as administrator or share trustee for such entity, (ii) no \\nentity to which the Portfolio Manager provides investment management or advisory services \\nshall be deemed an Affiliate of the Portfolio Manager solely because the Portfolio Manager acts \\nin such capacity and (iii) a Person shall not be deemed to be an “Affiliate” of an Person solely \\nbecause it is under the common ownership or control of the same financial sponsor or affiliate \\nthereof as such Person (except if any such Person provides collateral for, guarantees or otherwise \\nsupports the obligations of the other such Person). ']"
      ]
     },
     "execution_count": 19,
     "metadata": {},
     "output_type": "execute_result"
    }
   ],
   "source": [
    "# Show Example bullet point processing \n",
    "adminexp_def_list = scrape.list_btn_loc_regexlist_keepbullet(df_defs_sub1['def_description'].iloc[2], len(df_defs_sub1['def_description'].iloc[2]), roman_regex_list)\n",
    "aff_def_list = scrape.list_btn_loc_regexlist_keepbullet(df_defs['def_description'].iloc[18], len(df_defs['def_description'].iloc[18]), roman_regex_list)\n",
    "print(\"Admin Expenses \\n\")\n",
    "adminexp_def_list\n",
    "print(\"\\n Affiliate Definitions \\n\")\n",
    "aff_def_list"
   ]
  },
  {
   "cell_type": "markdown",
   "metadata": {},
   "source": [
    "Apply logic to all rows in <font color = aqua> Roman Numerals First </font> sub-table, then add to back to subtable. "
   ]
  },
  {
   "cell_type": "code",
   "execution_count": 20,
   "metadata": {},
   "outputs": [
    {
     "name": "stderr",
     "output_type": "stream",
     "text": [
      "C:\\Users\\Owner\\Anaconda3\\lib\\site-packages\\ipykernel_launcher.py:2: SettingWithCopyWarning: \n",
      "A value is trying to be set on a copy of a slice from a DataFrame.\n",
      "Try using .loc[row_indexer,col_indexer] = value instead\n",
      "\n",
      "See the caveats in the documentation: http://pandas.pydata.org/pandas-docs/stable/user_guide/indexing.html#returning-a-view-versus-a-copy\n",
      "  \n"
     ]
    },
    {
     "data": {
      "text/html": [
       "<div>\n",
       "<style scoped>\n",
       "    .dataframe tbody tr th:only-of-type {\n",
       "        vertical-align: middle;\n",
       "    }\n",
       "\n",
       "    .dataframe tbody tr th {\n",
       "        vertical-align: top;\n",
       "    }\n",
       "\n",
       "    .dataframe thead th {\n",
       "        text-align: right;\n",
       "    }\n",
       "</style>\n",
       "<table border=\"1\" class=\"dataframe\">\n",
       "  <thead>\n",
       "    <tr style=\"text-align: right;\">\n",
       "      <th></th>\n",
       "      <th>def_name</th>\n",
       "      <th>def_description</th>\n",
       "      <th>roman_bullets_loc</th>\n",
       "      <th>letter_bullets_loc</th>\n",
       "      <th>roman_bullets</th>\n",
       "    </tr>\n",
       "  </thead>\n",
       "  <tbody>\n",
       "    <tr>\n",
       "      <th>6</th>\n",
       "      <td>Accounts</td>\n",
       "      <td>(i) The  Payment  Account;  (ii) the  Coll...</td>\n",
       "      <td>3</td>\n",
       "      <td>0</td>\n",
       "      <td>[ (i) The  Payment  Account;,  (ii) the  Colle...</td>\n",
       "    </tr>\n",
       "    <tr>\n",
       "      <th>15</th>\n",
       "      <td>Administrative Expense Cap</td>\n",
       "      <td>An amount equal on any Payment Date (when \\n...</td>\n",
       "      <td>419</td>\n",
       "      <td>497</td>\n",
       "      <td>[ (i) upon the occurrence and continuation of ...</td>\n",
       "    </tr>\n",
       "    <tr>\n",
       "      <th>16</th>\n",
       "      <td>Administrative Expenses</td>\n",
       "      <td>Fees, expenses (including indemnities) and o...</td>\n",
       "      <td>452</td>\n",
       "      <td>0</td>\n",
       "      <td>[ (i) the  Independent  accountants,  agents  ...</td>\n",
       "    </tr>\n",
       "    <tr>\n",
       "      <th>32</th>\n",
       "      <td>Balance</td>\n",
       "      <td>On any date, with respect to Cash or Eligibl...</td>\n",
       "      <td>112</td>\n",
       "      <td>0</td>\n",
       "      <td>[ (i) current balance of Cash, demand deposits...</td>\n",
       "    </tr>\n",
       "    <tr>\n",
       "      <th>38</th>\n",
       "      <td>Business Day</td>\n",
       "      <td>Any day other than (i) a Saturday or a Sunda...</td>\n",
       "      <td>20</td>\n",
       "      <td>0</td>\n",
       "      <td>[ (i) a Saturday or a Sunday o,  (ii) a day on...</td>\n",
       "    </tr>\n",
       "  </tbody>\n",
       "</table>\n",
       "</div>"
      ],
      "text/plain": [
       "                      def_name  \\\n",
       "6                     Accounts   \n",
       "15  Administrative Expense Cap   \n",
       "16     Administrative Expenses   \n",
       "32                     Balance   \n",
       "38                Business Day   \n",
       "\n",
       "                                      def_description  roman_bullets_loc  \\\n",
       "6       (i) The  Payment  Account;  (ii) the  Coll...                  3   \n",
       "15    An amount equal on any Payment Date (when \\n...                419   \n",
       "16    Fees, expenses (including indemnities) and o...                452   \n",
       "32    On any date, with respect to Cash or Eligibl...                112   \n",
       "38    Any day other than (i) a Saturday or a Sunda...                 20   \n",
       "\n",
       "    letter_bullets_loc                                      roman_bullets  \n",
       "6                    0  [ (i) The  Payment  Account;,  (ii) the  Colle...  \n",
       "15                 497  [ (i) upon the occurrence and continuation of ...  \n",
       "16                   0  [ (i) the  Independent  accountants,  agents  ...  \n",
       "32                   0  [ (i) current balance of Cash, demand deposits...  \n",
       "38                   0  [ (i) a Saturday or a Sunday o,  (ii) a day on...  "
      ]
     },
     "execution_count": 20,
     "metadata": {},
     "output_type": "execute_result"
    }
   ],
   "source": [
    "rom_def_strings = [scrape.list_btn_loc_regexlist_keepbullet(x,len(x),roman_regex_list) for x in df_defs_sub1['def_description']]\n",
    "df_defs_sub1['roman_bullets'] = rom_def_strings \n",
    "df_defs_sub1.head() "
   ]
  },
  {
   "cell_type": "markdown",
   "metadata": {},
   "source": [
    "### Process <font color=cyan> Letter </font> Bullet Points showing up first "
   ]
  },
  {
   "cell_type": "code",
   "execution_count": 21,
   "metadata": {},
   "outputs": [
    {
     "data": {
      "text/html": [
       "<div>\n",
       "<style scoped>\n",
       "    .dataframe tbody tr th:only-of-type {\n",
       "        vertical-align: middle;\n",
       "    }\n",
       "\n",
       "    .dataframe tbody tr th {\n",
       "        vertical-align: top;\n",
       "    }\n",
       "\n",
       "    .dataframe thead th {\n",
       "        text-align: right;\n",
       "    }\n",
       "</style>\n",
       "<table border=\"1\" class=\"dataframe\">\n",
       "  <thead>\n",
       "    <tr style=\"text-align: right;\">\n",
       "      <th></th>\n",
       "      <th>def_name</th>\n",
       "      <th>def_description</th>\n",
       "      <th>roman_bullets_loc</th>\n",
       "      <th>letter_bullets_loc</th>\n",
       "    </tr>\n",
       "  </thead>\n",
       "  <tbody>\n",
       "    <tr>\n",
       "      <th>11</th>\n",
       "      <td>Adjusted Collateral Principal Amount</td>\n",
       "      <td>As of any date of determination: \\n(a)  the ...</td>\n",
       "      <td>526</td>\n",
       "      <td>35</td>\n",
       "    </tr>\n",
       "    <tr>\n",
       "      <th>18</th>\n",
       "      <td>Affiliate” or “Affiliated</td>\n",
       "      <td>With respect to a Person, (a) any other Pers...</td>\n",
       "      <td>240</td>\n",
       "      <td>27</td>\n",
       "    </tr>\n",
       "    <tr>\n",
       "      <th>20</th>\n",
       "      <td>Aggregate Excess Spread</td>\n",
       "      <td>As of any date of determination, an amount e...</td>\n",
       "      <td>269</td>\n",
       "      <td>71</td>\n",
       "    </tr>\n",
       "    <tr>\n",
       "      <th>35</th>\n",
       "      <td>Benefit Plan Investor</td>\n",
       "      <td>(a) an employee benefit plan (as defined in ...</td>\n",
       "      <td>0</td>\n",
       "      <td>1</td>\n",
       "    </tr>\n",
       "    <tr>\n",
       "      <th>72</th>\n",
       "      <td>Clean-up Call Redemption Price</td>\n",
       "      <td>An amount at least equal to the sum of (a) t...</td>\n",
       "      <td>0</td>\n",
       "      <td>40</td>\n",
       "    </tr>\n",
       "  </tbody>\n",
       "</table>\n",
       "</div>"
      ],
      "text/plain": [
       "                                def_name  \\\n",
       "11  Adjusted Collateral Principal Amount   \n",
       "18             Affiliate” or “Affiliated   \n",
       "20               Aggregate Excess Spread   \n",
       "35                 Benefit Plan Investor   \n",
       "72        Clean-up Call Redemption Price   \n",
       "\n",
       "                                      def_description  roman_bullets_loc  \\\n",
       "11    As of any date of determination: \\n(a)  the ...                526   \n",
       "18    With respect to a Person, (a) any other Pers...                240   \n",
       "20    As of any date of determination, an amount e...                269   \n",
       "35    (a) an employee benefit plan (as defined in ...                  0   \n",
       "72    An amount at least equal to the sum of (a) t...                  0   \n",
       "\n",
       "    letter_bullets_loc  \n",
       "11                  35  \n",
       "18                  27  \n",
       "20                  71  \n",
       "35                   1  \n",
       "72                  40  "
      ]
     },
     "execution_count": 21,
     "metadata": {},
     "output_type": "execute_result"
    },
    {
     "data": {
      "text/plain": [
       "56"
      ]
     },
     "execution_count": 21,
     "metadata": {},
     "output_type": "execute_result"
    }
   ],
   "source": [
    "df_defs_sub2 =df_defs[(\n",
    "                        (df_defs.roman_bullets_loc > df_defs.letter_bullets_loc) & \n",
    "                         (df_defs.letter_bullets_loc != 0)\n",
    "                        ) | \n",
    "                     ( \n",
    "                        (df_defs.letter_bullets_loc !=0) & \n",
    "                          (df_defs.roman_bullets_loc == 0)\n",
    "                         )\n",
    "                    ]\n",
    "df_defs_sub2.head()\n",
    "len(df_defs_sub2) "
   ]
  },
  {
   "cell_type": "markdown",
   "metadata": {},
   "source": [
    "**Regex List for Letter Bullets** "
   ]
  },
  {
   "cell_type": "code",
   "execution_count": 22,
   "metadata": {},
   "outputs": [],
   "source": [
    "loweralpha_regex_list = [r\"[\\n\\s]\\(a\\)\", r\"[\\n\\s]\\(b\\)\", r\"[\\n\\s]\\(c\\)\", r\"[\\n\\s]\\(d\\)\",\n",
    "                     r\"[\\n\\s]\\(e\\)\", r\"[\\n\\s]\\(f\\)\", r\"[\\n\\s]\\(g\\)\", r\"[\\n\\s]\\(h\\)\", \n",
    "                    r\"[\\n\\s]\\(i\\)\", r\"[\\n\\s]\\(j\\)\", r\"[\\n\\s]\\(k\\)\", r\"[\\n\\s]\\(l\\)\", \n",
    "                    r\"[\\n\\s]\\(m\\)\", r\"[\\n\\s]\\(n\\)\", r\"[\\n\\s]\\(o\\)\", r\"[\\n\\s]\\(p\\)\", \n",
    "                    r\"[\\n\\s]\\(q\\)\", r\"[\\n\\s]\\(r\\)\", r\"[\\n\\s]\\(s\\)\", r\"[\\n\\s]\\(t\\)\",\n",
    "                    r\"[\\n\\s]\\(u\\)\", r\"[\\n\\s]\\(v\\)\", r\"[\\n\\s]\\(w\\)\", r\"[\\n\\s]\\(x\\)\",\n",
    "                    r\"[\\n\\s]\\(y\\)\", r\"[\\n\\s]\\(z\\)\", r\"[\\n\\s]\\(aa\\)\", r\"[\\n\\s]\\(bb\\)\", \n",
    "                   ]\n",
    "\n",
    "upperalpha_regex_list = [r\"[\\n\\s]\\(A\\)\", r\"[\\n\\s]\\(B\\)\", r\"[\\n\\s]\\(C\\)\", r\"[\\n\\s]\\(D\\)\",\n",
    "                     r\"[\\n\\s]\\(E\\)\", r\"[\\n\\s]\\(F\\)\", r\"[\\n\\s]\\(G\\)\", r\"[\\n\\s]\\(H\\)\", \n",
    "                    r\"[\\n\\s]\\(I\\)\", r\"[\\n\\s]\\(J\\)\", r\"[\\n\\s]\\(K\\)\", r\"[\\n\\s]\\(L\\)\", \n",
    "                    r\"[\\n\\s]\\(M\\)\", r\"[\\n\\s]\\(N\\)\", r\"[\\n\\s]\\(O\\)\", r\"[\\n\\s]\\(P\\)\", \n",
    "                    r\"[\\n\\s]\\(Q\\)\", r\"[\\n\\s]\\(R\\)\", r\"[\\n\\s]\\(S\\)\", r\"[\\n\\s]\\(T\\)\",\n",
    "                    r\"[\\n\\s]\\(U\\)\", r\"[\\n\\s]\\(V\\)\", r\"[\\n\\s]\\(W\\)\", r\"[\\n\\s]\\(X\\)\",\n",
    "                    r\"[\\n\\s]\\(Y\\)\", r\"[\\n\\s]\\(Z\\)\", r\"[\\n\\s]\\(AA\\)\", r\"[\\n\\s]\\(BB\\)\", \n",
    "                   ]"
   ]
  },
  {
   "cell_type": "code",
   "execution_count": null,
   "metadata": {},
   "outputs": [],
   "source": [
    "lowalpha_def_strings = [scrape.list_btn_loc_regexlist_keepbullet(x,len(x),loweralpha_regex_list) for x in df_defs_sub2['def_description']]\n",
    "df_defs_sub2['alpha_bullets'] = lowalpha_def_strings\n",
    "df_defs_sub2.head() "
   ]
  },
  {
   "cell_type": "markdown",
   "metadata": {},
   "source": [
    "### Merge alphabet and roman numeral bullet point:\n",
    "Map 1st layer bullet points back to original definitions table. "
   ]
  },
  {
   "cell_type": "code",
   "execution_count": 24,
   "metadata": {},
   "outputs": [],
   "source": [
    "df_def_comb = pd.merge(df_defs, df_defs_sub1[['def_name','roman_bullets']], on='def_name', how='left')"
   ]
  },
  {
   "cell_type": "code",
   "execution_count": 25,
   "metadata": {},
   "outputs": [
    {
     "data": {
      "text/html": [
       "<div>\n",
       "<style scoped>\n",
       "    .dataframe tbody tr th:only-of-type {\n",
       "        vertical-align: middle;\n",
       "    }\n",
       "\n",
       "    .dataframe tbody tr th {\n",
       "        vertical-align: top;\n",
       "    }\n",
       "\n",
       "    .dataframe thead th {\n",
       "        text-align: right;\n",
       "    }\n",
       "</style>\n",
       "<table border=\"1\" class=\"dataframe\">\n",
       "  <thead>\n",
       "    <tr style=\"text-align: right;\">\n",
       "      <th></th>\n",
       "      <th>def_name</th>\n",
       "      <th>def_description</th>\n",
       "      <th>roman_bullets_loc</th>\n",
       "      <th>letter_bullets_loc</th>\n",
       "      <th>roman_bullets</th>\n",
       "      <th>alpha_bullets</th>\n",
       "    </tr>\n",
       "  </thead>\n",
       "  <tbody>\n",
       "    <tr>\n",
       "      <th>0</th>\n",
       "      <td>Acceleration Event</td>\n",
       "      <td>The meaning specified in the Acceleration Pr...</td>\n",
       "      <td>0</td>\n",
       "      <td>0</td>\n",
       "      <td>NaN</td>\n",
       "      <td>NaN</td>\n",
       "    </tr>\n",
       "    <tr>\n",
       "      <th>1</th>\n",
       "      <td>Acceleration  Priority  of  Payments</td>\n",
       "      <td>The  meaning  specified  in \\nSection 11.1...</td>\n",
       "      <td>0</td>\n",
       "      <td>0</td>\n",
       "      <td>NaN</td>\n",
       "      <td>NaN</td>\n",
       "    </tr>\n",
       "    <tr>\n",
       "      <th>2</th>\n",
       "      <td>Account Agreement</td>\n",
       "      <td>An agreement in substantially the form of Ex...</td>\n",
       "      <td>0</td>\n",
       "      <td>0</td>\n",
       "      <td>NaN</td>\n",
       "      <td>NaN</td>\n",
       "    </tr>\n",
       "    <tr>\n",
       "      <th>3</th>\n",
       "      <td>Accountants’ Effective Date Comparison AUP Report</td>\n",
       "      <td>A report of agreed \\nupon procedures perform...</td>\n",
       "      <td>0</td>\n",
       "      <td>0</td>\n",
       "      <td>NaN</td>\n",
       "      <td>NaN</td>\n",
       "    </tr>\n",
       "    <tr>\n",
       "      <th>4</th>\n",
       "      <td>Accountants’ Effective Date Recalculation AUP ...</td>\n",
       "      <td>A report of agreed \\nupon  procedures  perfor...</td>\n",
       "      <td>0</td>\n",
       "      <td>0</td>\n",
       "      <td>NaN</td>\n",
       "      <td>NaN</td>\n",
       "    </tr>\n",
       "    <tr>\n",
       "      <th>...</th>\n",
       "      <td>...</td>\n",
       "      <td>...</td>\n",
       "      <td>...</td>\n",
       "      <td>...</td>\n",
       "      <td>...</td>\n",
       "      <td>...</td>\n",
       "    </tr>\n",
       "    <tr>\n",
       "      <th>483</th>\n",
       "      <td>Weighted Average Moody’s Rating Factor</td>\n",
       "      <td>The number (rounded up to the \\nnearest whol...</td>\n",
       "      <td>84</td>\n",
       "      <td>65</td>\n",
       "      <td>NaN</td>\n",
       "      <td>[ (a) the product of (i) the Principal Balance...</td>\n",
       "    </tr>\n",
       "    <tr>\n",
       "      <th>484</th>\n",
       "      <td>Weighted Average Moody’s Recovery Rate</td>\n",
       "      <td>As of any date of determination, \\nthe  numb...</td>\n",
       "      <td>302</td>\n",
       "      <td>0</td>\n",
       "      <td>[ (i) the Target Balance \\nan,  (ii) Aggregate...</td>\n",
       "      <td>NaN</td>\n",
       "    </tr>\n",
       "    <tr>\n",
       "      <th>485</th>\n",
       "      <td>Weighted  Average  Rating  Adjusted  Cov-Lite ...</td>\n",
       "      <td>Prior  to  the \\nsatisfaction of the Contr...</td>\n",
       "      <td>0</td>\n",
       "      <td>0</td>\n",
       "      <td>NaN</td>\n",
       "      <td>NaN</td>\n",
       "    </tr>\n",
       "    <tr>\n",
       "      <th>486</th>\n",
       "      <td>Yield Adjusted Collateral Obligation</td>\n",
       "      <td>Any Collateral Obligation (other than a \\nDi...</td>\n",
       "      <td>267</td>\n",
       "      <td>0</td>\n",
       "      <td>[ (i) it is acquired by the Issuer for a purch...</td>\n",
       "      <td>NaN</td>\n",
       "    </tr>\n",
       "    <tr>\n",
       "      <th>487</th>\n",
       "      <td>Zero Coupon Security</td>\n",
       "      <td>Any Collateral Obligation that at the time o...</td>\n",
       "      <td>2584</td>\n",
       "      <td>1307</td>\n",
       "      <td>NaN</td>\n",
       "      <td>[\\n(a)  All calculations with respect to Sched...</td>\n",
       "    </tr>\n",
       "  </tbody>\n",
       "</table>\n",
       "<p>488 rows × 6 columns</p>\n",
       "</div>"
      ],
      "text/plain": [
       "                                              def_name  \\\n",
       "0                                   Acceleration Event   \n",
       "1                 Acceleration  Priority  of  Payments   \n",
       "2                                    Account Agreement   \n",
       "3    Accountants’ Effective Date Comparison AUP Report   \n",
       "4    Accountants’ Effective Date Recalculation AUP ...   \n",
       "..                                                 ...   \n",
       "483             Weighted Average Moody’s Rating Factor   \n",
       "484             Weighted Average Moody’s Recovery Rate   \n",
       "485  Weighted  Average  Rating  Adjusted  Cov-Lite ...   \n",
       "486               Yield Adjusted Collateral Obligation   \n",
       "487                               Zero Coupon Security   \n",
       "\n",
       "                                       def_description  roman_bullets_loc  \\\n",
       "0      The meaning specified in the Acceleration Pr...                  0   \n",
       "1        The  meaning  specified  in \\nSection 11.1...                  0   \n",
       "2      An agreement in substantially the form of Ex...                  0   \n",
       "3      A report of agreed \\nupon procedures perform...                  0   \n",
       "4     A report of agreed \\nupon  procedures  perfor...                  0   \n",
       "..                                                 ...                ...   \n",
       "483    The number (rounded up to the \\nnearest whol...                 84   \n",
       "484    As of any date of determination, \\nthe  numb...                302   \n",
       "485      Prior  to  the \\nsatisfaction of the Contr...                  0   \n",
       "486    Any Collateral Obligation (other than a \\nDi...                267   \n",
       "487    Any Collateral Obligation that at the time o...               2584   \n",
       "\n",
       "     letter_bullets_loc                                      roman_bullets  \\\n",
       "0                     0                                                NaN   \n",
       "1                     0                                                NaN   \n",
       "2                     0                                                NaN   \n",
       "3                     0                                                NaN   \n",
       "4                     0                                                NaN   \n",
       "..                  ...                                                ...   \n",
       "483                  65                                                NaN   \n",
       "484                   0  [ (i) the Target Balance \\nan,  (ii) Aggregate...   \n",
       "485                   0                                                NaN   \n",
       "486                   0  [ (i) it is acquired by the Issuer for a purch...   \n",
       "487                1307                                                NaN   \n",
       "\n",
       "                                         alpha_bullets  \n",
       "0                                                  NaN  \n",
       "1                                                  NaN  \n",
       "2                                                  NaN  \n",
       "3                                                  NaN  \n",
       "4                                                  NaN  \n",
       "..                                                 ...  \n",
       "483  [ (a) the product of (i) the Principal Balance...  \n",
       "484                                                NaN  \n",
       "485                                                NaN  \n",
       "486                                                NaN  \n",
       "487  [\\n(a)  All calculations with respect to Sched...  \n",
       "\n",
       "[488 rows x 6 columns]"
      ]
     },
     "execution_count": 25,
     "metadata": {},
     "output_type": "execute_result"
    }
   ],
   "source": [
    "df_def_comb = pd.merge(\n",
    "    pd.merge(df_defs, df_defs_sub1[['def_name','roman_bullets']], on='def_name', how='left'), \n",
    "    df_defs_sub2[['def_name','alpha_bullets']], on='def_name',how='left')\n",
    "df_def_comb"
   ]
  },
  {
   "cell_type": "markdown",
   "metadata": {},
   "source": [
    "### Definition Dictionary\n",
    "Set up dictionary to allow for several sublayers in each definition to handle different bullet points, tables, etc. \n",
    "1. **Keys** will be definition names \n",
    "2. Values: <br>  \n",
    "- Top Level: roman and letter bullet point locations \n",
    "  - if no bullet points, use full definition \n",
    "  - Depending on if roman or alphabet bullet point shows up first, use roman or alphabet bullet point list from **Definitions** dataframe. \n",
    "  - For bullet points: split out bullet points from rest of text within definition. "
   ]
  },
  {
   "cell_type": "code",
   "execution_count": 26,
   "metadata": {},
   "outputs": [],
   "source": [
    "def_dict = {} \n",
    "for i, item in enumerate(df_def_comb['def_description']):\n",
    "    key_name = df_def_comb.iloc[i]['def_name']\n",
    "    key_vals = {}   # holds definition value\n",
    "    sub_dict = {}   # holds items within definition value\n",
    "    roman_loc1 = df_def_comb.iloc[i]['roman_bullets_loc']  # will re-use for rest of loop \n",
    "    letter_loc1 = df_def_comb.iloc[i]['letter_bullets_loc']\n",
    "    key_vals['roman_loc1'] = roman_loc1\n",
    "    key_vals['letter_loc1'] = letter_loc1\n",
    "        \n",
    "    # Definitions WITHOUT bullet points \n",
    "    if( (df_def_comb.iloc[i]['roman_bullets_loc']==0) &\n",
    "           (df_def_comb.iloc[i]['letter_bullets_loc']==0) ):\n",
    "        key_vals['def_values'] = item\n",
    "        \n",
    "    # Definitions with bullets: lowercase Roman comes first. \n",
    "    elif( ( \n",
    "            (df_def_comb.iloc[i]['roman_bullets_loc'] < df_def_comb.iloc[i]['letter_bullets_loc'] ) & \n",
    "                (df_def_comb.iloc[i]['roman_bullets_loc'] != 0 )\n",
    "            ) | \n",
    "          ( \n",
    "            (df_def_comb.iloc[i]['roman_bullets_loc'] != 0) & \n",
    "              (df_def_comb.iloc[i]['letter_bullets_loc'] == 0)\n",
    "            )\n",
    "        ):\n",
    "            sub_dict['opening_sec'] = df_def_comb.iloc[i]['def_description'][0:roman_loc1]\n",
    "            sub_dict['bullet_level1'] = df_def_comb.iloc[i]['roman_bullets']\n",
    "            key_vals['def_values'] = sub_dict\n",
    "\n",
    "    # Definitions with bullets: lowercase Roman comes first. \n",
    "    elif( ( \n",
    "            (df_def_comb.iloc[i]['letter_bullets_loc'] < df_def_comb.iloc[i]['roman_bullets_loc'] ) & \n",
    "                (df_def_comb.iloc[i]['letter_bullets_loc'] != 0 )\n",
    "            ) | \n",
    "          ( \n",
    "            (df_def_comb.iloc[i]['letter_bullets_loc'] != 0) & \n",
    "              (df_def_comb.iloc[i]['roman_bullets_loc'] == 0)\n",
    "            )\n",
    "        ):\n",
    "            sub_dict['opening_sec'] = df_def_comb.iloc[i]['def_description'][0:letter_loc1]\n",
    "            sub_dict['bullet_level1'] = df_def_comb.iloc[i]['alpha_bullets']\n",
    "            key_vals['def_values'] = sub_dict\n",
    "    \n",
    "    else: def_dict[key_name] = 5000\n",
    "    def_dict[key_name] = key_vals"
   ]
  },
  {
   "cell_type": "code",
   "execution_count": 27,
   "metadata": {},
   "outputs": [
    {
     "data": {
      "text/plain": [
       "{'roman_loc1': 3,\n",
       " 'letter_loc1': 0,\n",
       " 'def_values': {'opening_sec': '   ',\n",
       "  'bullet_level1': [' (i) The  Payment  Account;',\n",
       "   ' (ii) the  Collection  Account;',\n",
       "   ' (iii) the \\nRamp-Up Account',\n",
       "   ' (iv) the Revolver Funding Account',\n",
       "   ' (v) each Hedge Account (to the extent \\npermitted under the related Hedge Agreement)',\n",
       "   ' (vi) the Expense Reserve Account',\n",
       "   ' (vii) the \\nCustodial Account',\n",
       "   ' (viii) the Ongoing Expense Maintenance Account',\n",
       "   ' (ix) the Supplemental \\nReserve Account',\n",
       "   ' (x) the Contribution Account; an',\n",
       "   ' (xi) the Tax Reserve Account. ']}}"
      ]
     },
     "execution_count": 27,
     "metadata": {},
     "output_type": "execute_result"
    },
    {
     "data": {
      "text/plain": [
       "{'roman_loc1': 0,\n",
       " 'letter_loc1': 40,\n",
       " 'def_values': {'opening_sec': '  An amount at least equal to the sum of',\n",
       "  'bullet_level1': [' (a) the \\nRedemption Price of the Secured Notes, plu',\n",
       "   ' (b) the aggregate of all other amounts owing by the \\nIssuer on the date of such redemption that are payable in accordance with the Priority of \\nPayments prior to distributions in respect of the Subordinated Notes, including any amounts \\npayable  in  respect  of  any  Hedge  Agreement  and  all  expenses  incurred  in  connection  with \\neffecting the Clean-up Call Redemption. ']}}"
      ]
     },
     "execution_count": 27,
     "metadata": {},
     "output_type": "execute_result"
    }
   ],
   "source": [
    "# Sample of definitions with roman and letters coming first \n",
    "def_dict['Accounts']           # roman numerals first\n",
    "def_dict['Clean-up Call Redemption Price']        # letters first "
   ]
  },
  {
   "cell_type": "code",
   "execution_count": 31,
   "metadata": {},
   "outputs": [
    {
     "data": {
      "text/html": [
       "<div>\n",
       "<style scoped>\n",
       "    .dataframe tbody tr th:only-of-type {\n",
       "        vertical-align: middle;\n",
       "    }\n",
       "\n",
       "    .dataframe tbody tr th {\n",
       "        vertical-align: top;\n",
       "    }\n",
       "\n",
       "    .dataframe thead th {\n",
       "        text-align: right;\n",
       "    }\n",
       "</style>\n",
       "<table border=\"1\" class=\"dataframe\">\n",
       "  <thead>\n",
       "    <tr style=\"text-align: right;\">\n",
       "      <th></th>\n",
       "      <th>roman_loc1</th>\n",
       "      <th>letter_loc1</th>\n",
       "      <th>def_values</th>\n",
       "    </tr>\n",
       "  </thead>\n",
       "  <tbody>\n",
       "    <tr>\n",
       "      <th>Acceleration Event</th>\n",
       "      <td>0</td>\n",
       "      <td>0</td>\n",
       "      <td>The meaning specified in the Acceleration Pr...</td>\n",
       "    </tr>\n",
       "    <tr>\n",
       "      <th>Acceleration  Priority  of  Payments</th>\n",
       "      <td>0</td>\n",
       "      <td>0</td>\n",
       "      <td>The  meaning  specified  in \\nSection 11.1...</td>\n",
       "    </tr>\n",
       "    <tr>\n",
       "      <th>Account Agreement</th>\n",
       "      <td>0</td>\n",
       "      <td>0</td>\n",
       "      <td>An agreement in substantially the form of Ex...</td>\n",
       "    </tr>\n",
       "    <tr>\n",
       "      <th>Accountants’ Effective Date Comparison AUP Report</th>\n",
       "      <td>0</td>\n",
       "      <td>0</td>\n",
       "      <td>A report of agreed \\nupon procedures perform...</td>\n",
       "    </tr>\n",
       "    <tr>\n",
       "      <th>Accountants’ Effective Date Recalculation AUP Report</th>\n",
       "      <td>0</td>\n",
       "      <td>0</td>\n",
       "      <td>A report of agreed \\nupon  procedures  perfor...</td>\n",
       "    </tr>\n",
       "  </tbody>\n",
       "</table>\n",
       "</div>"
      ],
      "text/plain": [
       "                                                    roman_loc1  letter_loc1  \\\n",
       "Acceleration Event                                           0            0   \n",
       "Acceleration  Priority  of  Payments                         0            0   \n",
       "Account Agreement                                            0            0   \n",
       "Accountants’ Effective Date Comparison AUP Report            0            0   \n",
       "Accountants’ Effective Date Recalculation AUP R...           0            0   \n",
       "\n",
       "                                                                                           def_values  \n",
       "Acceleration Event                                    The meaning specified in the Acceleration Pr...  \n",
       "Acceleration  Priority  of  Payments                    The  meaning  specified  in \\nSection 11.1...  \n",
       "Account Agreement                                     An agreement in substantially the form of Ex...  \n",
       "Accountants’ Effective Date Comparison AUP Report     A report of agreed \\nupon procedures perform...  \n",
       "Accountants’ Effective Date Recalculation AUP R...   A report of agreed \\nupon  procedures  perfor...  "
      ]
     },
     "execution_count": 31,
     "metadata": {},
     "output_type": "execute_result"
    }
   ],
   "source": [
    "df = pd.DataFrame.from_dict(data=def_dict, orient='index')\n",
    "df.head() "
   ]
  },
  {
   "cell_type": "code",
   "execution_count": null,
   "metadata": {},
   "outputs": [],
   "source": []
  }
 ],
 "metadata": {
  "kernelspec": {
   "display_name": "Python 3",
   "language": "python",
   "name": "python3"
  },
  "language_info": {
   "codemirror_mode": {
    "name": "ipython",
    "version": 3
   },
   "file_extension": ".py",
   "mimetype": "text/x-python",
   "name": "python",
   "nbconvert_exporter": "python",
   "pygments_lexer": "ipython3",
   "version": "3.7.3"
  }
 },
 "nbformat": 4,
 "nbformat_minor": 4
}
