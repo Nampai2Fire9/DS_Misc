{
 "cells": [
  {
   "cell_type": "code",
   "execution_count": 1,
   "metadata": {},
   "outputs": [],
   "source": [
    "# library import\n",
    "import os\n",
    "import re\n",
    "import pdfplumber\n",
    "import numpy as np\n",
    "import pandas as pd \n",
    "import json\n",
    "import tabula  #for table processing\n",
    "from itertools import islice # iterates through directions\n",
    "\n",
    "\n",
    "os.chdir(r'C:\\Users\\Owner\\OneDrive\\Research_Git\\DS_Misc\\Credit_DealDoc_Proc')\n",
    "import scrape"
   ]
  },
  {
   "cell_type": "code",
   "execution_count": 2,
   "metadata": {},
   "outputs": [],
   "source": [
    "# Enable multiple output per cell. \n",
    "from IPython.core.interactiveshell import InteractiveShell\n",
    "InteractiveShell.ast_node_interactivity = \"all\"\n",
    "\n",
    "os.chdir(r'C:\\Users\\Owner\\OneDrive\\Digital Mosaic\\Product\\Solutions\\Vibrant\\Deal_Docs')"
   ]
  },
  {
   "cell_type": "markdown",
   "metadata": {},
   "source": [
    "### Dataframe: Definition Name & Definition Value\n",
    "Note pdfplumber treats page 1 as page 0. Hence a start_page of 5 means pdfplumber pulls from page 6. "
   ]
  },
  {
   "cell_type": "code",
   "execution_count": 3,
   "metadata": {},
   "outputs": [],
   "source": [
    "file_name_oh = 'OHA XII Indenture.pdf'\n",
    "start_page_oh = 8\n",
    "end_page_oh = 85"
   ]
  },
  {
   "cell_type": "code",
   "execution_count": 4,
   "metadata": {},
   "outputs": [],
   "source": [
    "# extract pages from both documents. \n",
    "oh_pages = scrape.pdf_extract_pages(file_name_oh, start_page_oh, end_page_oh)\n",
    "doc_str_oh = scrape.combine_strings(oh_pages) "
   ]
  },
  {
   "cell_type": "code",
   "execution_count": 5,
   "metadata": {},
   "outputs": [],
   "source": [
    "# Isoalte locations for defintions and strings for each \n",
    "regex_oh = r'“.*”:'\n",
    "def_locs_oh = scrape.text_match_2list(regex_oh, doc_str_oh)\n",
    "def_descr_oh = scrape.list_betweenloc_to_string_bounded(def_locs_oh, doc_str_oh, len(doc_str_oh))"
   ]
  },
  {
   "cell_type": "code",
   "execution_count": 6,
   "metadata": {},
   "outputs": [
    {
     "data": {
      "text/html": [
       "<div>\n",
       "<style scoped>\n",
       "    .dataframe tbody tr th:only-of-type {\n",
       "        vertical-align: middle;\n",
       "    }\n",
       "\n",
       "    .dataframe tbody tr th {\n",
       "        vertical-align: top;\n",
       "    }\n",
       "\n",
       "    .dataframe thead th {\n",
       "        text-align: right;\n",
       "    }\n",
       "</style>\n",
       "<table border=\"1\" class=\"dataframe\">\n",
       "  <thead>\n",
       "    <tr style=\"text-align: right;\">\n",
       "      <th></th>\n",
       "      <th>def_name</th>\n",
       "      <th>def_description</th>\n",
       "    </tr>\n",
       "  </thead>\n",
       "  <tbody>\n",
       "    <tr>\n",
       "      <th>0</th>\n",
       "      <td>Acceleration Event</td>\n",
       "      <td>The meaning specified in the Acceleration Pr...</td>\n",
       "    </tr>\n",
       "    <tr>\n",
       "      <th>1</th>\n",
       "      <td>Acceleration  Priority  of  Payments</td>\n",
       "      <td>The  meaning  specified  in \\nSection 11.1...</td>\n",
       "    </tr>\n",
       "    <tr>\n",
       "      <th>2</th>\n",
       "      <td>Account Agreement</td>\n",
       "      <td>An agreement in substantially the form of Ex...</td>\n",
       "    </tr>\n",
       "    <tr>\n",
       "      <th>3</th>\n",
       "      <td>Accountants’ Effective Date Comparison AUP Report</td>\n",
       "      <td>A report of agreed \\nupon procedures perform...</td>\n",
       "    </tr>\n",
       "    <tr>\n",
       "      <th>4</th>\n",
       "      <td>Accountants’ Effective Date Recalculation AUP ...</td>\n",
       "      <td>A report of agreed \\nupon  procedures  perfor...</td>\n",
       "    </tr>\n",
       "  </tbody>\n",
       "</table>\n",
       "</div>"
      ],
      "text/plain": [
       "                                            def_name  \\\n",
       "0                                 Acceleration Event   \n",
       "1               Acceleration  Priority  of  Payments   \n",
       "2                                  Account Agreement   \n",
       "3  Accountants’ Effective Date Comparison AUP Report   \n",
       "4  Accountants’ Effective Date Recalculation AUP ...   \n",
       "\n",
       "                                     def_description  \n",
       "0    The meaning specified in the Acceleration Pr...  \n",
       "1      The  meaning  specified  in \\nSection 11.1...  \n",
       "2    An agreement in substantially the form of Ex...  \n",
       "3    A report of agreed \\nupon procedures perform...  \n",
       "4   A report of agreed \\nupon  procedures  perfor...  "
      ]
     },
     "execution_count": 6,
     "metadata": {},
     "output_type": "execute_result"
    }
   ],
   "source": [
    "df_defs = pd.DataFrame([doc_str_oh[x[0]+1:x[1]-2] for x in def_locs_oh])\n",
    "df_defs['description'] = def_descr_oh\n",
    "df_defs.columns = ['def_name','def_description']\n",
    "df_defs.head() "
   ]
  },
  {
   "cell_type": "markdown",
   "metadata": {},
   "source": [
    "### Add page numbers\n",
    "1. Loop ```oh_pages``` to grab page numbers and add them back into dictionary. \n",
    "2. Merge back into ```df_defs```"
   ]
  },
  {
   "cell_type": "code",
   "execution_count": 7,
   "metadata": {},
   "outputs": [],
   "source": [
    "regex_oh = r'“.*”:'\n",
    "def_names = []\n",
    "for i,page in enumerate(oh_pages):\n",
    "    page_num = i + 9\n",
    "    ranges = scrape.text_match_2list(regex_oh, page)\n",
    "    for range in ranges:\n",
    "        def_names.append([page[range[0]+1:range[1]-2], page_num])"
   ]
  },
  {
   "cell_type": "code",
   "execution_count": 8,
   "metadata": {},
   "outputs": [
    {
     "data": {
      "text/html": [
       "<div>\n",
       "<style scoped>\n",
       "    .dataframe tbody tr th:only-of-type {\n",
       "        vertical-align: middle;\n",
       "    }\n",
       "\n",
       "    .dataframe tbody tr th {\n",
       "        vertical-align: top;\n",
       "    }\n",
       "\n",
       "    .dataframe thead th {\n",
       "        text-align: right;\n",
       "    }\n",
       "</style>\n",
       "<table border=\"1\" class=\"dataframe\">\n",
       "  <thead>\n",
       "    <tr style=\"text-align: right;\">\n",
       "      <th></th>\n",
       "      <th>def_name</th>\n",
       "      <th>def_description</th>\n",
       "      <th>page_num</th>\n",
       "    </tr>\n",
       "  </thead>\n",
       "  <tbody>\n",
       "    <tr>\n",
       "      <th>0</th>\n",
       "      <td>Acceleration Event</td>\n",
       "      <td>The meaning specified in the Acceleration Pr...</td>\n",
       "      <td>9</td>\n",
       "    </tr>\n",
       "    <tr>\n",
       "      <th>1</th>\n",
       "      <td>Acceleration  Priority  of  Payments</td>\n",
       "      <td>The  meaning  specified  in \\nSection 11.1...</td>\n",
       "      <td>9</td>\n",
       "    </tr>\n",
       "    <tr>\n",
       "      <th>2</th>\n",
       "      <td>Account Agreement</td>\n",
       "      <td>An agreement in substantially the form of Ex...</td>\n",
       "      <td>9</td>\n",
       "    </tr>\n",
       "    <tr>\n",
       "      <th>3</th>\n",
       "      <td>Accountants’ Effective Date Comparison AUP Report</td>\n",
       "      <td>A report of agreed \\nupon procedures perform...</td>\n",
       "      <td>10</td>\n",
       "    </tr>\n",
       "    <tr>\n",
       "      <th>4</th>\n",
       "      <td>Accountants’ Effective Date Recalculation AUP ...</td>\n",
       "      <td>A report of agreed \\nupon  procedures  perfor...</td>\n",
       "      <td>10</td>\n",
       "    </tr>\n",
       "  </tbody>\n",
       "</table>\n",
       "</div>"
      ],
      "text/plain": [
       "                                            def_name  \\\n",
       "0                                 Acceleration Event   \n",
       "1               Acceleration  Priority  of  Payments   \n",
       "2                                  Account Agreement   \n",
       "3  Accountants’ Effective Date Comparison AUP Report   \n",
       "4  Accountants’ Effective Date Recalculation AUP ...   \n",
       "\n",
       "                                     def_description  page_num  \n",
       "0    The meaning specified in the Acceleration Pr...         9  \n",
       "1      The  meaning  specified  in \\nSection 11.1...         9  \n",
       "2    An agreement in substantially the form of Ex...         9  \n",
       "3    A report of agreed \\nupon procedures perform...        10  \n",
       "4   A report of agreed \\nupon  procedures  perfor...        10  "
      ]
     },
     "execution_count": 8,
     "metadata": {},
     "output_type": "execute_result"
    }
   ],
   "source": [
    "def_name_pages = pd.DataFrame(def_names, columns=['def_name','page_num'])\n",
    "df_defs = pd.merge(df_defs, def_name_pages, on='def_name', how='left')\n",
    "df_defs.head() "
   ]
  },
  {
   "cell_type": "markdown",
   "metadata": {},
   "source": [
    "### Bullet Point Detection\n",
    "1. Create columns with location of first bullet for different types of bullets such as (a), (i), (A), (I), etc. \n",
    "2. create regex lists for each type to allow search in order "
   ]
  },
  {
   "cell_type": "code",
   "execution_count": 9,
   "metadata": {},
   "outputs": [
    {
     "data": {
      "text/html": [
       "<div>\n",
       "<style scoped>\n",
       "    .dataframe tbody tr th:only-of-type {\n",
       "        vertical-align: middle;\n",
       "    }\n",
       "\n",
       "    .dataframe tbody tr th {\n",
       "        vertical-align: top;\n",
       "    }\n",
       "\n",
       "    .dataframe thead th {\n",
       "        text-align: right;\n",
       "    }\n",
       "</style>\n",
       "<table border=\"1\" class=\"dataframe\">\n",
       "  <thead>\n",
       "    <tr style=\"text-align: right;\">\n",
       "      <th></th>\n",
       "      <th>def_name</th>\n",
       "      <th>def_description</th>\n",
       "      <th>page_num</th>\n",
       "      <th>roman_bullets_loc</th>\n",
       "    </tr>\n",
       "  </thead>\n",
       "  <tbody>\n",
       "    <tr>\n",
       "      <th>10</th>\n",
       "      <td>Additional  Notes  Closing  Date</td>\n",
       "      <td>The  closing  date  for  the  issuance  of...</td>\n",
       "      <td>10</td>\n",
       "      <td>0</td>\n",
       "    </tr>\n",
       "    <tr>\n",
       "      <th>11</th>\n",
       "      <td>Adjusted Collateral Principal Amount</td>\n",
       "      <td>As of any date of determination: \\n(a)  the ...</td>\n",
       "      <td>10</td>\n",
       "      <td>526</td>\n",
       "    </tr>\n",
       "    <tr>\n",
       "      <th>12</th>\n",
       "      <td>Adjusted Coupon</td>\n",
       "      <td>As of any date of determination and with res...</td>\n",
       "      <td>11</td>\n",
       "      <td>0</td>\n",
       "    </tr>\n",
       "    <tr>\n",
       "      <th>13</th>\n",
       "      <td>Adjusted Spread</td>\n",
       "      <td>As of any date of determination and with res...</td>\n",
       "      <td>11</td>\n",
       "      <td>0</td>\n",
       "    </tr>\n",
       "    <tr>\n",
       "      <th>14</th>\n",
       "      <td>Administration Agreement</td>\n",
       "      <td>An agreement between the Administrator and t...</td>\n",
       "      <td>11</td>\n",
       "      <td>0</td>\n",
       "    </tr>\n",
       "    <tr>\n",
       "      <th>15</th>\n",
       "      <td>Administrative Expense Cap</td>\n",
       "      <td>An amount equal on any Payment Date (when \\n...</td>\n",
       "      <td>11</td>\n",
       "      <td>419</td>\n",
       "    </tr>\n",
       "  </tbody>\n",
       "</table>\n",
       "</div>"
      ],
      "text/plain": [
       "                                def_name  \\\n",
       "10      Additional  Notes  Closing  Date   \n",
       "11  Adjusted Collateral Principal Amount   \n",
       "12                       Adjusted Coupon   \n",
       "13                       Adjusted Spread   \n",
       "14              Administration Agreement   \n",
       "15            Administrative Expense Cap   \n",
       "\n",
       "                                      def_description  page_num  \\\n",
       "10      The  closing  date  for  the  issuance  of...        10   \n",
       "11    As of any date of determination: \\n(a)  the ...        10   \n",
       "12    As of any date of determination and with res...        11   \n",
       "13    As of any date of determination and with res...        11   \n",
       "14    An agreement between the Administrator and t...        11   \n",
       "15    An amount equal on any Payment Date (when \\n...        11   \n",
       "\n",
       "    roman_bullets_loc  \n",
       "10                  0  \n",
       "11                526  \n",
       "12                  0  \n",
       "13                  0  \n",
       "14                  0  \n",
       "15                419  "
      ]
     },
     "execution_count": 9,
     "metadata": {},
     "output_type": "execute_result"
    }
   ],
   "source": [
    "# Detect Roman numerals \n",
    "regex = r\"[\\n\\s]\\(i\\)\"\n",
    "match_reg = [re.search(regex, x) for x in df_defs['def_description']]\n",
    "roman_bullet_flag = [x.span()[0] if x is not None else 0 for x in match_reg]\n",
    "df_defs['roman_bullets_loc'] = roman_bullet_flag\n",
    "df_defs.iloc[10:16]   "
   ]
  },
  {
   "cell_type": "code",
   "execution_count": 10,
   "metadata": {},
   "outputs": [
    {
     "data": {
      "text/html": [
       "<div>\n",
       "<style scoped>\n",
       "    .dataframe tbody tr th:only-of-type {\n",
       "        vertical-align: middle;\n",
       "    }\n",
       "\n",
       "    .dataframe tbody tr th {\n",
       "        vertical-align: top;\n",
       "    }\n",
       "\n",
       "    .dataframe thead th {\n",
       "        text-align: right;\n",
       "    }\n",
       "</style>\n",
       "<table border=\"1\" class=\"dataframe\">\n",
       "  <thead>\n",
       "    <tr style=\"text-align: right;\">\n",
       "      <th></th>\n",
       "      <th>def_name</th>\n",
       "      <th>def_description</th>\n",
       "      <th>page_num</th>\n",
       "      <th>roman_bullets_loc</th>\n",
       "      <th>letter_bullets_loc</th>\n",
       "    </tr>\n",
       "  </thead>\n",
       "  <tbody>\n",
       "    <tr>\n",
       "      <th>6</th>\n",
       "      <td>Accounts</td>\n",
       "      <td>(i) The  Payment  Account;  (ii) the  Coll...</td>\n",
       "      <td>10</td>\n",
       "      <td>3</td>\n",
       "      <td>0</td>\n",
       "    </tr>\n",
       "    <tr>\n",
       "      <th>7</th>\n",
       "      <td>Accredited Investor</td>\n",
       "      <td>An accredited investor as defined in Regulat...</td>\n",
       "      <td>10</td>\n",
       "      <td>0</td>\n",
       "      <td>0</td>\n",
       "    </tr>\n",
       "    <tr>\n",
       "      <th>8</th>\n",
       "      <td>Act” and “Act of Holders</td>\n",
       "      <td>The meanings specified in Section 14.2 (Acts...</td>\n",
       "      <td>10</td>\n",
       "      <td>0</td>\n",
       "      <td>0</td>\n",
       "    </tr>\n",
       "    <tr>\n",
       "      <th>9</th>\n",
       "      <td>Additional Notes</td>\n",
       "      <td>Any Notes issued pursuant to Section 2.4(a) ...</td>\n",
       "      <td>10</td>\n",
       "      <td>0</td>\n",
       "      <td>0</td>\n",
       "    </tr>\n",
       "    <tr>\n",
       "      <th>10</th>\n",
       "      <td>Additional  Notes  Closing  Date</td>\n",
       "      <td>The  closing  date  for  the  issuance  of...</td>\n",
       "      <td>10</td>\n",
       "      <td>0</td>\n",
       "      <td>0</td>\n",
       "    </tr>\n",
       "    <tr>\n",
       "      <th>11</th>\n",
       "      <td>Adjusted Collateral Principal Amount</td>\n",
       "      <td>As of any date of determination: \\n(a)  the ...</td>\n",
       "      <td>10</td>\n",
       "      <td>526</td>\n",
       "      <td>35</td>\n",
       "    </tr>\n",
       "  </tbody>\n",
       "</table>\n",
       "</div>"
      ],
      "text/plain": [
       "                                def_name  \\\n",
       "6                               Accounts   \n",
       "7                    Accredited Investor   \n",
       "8               Act” and “Act of Holders   \n",
       "9                       Additional Notes   \n",
       "10      Additional  Notes  Closing  Date   \n",
       "11  Adjusted Collateral Principal Amount   \n",
       "\n",
       "                                      def_description  page_num  \\\n",
       "6       (i) The  Payment  Account;  (ii) the  Coll...        10   \n",
       "7     An accredited investor as defined in Regulat...        10   \n",
       "8     The meanings specified in Section 14.2 (Acts...        10   \n",
       "9     Any Notes issued pursuant to Section 2.4(a) ...        10   \n",
       "10      The  closing  date  for  the  issuance  of...        10   \n",
       "11    As of any date of determination: \\n(a)  the ...        10   \n",
       "\n",
       "    roman_bullets_loc  letter_bullets_loc  \n",
       "6                   3                   0  \n",
       "7                   0                   0  \n",
       "8                   0                   0  \n",
       "9                   0                   0  \n",
       "10                  0                   0  \n",
       "11                526                  35  "
      ]
     },
     "execution_count": 10,
     "metadata": {},
     "output_type": "execute_result"
    }
   ],
   "source": [
    "# Detect Letter bullets: look for '(a)'\n",
    "regex = r\"[\\n\\s]\\(a\\)\"\n",
    "match_reg = [re.search(regex, x) for x in df_defs['def_description']]\n",
    "letter_bullet_flag = [x.span()[0] if x is not None else 0 for x in match_reg]\n",
    "df_defs['letter_bullets_loc'] = letter_bullet_flag\n",
    "df_defs.iloc[6:12]   "
   ]
  },
  {
   "cell_type": "code",
   "execution_count": 11,
   "metadata": {},
   "outputs": [
    {
     "data": {
      "text/plain": [
       "def_name                                        Administrative Expenses\n",
       "def_description         Fees, expenses (including indemnities) and o...\n",
       "page_num                                                             12\n",
       "roman_bullets_loc                                                   452\n",
       "letter_bullets_loc                                                    0\n",
       "Name: 16, dtype: object"
      ]
     },
     "execution_count": 11,
     "metadata": {},
     "output_type": "execute_result"
    }
   ],
   "source": [
    "df_defs_sub1 =df_defs[(\n",
    "                        (df_defs.roman_bullets_loc < df_defs.letter_bullets_loc) & \n",
    "                         (df_defs.roman_bullets_loc != 0)\n",
    "                        ) | \n",
    "                     ( \n",
    "                        (df_defs.roman_bullets_loc !=0) & \n",
    "                          (df_defs.letter_bullets_loc == 0)\n",
    "                         )\n",
    "                    ]\n",
    "df_defs_sub1.iloc[2]"
   ]
  },
  {
   "cell_type": "markdown",
   "metadata": {},
   "source": [
    "### Create regex lists for roman numerals. \n",
    "1. Explore Administrative Expenses definitions: shows (x) before, but not in middle. \n",
    "2. Look at Affiliates. shows (x) between roman numerals. "
   ]
  },
  {
   "cell_type": "code",
   "execution_count": 12,
   "metadata": {},
   "outputs": [],
   "source": [
    "roman_regex_list = [r\"[\\n\\s]\\(i\\)\", r\"[\\n\\s]\\(ii\\)\", r\"[\\n\\s]\\(iii\\)\", r\"[\\n\\s]\\(iv\\)\",\n",
    "                     r\"[\\n\\s]\\(v\\)\", r\"[\\n\\s]\\(vi\\)\", r\"[\\n\\s]\\(vii\\)\", r\"[\\n\\s]\\(viii\\)\", \n",
    "                    r\"[\\n\\s]\\(ix\\)\", r\"[\\n\\s]\\(x\\)\", r\"[\\n\\s]\\(xi\\)\", r\"[\\n\\s]\\(xii\\)\", \n",
    "                    r\"[\\n\\s]\\(xiii\\)\", r\"[\\n\\s]\\(xiv\\)\", r\"[\\n\\s]\\(xv\\)\", r\"[\\n\\s]\\(xvi\\)\", \n",
    "                    r\"[\\n\\s]\\(xvii\\)\", r\"[\\n\\s]\\(xviii\\)\", r\"[\\n\\s]\\(xix\\)\", r\"[\\n\\s]\\(xx\\)\", \n",
    "                    r\"[\\n\\s]\\(xxi\\)\", r\"[\\n\\s]\\(xxii\\)\", r\"[\\n\\s]\\(xxiii\\)\", r\"[\\n\\s]\\(xxiv\\)\",\n",
    "                    r\"[\\n\\s]\\(xxv\\)\", r\"[\\n\\s]\\(xxvi\\)\", r\"[\\n\\s]\\(xxvii\\)\", r\"[\\n\\s]\\(xxviii\\)\",\n",
    "                    r\"[\\n\\s]\\(xxix\\)\", r\"[\\n\\s]\\(xxx\\)\"\n",
    "                   ]\n",
    "\n",
    "roman_upper_regex_list =  [r\"[\\n\\s]\\(I\\)\", r\"[\\n\\s]\\(II\\)\", r\"[\\n\\s]\\(III\\)\", r\"[\\n\\s]\\(IV\\)\",\n",
    "                     r\"[\\n\\s]\\(V\\)\", r\"[\\n\\s]\\(VI\\)\", r\"[\\n\\s]\\(VII\\)\", r\"[\\n\\s]\\(VIII\\)\", \n",
    "                    r\"[\\n\\s]\\(IX\\)\", r\"[\\n\\s]\\(X\\)\", r\"[\\n\\s]\\(XI\\)\", r\"[\\n\\s]\\(XII\\)\", \n",
    "                    r\"[\\n\\s]\\(XIII\\)\", r\"[\\n\\s]\\(XIV\\)\", r\"[\\n\\s]\\(XV\\)\", r\"[\\n\\s]\\(XVI\\)\", \n",
    "                    r\"[\\n\\s]\\(XVII\\)\", r\"[\\n\\s]\\(XVIII\\)\", r\"[\\n\\s]\\(XIX\\)\", r\"[\\n\\s]\\(XX\\)\", \n",
    "                    r\"[\\n\\s]\\(XXI\\)\", r\"[\\n\\s]\\(XXII\\)\", r\"[\\n\\s]\\(XXIII\\)\",r\"[\\n\\s]\\(XXIV\\)\",\n",
    "                    r\"[\\n\\s]\\(XXV\\)\", r\"[\\n\\s]\\(XXVI\\)\", r\"[\\n\\s]\\(XXVII\\)\", r\"[\\n\\s]\\(XXVIII\\)\",\n",
    "                    r\"[\\n\\s]\\(XXIX\\)\", r\"[\\n\\s]\\(XXX\\)\"\n",
    "                   ]"
   ]
  },
  {
   "cell_type": "markdown",
   "metadata": {},
   "source": [
    "Admin Expenses: line 2 of definition (roman numerals first) subset <br> <br> \n",
    "Affiliates: line 18 of definitions set"
   ]
  },
  {
   "cell_type": "markdown",
   "metadata": {},
   "source": [
    "Apply logic to all rows in <font color = aqua> Roman Numerals First </font> sub-table, then add to back to subtable. "
   ]
  },
  {
   "cell_type": "code",
   "execution_count": 13,
   "metadata": {},
   "outputs": [
    {
     "data": {
      "text/plain": [
       "'Accounts'"
      ]
     },
     "execution_count": 13,
     "metadata": {},
     "output_type": "execute_result"
    },
    {
     "data": {
      "text/plain": [
       "[' (i) The  Payment  Account;',\n",
       " ' (ii) the  Collection  Account;',\n",
       " ' (iii) the \\nRamp-Up Account',\n",
       " ' (iv) the Revolver Funding Account',\n",
       " ' (v) each Hedge Account (to the extent \\npermitted under the related Hedge Agreement)',\n",
       " ' (vi) the Expense Reserve Account',\n",
       " ' (vii) the \\nCustodial Account',\n",
       " ' (viii) the Ongoing Expense Maintenance Account',\n",
       " ' (ix) the Supplemental \\nReserve Account',\n",
       " ' (x) the Contribution Account; an',\n",
       " ' (xi) the Tax Reserve Account. ']"
      ]
     },
     "execution_count": 13,
     "metadata": {},
     "output_type": "execute_result"
    }
   ],
   "source": [
    "# show example for random definition with roman numeral\n",
    "x_f = 0\n",
    "df_defs_sub1['def_name'].iloc[x_f]\n",
    "scrape.list_btn_loc_regexlist_keepbullet2_order(df_defs_sub1['def_description'].iloc[x_f], len(df_defs_sub1['def_description'].iloc[x_f]), roman_regex_list)"
   ]
  },
  {
   "cell_type": "code",
   "execution_count": 14,
   "metadata": {},
   "outputs": [
    {
     "name": "stderr",
     "output_type": "stream",
     "text": [
      "C:\\Users\\Owner\\Anaconda3\\lib\\site-packages\\ipykernel_launcher.py:2: SettingWithCopyWarning: \n",
      "A value is trying to be set on a copy of a slice from a DataFrame.\n",
      "Try using .loc[row_indexer,col_indexer] = value instead\n",
      "\n",
      "See the caveats in the documentation: http://pandas.pydata.org/pandas-docs/stable/user_guide/indexing.html#returning-a-view-versus-a-copy\n",
      "  \n"
     ]
    },
    {
     "data": {
      "text/html": [
       "<div>\n",
       "<style scoped>\n",
       "    .dataframe tbody tr th:only-of-type {\n",
       "        vertical-align: middle;\n",
       "    }\n",
       "\n",
       "    .dataframe tbody tr th {\n",
       "        vertical-align: top;\n",
       "    }\n",
       "\n",
       "    .dataframe thead th {\n",
       "        text-align: right;\n",
       "    }\n",
       "</style>\n",
       "<table border=\"1\" class=\"dataframe\">\n",
       "  <thead>\n",
       "    <tr style=\"text-align: right;\">\n",
       "      <th></th>\n",
       "      <th>def_name</th>\n",
       "      <th>def_description</th>\n",
       "      <th>page_num</th>\n",
       "      <th>roman_bullets_loc</th>\n",
       "      <th>letter_bullets_loc</th>\n",
       "      <th>roman_bullets</th>\n",
       "    </tr>\n",
       "  </thead>\n",
       "  <tbody>\n",
       "    <tr>\n",
       "      <th>6</th>\n",
       "      <td>Accounts</td>\n",
       "      <td>(i) The  Payment  Account;  (ii) the  Coll...</td>\n",
       "      <td>10</td>\n",
       "      <td>3</td>\n",
       "      <td>0</td>\n",
       "      <td>[ (i) The  Payment  Account;,  (ii) the  Colle...</td>\n",
       "    </tr>\n",
       "    <tr>\n",
       "      <th>15</th>\n",
       "      <td>Administrative Expense Cap</td>\n",
       "      <td>An amount equal on any Payment Date (when \\n...</td>\n",
       "      <td>11</td>\n",
       "      <td>419</td>\n",
       "      <td>497</td>\n",
       "      <td>[ (i) upon the occurrence and continuation of ...</td>\n",
       "    </tr>\n",
       "    <tr>\n",
       "      <th>16</th>\n",
       "      <td>Administrative Expenses</td>\n",
       "      <td>Fees, expenses (including indemnities) and o...</td>\n",
       "      <td>12</td>\n",
       "      <td>452</td>\n",
       "      <td>0</td>\n",
       "      <td>[ (i) the  Independent  accountants,  agents  ...</td>\n",
       "    </tr>\n",
       "    <tr>\n",
       "      <th>32</th>\n",
       "      <td>Balance</td>\n",
       "      <td>On any date, with respect to Cash or Eligibl...</td>\n",
       "      <td>16</td>\n",
       "      <td>112</td>\n",
       "      <td>0</td>\n",
       "      <td>[ (i) current balance of Cash, demand deposits...</td>\n",
       "    </tr>\n",
       "    <tr>\n",
       "      <th>38</th>\n",
       "      <td>Business Day</td>\n",
       "      <td>Any day other than (i) a Saturday or a Sunda...</td>\n",
       "      <td>17</td>\n",
       "      <td>20</td>\n",
       "      <td>0</td>\n",
       "      <td>[ (i) a Saturday or a Sunday o,  (ii) a day on...</td>\n",
       "    </tr>\n",
       "  </tbody>\n",
       "</table>\n",
       "</div>"
      ],
      "text/plain": [
       "                      def_name  \\\n",
       "6                     Accounts   \n",
       "15  Administrative Expense Cap   \n",
       "16     Administrative Expenses   \n",
       "32                     Balance   \n",
       "38                Business Day   \n",
       "\n",
       "                                      def_description  page_num  \\\n",
       "6       (i) The  Payment  Account;  (ii) the  Coll...        10   \n",
       "15    An amount equal on any Payment Date (when \\n...        11   \n",
       "16    Fees, expenses (including indemnities) and o...        12   \n",
       "32    On any date, with respect to Cash or Eligibl...        16   \n",
       "38    Any day other than (i) a Saturday or a Sunda...        17   \n",
       "\n",
       "    roman_bullets_loc  letter_bullets_loc  \\\n",
       "6                   3                   0   \n",
       "15                419                 497   \n",
       "16                452                   0   \n",
       "32                112                   0   \n",
       "38                 20                   0   \n",
       "\n",
       "                                        roman_bullets  \n",
       "6   [ (i) The  Payment  Account;,  (ii) the  Colle...  \n",
       "15  [ (i) upon the occurrence and continuation of ...  \n",
       "16  [ (i) the  Independent  accountants,  agents  ...  \n",
       "32  [ (i) current balance of Cash, demand deposits...  \n",
       "38  [ (i) a Saturday or a Sunday o,  (ii) a day on...  "
      ]
     },
     "execution_count": 14,
     "metadata": {},
     "output_type": "execute_result"
    }
   ],
   "source": [
    "rom_def_strings = [scrape.list_btn_loc_regexlist_keepbullet2_order(x,len(x),roman_regex_list) for x in df_defs_sub1['def_description']]\n",
    "df_defs_sub1['roman_bullets'] = rom_def_strings \n",
    "df_defs_sub1.head() "
   ]
  },
  {
   "cell_type": "markdown",
   "metadata": {},
   "source": [
    "### Process <font color=cyan> Letter </font> Bullet Points showing up first "
   ]
  },
  {
   "cell_type": "code",
   "execution_count": 15,
   "metadata": {},
   "outputs": [
    {
     "data": {
      "text/html": [
       "<div>\n",
       "<style scoped>\n",
       "    .dataframe tbody tr th:only-of-type {\n",
       "        vertical-align: middle;\n",
       "    }\n",
       "\n",
       "    .dataframe tbody tr th {\n",
       "        vertical-align: top;\n",
       "    }\n",
       "\n",
       "    .dataframe thead th {\n",
       "        text-align: right;\n",
       "    }\n",
       "</style>\n",
       "<table border=\"1\" class=\"dataframe\">\n",
       "  <thead>\n",
       "    <tr style=\"text-align: right;\">\n",
       "      <th></th>\n",
       "      <th>def_name</th>\n",
       "      <th>def_description</th>\n",
       "      <th>page_num</th>\n",
       "      <th>roman_bullets_loc</th>\n",
       "      <th>letter_bullets_loc</th>\n",
       "    </tr>\n",
       "  </thead>\n",
       "  <tbody>\n",
       "    <tr>\n",
       "      <th>11</th>\n",
       "      <td>Adjusted Collateral Principal Amount</td>\n",
       "      <td>As of any date of determination: \\n(a)  the ...</td>\n",
       "      <td>10</td>\n",
       "      <td>526</td>\n",
       "      <td>35</td>\n",
       "    </tr>\n",
       "    <tr>\n",
       "      <th>18</th>\n",
       "      <td>Affiliate” or “Affiliated</td>\n",
       "      <td>With respect to a Person, (a) any other Pers...</td>\n",
       "      <td>13</td>\n",
       "      <td>240</td>\n",
       "      <td>27</td>\n",
       "    </tr>\n",
       "    <tr>\n",
       "      <th>20</th>\n",
       "      <td>Aggregate Excess Spread</td>\n",
       "      <td>As of any date of determination, an amount e...</td>\n",
       "      <td>13</td>\n",
       "      <td>269</td>\n",
       "      <td>71</td>\n",
       "    </tr>\n",
       "    <tr>\n",
       "      <th>35</th>\n",
       "      <td>Benefit Plan Investor</td>\n",
       "      <td>(a) an employee benefit plan (as defined in ...</td>\n",
       "      <td>16</td>\n",
       "      <td>0</td>\n",
       "      <td>1</td>\n",
       "    </tr>\n",
       "    <tr>\n",
       "      <th>72</th>\n",
       "      <td>Clean-up Call Redemption Price</td>\n",
       "      <td>An amount at least equal to the sum of (a) t...</td>\n",
       "      <td>20</td>\n",
       "      <td>0</td>\n",
       "      <td>40</td>\n",
       "    </tr>\n",
       "  </tbody>\n",
       "</table>\n",
       "</div>"
      ],
      "text/plain": [
       "                                def_name  \\\n",
       "11  Adjusted Collateral Principal Amount   \n",
       "18             Affiliate” or “Affiliated   \n",
       "20               Aggregate Excess Spread   \n",
       "35                 Benefit Plan Investor   \n",
       "72        Clean-up Call Redemption Price   \n",
       "\n",
       "                                      def_description  page_num  \\\n",
       "11    As of any date of determination: \\n(a)  the ...        10   \n",
       "18    With respect to a Person, (a) any other Pers...        13   \n",
       "20    As of any date of determination, an amount e...        13   \n",
       "35    (a) an employee benefit plan (as defined in ...        16   \n",
       "72    An amount at least equal to the sum of (a) t...        20   \n",
       "\n",
       "    roman_bullets_loc  letter_bullets_loc  \n",
       "11                526                  35  \n",
       "18                240                  27  \n",
       "20                269                  71  \n",
       "35                  0                   1  \n",
       "72                  0                  40  "
      ]
     },
     "execution_count": 15,
     "metadata": {},
     "output_type": "execute_result"
    },
    {
     "data": {
      "text/plain": [
       "56"
      ]
     },
     "execution_count": 15,
     "metadata": {},
     "output_type": "execute_result"
    }
   ],
   "source": [
    "df_defs_sub2 =df_defs[(\n",
    "                        (df_defs.roman_bullets_loc > df_defs.letter_bullets_loc) & \n",
    "                         (df_defs.letter_bullets_loc != 0)\n",
    "                        ) | \n",
    "                     ( \n",
    "                        (df_defs.letter_bullets_loc !=0) & \n",
    "                          (df_defs.roman_bullets_loc == 0)\n",
    "                         )\n",
    "                    ]\n",
    "df_defs_sub2.head()\n",
    "len(df_defs_sub2) "
   ]
  },
  {
   "cell_type": "markdown",
   "metadata": {},
   "source": [
    "**Regex List for Letter Bullets** "
   ]
  },
  {
   "cell_type": "code",
   "execution_count": 16,
   "metadata": {},
   "outputs": [],
   "source": [
    "loweralpha_regex_list = [r\"[\\n\\s]\\(a\\)\", r\"[\\n\\s]\\(b\\)\", r\"[\\n\\s]\\(c\\)\", r\"[\\n\\s]\\(d\\)\",\n",
    "                     r\"[\\n\\s]\\(e\\)\", r\"[\\n\\s]\\(f\\)\", r\"[\\n\\s]\\(g\\)\", r\"[\\n\\s]\\(h\\)\", \n",
    "                    r\"[\\n\\s]\\(i\\)\", r\"[\\n\\s]\\(j\\)\", r\"[\\n\\s]\\(k\\)\", r\"[\\n\\s]\\(l\\)\", \n",
    "                    r\"[\\n\\s]\\(m\\)\", r\"[\\n\\s]\\(n\\)\", r\"[\\n\\s]\\(o\\)\", r\"[\\n\\s]\\(p\\)\", \n",
    "                    r\"[\\n\\s]\\(q\\)\", r\"[\\n\\s]\\(r\\)\", r\"[\\n\\s]\\(s\\)\", r\"[\\n\\s]\\(t\\)\",\n",
    "                    r\"[\\n\\s]\\(u\\)\", r\"[\\n\\s]\\(v\\)\", r\"[\\n\\s]\\(w\\)\", r\"[\\n\\s]\\(x\\)\",\n",
    "                    r\"[\\n\\s]\\(y\\)\", r\"[\\n\\s]\\(z\\)\", r\"[\\n\\s]\\(aa\\)\", r\"[\\n\\s]\\(bb\\)\", \n",
    "                   ]\n",
    "\n",
    "upperalpha_regex_list = [r\"[\\n\\s]\\(A\\)\", r\"[\\n\\s]\\(B\\)\", r\"[\\n\\s]\\(C\\)\", r\"[\\n\\s]\\(D\\)\",\n",
    "                     r\"[\\n\\s]\\(E\\)\", r\"[\\n\\s]\\(F\\)\", r\"[\\n\\s]\\(G\\)\", r\"[\\n\\s]\\(H\\)\", \n",
    "                    r\"[\\n\\s]\\(I\\)\", r\"[\\n\\s]\\(J\\)\", r\"[\\n\\s]\\(K\\)\", r\"[\\n\\s]\\(L\\)\", \n",
    "                    r\"[\\n\\s]\\(M\\)\", r\"[\\n\\s]\\(N\\)\", r\"[\\n\\s]\\(O\\)\", r\"[\\n\\s]\\(P\\)\", \n",
    "                    r\"[\\n\\s]\\(Q\\)\", r\"[\\n\\s]\\(R\\)\", r\"[\\n\\s]\\(S\\)\", r\"[\\n\\s]\\(T\\)\",\n",
    "                    r\"[\\n\\s]\\(U\\)\", r\"[\\n\\s]\\(V\\)\", r\"[\\n\\s]\\(W\\)\", r\"[\\n\\s]\\(X\\)\",\n",
    "                    r\"[\\n\\s]\\(Y\\)\", r\"[\\n\\s]\\(Z\\)\", r\"[\\n\\s]\\(AA\\)\", r\"[\\n\\s]\\(BB\\)\", \n",
    "                   ]"
   ]
  },
  {
   "cell_type": "code",
   "execution_count": 17,
   "metadata": {},
   "outputs": [
    {
     "name": "stderr",
     "output_type": "stream",
     "text": [
      "C:\\Users\\Owner\\Anaconda3\\lib\\site-packages\\ipykernel_launcher.py:2: SettingWithCopyWarning: \n",
      "A value is trying to be set on a copy of a slice from a DataFrame.\n",
      "Try using .loc[row_indexer,col_indexer] = value instead\n",
      "\n",
      "See the caveats in the documentation: http://pandas.pydata.org/pandas-docs/stable/user_guide/indexing.html#returning-a-view-versus-a-copy\n",
      "  \n"
     ]
    }
   ],
   "source": [
    "lowalpha_def_strings = [scrape.list_btn_loc_regexlist_keepbullet(x,len(x),loweralpha_regex_list) for x in df_defs_sub2['def_description']]\n",
    "df_defs_sub2['alpha_bullets'] = lowalpha_def_strings"
   ]
  },
  {
   "cell_type": "markdown",
   "metadata": {},
   "source": [
    "### Merge alphabet and roman numeral bullet point:\n",
    "Map 1st layer bullet points back to original definitions table. "
   ]
  },
  {
   "cell_type": "code",
   "execution_count": 18,
   "metadata": {},
   "outputs": [
    {
     "data": {
      "text/html": [
       "<div>\n",
       "<style scoped>\n",
       "    .dataframe tbody tr th:only-of-type {\n",
       "        vertical-align: middle;\n",
       "    }\n",
       "\n",
       "    .dataframe tbody tr th {\n",
       "        vertical-align: top;\n",
       "    }\n",
       "\n",
       "    .dataframe thead th {\n",
       "        text-align: right;\n",
       "    }\n",
       "</style>\n",
       "<table border=\"1\" class=\"dataframe\">\n",
       "  <thead>\n",
       "    <tr style=\"text-align: right;\">\n",
       "      <th></th>\n",
       "      <th>def_name</th>\n",
       "      <th>def_description</th>\n",
       "      <th>page_num</th>\n",
       "      <th>roman_bullets_loc</th>\n",
       "      <th>letter_bullets_loc</th>\n",
       "      <th>roman_bullets</th>\n",
       "      <th>alpha_bullets</th>\n",
       "    </tr>\n",
       "  </thead>\n",
       "  <tbody>\n",
       "    <tr>\n",
       "      <th>15</th>\n",
       "      <td>Administrative Expense Cap</td>\n",
       "      <td>An amount equal on any Payment Date (when \\n...</td>\n",
       "      <td>11</td>\n",
       "      <td>419</td>\n",
       "      <td>497</td>\n",
       "      <td>[ (i) upon the occurrence and continuation of ...</td>\n",
       "      <td>NaN</td>\n",
       "    </tr>\n",
       "    <tr>\n",
       "      <th>16</th>\n",
       "      <td>Administrative Expenses</td>\n",
       "      <td>Fees, expenses (including indemnities) and o...</td>\n",
       "      <td>12</td>\n",
       "      <td>452</td>\n",
       "      <td>0</td>\n",
       "      <td>[ (i) the  Independent  accountants,  agents  ...</td>\n",
       "      <td>NaN</td>\n",
       "    </tr>\n",
       "    <tr>\n",
       "      <th>17</th>\n",
       "      <td>Administrator</td>\n",
       "      <td>Walkers Fiduciary Limited and any successor ...</td>\n",
       "      <td>13</td>\n",
       "      <td>0</td>\n",
       "      <td>0</td>\n",
       "      <td>NaN</td>\n",
       "      <td>NaN</td>\n",
       "    </tr>\n",
       "    <tr>\n",
       "      <th>18</th>\n",
       "      <td>Affiliate” or “Affiliated</td>\n",
       "      <td>With respect to a Person, (a) any other Pers...</td>\n",
       "      <td>13</td>\n",
       "      <td>240</td>\n",
       "      <td>27</td>\n",
       "      <td>NaN</td>\n",
       "      <td>[ (a) any other Person who, \\ndirectly or indi...</td>\n",
       "    </tr>\n",
       "    <tr>\n",
       "      <th>19</th>\n",
       "      <td>Agent  Members</td>\n",
       "      <td>Members  of,  or  participants  in,  DTC, ...</td>\n",
       "      <td>13</td>\n",
       "      <td>0</td>\n",
       "      <td>0</td>\n",
       "      <td>NaN</td>\n",
       "      <td>NaN</td>\n",
       "    </tr>\n",
       "    <tr>\n",
       "      <th>20</th>\n",
       "      <td>Aggregate Excess Spread</td>\n",
       "      <td>As of any date of determination, an amount e...</td>\n",
       "      <td>13</td>\n",
       "      <td>269</td>\n",
       "      <td>71</td>\n",
       "      <td>NaN</td>\n",
       "      <td>[\\n(a)  LIBOR applicable to the Floating Rate ...</td>\n",
       "    </tr>\n",
       "  </tbody>\n",
       "</table>\n",
       "</div>"
      ],
      "text/plain": [
       "                      def_name  \\\n",
       "15  Administrative Expense Cap   \n",
       "16     Administrative Expenses   \n",
       "17               Administrator   \n",
       "18   Affiliate” or “Affiliated   \n",
       "19              Agent  Members   \n",
       "20     Aggregate Excess Spread   \n",
       "\n",
       "                                      def_description  page_num  \\\n",
       "15    An amount equal on any Payment Date (when \\n...        11   \n",
       "16    Fees, expenses (including indemnities) and o...        12   \n",
       "17    Walkers Fiduciary Limited and any successor ...        13   \n",
       "18    With respect to a Person, (a) any other Pers...        13   \n",
       "19      Members  of,  or  participants  in,  DTC, ...        13   \n",
       "20    As of any date of determination, an amount e...        13   \n",
       "\n",
       "    roman_bullets_loc  letter_bullets_loc  \\\n",
       "15                419                 497   \n",
       "16                452                   0   \n",
       "17                  0                   0   \n",
       "18                240                  27   \n",
       "19                  0                   0   \n",
       "20                269                  71   \n",
       "\n",
       "                                        roman_bullets  \\\n",
       "15  [ (i) upon the occurrence and continuation of ...   \n",
       "16  [ (i) the  Independent  accountants,  agents  ...   \n",
       "17                                                NaN   \n",
       "18                                                NaN   \n",
       "19                                                NaN   \n",
       "20                                                NaN   \n",
       "\n",
       "                                        alpha_bullets  \n",
       "15                                                NaN  \n",
       "16                                                NaN  \n",
       "17                                                NaN  \n",
       "18  [ (a) any other Person who, \\ndirectly or indi...  \n",
       "19                                                NaN  \n",
       "20  [\\n(a)  LIBOR applicable to the Floating Rate ...  "
      ]
     },
     "execution_count": 18,
     "metadata": {},
     "output_type": "execute_result"
    }
   ],
   "source": [
    "df_def_comb = pd.merge(pd.merge(df_defs, df_defs_sub1[['def_name','roman_bullets']], on='def_name', how='left'), \n",
    "                                df_defs_sub2[['def_name','alpha_bullets']], \n",
    "                            on='def_name',how='left')\n",
    "df_def_comb.iloc[15:21] "
   ]
  },
  {
   "cell_type": "code",
   "execution_count": 19,
   "metadata": {},
   "outputs": [],
   "source": [
    "def_dict = {} \n",
    "for i, item in enumerate(df_def_comb['def_description']):\n",
    "    key_name = df_def_comb.iloc[i]['def_name']\n",
    "    key_vals = {}   # holds definition value\n",
    "    sub_dict = {}   # holds items within definition value\n",
    "    roman_loc1 = df_def_comb.iloc[i]['roman_bullets_loc']  # will re-use for rest of loop \n",
    "    letter_loc1 = df_def_comb.iloc[i]['letter_bullets_loc']\n",
    "    key_vals['page_num'] = df_def_comb.iloc[i]['page_num']\n",
    "    key_vals['roman_loc1'] = roman_loc1\n",
    "    key_vals['letter_loc1'] = letter_loc1    \n",
    "        \n",
    "    # Definitions WITHOUT bullet points \n",
    "    if( (df_def_comb.iloc[i]['roman_bullets_loc']==0) &\n",
    "           (df_def_comb.iloc[i]['letter_bullets_loc']==0) ):\n",
    "        key_vals['def_values'] = item\n",
    "        \n",
    "    # Definitions with bullets: lowercase Roman comes first. \n",
    "    elif( ( \n",
    "            (df_def_comb.iloc[i]['roman_bullets_loc'] < df_def_comb.iloc[i]['letter_bullets_loc'] ) & \n",
    "                (df_def_comb.iloc[i]['roman_bullets_loc'] != 0 )\n",
    "            ) | \n",
    "          ( \n",
    "            (df_def_comb.iloc[i]['roman_bullets_loc'] != 0) & \n",
    "              (df_def_comb.iloc[i]['letter_bullets_loc'] == 0)\n",
    "            )\n",
    "        ):\n",
    "            sub_dict['opening_sec'] = df_def_comb.iloc[i]['def_description'][0:roman_loc1]\n",
    "            sub_dict['bullet_level1'] = df_def_comb.iloc[i]['roman_bullets']\n",
    "            key_vals['def_values'] = sub_dict\n",
    "\n",
    "    # Definitions with bullets: lowercase Roman comes first. \n",
    "    elif( ( \n",
    "            (df_def_comb.iloc[i]['letter_bullets_loc'] < df_def_comb.iloc[i]['roman_bullets_loc'] ) & \n",
    "                (df_def_comb.iloc[i]['letter_bullets_loc'] != 0 )\n",
    "            ) | \n",
    "          ( \n",
    "            (df_def_comb.iloc[i]['letter_bullets_loc'] != 0) & \n",
    "              (df_def_comb.iloc[i]['roman_bullets_loc'] == 0)\n",
    "            )\n",
    "        ):\n",
    "            sub_dict['opening_sec'] = df_def_comb.iloc[i]['def_description'][0:letter_loc1]\n",
    "            sub_dict['bullet_level1'] = df_def_comb.iloc[i]['alpha_bullets']\n",
    "            key_vals['def_values'] = sub_dict\n",
    "    \n",
    "    else: def_dict[key_name] = 5000\n",
    "    def_dict[key_name] = key_vals"
   ]
  },
  {
   "cell_type": "code",
   "execution_count": 20,
   "metadata": {},
   "outputs": [
    {
     "data": {
      "text/plain": [
       "{'page_num': 10,\n",
       " 'roman_loc1': 3,\n",
       " 'letter_loc1': 0,\n",
       " 'def_values': {'opening_sec': '   ',\n",
       "  'bullet_level1': [' (i) The  Payment  Account;',\n",
       "   ' (ii) the  Collection  Account;',\n",
       "   ' (iii) the \\nRamp-Up Account',\n",
       "   ' (iv) the Revolver Funding Account',\n",
       "   ' (v) each Hedge Account (to the extent \\npermitted under the related Hedge Agreement)',\n",
       "   ' (vi) the Expense Reserve Account',\n",
       "   ' (vii) the \\nCustodial Account',\n",
       "   ' (viii) the Ongoing Expense Maintenance Account',\n",
       "   ' (ix) the Supplemental \\nReserve Account',\n",
       "   ' (x) the Contribution Account; an',\n",
       "   ' (xi) the Tax Reserve Account. ']}}"
      ]
     },
     "execution_count": 20,
     "metadata": {},
     "output_type": "execute_result"
    },
    {
     "data": {
      "text/plain": [
       "{'page_num': 20,\n",
       " 'roman_loc1': 0,\n",
       " 'letter_loc1': 40,\n",
       " 'def_values': {'opening_sec': '  An amount at least equal to the sum of',\n",
       "  'bullet_level1': [' (a) the \\nRedemption Price of the Secured Notes, plu',\n",
       "   ' (b) the aggregate of all other amounts owing by the \\nIssuer on the date of such redemption that are payable in accordance with the Priority of \\nPayments prior to distributions in respect of the Subordinated Notes, including any amounts \\npayable  in  respect  of  any  Hedge  Agreement  and  all  expenses  incurred  in  connection  with \\neffecting the Clean-up Call Redemption. ']}}"
      ]
     },
     "execution_count": 20,
     "metadata": {},
     "output_type": "execute_result"
    }
   ],
   "source": [
    "# Sample of definitions with roman and letters coming first \n",
    "def_dict['Accounts']           # roman numerals first\n",
    "def_dict['Clean-up Call Redemption Price']        # letters first "
   ]
  },
  {
   "cell_type": "markdown",
   "metadata": {},
   "source": [
    "### Eligible Investments \n",
    "Split about letter (b) into text and multiple sub bullets. Dictionaries\n",
    "(b) bullet point \n",
    " - opening\n",
    " - roman bullets (i) - (iv) \n",
    " - Closing Paragraph dict\n",
    "   - opening\n",
    "   - bullets: (1), (2) \n",
    "       - (2) bullet dict: (a) - end      "
   ]
  },
  {
   "cell_type": "code",
   "execution_count": 21,
   "metadata": {},
   "outputs": [],
   "source": [
    "num_regex_list = [r\"[\\n\\s]\\(1\\)\", r\"[\\n\\s]\\(2\\)\", r\"[\\n\\s]\\(3\\)\", r\"[\\n\\s]\\(4\\)\",\n",
    "                     r\"[\\n\\s]\\(5\\)\", r\"[\\n\\s]\\(6\\)\", r\"[\\n\\s]\\(7\\)\", r\"[\\n\\s]\\(8\\)\", \n",
    "                    r\"[\\n\\s]\\(9\\)\", r\"[\\n\\s]\\(10\\)\", r\"[\\n\\s]\\(11\\)\", r\"[\\n\\s]\\(12\\)\", \n",
    "                    r\"[\\n\\s]\\(13\\)\", r\"[\\n\\s]\\(14\\)\", r\"[\\n\\s]\\(15\\)\", r\"[\\n\\s]\\(16\\)\", \n",
    "                    r\"[\\n\\s]\\(17\\)\", r\"[\\n\\s]\\(18\\)\", r\"[\\n\\s]\\(19\\)\", r\"[\\n\\s]\\(20\\)\", \n",
    "                    r\"[\\n\\s]\\(21\\)\", r\"[\\n\\s]\\(22\\)\", r\"[\\n\\s]\\(23\\)\", r\"[\\n\\s]\\(24\\)\",\n",
    "                    r\"[\\n\\s]\\(25\\)\", r\"[\\n\\s]\\(26\\)\", r\"[\\n\\s]\\(27\\)\", r\"[\\n\\s]\\(28\\)\",\n",
    "                    r\"[\\n\\s]\\(29\\)\", r\"[\\n\\s]\\(30\\)\"]"
   ]
  },
  {
   "cell_type": "code",
   "execution_count": 22,
   "metadata": {},
   "outputs": [],
   "source": [
    "def_ei = list(df_def_comb[df_def_comb['def_name'] == 'Eligible Investments']['alpha_bullets'])\n",
    "b_bullet= def_ei[0][1]  # returns a string \n",
    "b_bullet_dict = {} "
   ]
  },
  {
   "cell_type": "code",
   "execution_count": 23,
   "metadata": {},
   "outputs": [
    {
     "data": {
      "text/plain": [
       "620"
      ]
     },
     "execution_count": 23,
     "metadata": {},
     "output_type": "execute_result"
    }
   ],
   "source": [
    "# mark opening paragraph of b_bullet \n",
    "regex = r\"[\\n\\s]\\(i\\)\"\n",
    "match_roman_loc = re.search(regex, b_bullet).span()[0]\n",
    "match_roman_loc   # marks beginning of roman numerals. \n",
    "b_bullet_dict['opening_sec'] = b_bullet[0:match_roman_loc-1]"
   ]
  },
  {
   "cell_type": "code",
   "execution_count": 24,
   "metadata": {},
   "outputs": [],
   "source": [
    "# grab roman numerals and last paragraph \n",
    "ei_def_str = df_def_comb[df_def_comb['def_name'] == 'Eligible Investments']['def_description'].iloc[0]\n",
    "rom_num_end_list = scrape.list_btn_loc_regexlist_keepbullet(ei_def_str,len(ei_def_str),roman_regex_list)"
   ]
  },
  {
   "cell_type": "code",
   "execution_count": 25,
   "metadata": {},
   "outputs": [],
   "source": [
    "# location of closing paragraph\n",
    "search_string = '\\nprovided that \\(1\\)'\n",
    "close_par_startloc = re.search(search_string, b_bullet).span()[0]\n",
    "b_len_str = len(b_bullet) "
   ]
  },
  {
   "cell_type": "code",
   "execution_count": 26,
   "metadata": {},
   "outputs": [],
   "source": [
    "# grab roman numerals and create new dictionary \n",
    "b_roman_bullets = scrape.list_btn_loc_regexlist_keepbullet(b_bullet[match_roman_loc:close_par_startloc], close_par_startloc, roman_regex_list)\n",
    "b_bullet_dict['roman_bullets1'] = b_roman_bullets"
   ]
  },
  {
   "cell_type": "code",
   "execution_count": 27,
   "metadata": {},
   "outputs": [],
   "source": [
    "# isolate closing paragraph text \n",
    "closing_sec = rom_num_end_list[3]\n",
    "search_string = '\\nprovided that \\(1\\)'\n",
    "close_par_startloc = re.search(search_string, closing_sec).span()[0]\n",
    "close_length = len(closing_sec)\n",
    "closing_sec = closing_sec[close_par_startloc:close_length]"
   ]
  },
  {
   "cell_type": "code",
   "execution_count": 28,
   "metadata": {},
   "outputs": [],
   "source": [
    "# Closing Paragraph dictionary\n",
    "close_par_dict = {}\n",
    "search_string = r'\\(1\\) Eligible Investments'\n",
    "close_par_bullet1_loc = re.search(search_string, closing_sec).span()[0]\n",
    "close_par_dict['opening_sec'] = closing_sec[1:close_par_bullet1_loc-1]\n",
    "close_par_dict['num_bullets'] = [] "
   ]
  },
  {
   "cell_type": "code",
   "execution_count": 29,
   "metadata": {},
   "outputs": [],
   "source": [
    "# populate first number bullet in closing paragraph \n",
    "search_string = r'\\(2\\) none'\n",
    "close_par_bullet2_loc = re.search(search_string, closing_sec).span()[0]\n",
    "close_par_dict['num_bullets'].append(closing_sec[close_par_bullet1_loc:close_par_bullet2_loc])"
   ]
  },
  {
   "cell_type": "code",
   "execution_count": 30,
   "metadata": {},
   "outputs": [],
   "source": [
    "# 2nd bullet point has roman numerals embedded and will be stored as another dictionary to embed into the num_bullets list\n",
    "close_par_2ndbull = {} \n",
    "search_string = \"\\(a\\) all\"\n",
    "close_par_bulleta_loc = re.search(search_string, closing_sec).span()[0]\n",
    "close_par_2ndbull['opening_sec'] =  closing_sec[close_par_bullet2_loc:close_par_bulleta_loc-2]"
   ]
  },
  {
   "cell_type": "code",
   "execution_count": 31,
   "metadata": {},
   "outputs": [],
   "source": [
    "# grab letter bullet points for rest of closing paragraph, then add dictionary to bullet point 2 dictionary\n",
    "close_letter_bull_list = scrape.list_btn_loc_regexlist_keepbullet(closing_sec, len(closing_sec), loweralpha_regex_list)\n",
    "close_par_2ndbull['letter_bullets'] = close_letter_bull_list\n",
    "close_par_dict['num_bullets'].append(close_par_2ndbull)"
   ]
  },
  {
   "cell_type": "code",
   "execution_count": 32,
   "metadata": {},
   "outputs": [],
   "source": [
    "# add closing paragraph dictionary back to b_bullet dict\n",
    "b_bullet_dict['closing_sec'] = close_par_dict"
   ]
  },
  {
   "cell_type": "code",
   "execution_count": 33,
   "metadata": {},
   "outputs": [],
   "source": [
    "# create final Eligible Investments definition\n",
    "ei_def_str = []\n",
    "ei_def_str.append(def_ei[0][0])\n",
    "ei_def_str.append(b_bullet_dict)"
   ]
  },
  {
   "cell_type": "code",
   "execution_count": 34,
   "metadata": {},
   "outputs": [
    {
     "data": {
      "text/plain": [
       "[' (a) Cash o',\n",
       " {'opening_sec': ' (b) any U.S. Dollar investment that, at the \\ntime it is delivered to the Trustee (directly or through an intermediary or bailee), (w) except in \\nthe case of clause (iv) below, matures not later than the date that is 60 days after the date of \\ndelivery thereof, (x) is not a “commodity interest” as such term is used in the definition of \\n“commodity  pool”  in  Section 1a  of  the  Commodity  Exchange  Act,  as  amended,  (y) in  the \\ncommercially reasonable judgment of the Portfolio Manager, is a “cash equivalent” for purposes \\nof the Volcker Rule and (z) is one or more of the following obligations or securities:',\n",
       "  'roman_bullets1': ['\\n(i)  direct  Registered  obligations  of,  and  Registered  obligations  the \\ntimely  payment  of  principal  and  interest  on  which  is  fully  and  expressly \\nguaranteed by, the United States of America or any agency or instrumentality of \\nthe United States of America the obligations of which are expressly backed by the \\nfull faith and credit of the United States of America and, in each case, have the \\nEligible Investment Required Ratings;',\n",
       "   '\\n(ii)  demand  and  time  deposits  in,  certificates  of  deposit  of,  bank \\ndeposit  products  of,  trust  accounts  with,  bankers’  acceptances  issued  by,  or \\nfederal funds sold by any depository institution or trust company incorporated \\nunder the laws of the United States of America (including the Trustee, Affiliates \\nof the Trustee and Affiliates of the Portfolio Manager) or any state thereof and \\nsubject to supervision and examination by federal and/or state banking authorities, \\nin each case payable within 183 days after issuance, so long as the commercial \\npaper and/or the debt obligations of such depository institution or trust company \\n(or,  in  the  case  of  the  principal  depository  institution  in  a  holding  company \\nsystem,  the  commercial  paper  or  debt  obligations  of  such  holding  company; \\nprovided that such holding company guarantees such investment issued by such \\nprincipal depository institution pursuant to a guarantee that satisfies each Rating \\n  -29-  \\nAgency’s then-current criteria for guarantees in structured finance transactions) at \\nthe  time  of  such  investment  or  contractual  commitment  providing  for  such \\ninvestment have the Eligible Investment Required Ratings;',\n",
       "   '\\n(iii)  commercial  paper  or  other  short-term  obligations  (other  than \\nAsset-Backed  Commercial  Paper  or  extendible  commercial  paper)  with  the \\nEligible Investment Required Ratings and that either bear interest or are sold at a \\ndiscount from the face amount thereof and have a maturity of not more than 183 \\ndays from their date of issuance; and',\n",
       "   '\\n(iv)  off-shore money market funds that have, at all times, credit ratings \\nof “Aaa-mf” by Moody’s and “AAAm” by S&P, respectively (or such other \\nMoody’s or S&P credit rating, respectively, that is the highest rating of such \\nRating Agency in its ratings table that applies to money market funds from time to \\ntime and satisfies the then-current criteria of such Rating Agency with respect to \\nmoney market funds qualifying as Eligible Investments); '],\n",
       "  'closing_sec': {'opening_sec': 'provided that',\n",
       "   'num_bullets': ['(1) Eligible Investments purchased with funds in the Collection Account shall be \\nheld until maturity except as otherwise specifically provided herein and shall include only such \\nobligations or securities, other than those referred to in clause (iv) above, as mature (or are \\nputable at par to the issuer thereof) no later than the Business Day prior to the next Payment Date \\nand ',\n",
       "    {'opening_sec': '(2) none of the foregoing obligations or securities shall constitute Eligible Investments if',\n",
       "     'letter_bullets': ['\\n(a) all, or substantially all, of the remaining amounts payable thereunder consist of interest and \\nnot principal payments',\n",
       "      ' (b) payments with respect to such obligations or securities or proceeds of \\ndisposition are subject to withholding taxes by any jurisdiction (other than withholding taxes \\nunder FATCA) unless the payor is required to make “gross-up” payments that cover the full \\namount of any such withholding tax on an after-tax basis',\n",
       "      ' (c) such obligation or security is \\nsecured by real property',\n",
       "      ' (d) such obligation or security is purchased at a price greater than 100% \\nof the principal or face amount thereof',\n",
       "      ' (e) such obligation or security is the subject of a tender \\noffer,  voluntary  redemption,  exchange  offer,  conversion  or  other  similar  action,',\n",
       "      ' (f) in  the \\nPortfolio  Manager’s  judgment,  such  obligation  or  security  is  subject  to  material  non-credit \\nrelated  risks  (other  than  an  Eligible  Investments  Permitted  Offer),',\n",
       "      ' (g) such  obligation  is  a \\nStructured Finance Obligation o',\n",
       "      ' (h) such obligation has a rating assigned by S&P that includes \\nan “f,” “p,” “sf” or “t” subscript or a rating assigned by Moody’s that includes an “sf” subscript. \\nEligible Investments may include, without limitation, those investments for which the Trustee or \\nan Affiliate of the Trustee or the Portfolio Manager or an Affiliate of the Portfolio Manager \\nprovides services and receives compensation. ']}]}}]"
      ]
     },
     "execution_count": 34,
     "metadata": {},
     "output_type": "execute_result"
    }
   ],
   "source": [
    "def_dict['Eligible Investments']['def_values'] = ei_def_str\n",
    "def_dict['Eligible Investments']['def_values']"
   ]
  },
  {
   "cell_type": "markdown",
   "metadata": {},
   "source": [
    "### Discount Obligations"
   ]
  },
  {
   "cell_type": "code",
   "execution_count": 35,
   "metadata": {},
   "outputs": [],
   "source": [
    "# grab end of bullet points \n",
    "do_def_str = df_def_comb['def_description'][df_def_comb['def_name']=='Discount Obligation'].iloc[0]\n",
    "search_string_end_para = r'\\nprovided  that  if  such'\n",
    "search_string_bullets = r\"[\\n\\s]\\(i\\)\"\n",
    "start_bullets = re.search(search_string_bullets, do_def_str).span()[0]\n",
    "end_bullets = re.search(search_string_end_para, do_def_str).span()[0]"
   ]
  },
  {
   "cell_type": "code",
   "execution_count": 36,
   "metadata": {},
   "outputs": [],
   "source": [
    "do_def_valdict = {}\n",
    "do_def_valdict['opening_sec'] = do_def_str[0: start_bullets-1]\n",
    "do_def_valdict['roman_bullets1'] = scrape.list_btn_loc_regexlist_keepbullet(do_def_str, end_bullets,roman_regex_list)\n",
    "do_def_valdict['closing_sec'] = do_def_str[end_bullets:len(do_def_str)]"
   ]
  },
  {
   "cell_type": "code",
   "execution_count": 37,
   "metadata": {},
   "outputs": [
    {
     "data": {
      "text/plain": [
       "{'opening_sec': '  Any Collateral Obligation that is not a Swapped Non-\\nDiscount Obligation and that the Portfolio Manager determines:',\n",
       " 'roman_bullets1': ['\\n(i)  in  the  case  of  a  Collateral  Obligation  that  is  an  interest  or  a \\nParticipation Interest in a Senior Secured Loan, is acquired by the Issuer for a \\npurchase price that is lower than 80% of the Principal Balance of such Collateral \\nObligation (or, if such interest is rated below “B3” by Moody’s, such interest is \\n  -26-  \\nacquired by the Issuer for a purchase price of less than 85% of its Principal \\nBalance); provided that such Collateral Obligation shall cease to be a Discount \\nObligation at such time as the Market Value of such Collateral Obligation, as \\ndetermined for any period of 30 consecutive days since the acquisition by the \\nIssuer of such Collateral Obligation, equals or exceeds 90% of the Principal \\nBalance of such Collateral Obligation;',\n",
       "  '\\n(ii)  in the case of any Collateral Obligation other than an interest or a \\nParticipation Interest in a Senior Secured Loan, is acquired by the Issuer for a \\npurchase  price  of  less  than  75%  of  the  Principal  Balance  of  such  Collateral \\nObligation (or, if such interest is rated below “B3” by Moody’s, such interest is \\nacquired by the Issuer for a purchase price of less than 80% of its Principal \\nBalance); provided that such Collateral Obligation shall cease to be a Discount \\nObligation at such time as the Market Value of such Collateral Obligation, as \\ndetermined for any period of 30 consecutive days since the acquisition by the \\nIssuer of such Collateral Obligation, equals or exceeds 85% of the Principal \\nBalance of such Collateral Obligation; or',\n",
       "  '\\n(iii)  is acquired by the Issuer for a purchase price of less than 100% if \\ndesignated  by  the  Portfolio  Manager  as  a  Discount  Obligation  in  its  sole \\ndiscretion; '],\n",
       " 'closing_sec': '\\nprovided  that  if  such  interest  is  a  Revolving  Collateral  Obligation,  and  there  exists  an \\noutstanding non-revolving loan to its Obligor ranking pari passu with such Revolving Collateral \\nObligation  and  secured  by  substantially  the  same  collateral  as  such  Revolving  Collateral \\nObligation  (a  “Related  Term  Loan”),  in  determining  whether  such  Revolving  Collateral \\nObligation is and continues to be a Discount Obligation, the price of the Related Term Loan, and \\nnot of the Revolving Collateral Obligation, shall be referenced. '}"
      ]
     },
     "execution_count": 37,
     "metadata": {},
     "output_type": "execute_result"
    }
   ],
   "source": [
    "# dictionary values for Discount Obligatios \n",
    "def_dict['Discount Obligation']['def_values'] = do_def_valdict\n",
    "def_dict['Discount Obligation']['def_values']"
   ]
  },
  {
   "cell_type": "markdown",
   "metadata": {},
   "source": [
    "### Event of Default\n",
    "Current definition references an entire section: 5.1. \n",
    "1. pull in new pages\n",
    "2. search on Section 5.1. \n",
    "3. run bullet point parsing script into new dictionary: ```eod_dict```\n",
    " - Note bullet (a) and closing paragraph have separate bullets and need separate dicts. \n",
    "4. replace def_values with new dictionary"
   ]
  },
  {
   "cell_type": "code",
   "execution_count": 38,
   "metadata": {},
   "outputs": [
    {
     "data": {
      "text/plain": [
       "'  The meaning specified in Section 5.1 (Events of Default). '"
      ]
     },
     "execution_count": 38,
     "metadata": {},
     "output_type": "execute_result"
    }
   ],
   "source": [
    "def_dict['Event of Default']['def_values']"
   ]
  },
  {
   "cell_type": "code",
   "execution_count": 39,
   "metadata": {},
   "outputs": [],
   "source": [
    "# pull in pages for section 5.1\n",
    "start_page_oh = 120\n",
    "end_page_oh = 125\n",
    "eod_pages = scrape.pdf_extract_pages(file_name_oh, start_page_oh, end_page_oh)\n",
    "eod_str_oh = scrape.combine_strings(eod_pages) "
   ]
  },
  {
   "cell_type": "code",
   "execution_count": 40,
   "metadata": {},
   "outputs": [],
   "source": [
    "# isolate Event of Default definition\n",
    "regex_start = r'\\nSection 5.1  Events  of  Default'\n",
    "regex_end = r'\\nSection 5.2  Acceleration of Maturity'\n",
    "eod_str = scrape.pullsubstr_begend(regex_start, regex_end, eod_str_oh) "
   ]
  },
  {
   "cell_type": "code",
   "execution_count": 41,
   "metadata": {},
   "outputs": [],
   "source": [
    "# Process opening paragraph \n",
    "eod_dict = {}\n",
    "regex_a = r\"[\\n\\s]\\(a\\)\"\n",
    "eod_dict['opening_sec'] = scrape.pullsubstr_beg_regex(regex_a, eod_str)"
   ]
  },
  {
   "cell_type": "markdown",
   "metadata": {},
   "source": [
    "**Process bullet points** <br> \n",
    "1. Create list ```letter_bullets``` to house bullet points. \n",
    "2. create new dictionary, ```bullet_a_dict``` to house opening and bullets. \n",
    "3. populate ```bullet_a_dict``` with opening and roman numerals\n",
    "4. append to ```bullet_a_dict``` to ```letter_bullets``` list \n",
    "5. append rest of bullets to ```letter_bullets``` and append to dictionary for EOD:```eod_dict```. \n",
    "6. add closing paragraph to ```eod_dict``` "
   ]
  },
  {
   "cell_type": "code",
   "execution_count": 42,
   "metadata": {},
   "outputs": [],
   "source": [
    "letter_bullets = []  # houes bullet points for EOD\n",
    "bullet_a_dict = {}  # house bullet point a "
   ]
  },
  {
   "cell_type": "code",
   "execution_count": 43,
   "metadata": {},
   "outputs": [],
   "source": [
    "# Isolate bullet point (a) and populate opening section and roman bullets\n",
    "regex_b = r'[\\n\\s]\\(b\\)'\n",
    "eod_bulla_str = scrape.pullsubstr_begend(regex_a, regex_b, eod_str)\n",
    "regex_i = r\"[\\n\\s]\\(i\\)\"\n",
    "bullet_a_dict['opening'] = scrape.pullsubstr_beg_regex(regex_i, eod_bulla_str)   #add opening section for bullet point a\n",
    "# add roman bullet points \n",
    "bullet_a_dict['roman_bullets'] = scrape.list_btn_loc_regexlist_keepbullet(eod_bulla_str, len(eod_bulla_str), roman_regex_list) "
   ]
  },
  {
   "cell_type": "code",
   "execution_count": 44,
   "metadata": {},
   "outputs": [],
   "source": [
    "# append bullet point a back to letter \n",
    "letter_bullets.append(bullet_a_dict)"
   ]
  },
  {
   "cell_type": "code",
   "execution_count": 45,
   "metadata": {},
   "outputs": [],
   "source": [
    "# Add bullets (b) - (g) \n",
    "regex_bullend = r'\\nUpon obtaining knowledge of'\n",
    "bullreg_str = scrape.pullsubstr_begend(regex_b, regex_bullend, eod_str)"
   ]
  },
  {
   "cell_type": "code",
   "execution_count": 46,
   "metadata": {},
   "outputs": [],
   "source": [
    "alpha_regex_list = [r\"[\\n\\s]\\(b\\)\", r\"[\\n\\s]\\(c\\)\", r\"[\\n\\s]\\(d\\)\", r\"[\\n\\s]\\(e\\)\", \n",
    "                    r\"[\\n\\s]\\(f\\)\", r\"[\\n\\s]\\(g\\)\", r\"[\\n\\s]\\(h\\)\"]\n",
    "letter_bullets_a = scrape.list_btn_loc_regexlist_keepbullet(bullreg_str, len(bullreg_str), alpha_regex_list)\n",
    "# combine letter bullets into one list, then \n",
    "letter_bullets = letter_bullets + letter_bullets_a"
   ]
  },
  {
   "cell_type": "code",
   "execution_count": 47,
   "metadata": {},
   "outputs": [],
   "source": [
    "# add letter bullets to EOD dictionary\n",
    "eod_dict['letter_bullets'] = letter_bullets"
   ]
  },
  {
   "cell_type": "code",
   "execution_count": 48,
   "metadata": {},
   "outputs": [],
   "source": [
    "# process closing paragraph\n",
    "closing_dict = {}\n",
    "closing = scrape.pullsubstr_mid2end(regex_bullend, eod_str)  #full closing paragraph\n",
    "closing_dict['opening_sec'] = scrape.pullsubstr_beg_regex(regex_i, closing)"
   ]
  },
  {
   "cell_type": "code",
   "execution_count": 49,
   "metadata": {},
   "outputs": [],
   "source": [
    "# Identify end of roman bullet section and create substring\n",
    "regex_bullend2 = r'Upon \\nthe occurrence'\n",
    "closing_pt1_str = scrape.pullsubstr_begend(regex_bullend, regex_bullend2, closing)\n",
    "closing_end_str = scrape.pullsubstr_mid2end(regex_bullend2, closing)"
   ]
  },
  {
   "cell_type": "code",
   "execution_count": 50,
   "metadata": {},
   "outputs": [],
   "source": [
    "# add roman bullets and closing paragraph to dictionary for closing paragraph. \n",
    "roman_bullets_close = scrape.list_btn_loc_regexlist_keepbullet(closing_pt1_str, len(closing_pt1_str), roman_regex_list)\n",
    "closing_dict['roman_bullets'] = roman_bullets_close\n",
    "closing_dict['closing_sec'] = closing_end_str"
   ]
  },
  {
   "cell_type": "code",
   "execution_count": 51,
   "metadata": {},
   "outputs": [],
   "source": [
    "# add closing_dict to EOD definition and update def_dict \n",
    "eod_dict['closing_sec'] = closing_dict\n",
    "def_dict['Event of Default']['def_values'] = eod_dict"
   ]
  },
  {
   "cell_type": "code",
   "execution_count": 52,
   "metadata": {},
   "outputs": [
    {
     "data": {
      "text/plain": [
       "{'opening_sec': '\\nSection 5.1  Events  of  Default.    “Event  of  Default,”  wherever  used  herein, \\nmeans any one of the following events (whatever the reason for such Event of Default and \\nwhether it shall be voluntary or involuntary or be effected by operation of law or pursuant to any \\njudgment, decree or order of any court or any order, rule or regulation of any administrative or \\ngovernmental body): ',\n",
       " 'letter_bullets': [{'opening': '\\n(a)  a default in the payment, when due and payable, of',\n",
       "   'roman_bullets': [' (i) any interest on \\nany  Senior  Note  or,  if  there  are  no  Senior  Notes  Outstanding,  any  Secured  Note  of  the \\nControlling Class and the continuation of any such default for five Business Days o',\n",
       "    ' (ii) any \\nprincipal, interest, or Deferred Interest on, or any Redemption Price in respect of, any Secured \\nNote at its Stated Maturity or any Redemption Date, and, in the case of the Redemption Price, \\nif such failure resulted solely from an administrative error or omission by the Trustee, the \\n  -114-  \\nCollateral Administrator, the Paying Agent or the Portfolio Manager, the continuation of any \\nsuch default for five Business Days; ']},\n",
       "  '\\n(b)  unless  legally  required  or  permitted  to  withhold  such  amounts,  the \\nfailure  on  any  Payment  Date  to  disburse  amounts  available  in  excess  of  $10,000  in  the \\nPayment Account in accordance with the Priority of Payments and continuation of such failure \\nfor a period of 10 Business Days after such failure is actually known to a Trust Officer of the \\nTrustee;',\n",
       "  '\\n(c)  either of the Co-Issuers or the pool of collateral becomes an investment \\ncompany required to be registered under the Investment Company Act and that status continues \\nunremedied for 45 days;',\n",
       "  '\\n(d)  except as otherwise provided in this Section 5.1 (Events of Default), a \\ndefault, in a material respect (as determined by a Majority of the Controlling Class), in the \\nperformance, or breach, in a material respect (as determined by a Majority of the Controlling \\nClass), of any other covenant or other agreement of the Issuer or the Co-Issuer in this Indenture \\n(it being understood, without limiting the generality of the foregoing, that any failure to meet \\nthe Interest Reinvestment Test or any Concentration Limitation, Collateral Quality Test or \\nCoverage Test is not an Event of Default except to the extent provided in claus',\n",
       "  ' (e) below), or \\nthe failure of any representation or warranty of the Issuer or the Co-Issuer made in this \\nIndenture or in any certificate or other writing delivered pursuant hereto or in connection \\nherewith to be correct in all material respects when the same shall have been made, and the \\ncontinuation of such default, breach or failure for a period of 30 days after notice to the \\nApplicable Issuers and the Portfolio Manager by registered or certified mail or overnight \\ncourier, by the Trustee, or to the Applicable Issuers, the Portfolio Manager and the Trustee by a \\nMajority of the Controlling Class, specifying such default, breach or failure and requiring it to \\nbe remedied and stating that such notice is a “Notice of Default” hereunder; \\n(e)  on  any  Measurement  Date,  failure  of  the  quotient  of  the  Collateral \\nPrincipal  Amount  (plus  the  Market  Value  of  each  Defaulted  Obligation)  divided  by  the \\nAggregate Outstanding Amount of the Class A-1 Notes (such ratio, the “Event of Default Par \\nRatio”) to equal or exceed 102.5%;',\n",
       "  '\\n(f)  the entry of a decree or order by a court having competent jurisdiction \\nadjudging the Issuer or the Co-Issuer as bankrupt or insolvent, or approving as properly filed a \\npetition seeking reorganization, arrangement, adjustment or composition of or in respect of the \\nIssuer or the Co-Issuer under the Bankruptcy Law or any other applicable law, or appointing a \\nreceiver, liquidator, assignee, or sequestrator (or other similar official) of the Issuer or the \\nCo-Issuer or of any substantial part of its property, respectively, or ordering the winding up or \\nliquidation of its affairs, and the continuance of any such decree or order unstayed and in effect \\nfor a period of 60 consecutive days; or',\n",
       "  '\\n(g)  the institution by the shareholders of the Issuer or the Co-Issuer of \\nProceedings to have the Issuer or Co-Issuer, as the case may be, adjudicated as bankrupt or \\ninsolvent, or the consent by the shareholders of the Issuer or the Co-Issuer to the institution of \\nbankruptcy or insolvency Proceedings against the Issuer or Co-Issuer, or the filing by the \\n  -115-  \\nIssuer or the Co-Issuer of a petition or answer or consent seeking reorganization or relief under \\nthe Bankruptcy Law or any other similar applicable law, or the consent by the Issuer or the \\nCo-Issuer to the filing of any such petition or to the appointment of a receiver, liquidator, \\nassignee, trustee or sequestrator (or other similar official) of the Issuer or the Co-Issuer or of \\nany substantial part of its property, respectively, or the making by the Issuer or the Co-Issuer of \\nan assignment for the benefit of creditors, or the taking of any action by the Issuer or the \\nCo-Issuer  in  furtherance  of  any  such  action  or  the  shareholders  of  the  Issuer  passing  a \\nresolution to have the Issuer wound up on a voluntary basis. '],\n",
       " 'closing_sec': {'opening_sec': '\\nUpon obtaining knowledge of the occurrence of an Event of Default (in the case \\nof the Trustee, subject to Section 6.1(d) (Certain Duties and Responsibilities) hereof), each of ',\n",
       "  'roman_bullets': ['\\n(i) the Co-Issuers',\n",
       "   ' (ii) the Trustee an',\n",
       "   ' (iii) the Portfolio Manager shall notify each other.  '],\n",
       "  'closing_sec': 'Upon \\nthe occurrence of an Event of Default actually known to a Trust Officer of the Trustee, the \\nTrustee shall promptly notify each Hedge Counterparty, the Holders, each Paying Agent, DTC, \\neach of the Rating Agencies and the Irish Listing Agent (for so long as any Class is listed on the \\nIrish Stock Exchange and so long as the guidelines of such exchange so require) of such Event of \\nDefault in writing (unless such Event of Default has been waived as provided in Section 5.14 \\n(Waiver of Past Defaults)). '}}"
      ]
     },
     "execution_count": 52,
     "metadata": {},
     "output_type": "execute_result"
    }
   ],
   "source": [
    "def_dict['Event of Default']['def_values']"
   ]
  },
  {
   "cell_type": "markdown",
   "metadata": {},
   "source": [
    "### Process Concentration Limitations.\n",
    "Country Limitations table shows up in the list <br> \n",
    "```def_dict['Concentration Limitations']['def_values']['bullet_level1']``` <br> \n",
    "at the second element. We will replace this list as follows: <br> \n",
    "1. create ```cl_list``` to house bullet points, and append first bullet point. \n",
    "2. create new dictionary for 2nd bullet, ```cl_2ndbull``` which contains the tables and sub paragraphs. \n",
    "3. Process table \n",
    "3. append ```cl_2ndbull``` into ```cl_list```\n",
    "4. append rest of bullet points. "
   ]
  },
  {
   "cell_type": "code",
   "execution_count": 53,
   "metadata": {},
   "outputs": [],
   "source": [
    "cl_list = []\n",
    "cl_list.append(def_dict['Concentration Limitations']['def_values']['bullet_level1'][0])"
   ]
  },
  {
   "cell_type": "code",
   "execution_count": 54,
   "metadata": {},
   "outputs": [],
   "source": [
    "# isolate second bullet point\n",
    "conclim_ctry_str = def_dict['Concentration Limitations']['def_values']['bullet_level1'][1]\n",
    "regex = r\"\\n\\d+%\"   # we use '+' instead of '*' to only keep row values and not the column header (which will be defined later)\n",
    "list_ranges = scrape.text_match_2list(regex, conclim_ctry_str)  # grab locations of percentages. "
   ]
  },
  {
   "cell_type": "code",
   "execution_count": 55,
   "metadata": {},
   "outputs": [],
   "source": [
    "# add country list\n",
    "cntry_list = scrape.list_betweenloc_to_string_bounded(list_ranges, conclim_ctry_str, len(conclim_ctry_str))\n",
    "cntry_list = [x[0:x.find(';')] for x in cntry_list]  #only keep string before ';'\n",
    "cntry_list = scrape.str_item_cleanup(cntry_list)  #remove newlines and leading whitespace"
   ]
  },
  {
   "cell_type": "code",
   "execution_count": 56,
   "metadata": {},
   "outputs": [
    {
     "data": {
      "text/html": [
       "<div>\n",
       "<style scoped>\n",
       "    .dataframe tbody tr th:only-of-type {\n",
       "        vertical-align: middle;\n",
       "    }\n",
       "\n",
       "    .dataframe tbody tr th {\n",
       "        vertical-align: top;\n",
       "    }\n",
       "\n",
       "    .dataframe thead th {\n",
       "        text-align: right;\n",
       "    }\n",
       "</style>\n",
       "<table border=\"1\" class=\"dataframe\">\n",
       "  <thead>\n",
       "    <tr style=\"text-align: right;\">\n",
       "      <th></th>\n",
       "      <th>Limit(%)</th>\n",
       "      <th>Country</th>\n",
       "    </tr>\n",
       "  </thead>\n",
       "  <tbody>\n",
       "    <tr>\n",
       "      <th>0</th>\n",
       "      <td>20%</td>\n",
       "      <td>All countries (in the aggregate) other than th...</td>\n",
       "    </tr>\n",
       "    <tr>\n",
       "      <th>1</th>\n",
       "      <td>20%</td>\n",
       "      <td>Canada</td>\n",
       "    </tr>\n",
       "    <tr>\n",
       "      <th>2</th>\n",
       "      <td>10%</td>\n",
       "      <td>Any individual Group I Country</td>\n",
       "    </tr>\n",
       "    <tr>\n",
       "      <th>3</th>\n",
       "      <td>5%</td>\n",
       "      <td>All Group II Countries in the aggregate</td>\n",
       "    </tr>\n",
       "    <tr>\n",
       "      <th>4</th>\n",
       "      <td>5%</td>\n",
       "      <td>Any individual Group II Country</td>\n",
       "    </tr>\n",
       "  </tbody>\n",
       "</table>\n",
       "</div>"
      ],
      "text/plain": [
       "  Limit(%)                                            Country\n",
       "0      20%  All countries (in the aggregate) other than th...\n",
       "1      20%                                             Canada\n",
       "2      10%                     Any individual Group I Country\n",
       "3       5%            All Group II Countries in the aggregate\n",
       "4       5%                    Any individual Group II Country"
      ]
     },
     "execution_count": 56,
     "metadata": {},
     "output_type": "execute_result"
    },
    {
     "data": {
      "text/plain": [
       "(12, 2)"
      ]
     },
     "execution_count": 56,
     "metadata": {},
     "output_type": "execute_result"
    }
   ],
   "source": [
    "# Create table from two lists\n",
    "conc_table = pd.DataFrame([conclim_ctry_str[x[0]+1:x[1]] for x in list_ranges])  #create table from \n",
    "conc_table['Country'] = cntry_list\n",
    "conc_table.columns = ['Limit(%)','Country']\n",
    "conc_table.head()\n",
    "conc_table.shape"
   ]
  },
  {
   "cell_type": "code",
   "execution_count": 57,
   "metadata": {},
   "outputs": [],
   "source": [
    "# create dictionary for second bullet point \n",
    "cl_2ndbull = {}\n",
    "search_string = '\\n% Limit'   # table starts at the string '% Limit'\n",
    "search_string_close = 'Cayman Islands;'   # table starts at the string '% Limit'\n",
    "cl_2ndbull['opening_sec'] = scrape.pullsubstr_beg_regex(search_string, conclim_ctry_str)\n",
    "cl_2ndbull['table'] = conc_table   # add table \n",
    "cl_2ndbull['closing_sec'] = scrape.pullsubstr_mid2end(search_string_close, conclim_ctry_str)"
   ]
  },
  {
   "cell_type": "code",
   "execution_count": 58,
   "metadata": {},
   "outputs": [
    {
     "data": {
      "text/plain": [
       "[None, None, None, None, None, None, None, None, None, None]"
      ]
     },
     "execution_count": 58,
     "metadata": {},
     "output_type": "execute_result"
    }
   ],
   "source": [
    "# append dictionary as second element to bullet_list, then rest of bullet points \n",
    "cl_list.append(cl_2ndbull)\n",
    "[cl_list.append(x) for x in def_dict['Concentration Limitations']['def_values']['bullet_level1'][2:12]]"
   ]
  },
  {
   "cell_type": "code",
   "execution_count": 59,
   "metadata": {},
   "outputs": [
    {
     "data": {
      "text/plain": [
       "{'opening_sec': '  Limitations satisfied if, as of any Measurement \\nDate, for so long as each test is applicable, the Collateral Obligations owned (or in relation to a \\nproposed purchase of a Collateral Obligation, proposed to be owned) by the Issuer satisfy each of \\nthe tests set forth below, calculated in each case as required by Section 1.2 (Assumptions as to \\nPledged Obligations) herein: ',\n",
       " 'bullet_level1': ['\\n(i)  all of the Collateral Obligations must be issued by Non-Emerging \\nMarket Obligors;',\n",
       "  {'opening_sec': '\\n(ii)  no  more  than  the  percentage  listed  below  of  the  Collateral \\nPrincipal  Amount  may  be  issued  by  Obligors  Domiciled  in  the  country  or \\ncountries set forth opposite such percentage: ',\n",
       "   'table':    Limit(%)                                            Country\n",
       "   0       20%  All countries (in the aggregate) other than th...\n",
       "   1       20%                                             Canada\n",
       "   2       10%                     Any individual Group I Country\n",
       "   3        5%            All Group II Countries in the aggregate\n",
       "   4        5%                    Any individual Group II Country\n",
       "   5       10%           All Group III Countries in the aggregate\n",
       "   6        5%  Any individual Group III Country (other than L...\n",
       "   7        5%  All countries (in the aggregate) other than th...\n",
       "   8        5%  Any individual country other than the United S...\n",
       "   9        5%                                            Bermuda\n",
       "   10       5%                             British Virgin Islands\n",
       "   11       5%                                     Cayman Islands,\n",
       "   'closing_sec': 'Cayman Islands; \\nprovided, however, (x) not more than 10% of the Collateral Principal Amount may consist of \\nCollateral  Obligations  issued  by  Obligors  for  which  Domicile  is  determined  pursuant  to \\nclause (ii) of the definition thereof and (y) not more than 10% of the Collateral Principal Amount \\nmay consist of Collateral Obligations issued by obligors for which Domicile is in a country other \\n  -17-  \\nthan the United States with a Moody’s country ceiling for foreign currency bonds of below \\n“Aa3”;'},\n",
       "  '\\n(iii)  the unfunded and funded commitments under Delayed Drawdown \\nCollateral  Obligations  and  the  unfunded  and  funded  commitments  under \\nRevolving Collateral Obligations may not be more than 10% of the Collateral \\nPrincipal Amount;',\n",
       "  '\\n(iv)  not less than 96% of the Collateral Principal Amount may consist \\nof Senior Secured Loans;',\n",
       "  '\\n(v)  not less than 95% of the Collateral Principal Amount may consist \\nof Floating Rate Obligations;',\n",
       "  '\\n(vi)  not more than 10% of the Collateral Principal Amount may consist \\nof Participation Interests and the Moody’s Counterparty Criteria must be satisfied;',\n",
       "  '\\n(vii)  not more than 5% of the Collateral Principal Amount may consist \\nof Partial Deferrable Obligations;',\n",
       "  '\\n(viii)  not  more  than  7.5%  of  the  Collateral  Principal  Amount  may \\nconsist of DIP Collateral Obligations;',\n",
       "  '\\n(ix)  not more than 2% of the Collateral Principal Amount may consist \\nof obligations issued by a single Obligor, except that up to 2.5% of the Collateral \\nPrincipal Amount may consist of obligations issued by each of up to five Obligors \\nand  no  more  than  1%  of  the  Collateral  Principal  Amount  may  consist  of \\nobligations that are not Senior Secured Loans and are issued by a single Obligor;',\n",
       "  '\\n(x)  not  more  than  7.5%  of  the  Collateral  Principal  Amount  may \\nconsist of Caa Collateral Obligations and not more than 7.5% of the Collateral \\nPrincipal Amount may consist of CCC Collateral Obligations;',\n",
       "  '\\n(xi)  not more than 10% of the Collateral Principal Amount may consist \\nof Collateral Obligations with a Moody’s Rating derived from an S&P rating as \\nprovided  in  clause (A)(1),  (2)  or  (3)  of  the  definition  of  the  term  “Moody’s \\nDerived Rating”;',\n",
       "  '\\n(xii)  not more than 10% of the Collateral Principal Amount may consist \\nof Collateral Obligations with an S&P Rating derived from a Moody’s rating;']}"
      ]
     },
     "execution_count": 59,
     "metadata": {},
     "output_type": "execute_result"
    }
   ],
   "source": [
    "# update central dicionary bullet values\n",
    "def_dict['Concentration Limitations']['def_values']['bullet_level1'] = cl_list\n",
    "def_dict['Concentration Limitations']['def_values']"
   ]
  },
  {
   "cell_type": "markdown",
   "metadata": {},
   "source": [
    "### Moody's Recovery Rate\n",
    "Contains both bullet points and table at end of bullet point (b). Use tabula to extract table and customer functions to process table. "
   ]
  },
  {
   "cell_type": "code",
   "execution_count": 60,
   "metadata": {},
   "outputs": [
    {
     "data": {
      "text/plain": [
       "{'page_num': 51,\n",
       " 'roman_loc1': 0,\n",
       " 'letter_loc1': 187,\n",
       " 'def_values': {'opening_sec': '  With respect to any Collateral Obligation, as of any \\ndate of determination, will be the recovery rate determined in accordance with the following, in \\nthe following order of priority: ',\n",
       "  'bullet_level1': ['\\n(a)  if the Collateral Obligation has been specifically assigned a recovery rate \\nby Moody’s (for example, in connection with the assignment by Moody’s of an estimated \\nrating), such recovery rate;',\n",
       "   '\\n(b)  if the preceding clause does not apply to the Collateral Obligation (other \\nthan a DIP Collateral Obligation), the rate determined pursuant to the table below based \\non the number of rating subcategories difference between the Collateral Obligation’s \\nMoody’s  Rating  and  its  Moody’s  Default  Probability  Rating  (for  purposes  of \\nclarification,  if  the  Moody’s  Rating  is  higher  than  the  Moody’s  Default  Probability \\nRating, the rating subcategories difference will be positive and if it is lower, negative): \\n  -44-  \\nNumber of Moody’s Ratings \\nSubcategories Difference \\nBetween the Moody’s Rating \\nand the Moody’s Default  Moody’s Senior  Moody’s Second Lien  All other Collateral \\nProbability Rating  Secured Loans  Loans  Obligations \\n+2 or more ..................................   60.0%  55.0%  45.0% \\n+1 ................................................   50.0%  45.0%  35.0% \\n0  ................................................   45.0%  35.0%  30.0% \\n-1  ................................................   40.0%  25.0%  25.0% \\n-2  ................................................   30.0%  15.0%  15.0% \\n-3 or less .....................................   20.0%  5.0%  5.0%',\n",
       "   '\\n(c)  if the loan is a DIP Collateral Obligation, 50%. ']}}"
      ]
     },
     "execution_count": 60,
     "metadata": {},
     "output_type": "execute_result"
    }
   ],
   "source": [
    "def_dict['Moody’s Recovery Rate']"
   ]
  },
  {
   "cell_type": "code",
   "execution_count": 61,
   "metadata": {},
   "outputs": [],
   "source": [
    "# import table\n",
    "data = tabula.read_pdf('OHA XII Indenture.pdf', \n",
    "                       multiple_tables=True, pages=list(np.arange(51,53)))"
   ]
  },
  {
   "cell_type": "markdown",
   "metadata": {},
   "source": [
    "Tabula download shows first row as title. Run custom function to shift title into first row, and supply new column headings. "
   ]
  },
  {
   "cell_type": "code",
   "execution_count": 62,
   "metadata": {},
   "outputs": [],
   "source": [
    "# Moody's Recovery Rate table on second page of import. \n",
    "col_names = ['Diff_MdyRating_MPDF','Mdys_Sr_Sec_Loans','Mdys_2nd_Lien','All_Other']\n",
    "mdy_rec = scrape.shift_colnames_1strow(data[1], col_names)"
   ]
  },
  {
   "cell_type": "code",
   "execution_count": 63,
   "metadata": {},
   "outputs": [
    {
     "data": {
      "text/html": [
       "<div>\n",
       "<style scoped>\n",
       "    .dataframe tbody tr th:only-of-type {\n",
       "        vertical-align: middle;\n",
       "    }\n",
       "\n",
       "    .dataframe tbody tr th {\n",
       "        vertical-align: top;\n",
       "    }\n",
       "\n",
       "    .dataframe thead th {\n",
       "        text-align: right;\n",
       "    }\n",
       "</style>\n",
       "<table border=\"1\" class=\"dataframe\">\n",
       "  <thead>\n",
       "    <tr style=\"text-align: right;\">\n",
       "      <th></th>\n",
       "      <th>Diff_MdyRating_MPDF</th>\n",
       "      <th>Mdys_Sr_Sec_Loans</th>\n",
       "      <th>Mdys_2nd_Lien</th>\n",
       "      <th>All_Other</th>\n",
       "    </tr>\n",
       "  </thead>\n",
       "  <tbody>\n",
       "    <tr>\n",
       "      <th>0</th>\n",
       "      <td>+2 or more ..................................</td>\n",
       "      <td>60.0%</td>\n",
       "      <td>55.0%</td>\n",
       "      <td>45.0%</td>\n",
       "    </tr>\n",
       "    <tr>\n",
       "      <th>1</th>\n",
       "      <td>+1 ..............................................</td>\n",
       "      <td>50.0%</td>\n",
       "      <td>45.0%</td>\n",
       "      <td>35.0%</td>\n",
       "    </tr>\n",
       "    <tr>\n",
       "      <th>2</th>\n",
       "      <td>0  ..............................................</td>\n",
       "      <td>45.0%</td>\n",
       "      <td>35.0%</td>\n",
       "      <td>30.0%</td>\n",
       "    </tr>\n",
       "    <tr>\n",
       "      <th>3</th>\n",
       "      <td>-1 ..............................................</td>\n",
       "      <td>40.0%</td>\n",
       "      <td>25.0%</td>\n",
       "      <td>25.0%</td>\n",
       "    </tr>\n",
       "    <tr>\n",
       "      <th>4</th>\n",
       "      <td>-2 ..............................................</td>\n",
       "      <td>30.0%</td>\n",
       "      <td>15.0%</td>\n",
       "      <td>15.0%</td>\n",
       "    </tr>\n",
       "    <tr>\n",
       "      <th>5</th>\n",
       "      <td>-3 or less .....................................</td>\n",
       "      <td>20.0%</td>\n",
       "      <td>5.0%</td>\n",
       "      <td>5.0%</td>\n",
       "    </tr>\n",
       "  </tbody>\n",
       "</table>\n",
       "</div>"
      ],
      "text/plain": [
       "                                 Diff_MdyRating_MPDF Mdys_Sr_Sec_Loans  \\\n",
       "0      +2 or more ..................................             60.0%   \n",
       "1  +1 ..............................................             50.0%   \n",
       "2  0  ..............................................             45.0%   \n",
       "3  -1 ..............................................             40.0%   \n",
       "4  -2 ..............................................             30.0%   \n",
       "5   -3 or less .....................................             20.0%   \n",
       "\n",
       "  Mdys_2nd_Lien All_Other  \n",
       "0         55.0%     45.0%  \n",
       "1         45.0%     35.0%  \n",
       "2         35.0%     30.0%  \n",
       "3         25.0%     25.0%  \n",
       "4         15.0%     15.0%  \n",
       "5          5.0%      5.0%  "
      ]
     },
     "execution_count": 63,
     "metadata": {},
     "output_type": "execute_result"
    }
   ],
   "source": [
    "mdy_rec"
   ]
  },
  {
   "cell_type": "markdown",
   "metadata": {},
   "source": [
    "**Process rest of Moody's Recovery Rate Definition** <br>\n",
    " 1. Create new list for ```bullet_level``` which houses current bullet points. \n",
    " 2. For bullet (b), create dictionary ```bull_bdict``` with opening and table sections. \n",
    " 3. Append (a) and ```bullet_bdict``` to  bullet_level list\n",
    " 4. update bullet_level1 with ```bullet_level``` dict"
   ]
  },
  {
   "cell_type": "code",
   "execution_count": 64,
   "metadata": {},
   "outputs": [],
   "source": [
    "b_str = def_dict['Moody’s Recovery Rate']['def_values']['bullet_level1'][1]   # isolate bullet pt (b) \n",
    "bull_bdict = {}\n",
    "regex = r'\\n\\+2 or more'\n",
    "bull_bdict['opening_sec'] = scrape.pullsubstr_beg_regex(regex, b_str)   # populate section before table "
   ]
  },
  {
   "cell_type": "code",
   "execution_count": 65,
   "metadata": {},
   "outputs": [],
   "source": [
    "# add table to bullet pt (b) \n",
    "bull_bdict['table'] = mdy_rec"
   ]
  },
  {
   "cell_type": "code",
   "execution_count": 66,
   "metadata": {},
   "outputs": [],
   "source": [
    "bullet_list = []\n",
    "bullet_list.append(def_dict['Moody’s Recovery Rate']['def_values']['bullet_level1'][0])\n",
    "bullet_list.append(bull_bdict)"
   ]
  },
  {
   "cell_type": "code",
   "execution_count": 67,
   "metadata": {},
   "outputs": [
    {
     "data": {
      "text/plain": [
       "{'opening_sec': '  With respect to any Collateral Obligation, as of any \\ndate of determination, will be the recovery rate determined in accordance with the following, in \\nthe following order of priority: ',\n",
       " 'bullet_level1': ['\\n(a)  if the Collateral Obligation has been specifically assigned a recovery rate \\nby Moody’s (for example, in connection with the assignment by Moody’s of an estimated \\nrating), such recovery rate;',\n",
       "  {'opening_sec': '\\n(b)  if the preceding clause does not apply to the Collateral Obligation (other \\nthan a DIP Collateral Obligation), the rate determined pursuant to the table below based \\non the number of rating subcategories difference between the Collateral Obligation’s \\nMoody’s  Rating  and  its  Moody’s  Default  Probability  Rating  (for  purposes  of \\nclarification,  if  the  Moody’s  Rating  is  higher  than  the  Moody’s  Default  Probability \\nRating, the rating subcategories difference will be positive and if it is lower, negative): \\n  -44-  \\nNumber of Moody’s Ratings \\nSubcategories Difference \\nBetween the Moody’s Rating \\nand the Moody’s Default  Moody’s Senior  Moody’s Second Lien  All other Collateral \\nProbability Rating  Secured Loans  Loans  Obligations ',\n",
       "   'table':                                  Diff_MdyRating_MPDF Mdys_Sr_Sec_Loans  \\\n",
       "   0      +2 or more ..................................             60.0%   \n",
       "   1  +1 ..............................................             50.0%   \n",
       "   2  0  ..............................................             45.0%   \n",
       "   3  -1 ..............................................             40.0%   \n",
       "   4  -2 ..............................................             30.0%   \n",
       "   5   -3 or less .....................................             20.0%   \n",
       "   \n",
       "     Mdys_2nd_Lien All_Other  \n",
       "   0         55.0%     45.0%  \n",
       "   1         45.0%     35.0%  \n",
       "   2         35.0%     30.0%  \n",
       "   3         25.0%     25.0%  \n",
       "   4         15.0%     15.0%  \n",
       "   5          5.0%      5.0%  }]}"
      ]
     },
     "execution_count": 67,
     "metadata": {},
     "output_type": "execute_result"
    }
   ],
   "source": [
    "# update bullet level of central dictionary \n",
    "def_dict['Moody’s Recovery Rate']['def_values']['bullet_level1'] = bullet_list\n",
    "def_dict['Moody’s Recovery Rate']['def_values']"
   ]
  },
  {
   "cell_type": "markdown",
   "metadata": {},
   "source": [
    "### Table Processing\n",
    "1. Process all tables.\n",
    "2. Add tables into relevant portion of ```def_dict```. "
   ]
  },
  {
   "cell_type": "code",
   "execution_count": 68,
   "metadata": {},
   "outputs": [],
   "source": [
    "df_tables = tabula.read_pdf('OHA XII Indenture.pdf', \n",
    "                       multiple_tables=True, pages=list(np.arange(13,85)))"
   ]
  },
  {
   "cell_type": "markdown",
   "metadata": {},
   "source": [
    "**Aggregate Risk Adjustd Par Amount** <br> \n",
    "1. First Row treated as title. \n",
    "2. 1/2nd columns and 3rd/4th columns are the same. split them and concatenate into two columns. "
   ]
  },
  {
   "cell_type": "code",
   "execution_count": 69,
   "metadata": {},
   "outputs": [
    {
     "name": "stdout",
     "output_type": "stream",
     "text": [
      "sample table for Agg Risk Adjusted Par\n"
     ]
    },
    {
     "data": {
      "text/html": [
       "<div>\n",
       "<style scoped>\n",
       "    .dataframe tbody tr th:only-of-type {\n",
       "        vertical-align: middle;\n",
       "    }\n",
       "\n",
       "    .dataframe tbody tr th {\n",
       "        vertical-align: top;\n",
       "    }\n",
       "\n",
       "    .dataframe thead th {\n",
       "        text-align: right;\n",
       "    }\n",
       "</style>\n",
       "<table border=\"1\" class=\"dataframe\">\n",
       "  <thead>\n",
       "    <tr style=\"text-align: right;\">\n",
       "      <th></th>\n",
       "      <th>1</th>\n",
       "      <th>0.00</th>\n",
       "      <th>23</th>\n",
       "      <th>20,750,383.68</th>\n",
       "    </tr>\n",
       "  </thead>\n",
       "  <tbody>\n",
       "    <tr>\n",
       "      <th>0</th>\n",
       "      <td>2</td>\n",
       "      <td>1,920,000.00</td>\n",
       "      <td>24</td>\n",
       "      <td>21,638,566.43</td>\n",
       "    </tr>\n",
       "    <tr>\n",
       "      <th>1</th>\n",
       "      <td>3</td>\n",
       "      <td>2,837,056.00</td>\n",
       "      <td>25</td>\n",
       "      <td>22,506,108.58</td>\n",
       "    </tr>\n",
       "  </tbody>\n",
       "</table>\n",
       "</div>"
      ],
      "text/plain": [
       "   1          0.00  23  20,750,383.68\n",
       "0  2  1,920,000.00  24  21,638,566.43\n",
       "1  3  2,837,056.00  25  22,506,108.58"
      ]
     },
     "execution_count": 69,
     "metadata": {},
     "output_type": "execute_result"
    }
   ],
   "source": [
    "print(\"sample table for Agg Risk Adjusted Par\")\n",
    "df_tables[0].iloc[0:2]"
   ]
  },
  {
   "cell_type": "code",
   "execution_count": 70,
   "metadata": {},
   "outputs": [
    {
     "data": {
      "text/html": [
       "<div>\n",
       "<style scoped>\n",
       "    .dataframe tbody tr th:only-of-type {\n",
       "        vertical-align: middle;\n",
       "    }\n",
       "\n",
       "    .dataframe tbody tr th {\n",
       "        vertical-align: top;\n",
       "    }\n",
       "\n",
       "    .dataframe thead th {\n",
       "        text-align: right;\n",
       "    }\n",
       "</style>\n",
       "<table border=\"1\" class=\"dataframe\">\n",
       "  <thead>\n",
       "    <tr style=\"text-align: right;\">\n",
       "      <th></th>\n",
       "      <th>Int_Accrual_Period</th>\n",
       "      <th>ARAP</th>\n",
       "    </tr>\n",
       "  </thead>\n",
       "  <tbody>\n",
       "    <tr>\n",
       "      <th>0</th>\n",
       "      <td>1</td>\n",
       "      <td>0.00</td>\n",
       "    </tr>\n",
       "    <tr>\n",
       "      <th>1</th>\n",
       "      <td>2</td>\n",
       "      <td>1,920,000.00</td>\n",
       "    </tr>\n",
       "    <tr>\n",
       "      <th>2</th>\n",
       "      <td>3</td>\n",
       "      <td>2,837,056.00</td>\n",
       "    </tr>\n",
       "    <tr>\n",
       "      <th>3</th>\n",
       "      <td>4</td>\n",
       "      <td>3,752,705.85</td>\n",
       "    </tr>\n",
       "    <tr>\n",
       "      <th>4</th>\n",
       "      <td>5</td>\n",
       "      <td>4,647,076.79</td>\n",
       "    </tr>\n",
       "  </tbody>\n",
       "</table>\n",
       "</div>"
      ],
      "text/plain": [
       "  Int_Accrual_Period          ARAP\n",
       "0                  1          0.00\n",
       "1                  2  1,920,000.00\n",
       "2                  3  2,837,056.00\n",
       "3                  4  3,752,705.85\n",
       "4                  5  4,647,076.79"
      ]
     },
     "execution_count": 70,
     "metadata": {},
     "output_type": "execute_result"
    },
    {
     "data": {
      "text/plain": [
       "(44, 2)"
      ]
     },
     "execution_count": 70,
     "metadata": {},
     "output_type": "execute_result"
    }
   ],
   "source": [
    "col_names = ['Period1','Par1','Period2','Par2']\n",
    "aggrisk = scrape.shift_colnames_1strow(df_tables[0], col_names)  # shifts columns down into first row \n",
    "aggrisk1 = aggrisk[['Period1', 'Par1']]\n",
    "aggrisk2 = aggrisk[['Period2','Par2']]\n",
    "aggrisk1.columns = aggrisk2.columns = ['Int_Accrual_Period','ARAP']\n",
    "aggrisk = pd.concat([aggrisk1, aggrisk2],axis=0).reset_index(drop=True) \n",
    "aggrisk.head() \n",
    "aggrisk.shape"
   ]
  },
  {
   "cell_type": "markdown",
   "metadata": {},
   "source": [
    "Add back into def_dictionary"
   ]
  },
  {
   "cell_type": "code",
   "execution_count": 71,
   "metadata": {},
   "outputs": [],
   "source": [
    "tbl_str = def_dict['Aggregate Risk Adjusted Par Amount']['def_values']\n",
    "regex = r'\\nAggregate'\n",
    "def_dict['Aggregate Risk Adjusted Par Amount']['def_values'] = scrape.pop_tbldict(aggrisk, tbl_str, regex)"
   ]
  },
  {
   "cell_type": "code",
   "execution_count": 72,
   "metadata": {},
   "outputs": [
    {
     "data": {
      "text/plain": [
       "{'page_num': 14,\n",
       " 'roman_loc1': 0,\n",
       " 'letter_loc1': 0,\n",
       " 'def_values': {'opening_sec': '  The amount specified below for the \\napplicable Interest Accrual Period (listed sequentially, starting with the Interest Accrual Period \\ncommencing on the Closing Date): ',\n",
       "  'table':    Int_Accrual_Period           ARAP\n",
       "  0                   1           0.00\n",
       "  1                   2   1,920,000.00\n",
       "  2                   3   2,837,056.00\n",
       "  3                   4   3,752,705.85\n",
       "  4                   5   4,647,076.79\n",
       "  5                   6   5,550,028.72\n",
       "  6                   7   6,461,518.68\n",
       "  7                   8   7,371,611.02\n",
       "  8                   9   8,260,553.60\n",
       "  9                  10   9,158,025.09\n",
       "  10                 11  10,063,982.79\n",
       "  11                 12  10,968,551.35\n",
       "  12                 13  11,852,098.52\n",
       "  13                 14  12,744,122.84\n",
       "  14                 15  13,644,581.85\n",
       "  15                 16  14,543,660.16\n",
       "  16                 17  15,431,602.27\n",
       "  17                 18  16,318,197.68\n",
       "  18                 19  17,213,176.44\n",
       "  19                 20  18,106,782.90\n",
       "  20                 21  18,979,622.73\n",
       "  21                 22  19,860,836.97\n",
       "  22                 23  20,750,383.68\n",
       "  23                 24  21,638,566.43\n",
       "  24                 25  22,506,108.58\n",
       "  25                 26  23,381,974.31\n",
       "  26                 27  24,266,121.95\n",
       "  27                 28  25,148,913.90\n",
       "  28                 29  26,011,190.53\n",
       "  29                 30  26,881,740.22\n",
       "  30                 31  27,760,521.56\n",
       "  31                 32  28,637,955.42\n",
       "  32                 33  29,504,521.19\n",
       "  33                 34  30,369,772.67\n",
       "  34                 35  31,243,205.68\n",
       "  35                 36  32,115,299.43\n",
       "  36                 37  32,967,126.48\n",
       "  37                 38  33,827,126.34\n",
       "  38                 39  34,695,258.08\n",
       "  39                 40  35,562,058.69\n",
       "  40                 41  36,408,715.60\n",
       "  41                 42  37,263,495.71\n",
       "  42                 43  38,126,358.35\n",
       "  43                 44  38,987,897.94}}"
      ]
     },
     "execution_count": 72,
     "metadata": {},
     "output_type": "execute_result"
    }
   ],
   "source": [
    "def_dict['Aggregate Risk Adjusted Par Amount']"
   ]
  },
  {
   "attachments": {
    "image.png": {
     "image/png": "[encoded data removed]"
    }
   },
   "cell_type": "markdown",
   "metadata": {},
   "source": [
    "### Table Processing (*lists within table*): Asset Quality Matrix\n",
    "![image.png](attachment:image.png)\n",
    "Issues to work through: \n",
    "1. Headers shifted down: This the opposite problem to ARAP since column titles were shifted into rows (instead of first row shifted into title). We create a new df removing these rows and add back in the column names \n",
    "2. There are lists of different lengths (5 elements on page, 6 elements page 2) for each page. We split out these lists into separate dfs, then concat them back to the originaol\n",
    "3. Table spans two pages: concat individual pages together. "
   ]
  },
  {
   "cell_type": "code",
   "execution_count": 73,
   "metadata": {},
   "outputs": [
    {
     "data": {
      "text/html": [
       "<div>\n",
       "<style scoped>\n",
       "    .dataframe tbody tr th:only-of-type {\n",
       "        vertical-align: middle;\n",
       "    }\n",
       "\n",
       "    .dataframe tbody tr th {\n",
       "        vertical-align: top;\n",
       "    }\n",
       "\n",
       "    .dataframe thead th {\n",
       "        text-align: right;\n",
       "    }\n",
       "</style>\n",
       "<table border=\"1\" class=\"dataframe\">\n",
       "  <thead>\n",
       "    <tr style=\"text-align: right;\">\n",
       "      <th></th>\n",
       "      <th>Unnamed: 0</th>\n",
       "      <th>Unnamed: 1</th>\n",
       "      <th>Unnamed: 2</th>\n",
       "      <th>Unnamed: 3</th>\n",
       "      <th>Unnamed: 4</th>\n",
       "      <th>Unnamed: 5</th>\n",
       "      <th>Unnamed: 6</th>\n",
       "      <th>Unnamed: 7</th>\n",
       "      <th>Unnamed: 8</th>\n",
       "    </tr>\n",
       "  </thead>\n",
       "  <tbody>\n",
       "    <tr>\n",
       "      <th>0</th>\n",
       "      <td>Minimum</td>\n",
       "      <td>NaN</td>\n",
       "      <td>NaN</td>\n",
       "      <td>NaN</td>\n",
       "      <td>Minimum Diversity Score</td>\n",
       "      <td>NaN</td>\n",
       "      <td>NaN</td>\n",
       "      <td>NaN</td>\n",
       "      <td>NaN</td>\n",
       "    </tr>\n",
       "    <tr>\n",
       "      <th>1</th>\n",
       "      <td>Weighted</td>\n",
       "      <td>NaN</td>\n",
       "      <td>NaN</td>\n",
       "      <td>NaN</td>\n",
       "      <td>NaN</td>\n",
       "      <td>NaN</td>\n",
       "      <td>NaN</td>\n",
       "      <td>NaN</td>\n",
       "      <td>NaN</td>\n",
       "    </tr>\n",
       "  </tbody>\n",
       "</table>\n",
       "</div>"
      ],
      "text/plain": [
       "  Unnamed: 0  Unnamed: 1  Unnamed: 2  Unnamed: 3               Unnamed: 4  \\\n",
       "0    Minimum         NaN         NaN         NaN  Minimum Diversity Score   \n",
       "1   Weighted         NaN         NaN         NaN                      NaN   \n",
       "\n",
       "   Unnamed: 5  Unnamed: 6  Unnamed: 7 Unnamed: 8  \n",
       "0         NaN         NaN         NaN        NaN  \n",
       "1         NaN         NaN         NaN        NaN  "
      ]
     },
     "execution_count": 73,
     "metadata": {},
     "output_type": "execute_result"
    }
   ],
   "source": [
    "# Sample of column headings showing up data\n",
    "df_tables[1].iloc[0:2]"
   ]
  },
  {
   "cell_type": "code",
   "execution_count": 74,
   "metadata": {},
   "outputs": [
    {
     "data": {
      "text/html": [
       "<div>\n",
       "<style scoped>\n",
       "    .dataframe tbody tr th:only-of-type {\n",
       "        vertical-align: middle;\n",
       "    }\n",
       "\n",
       "    .dataframe tbody tr th {\n",
       "        vertical-align: top;\n",
       "    }\n",
       "\n",
       "    .dataframe thead th {\n",
       "        text-align: right;\n",
       "    }\n",
       "</style>\n",
       "<table border=\"1\" class=\"dataframe\">\n",
       "  <thead>\n",
       "    <tr style=\"text-align: right;\">\n",
       "      <th></th>\n",
       "      <th>MWAS</th>\n",
       "      <th>40</th>\n",
       "      <th>45</th>\n",
       "      <th>50</th>\n",
       "      <th>MDS</th>\n",
       "      <th>80</th>\n",
       "      <th>85</th>\n",
       "      <th>90</th>\n",
       "      <th>WARF_Modifier</th>\n",
       "    </tr>\n",
       "  </thead>\n",
       "  <tbody>\n",
       "    <tr>\n",
       "      <th>0</th>\n",
       "      <td>2.05%</td>\n",
       "      <td>97.0</td>\n",
       "      <td>99.0</td>\n",
       "      <td>101.0</td>\n",
       "      <td>103 105 107 109 109</td>\n",
       "      <td>109.0</td>\n",
       "      <td>109.0</td>\n",
       "      <td>109.0</td>\n",
       "      <td>2</td>\n",
       "    </tr>\n",
       "    <tr>\n",
       "      <th>1</th>\n",
       "      <td>2.15%</td>\n",
       "      <td>240.0</td>\n",
       "      <td>244.0</td>\n",
       "      <td>248.0</td>\n",
       "      <td>252 256 260 264 268</td>\n",
       "      <td>272.0</td>\n",
       "      <td>276.0</td>\n",
       "      <td>280.0</td>\n",
       "      <td>18</td>\n",
       "    </tr>\n",
       "  </tbody>\n",
       "</table>\n",
       "</div>"
      ],
      "text/plain": [
       "    MWAS     40     45     50                  MDS     80     85     90  \\\n",
       "0  2.05%   97.0   99.0  101.0  103 105 107 109 109  109.0  109.0  109.0   \n",
       "1  2.15%  240.0  244.0  248.0  252 256 260 264 268  272.0  276.0  280.0   \n",
       "\n",
       "  WARF_Modifier  \n",
       "0             2  \n",
       "1            18  "
      ]
     },
     "execution_count": 74,
     "metadata": {},
     "output_type": "execute_result"
    }
   ],
   "source": [
    "# set column names for both pages then add them into table. \n",
    "mindiv1_cols = ['MWAS','40','45','50','MDS','80', '85', '90','WARF_Modifier']\n",
    "mindiv2_cols = ['MWAS','40','45','50','MDS','85','Skip','90','WARF_Modifier']\n",
    "df_mindiv1 = scrape.remrows_table_rename(df_tables[1], mindiv1_cols, 4)\n",
    "df_mindiv2 = scrape.remrows_table_rename(df_tables[2][:-1], mindiv2_cols, 4)  # remove last record \n",
    "df_mindiv1.iloc[0:2]"
   ]
  },
  {
   "cell_type": "code",
   "execution_count": 75,
   "metadata": {},
   "outputs": [
    {
     "data": {
      "text/html": [
       "<div>\n",
       "<style scoped>\n",
       "    .dataframe tbody tr th:only-of-type {\n",
       "        vertical-align: middle;\n",
       "    }\n",
       "\n",
       "    .dataframe tbody tr th {\n",
       "        vertical-align: top;\n",
       "    }\n",
       "\n",
       "    .dataframe thead th {\n",
       "        text-align: right;\n",
       "    }\n",
       "</style>\n",
       "<table border=\"1\" class=\"dataframe\">\n",
       "  <thead>\n",
       "    <tr style=\"text-align: right;\">\n",
       "      <th></th>\n",
       "      <th>MWAS</th>\n",
       "      <th>40</th>\n",
       "      <th>45</th>\n",
       "      <th>50</th>\n",
       "      <th>MDS</th>\n",
       "      <th>85</th>\n",
       "      <th>Skip</th>\n",
       "      <th>90</th>\n",
       "      <th>WARF_Modifier</th>\n",
       "      <th>55</th>\n",
       "      <th>60</th>\n",
       "      <th>65</th>\n",
       "      <th>70</th>\n",
       "      <th>75</th>\n",
       "      <th>80</th>\n",
       "    </tr>\n",
       "  </thead>\n",
       "  <tbody>\n",
       "    <tr>\n",
       "      <th>0</th>\n",
       "      <td>2.35%</td>\n",
       "      <td>675.0</td>\n",
       "      <td>681</td>\n",
       "      <td>687.0</td>\n",
       "      <td>693 699 705 711 717 723</td>\n",
       "      <td>729.0</td>\n",
       "      <td>NaN</td>\n",
       "      <td>735.0</td>\n",
       "      <td>31</td>\n",
       "      <td>693</td>\n",
       "      <td>699</td>\n",
       "      <td>705</td>\n",
       "      <td>711</td>\n",
       "      <td>717</td>\n",
       "      <td>723</td>\n",
       "    </tr>\n",
       "    <tr>\n",
       "      <th>1</th>\n",
       "      <td>2.45%</td>\n",
       "      <td>895.0</td>\n",
       "      <td>903</td>\n",
       "      <td>911.0</td>\n",
       "      <td>919 927 935 943 951 959</td>\n",
       "      <td>967.0</td>\n",
       "      <td>NaN</td>\n",
       "      <td>975.0</td>\n",
       "      <td>37</td>\n",
       "      <td>919</td>\n",
       "      <td>927</td>\n",
       "      <td>935</td>\n",
       "      <td>943</td>\n",
       "      <td>951</td>\n",
       "      <td>959</td>\n",
       "    </tr>\n",
       "  </tbody>\n",
       "</table>\n",
       "</div>"
      ],
      "text/plain": [
       "    MWAS     40   45     50                      MDS     85  Skip     90  \\\n",
       "0  2.35%  675.0  681  687.0  693 699 705 711 717 723  729.0   NaN  735.0   \n",
       "1  2.45%  895.0  903  911.0  919 927 935 943 951 959  967.0   NaN  975.0   \n",
       "\n",
       "  WARF_Modifier   55   60   65   70   75   80  \n",
       "0            31  693  699  705  711  717  723  \n",
       "1            37  919  927  935  943  951  959  "
      ]
     },
     "execution_count": 75,
     "metadata": {},
     "output_type": "execute_result"
    }
   ],
   "source": [
    "MDS1_cols = ['55','60','65','70','75']\n",
    "MDS2_cols = ['55','60','65','70','75','80'] \n",
    "df_mindiv1 = scrape.split_lists_newdf(df_mindiv1, 'MDS', MDS1_cols, ' ')\n",
    "df_mindiv2 = scrape.split_lists_newdf(df_mindiv2, 'MDS', MDS2_cols, ' ')\n",
    "df_mindiv2[0:2]"
   ]
  },
  {
   "cell_type": "code",
   "execution_count": 76,
   "metadata": {},
   "outputs": [],
   "source": [
    "# Reorder concatenated pages \n",
    "mindiv_cols = ['MWAS','40','45','50','55','60','65','70','75','80','85','90','WARF_Modifier']\n",
    "df_mindiv1 =df_mindiv1[mindiv_cols]\n",
    "df_mindiv2 =df_mindiv2[mindiv_cols]"
   ]
  },
  {
   "cell_type": "code",
   "execution_count": 77,
   "metadata": {},
   "outputs": [
    {
     "data": {
      "text/plain": [
       "(37, 13)"
      ]
     },
     "execution_count": 77,
     "metadata": {},
     "output_type": "execute_result"
    },
    {
     "data": {
      "text/html": [
       "<div>\n",
       "<style scoped>\n",
       "    .dataframe tbody tr th:only-of-type {\n",
       "        vertical-align: middle;\n",
       "    }\n",
       "\n",
       "    .dataframe tbody tr th {\n",
       "        vertical-align: top;\n",
       "    }\n",
       "\n",
       "    .dataframe thead th {\n",
       "        text-align: right;\n",
       "    }\n",
       "</style>\n",
       "<table border=\"1\" class=\"dataframe\">\n",
       "  <thead>\n",
       "    <tr style=\"text-align: right;\">\n",
       "      <th></th>\n",
       "      <th>MWAS</th>\n",
       "      <th>40</th>\n",
       "      <th>45</th>\n",
       "      <th>50</th>\n",
       "      <th>55</th>\n",
       "      <th>60</th>\n",
       "      <th>65</th>\n",
       "      <th>70</th>\n",
       "      <th>75</th>\n",
       "      <th>80</th>\n",
       "      <th>85</th>\n",
       "      <th>90</th>\n",
       "      <th>WARF_Modifier</th>\n",
       "    </tr>\n",
       "  </thead>\n",
       "  <tbody>\n",
       "    <tr>\n",
       "      <th>0</th>\n",
       "      <td>2.05%</td>\n",
       "      <td>97.0</td>\n",
       "      <td>99</td>\n",
       "      <td>101.0</td>\n",
       "      <td>103</td>\n",
       "      <td>105</td>\n",
       "      <td>107</td>\n",
       "      <td>109</td>\n",
       "      <td>109</td>\n",
       "      <td>109</td>\n",
       "      <td>109.0</td>\n",
       "      <td>109.0</td>\n",
       "      <td>2</td>\n",
       "    </tr>\n",
       "    <tr>\n",
       "      <th>1</th>\n",
       "      <td>2.15%</td>\n",
       "      <td>240.0</td>\n",
       "      <td>244</td>\n",
       "      <td>248.0</td>\n",
       "      <td>252</td>\n",
       "      <td>256</td>\n",
       "      <td>260</td>\n",
       "      <td>264</td>\n",
       "      <td>268</td>\n",
       "      <td>272</td>\n",
       "      <td>276.0</td>\n",
       "      <td>280.0</td>\n",
       "      <td>18</td>\n",
       "    </tr>\n",
       "    <tr>\n",
       "      <th>2</th>\n",
       "      <td>2.25%</td>\n",
       "      <td>484.0</td>\n",
       "      <td>489</td>\n",
       "      <td>494.0</td>\n",
       "      <td>499</td>\n",
       "      <td>504</td>\n",
       "      <td>509</td>\n",
       "      <td>514</td>\n",
       "      <td>519</td>\n",
       "      <td>524</td>\n",
       "      <td>529.0</td>\n",
       "      <td>534.0</td>\n",
       "      <td>26</td>\n",
       "    </tr>\n",
       "    <tr>\n",
       "      <th>3</th>\n",
       "      <td>2.35%</td>\n",
       "      <td>675.0</td>\n",
       "      <td>681</td>\n",
       "      <td>687.0</td>\n",
       "      <td>693</td>\n",
       "      <td>699</td>\n",
       "      <td>705</td>\n",
       "      <td>711</td>\n",
       "      <td>717</td>\n",
       "      <td>723</td>\n",
       "      <td>729.0</td>\n",
       "      <td>735.0</td>\n",
       "      <td>31</td>\n",
       "    </tr>\n",
       "    <tr>\n",
       "      <th>4</th>\n",
       "      <td>2.45%</td>\n",
       "      <td>895.0</td>\n",
       "      <td>903</td>\n",
       "      <td>911.0</td>\n",
       "      <td>919</td>\n",
       "      <td>927</td>\n",
       "      <td>935</td>\n",
       "      <td>943</td>\n",
       "      <td>951</td>\n",
       "      <td>959</td>\n",
       "      <td>967.0</td>\n",
       "      <td>975.0</td>\n",
       "      <td>37</td>\n",
       "    </tr>\n",
       "  </tbody>\n",
       "</table>\n",
       "</div>"
      ],
      "text/plain": [
       "    MWAS     40   45     50   55   60   65   70   75   80     85     90  \\\n",
       "0  2.05%   97.0   99  101.0  103  105  107  109  109  109  109.0  109.0   \n",
       "1  2.15%  240.0  244  248.0  252  256  260  264  268  272  276.0  280.0   \n",
       "2  2.25%  484.0  489  494.0  499  504  509  514  519  524  529.0  534.0   \n",
       "3  2.35%  675.0  681  687.0  693  699  705  711  717  723  729.0  735.0   \n",
       "4  2.45%  895.0  903  911.0  919  927  935  943  951  959  967.0  975.0   \n",
       "\n",
       "  WARF_Modifier  \n",
       "0             2  \n",
       "1            18  \n",
       "2            26  \n",
       "3            31  \n",
       "4            37  "
      ]
     },
     "execution_count": 77,
     "metadata": {},
     "output_type": "execute_result"
    }
   ],
   "source": [
    "# combine pages and reset_index\n",
    "df_mindiv = pd.concat([df_mindiv1,df_mindiv2],axis=0).reset_index(drop=True)  # 'drop=True' prevents new columns from being formed \n",
    "df_mindiv.shape\n",
    "df_mindiv.head() "
   ]
  },
  {
   "cell_type": "code",
   "execution_count": 78,
   "metadata": {},
   "outputs": [],
   "source": [
    "tbl_str = def_dict['Asset Quality Matrix']['def_values']\n",
    "regex = r'\\n\\s+\\n'\n",
    "tbl_dict_proc = scrape.pop_tbldict(df_mindiv, tbl_str, regex)"
   ]
  },
  {
   "cell_type": "code",
   "execution_count": 79,
   "metadata": {},
   "outputs": [],
   "source": [
    "def_dict['Asset Quality Matrix']['def_values'] = tbl_dict_proc"
   ]
  },
  {
   "cell_type": "markdown",
   "metadata": {},
   "source": [
    "**Moody's Counterparty Criteria**"
   ]
  },
  {
   "cell_type": "code",
   "execution_count": 80,
   "metadata": {},
   "outputs": [
    {
     "data": {
      "text/html": [
       "<div>\n",
       "<style scoped>\n",
       "    .dataframe tbody tr th:only-of-type {\n",
       "        vertical-align: middle;\n",
       "    }\n",
       "\n",
       "    .dataframe tbody tr th {\n",
       "        vertical-align: top;\n",
       "    }\n",
       "\n",
       "    .dataframe thead th {\n",
       "        text-align: right;\n",
       "    }\n",
       "</style>\n",
       "<table border=\"1\" class=\"dataframe\">\n",
       "  <thead>\n",
       "    <tr style=\"text-align: right;\">\n",
       "      <th></th>\n",
       "      <th>Institution</th>\n",
       "      <th>Aggregate</th>\n",
       "      <th>Individual Percentage</th>\n",
       "    </tr>\n",
       "  </thead>\n",
       "  <tbody>\n",
       "    <tr>\n",
       "      <th>0</th>\n",
       "      <td>(at or below)</td>\n",
       "      <td>Percentage Limit</td>\n",
       "      <td>Limit</td>\n",
       "    </tr>\n",
       "    <tr>\n",
       "      <th>1</th>\n",
       "      <td>Aaa .............................................</td>\n",
       "      <td>20%</td>\n",
       "      <td>20%</td>\n",
       "    </tr>\n",
       "  </tbody>\n",
       "</table>\n",
       "</div>"
      ],
      "text/plain": [
       "                                         Institution         Aggregate  \\\n",
       "0                                      (at or below)  Percentage Limit   \n",
       "1  Aaa .............................................               20%   \n",
       "\n",
       "  Individual Percentage  \n",
       "0                 Limit  \n",
       "1                   20%  "
      ]
     },
     "execution_count": 80,
     "metadata": {},
     "output_type": "execute_result"
    }
   ],
   "source": [
    "df_tables[3].iloc[0:2]"
   ]
  },
  {
   "cell_type": "code",
   "execution_count": 81,
   "metadata": {},
   "outputs": [
    {
     "data": {
      "text/html": [
       "<div>\n",
       "<style scoped>\n",
       "    .dataframe tbody tr th:only-of-type {\n",
       "        vertical-align: middle;\n",
       "    }\n",
       "\n",
       "    .dataframe tbody tr th {\n",
       "        vertical-align: top;\n",
       "    }\n",
       "\n",
       "    .dataframe thead th {\n",
       "        text-align: right;\n",
       "    }\n",
       "</style>\n",
       "<table border=\"1\" class=\"dataframe\">\n",
       "  <thead>\n",
       "    <tr style=\"text-align: right;\">\n",
       "      <th></th>\n",
       "      <th>MRSI</th>\n",
       "      <th>AggLimit</th>\n",
       "      <th>IndivLimit</th>\n",
       "    </tr>\n",
       "  </thead>\n",
       "  <tbody>\n",
       "    <tr>\n",
       "      <th>0</th>\n",
       "      <td>Aaa .............................................</td>\n",
       "      <td>20%</td>\n",
       "      <td>20%</td>\n",
       "    </tr>\n",
       "    <tr>\n",
       "      <th>1</th>\n",
       "      <td>Aa1 .............................................</td>\n",
       "      <td>20%</td>\n",
       "      <td>10%</td>\n",
       "    </tr>\n",
       "  </tbody>\n",
       "</table>\n",
       "</div>"
      ],
      "text/plain": [
       "                                                MRSI AggLimit IndivLimit\n",
       "0  Aaa .............................................      20%        20%\n",
       "1  Aa1 .............................................      20%        10%"
      ]
     },
     "execution_count": 81,
     "metadata": {},
     "output_type": "execute_result"
    }
   ],
   "source": [
    "# Moody's Counterparty Criteria\" \n",
    "mdy_cols = ['MRSI','AggLimit','IndivLimit']\n",
    "data_mc = scrape.remrows_table_rename(df_tables[3], mdy_cols, 1)\n",
    "data_mc.iloc[0:2]"
   ]
  },
  {
   "cell_type": "code",
   "execution_count": 82,
   "metadata": {},
   "outputs": [
    {
     "data": {
      "text/html": [
       "<div>\n",
       "<style scoped>\n",
       "    .dataframe tbody tr th:only-of-type {\n",
       "        vertical-align: middle;\n",
       "    }\n",
       "\n",
       "    .dataframe tbody tr th {\n",
       "        vertical-align: top;\n",
       "    }\n",
       "\n",
       "    .dataframe thead th {\n",
       "        text-align: right;\n",
       "    }\n",
       "</style>\n",
       "<table border=\"1\" class=\"dataframe\">\n",
       "  <thead>\n",
       "    <tr style=\"text-align: right;\">\n",
       "      <th></th>\n",
       "      <th>MRSI</th>\n",
       "      <th>AggLimit</th>\n",
       "      <th>IndivLimit</th>\n",
       "    </tr>\n",
       "  </thead>\n",
       "  <tbody>\n",
       "    <tr>\n",
       "      <th>0</th>\n",
       "      <td>Aaa</td>\n",
       "      <td>20%</td>\n",
       "      <td>20%</td>\n",
       "    </tr>\n",
       "    <tr>\n",
       "      <th>1</th>\n",
       "      <td>Aa1</td>\n",
       "      <td>20%</td>\n",
       "      <td>10%</td>\n",
       "    </tr>\n",
       "    <tr>\n",
       "      <th>2</th>\n",
       "      <td>Aa2</td>\n",
       "      <td>20%</td>\n",
       "      <td>10%</td>\n",
       "    </tr>\n",
       "    <tr>\n",
       "      <th>3</th>\n",
       "      <td>Aa3</td>\n",
       "      <td>15%</td>\n",
       "      <td>10%</td>\n",
       "    </tr>\n",
       "    <tr>\n",
       "      <th>4</th>\n",
       "      <td>A1 and P-1</td>\n",
       "      <td>10%</td>\n",
       "      <td>5%</td>\n",
       "    </tr>\n",
       "    <tr>\n",
       "      <th>5</th>\n",
       "      <td>A2 and P-1</td>\n",
       "      <td>5%</td>\n",
       "      <td>5%</td>\n",
       "    </tr>\n",
       "    <tr>\n",
       "      <th>6</th>\n",
       "      <td>A2 but not P-1 or less than A2</td>\n",
       "      <td>0%</td>\n",
       "      <td>0%</td>\n",
       "    </tr>\n",
       "  </tbody>\n",
       "</table>\n",
       "</div>"
      ],
      "text/plain": [
       "                             MRSI AggLimit IndivLimit\n",
       "0                             Aaa      20%        20%\n",
       "1                             Aa1      20%        10%\n",
       "2                             Aa2      20%        10%\n",
       "3                             Aa3      15%        10%\n",
       "4                      A1 and P-1      10%         5%\n",
       "5                      A2 and P-1       5%         5%\n",
       "6  A2 but not P-1 or less than A2       0%         0%"
      ]
     },
     "execution_count": 82,
     "metadata": {},
     "output_type": "execute_result"
    }
   ],
   "source": [
    "rmv_list = ['“', '”', '.']\n",
    "data_mc['MRSI']= scrape.str_rmvlist_cleanup(data_mc['MRSI'],rmv_list)\n",
    "data_mc"
   ]
  },
  {
   "cell_type": "markdown",
   "metadata": {},
   "source": [
    "Populate ```def_dict```, but note there is also a closing paragraph. "
   ]
  },
  {
   "cell_type": "code",
   "execution_count": 83,
   "metadata": {},
   "outputs": [],
   "source": [
    "tbl_str = def_dict['Moody’s  Counterparty  Criteria']['def_values']\n",
    "regex = r'\\nMoody’s Credit Rating of Selling'\n",
    "tbl_dict_proc = scrape.pop_tbldict(data_mc, tbl_str, regex)"
   ]
  },
  {
   "cell_type": "code",
   "execution_count": 84,
   "metadata": {},
   "outputs": [],
   "source": [
    "# Grab closing paragraph to value dictionary and populate def_dict\n",
    "regex_close = r'\\nprovided that the Moody’s Counterparty'\n",
    "tbl_dict_proc['closing_sec'] = scrape.pullsubstr_mid2end(regex_close, tbl_str)\n",
    "def_dict['Moody’s  Counterparty  Criteria']['def_values'] = tbl_dict_proc"
   ]
  },
  {
   "cell_type": "markdown",
   "metadata": {},
   "source": [
    "**Moody's Rating Factor** <br>\n",
    "Column headings come though okay, but columns 1/2 and 3/4 are redundant and should be split and recombined into 2 columns (from 4). "
   ]
  },
  {
   "cell_type": "code",
   "execution_count": 85,
   "metadata": {},
   "outputs": [
    {
     "data": {
      "text/html": [
       "<div>\n",
       "<style scoped>\n",
       "    .dataframe tbody tr th:only-of-type {\n",
       "        vertical-align: middle;\n",
       "    }\n",
       "\n",
       "    .dataframe tbody tr th {\n",
       "        vertical-align: top;\n",
       "    }\n",
       "\n",
       "    .dataframe thead th {\n",
       "        text-align: right;\n",
       "    }\n",
       "</style>\n",
       "<table border=\"1\" class=\"dataframe\">\n",
       "  <thead>\n",
       "    <tr style=\"text-align: right;\">\n",
       "      <th></th>\n",
       "      <th>Probability Rating</th>\n",
       "      <th>Moody’s Rating Factor</th>\n",
       "      <th>Probability Rating.1</th>\n",
       "      <th>Moody’s Rating Factor.1</th>\n",
       "    </tr>\n",
       "  </thead>\n",
       "  <tbody>\n",
       "    <tr>\n",
       "      <th>0</th>\n",
       "      <td>“Aaa”</td>\n",
       "      <td>1</td>\n",
       "      <td>“Ba1”</td>\n",
       "      <td>940</td>\n",
       "    </tr>\n",
       "    <tr>\n",
       "      <th>1</th>\n",
       "      <td>“Aa1”</td>\n",
       "      <td>10</td>\n",
       "      <td>“Ba2”</td>\n",
       "      <td>1,350</td>\n",
       "    </tr>\n",
       "  </tbody>\n",
       "</table>\n",
       "</div>"
      ],
      "text/plain": [
       "  Probability Rating  Moody’s Rating Factor Probability Rating.1  \\\n",
       "0              “Aaa”                      1                “Ba1”   \n",
       "1              “Aa1”                     10                “Ba2”   \n",
       "\n",
       "  Moody’s Rating Factor.1  \n",
       "0                     940  \n",
       "1                   1,350  "
      ]
     },
     "execution_count": 85,
     "metadata": {},
     "output_type": "execute_result"
    }
   ],
   "source": [
    "df_tables[4].iloc[0:2]\n",
    "mrf_df = df_tables[4]"
   ]
  },
  {
   "cell_type": "code",
   "execution_count": 86,
   "metadata": {},
   "outputs": [],
   "source": [
    "mrf_df1 = mrf_df[['Probability Rating', 'Moody’s Rating Factor']]\n",
    "mrf_df2 = mrf_df[['Probability Rating.1', 'Moody’s Rating Factor.1']]\n",
    "mrf_df1.columns = mrf_df2.columns = ['Mdys_PD_Rating','Mdys_Rating_Factor']\n",
    "mrf_df = pd.concat([mrf_df1, mrf_df2],axis=0).reset_index(drop=True) "
   ]
  },
  {
   "cell_type": "code",
   "execution_count": 87,
   "metadata": {},
   "outputs": [
    {
     "data": {
      "text/html": [
       "<div>\n",
       "<style scoped>\n",
       "    .dataframe tbody tr th:only-of-type {\n",
       "        vertical-align: middle;\n",
       "    }\n",
       "\n",
       "    .dataframe tbody tr th {\n",
       "        vertical-align: top;\n",
       "    }\n",
       "\n",
       "    .dataframe thead th {\n",
       "        text-align: right;\n",
       "    }\n",
       "</style>\n",
       "<table border=\"1\" class=\"dataframe\">\n",
       "  <thead>\n",
       "    <tr style=\"text-align: right;\">\n",
       "      <th></th>\n",
       "      <th>Mdys_PD_Rating</th>\n",
       "      <th>Mdys_Rating_Factor</th>\n",
       "    </tr>\n",
       "  </thead>\n",
       "  <tbody>\n",
       "    <tr>\n",
       "      <th>0</th>\n",
       "      <td>“Aaa”</td>\n",
       "      <td>1</td>\n",
       "    </tr>\n",
       "    <tr>\n",
       "      <th>1</th>\n",
       "      <td>“Aa1”</td>\n",
       "      <td>10</td>\n",
       "    </tr>\n",
       "  </tbody>\n",
       "</table>\n",
       "</div>"
      ],
      "text/plain": [
       "  Mdys_PD_Rating Mdys_Rating_Factor\n",
       "0          “Aaa”                  1\n",
       "1          “Aa1”                 10"
      ]
     },
     "execution_count": 87,
     "metadata": {},
     "output_type": "execute_result"
    },
    {
     "data": {
      "text/plain": [
       "(20, 2)"
      ]
     },
     "execution_count": 87,
     "metadata": {},
     "output_type": "execute_result"
    }
   ],
   "source": [
    "mrf_df.iloc[0:2]\n",
    "mrf_df.shape"
   ]
  },
  {
   "cell_type": "code",
   "execution_count": 88,
   "metadata": {},
   "outputs": [],
   "source": [
    "tbl_str = def_dict['Moody’s Rating Factor']['def_values']\n",
    "regex = r'\\nMoody’s Default'\n",
    "tbl_dict_proc = scrape.pop_tbldict(mrf_df, tbl_str, regex)"
   ]
  },
  {
   "cell_type": "code",
   "execution_count": 89,
   "metadata": {},
   "outputs": [],
   "source": [
    "# Grab closing paragraph to value dictionary and populate def_dict\n",
    "regex_close = r'\\nFor  purposes  of  the  Maximum'\n",
    "tbl_dict_proc['closing_sec'] = scrape.pullsubstr_mid2end(regex_close, tbl_str)"
   ]
  },
  {
   "cell_type": "code",
   "execution_count": 90,
   "metadata": {},
   "outputs": [],
   "source": [
    "def_dict['Moody’s  Counterparty  Criteria']['def_values'] = tbl_dict_proc"
   ]
  },
  {
   "cell_type": "markdown",
   "metadata": {},
   "source": [
    "**Required Coverage Ratio**\n",
    "Table import was good: only need to change column names. "
   ]
  },
  {
   "cell_type": "code",
   "execution_count": 91,
   "metadata": {},
   "outputs": [
    {
     "data": {
      "text/html": [
       "<div>\n",
       "<style scoped>\n",
       "    .dataframe tbody tr th:only-of-type {\n",
       "        vertical-align: middle;\n",
       "    }\n",
       "\n",
       "    .dataframe tbody tr th {\n",
       "        vertical-align: top;\n",
       "    }\n",
       "\n",
       "    .dataframe thead th {\n",
       "        text-align: right;\n",
       "    }\n",
       "</style>\n",
       "<table border=\"1\" class=\"dataframe\">\n",
       "  <thead>\n",
       "    <tr style=\"text-align: right;\">\n",
       "      <th></th>\n",
       "      <th>Class</th>\n",
       "      <th>OC_Ratio_Test</th>\n",
       "      <th>IC_Ratio_Test</th>\n",
       "    </tr>\n",
       "  </thead>\n",
       "  <tbody>\n",
       "    <tr>\n",
       "      <th>0</th>\n",
       "      <td>A/B</td>\n",
       "      <td>125.0%</td>\n",
       "      <td>120.0%</td>\n",
       "    </tr>\n",
       "    <tr>\n",
       "      <th>1</th>\n",
       "      <td>C</td>\n",
       "      <td>117.6%</td>\n",
       "      <td>115.0%</td>\n",
       "    </tr>\n",
       "    <tr>\n",
       "      <th>2</th>\n",
       "      <td>D</td>\n",
       "      <td>109.6%</td>\n",
       "      <td>110.0%</td>\n",
       "    </tr>\n",
       "    <tr>\n",
       "      <th>3</th>\n",
       "      <td>E</td>\n",
       "      <td>104.7%</td>\n",
       "      <td>105.0%</td>\n",
       "    </tr>\n",
       "  </tbody>\n",
       "</table>\n",
       "</div>"
      ],
      "text/plain": [
       "  Class OC_Ratio_Test IC_Ratio_Test\n",
       "0   A/B        125.0%        120.0%\n",
       "1     C        117.6%        115.0%\n",
       "2     D        109.6%        110.0%\n",
       "3     E        104.7%        105.0%"
      ]
     },
     "execution_count": 91,
     "metadata": {},
     "output_type": "execute_result"
    }
   ],
   "source": [
    "df_reqcov = df_tables[6]\n",
    "df_reqcov.columns = ['Class','OC_Ratio_Test','IC_Ratio_Test']\n",
    "df_reqcov"
   ]
  },
  {
   "cell_type": "code",
   "execution_count": 92,
   "metadata": {},
   "outputs": [],
   "source": [
    "tbl_str = def_dict['Required Coverage Ratio']['def_values']\n",
    "regex = r'\\nOvercollateralization  Interest Coverage'\n",
    "tbl_dict_proc = scrape.pop_tbldict(df_reqcov, tbl_str, regex)"
   ]
  },
  {
   "cell_type": "code",
   "execution_count": 93,
   "metadata": {},
   "outputs": [],
   "source": [
    "def_dict['Required Coverage Ratio']['def_values'] = tbl_dict_proc"
   ]
  },
  {
   "cell_type": "markdown",
   "metadata": {},
   "source": [
    "**S&P CDO Model Inputs** \n",
    "Two tables part of bullet (ii)\n",
    "1. S&P CDO Model Recovery Table** on Page 69 of doc (5th table): Also spans two pages and has embedded lists. Will be similar processing to *Minimum Diversity Score* table. <br> \n",
    " - remove data rows with title info in them for both pages\n",
    " - rename columns for both\n",
    " - extract strings and combine back into dataframe for each page\n",
    " - Re-order columns \n",
    " - combine back into one table. <br> \n",
    "2. S&P CDO Model Average Life Matrix \n",
    "3. Split out bullet (ii) into text then add 3 definitions into new dictionary ```bullet2_dict```. <br>\n",
    "  - Table: S&P Model Recovery rate Matrix\n",
    "  - Definition: S&P CDO Model Spread Matrix\n",
    "  - Table: S&P CDO Model Average Life Matrix \n",
    "4. create new list ```bullet_level1``` and add append (i) and new ```bullet2_dict```. "
   ]
  },
  {
   "cell_type": "code",
   "execution_count": 94,
   "metadata": {},
   "outputs": [
    {
     "data": {
      "text/html": [
       "<div>\n",
       "<style scoped>\n",
       "    .dataframe tbody tr th:only-of-type {\n",
       "        vertical-align: middle;\n",
       "    }\n",
       "\n",
       "    .dataframe tbody tr th {\n",
       "        vertical-align: top;\n",
       "    }\n",
       "\n",
       "    .dataframe thead th {\n",
       "        text-align: right;\n",
       "    }\n",
       "</style>\n",
       "<table border=\"1\" class=\"dataframe\">\n",
       "  <thead>\n",
       "    <tr style=\"text-align: right;\">\n",
       "      <th></th>\n",
       "      <th>Unnamed: 0</th>\n",
       "      <th>S&amp;P CDO Model Recovery Rates (%)</th>\n",
       "    </tr>\n",
       "  </thead>\n",
       "  <tbody>\n",
       "    <tr>\n",
       "      <th>0</th>\n",
       "      <td>NaN</td>\n",
       "      <td>Case Class A-1 Notes Class B Notes</td>\n",
       "    </tr>\n",
       "    <tr>\n",
       "      <th>1</th>\n",
       "      <td>NaN</td>\n",
       "      <td>NaN</td>\n",
       "    </tr>\n",
       "    <tr>\n",
       "      <th>2</th>\n",
       "      <td>1.0</td>\n",
       "      <td>48.50 58.40</td>\n",
       "    </tr>\n",
       "    <tr>\n",
       "      <th>3</th>\n",
       "      <td>2.0</td>\n",
       "      <td>48.25 58.10</td>\n",
       "    </tr>\n",
       "    <tr>\n",
       "      <th>4</th>\n",
       "      <td>3.0</td>\n",
       "      <td>48.00 57.80</td>\n",
       "    </tr>\n",
       "  </tbody>\n",
       "</table>\n",
       "</div>"
      ],
      "text/plain": [
       "   Unnamed: 0    S&P CDO Model Recovery Rates (%)\n",
       "0         NaN  Case Class A-1 Notes Class B Notes\n",
       "1         NaN                                 NaN\n",
       "2         1.0                         48.50 58.40\n",
       "3         2.0                         48.25 58.10\n",
       "4         3.0                         48.00 57.80"
      ]
     },
     "execution_count": 94,
     "metadata": {},
     "output_type": "execute_result"
    }
   ],
   "source": [
    "data_r1 = df_tables[7]\n",
    "data_r1.head()"
   ]
  },
  {
   "cell_type": "code",
   "execution_count": 95,
   "metadata": {},
   "outputs": [
    {
     "data": {
      "text/html": [
       "<div>\n",
       "<style scoped>\n",
       "    .dataframe tbody tr th:only-of-type {\n",
       "        vertical-align: middle;\n",
       "    }\n",
       "\n",
       "    .dataframe tbody tr th {\n",
       "        vertical-align: top;\n",
       "    }\n",
       "\n",
       "    .dataframe thead th {\n",
       "        text-align: right;\n",
       "    }\n",
       "</style>\n",
       "<table border=\"1\" class=\"dataframe\">\n",
       "  <thead>\n",
       "    <tr style=\"text-align: right;\">\n",
       "      <th></th>\n",
       "      <th>Case</th>\n",
       "      <th>rec_list</th>\n",
       "    </tr>\n",
       "  </thead>\n",
       "  <tbody>\n",
       "    <tr>\n",
       "      <th>0</th>\n",
       "      <td>1.0</td>\n",
       "      <td>48.50 58.40</td>\n",
       "    </tr>\n",
       "    <tr>\n",
       "      <th>1</th>\n",
       "      <td>2.0</td>\n",
       "      <td>48.25 58.10</td>\n",
       "    </tr>\n",
       "  </tbody>\n",
       "</table>\n",
       "</div>"
      ],
      "text/plain": [
       "   Case     rec_list\n",
       "0   1.0  48.50 58.40\n",
       "1   2.0  48.25 58.10"
      ]
     },
     "execution_count": 95,
     "metadata": {},
     "output_type": "execute_result"
    },
    {
     "data": {
      "text/plain": [
       "(41, 2)"
      ]
     },
     "execution_count": 95,
     "metadata": {},
     "output_type": "execute_result"
    }
   ],
   "source": [
    "# remove first wo rows and rename column titles \n",
    "col_names = ['Case','rec_list']\n",
    "data_r1 = scrape.remrows_table_rename(df_tables[7], col_names, 2)\n",
    "data_r2 = scrape.remrows_table_rename(df_tables[8], col_names, 2)\n",
    "data_r1.iloc[0:2]\n",
    "data_r1.shape"
   ]
  },
  {
   "cell_type": "code",
   "execution_count": 96,
   "metadata": {},
   "outputs": [
    {
     "data": {
      "text/html": [
       "<div>\n",
       "<style scoped>\n",
       "    .dataframe tbody tr th:only-of-type {\n",
       "        vertical-align: middle;\n",
       "    }\n",
       "\n",
       "    .dataframe tbody tr th {\n",
       "        vertical-align: top;\n",
       "    }\n",
       "\n",
       "    .dataframe thead th {\n",
       "        text-align: right;\n",
       "    }\n",
       "</style>\n",
       "<table border=\"1\" class=\"dataframe\">\n",
       "  <thead>\n",
       "    <tr style=\"text-align: right;\">\n",
       "      <th></th>\n",
       "      <th>Case</th>\n",
       "      <th>rec_list</th>\n",
       "      <th>Class A Recovery</th>\n",
       "      <th>Class B Recovery</th>\n",
       "    </tr>\n",
       "  </thead>\n",
       "  <tbody>\n",
       "    <tr>\n",
       "      <th>0</th>\n",
       "      <td>1.0</td>\n",
       "      <td>48.50 58.40</td>\n",
       "      <td>48.50</td>\n",
       "      <td>58.40</td>\n",
       "    </tr>\n",
       "    <tr>\n",
       "      <th>1</th>\n",
       "      <td>2.0</td>\n",
       "      <td>48.25 58.10</td>\n",
       "      <td>48.25</td>\n",
       "      <td>58.10</td>\n",
       "    </tr>\n",
       "    <tr>\n",
       "      <th>2</th>\n",
       "      <td>3.0</td>\n",
       "      <td>48.00 57.80</td>\n",
       "      <td>48.00</td>\n",
       "      <td>57.80</td>\n",
       "    </tr>\n",
       "    <tr>\n",
       "      <th>3</th>\n",
       "      <td>4.0</td>\n",
       "      <td>47.75 57.50</td>\n",
       "      <td>47.75</td>\n",
       "      <td>57.50</td>\n",
       "    </tr>\n",
       "    <tr>\n",
       "      <th>4</th>\n",
       "      <td>5.0</td>\n",
       "      <td>47.50 57.20</td>\n",
       "      <td>47.50</td>\n",
       "      <td>57.20</td>\n",
       "    </tr>\n",
       "  </tbody>\n",
       "</table>\n",
       "</div>"
      ],
      "text/plain": [
       "   Case     rec_list Class A Recovery Class B Recovery\n",
       "0   1.0  48.50 58.40            48.50            58.40\n",
       "1   2.0  48.25 58.10            48.25            58.10\n",
       "2   3.0  48.00 57.80            48.00            57.80\n",
       "3   4.0  47.75 57.50            47.75            57.50\n",
       "4   5.0  47.50 57.20            47.50            57.20"
      ]
     },
     "execution_count": 96,
     "metadata": {},
     "output_type": "execute_result"
    }
   ],
   "source": [
    "rec_cols = ['Class A Recovery','Class B Recovery']\n",
    "data_r1 = scrape.split_lists_newdf(data_r1, 'rec_list', rec_cols, ' ')\n",
    "data_r2 = scrape.split_lists_newdf(data_r2, 'rec_list', rec_cols, ' ')\n",
    "data_r1.head() "
   ]
  },
  {
   "cell_type": "code",
   "execution_count": 97,
   "metadata": {},
   "outputs": [
    {
     "data": {
      "text/html": [
       "<div>\n",
       "<style scoped>\n",
       "    .dataframe tbody tr th:only-of-type {\n",
       "        vertical-align: middle;\n",
       "    }\n",
       "\n",
       "    .dataframe tbody tr th {\n",
       "        vertical-align: top;\n",
       "    }\n",
       "\n",
       "    .dataframe thead th {\n",
       "        text-align: right;\n",
       "    }\n",
       "</style>\n",
       "<table border=\"1\" class=\"dataframe\">\n",
       "  <thead>\n",
       "    <tr style=\"text-align: right;\">\n",
       "      <th></th>\n",
       "      <th>Case</th>\n",
       "      <th>Class A Recovery</th>\n",
       "      <th>Class B Recovery</th>\n",
       "    </tr>\n",
       "  </thead>\n",
       "  <tbody>\n",
       "    <tr>\n",
       "      <th>0</th>\n",
       "      <td>1.0</td>\n",
       "      <td>48.50</td>\n",
       "      <td>58.40</td>\n",
       "    </tr>\n",
       "    <tr>\n",
       "      <th>1</th>\n",
       "      <td>2.0</td>\n",
       "      <td>48.25</td>\n",
       "      <td>58.10</td>\n",
       "    </tr>\n",
       "    <tr>\n",
       "      <th>2</th>\n",
       "      <td>3.0</td>\n",
       "      <td>48.00</td>\n",
       "      <td>57.80</td>\n",
       "    </tr>\n",
       "    <tr>\n",
       "      <th>3</th>\n",
       "      <td>4.0</td>\n",
       "      <td>47.75</td>\n",
       "      <td>57.50</td>\n",
       "    </tr>\n",
       "    <tr>\n",
       "      <th>4</th>\n",
       "      <td>5.0</td>\n",
       "      <td>47.50</td>\n",
       "      <td>57.20</td>\n",
       "    </tr>\n",
       "  </tbody>\n",
       "</table>\n",
       "</div>"
      ],
      "text/plain": [
       "   Case Class A Recovery Class B Recovery\n",
       "0   1.0            48.50            58.40\n",
       "1   2.0            48.25            58.10\n",
       "2   3.0            48.00            57.80\n",
       "3   4.0            47.75            57.50\n",
       "4   5.0            47.50            57.20"
      ]
     },
     "execution_count": 97,
     "metadata": {},
     "output_type": "execute_result"
    },
    {
     "data": {
      "text/plain": [
       "(43, 3)"
      ]
     },
     "execution_count": 97,
     "metadata": {},
     "output_type": "execute_result"
    }
   ],
   "source": [
    "# Re-order columns for each page and combine into one table. \n",
    "cols = ['Case', 'Class A Recovery','Class B Recovery']\n",
    "data_r1 = data_r1[cols]\n",
    "data_r2 = data_r2[cols]\n",
    "data_r = pd.concat([data_r1, data_r2], axis=0).reset_index(drop=True)\n",
    "data_r.head()\n",
    "data_r.shape"
   ]
  },
  {
   "cell_type": "markdown",
   "metadata": {},
   "source": [
    "Populate def_dict"
   ]
  },
  {
   "cell_type": "markdown",
   "metadata": {},
   "source": [
    "**S&P CDO Model Average Life Matrix Tables**<br>\n",
    "Table spans three pages. For each dataframe, first row was moved to title. "
   ]
  },
  {
   "cell_type": "code",
   "execution_count": 98,
   "metadata": {},
   "outputs": [],
   "source": [
    "col_names = ['Case','SP_CDO_Model_Wghted_Avg_Life_Value']\n",
    "df_avglife1 = scrape.shift_colnames_1strow(df_tables[9], col_names)  # shifts columns down into first row \n",
    "df_avglife2 = scrape.shift_colnames_1strow(df_tables[10], col_names)  # shifts columns down into first row \n",
    "df_avglife3 = scrape.shift_colnames_1strow(df_tables[11], col_names)  # shifts columns down into first row "
   ]
  },
  {
   "cell_type": "code",
   "execution_count": 99,
   "metadata": {},
   "outputs": [],
   "source": [
    "# combine 3 pages into one df. \n",
    "df_avglife = pd.concat([df_avglife1, df_avglife2, df_avglife3],axis=0).reset_index(drop=True)"
   ]
  },
  {
   "cell_type": "code",
   "execution_count": 100,
   "metadata": {},
   "outputs": [],
   "source": [
    "# remove dots from \"Case\" columns\n",
    "rmv_list = ['“', '”', '.']\n",
    "df_avglife['Case'] = scrape.str_rmvlist_cleanup(df_avglife['Case'], rmv_list)"
   ]
  },
  {
   "cell_type": "code",
   "execution_count": 101,
   "metadata": {},
   "outputs": [
    {
     "data": {
      "text/html": [
       "<div>\n",
       "<style scoped>\n",
       "    .dataframe tbody tr th:only-of-type {\n",
       "        vertical-align: middle;\n",
       "    }\n",
       "\n",
       "    .dataframe tbody tr th {\n",
       "        vertical-align: top;\n",
       "    }\n",
       "\n",
       "    .dataframe thead th {\n",
       "        text-align: right;\n",
       "    }\n",
       "</style>\n",
       "<table border=\"1\" class=\"dataframe\">\n",
       "  <thead>\n",
       "    <tr style=\"text-align: right;\">\n",
       "      <th></th>\n",
       "      <th>Case</th>\n",
       "      <th>SP_CDO_Model_Wghted_Avg_Life_Value</th>\n",
       "    </tr>\n",
       "  </thead>\n",
       "  <tbody>\n",
       "    <tr>\n",
       "      <th>0</th>\n",
       "      <td>1</td>\n",
       "      <td>8.0</td>\n",
       "    </tr>\n",
       "    <tr>\n",
       "      <th>1</th>\n",
       "      <td>2</td>\n",
       "      <td>7.9</td>\n",
       "    </tr>\n",
       "  </tbody>\n",
       "</table>\n",
       "</div>"
      ],
      "text/plain": [
       "  Case SP_CDO_Model_Wghted_Avg_Life_Value\n",
       "0    1                                8.0\n",
       "1    2                                7.9"
      ]
     },
     "execution_count": 101,
     "metadata": {},
     "output_type": "execute_result"
    },
    {
     "data": {
      "text/html": [
       "<div>\n",
       "<style scoped>\n",
       "    .dataframe tbody tr th:only-of-type {\n",
       "        vertical-align: middle;\n",
       "    }\n",
       "\n",
       "    .dataframe tbody tr th {\n",
       "        vertical-align: top;\n",
       "    }\n",
       "\n",
       "    .dataframe thead th {\n",
       "        text-align: right;\n",
       "    }\n",
       "</style>\n",
       "<table border=\"1\" class=\"dataframe\">\n",
       "  <thead>\n",
       "    <tr style=\"text-align: right;\">\n",
       "      <th></th>\n",
       "      <th>Case</th>\n",
       "      <th>SP_CDO_Model_Wghted_Avg_Life_Value</th>\n",
       "    </tr>\n",
       "  </thead>\n",
       "  <tbody>\n",
       "    <tr>\n",
       "      <th>79</th>\n",
       "      <td>80</td>\n",
       "      <td>0.1</td>\n",
       "    </tr>\n",
       "    <tr>\n",
       "      <th>80</th>\n",
       "      <td>81</td>\n",
       "      <td>0</td>\n",
       "    </tr>\n",
       "  </tbody>\n",
       "</table>\n",
       "</div>"
      ],
      "text/plain": [
       "   Case SP_CDO_Model_Wghted_Avg_Life_Value\n",
       "79   80                                0.1\n",
       "80   81                                  0"
      ]
     },
     "execution_count": 101,
     "metadata": {},
     "output_type": "execute_result"
    }
   ],
   "source": [
    "# sample beginning and end of S&P CDO Avg Life dataframe. \n",
    "df_avglife.iloc[0:2]\n",
    "df_avglife.iloc[-2:]"
   ]
  },
  {
   "cell_type": "markdown",
   "metadata": {},
   "source": [
    "**Split out bullet 2 and add tables**"
   ]
  },
  {
   "cell_type": "code",
   "execution_count": 102,
   "metadata": {},
   "outputs": [],
   "source": [
    "bullet2_dict = {}\n",
    "bullet2_str= def_dict['S&P CDO Model Inputs']['def_values']['bullet_level1'][1]  #store bullet (ii) contents into string "
   ]
  },
  {
   "cell_type": "code",
   "execution_count": 103,
   "metadata": {},
   "outputs": [],
   "source": [
    "regex = r'\\n  -61- '\n",
    "bullet2_dict = scrape.pop_tbldict(data_r, bullet2_str, regex)"
   ]
  },
  {
   "cell_type": "code",
   "execution_count": 104,
   "metadata": {},
   "outputs": [],
   "source": [
    "# re-name table name to Model Recovery and  Spread & Average Life Matries\n",
    "bullet2_dict['table_SP_CDO_Model_Recovery'] = bullet2_dict.pop('table')\n",
    "bullet2_dict['SP_CDO_Model_Spread_Matrix'] = 'Any spread between 2.00% and 6.00% in 0.05% increments.'\n",
    "bullet2_dict['table_SP_CDO_Model_AvgLife'] = df_avglife"
   ]
  },
  {
   "cell_type": "code",
   "execution_count": 105,
   "metadata": {},
   "outputs": [],
   "source": [
    "# create new bullet_level list\n",
    "bullet_level_list = []\n",
    "   # add bullet(i) from S&P Model Inputs \n",
    "bullet_level_list.append(def_dict['S&P CDO Model Inputs']['def_values']['bullet_level1'][0])\n",
    "bullet_level_list.append(bullet2_dict)"
   ]
  },
  {
   "cell_type": "code",
   "execution_count": 106,
   "metadata": {},
   "outputs": [],
   "source": [
    "# update bullet level 1 with new list\n",
    "def_dict['S&P CDO Model Inputs']['def_values']['bullet_level1'] = bullet_level_list"
   ]
  },
  {
   "cell_type": "markdown",
   "metadata": {},
   "source": [
    "**Third Party Credit Exposure Limits** <br>\n",
    "1. Shift headers into first row\n",
    "2. clean up periods"
   ]
  },
  {
   "cell_type": "code",
   "execution_count": 107,
   "metadata": {},
   "outputs": [],
   "source": [
    "col_names = ['SP_Rating_Sell_Inst','Agg_Perc_Limit','Indiv_Perc_Limit']\n",
    "df_explim = scrape.shift_colnames_1strow(df_tables[12], col_names)\n",
    "df_explim['SP_Rating_Sell_Inst'] = scrape.str_rmvlist_cleanup(df_explim['SP_Rating_Sell_Inst'],rmv_list)"
   ]
  },
  {
   "cell_type": "raw",
   "metadata": {},
   "source": [
    "df_tables[11]"
   ]
  },
  {
   "cell_type": "code",
   "execution_count": 108,
   "metadata": {},
   "outputs": [],
   "source": [
    "tbl_str = def_dict['Third Party Credit Exposure Limits']['def_values']\n",
    "regex = r'\\nS&P’s credit rating of Selling Institution'\n",
    "tbl_dict_proc = scrape.pop_tbldict(df_explim, tbl_str, regex)"
   ]
  },
  {
   "cell_type": "code",
   "execution_count": 109,
   "metadata": {},
   "outputs": [],
   "source": [
    "def_dict['Third Party Credit Exposure Limits']['def_values'] = tbl_dict_proc"
   ]
  },
  {
   "cell_type": "code",
   "execution_count": 110,
   "metadata": {},
   "outputs": [
    {
     "data": {
      "text/plain": [
       "{'opening_sec': '  Limits that will be satisfied if the Third \\nParty Credit Exposure with counterparties having the ratings below from S&P do not exceed the \\npercentage of the Collateral Principal Amount specified below: \\nAggregate  Individual \\nPercentage  Percentage ',\n",
       " 'table':                           SP_Rating_Sell_Inst Agg_Perc_Limit Indiv_Perc_Limit\n",
       " 0                                         AAA            20%            20%.1\n",
       " 1                                         AA+            10%              10%\n",
       " 2                                          AA            10%              10%\n",
       " 3                                         AA-            10%              10%\n",
       " 4                                          A+             5%               5%\n",
       " 5  A (with a short-term credit rating of A-1)             5%               5%\n",
       " 6                                 A- or below             0%               0%}"
      ]
     },
     "execution_count": 110,
     "metadata": {},
     "output_type": "execute_result"
    }
   ],
   "source": [
    "def_dict['Third Party Credit Exposure Limits']['def_values']"
   ]
  },
  {
   "cell_type": "markdown",
   "metadata": {},
   "source": [
    "### Export dictionary to excel\n",
    "1. Convert ```def_dict``` into Dataframe \n",
    "2. Export as excel "
   ]
  },
  {
   "cell_type": "code",
   "execution_count": 112,
   "metadata": {},
   "outputs": [],
   "source": [
    "df_def_dict = pd.DataFrame.from_dict(def_dict, orient='index')\n",
    "df_def_dict.to_excel('df_def_dict.xlsx')"
   ]
  }
 ],
 "metadata": {
  "kernelspec": {
   "display_name": "Python 3",
   "language": "python",
   "name": "python3"
  },
  "language_info": {
   "codemirror_mode": {
    "name": "ipython",
    "version": 3
   },
   "file_extension": ".py",
   "mimetype": "text/x-python",
   "name": "python",
   "nbconvert_exporter": "python",
   "pygments_lexer": "ipython3",
   "version": "3.7.3"
  }
 },
 "nbformat": 4,
 "nbformat_minor": 4
}
