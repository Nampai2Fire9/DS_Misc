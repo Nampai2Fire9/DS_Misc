{
 "cells": [
  {
   "cell_type": "markdown",
   "metadata": {},
   "source": [
    "## Kickstarter research \n",
    "### Processing data from [Funding Successful Projects on Kickstarter](https://www.kaggle.com/dilipajm/kickstarter-project-funding-prediction/data)"
   ]
  },
  {
   "cell_type": "code",
   "execution_count": 23,
   "metadata": {},
   "outputs": [],
   "source": [
    "import pandas as pd\n",
    "import numpy as np\n",
    "import matplotlib.pyplot as plt\n",
    "import scipy as stats \n",
    "import seaborn as snsa\n",
    "import os\n",
    "import re\n",
    "\n",
    "# For Text processing\n",
    "from wordcloud import WordCloud, STOPWORDS  \n",
    "import nltk \n",
    "# Lemmatizer reduces words into their root form: wolves -> wolf, jumping -> jump, etc. \n",
    "from nltk.stem import WordNetLemmatizer as WNL    \n",
    "from nltk.corpus import wordnet \n",
    "from nltk import pos_tag\n",
    "from nltk.corpus import stopwords"
   ]
  },
  {
   "cell_type": "code",
   "execution_count": 2,
   "metadata": {},
   "outputs": [],
   "source": [
    "from IPython.core.interactiveshell import InteractiveShell\n",
    "InteractiveShell.ast_node_interactivity = \"all\""
   ]
  },
  {
   "cell_type": "markdown",
   "metadata": {},
   "source": [
    "### Feature Comparison: Train vs. Test\n",
    "Train adds two responses: <font color=pink> Backer Count </font> and <font color=pink> Success/Fail </font> <br>\n",
    "   Notably missing was the <font color=green> amount pledged. </font> "
   ]
  },
  {
   "cell_type": "code",
   "execution_count": 9,
   "metadata": {},
   "outputs": [
    {
     "data": {
      "text/html": [
       "<div>\n",
       "<style scoped>\n",
       "    .dataframe tbody tr th:only-of-type {\n",
       "        vertical-align: middle;\n",
       "    }\n",
       "\n",
       "    .dataframe tbody tr th {\n",
       "        vertical-align: top;\n",
       "    }\n",
       "\n",
       "    .dataframe thead th {\n",
       "        text-align: right;\n",
       "    }\n",
       "</style>\n",
       "<table border=\"1\" class=\"dataframe\">\n",
       "  <thead>\n",
       "    <tr style=\"text-align: right;\">\n",
       "      <th></th>\n",
       "      <th>project_id</th>\n",
       "      <th>name</th>\n",
       "      <th>desc</th>\n",
       "      <th>goal</th>\n",
       "      <th>keywords</th>\n",
       "      <th>disable_communication</th>\n",
       "      <th>country</th>\n",
       "      <th>currency</th>\n",
       "      <th>deadline</th>\n",
       "      <th>state_changed_at</th>\n",
       "      <th>created_at</th>\n",
       "      <th>launched_at</th>\n",
       "      <th>backers_count</th>\n",
       "      <th>final_status</th>\n",
       "    </tr>\n",
       "  </thead>\n",
       "  <tbody>\n",
       "    <tr>\n",
       "      <th>0</th>\n",
       "      <td>kkst1451568084</td>\n",
       "      <td>drawing for dollars</td>\n",
       "      <td>I like drawing pictures. and then i color them...</td>\n",
       "      <td>20.0</td>\n",
       "      <td>drawing-for-dollars</td>\n",
       "      <td>False</td>\n",
       "      <td>US</td>\n",
       "      <td>USD</td>\n",
       "      <td>1241333999</td>\n",
       "      <td>1241334017</td>\n",
       "      <td>1240600507</td>\n",
       "      <td>1240602723</td>\n",
       "      <td>3</td>\n",
       "      <td>1</td>\n",
       "    </tr>\n",
       "    <tr>\n",
       "      <th>1</th>\n",
       "      <td>kkst1474482071</td>\n",
       "      <td>Sponsor Dereck Blackburn (Lostwars) Artist in ...</td>\n",
       "      <td>I, Dereck Blackburn will be taking upon an inc...</td>\n",
       "      <td>300.0</td>\n",
       "      <td>sponsor-dereck-blackburn-lostwars-artist-in-re...</td>\n",
       "      <td>False</td>\n",
       "      <td>US</td>\n",
       "      <td>USD</td>\n",
       "      <td>1242429000</td>\n",
       "      <td>1242432018</td>\n",
       "      <td>1240960224</td>\n",
       "      <td>1240975592</td>\n",
       "      <td>2</td>\n",
       "      <td>0</td>\n",
       "    </tr>\n",
       "    <tr>\n",
       "      <th>2</th>\n",
       "      <td>kkst183622197</td>\n",
       "      <td>Mr. Squiggles</td>\n",
       "      <td>So I saw darkpony's successfully funded drawin...</td>\n",
       "      <td>30.0</td>\n",
       "      <td>mr-squiggles</td>\n",
       "      <td>False</td>\n",
       "      <td>US</td>\n",
       "      <td>USD</td>\n",
       "      <td>1243027560</td>\n",
       "      <td>1243027818</td>\n",
       "      <td>1242163613</td>\n",
       "      <td>1242164398</td>\n",
       "      <td>0</td>\n",
       "      <td>0</td>\n",
       "    </tr>\n",
       "    <tr>\n",
       "      <th>3</th>\n",
       "      <td>kkst597742710</td>\n",
       "      <td>Help me write my second novel.</td>\n",
       "      <td>Do your part to help out starving artists and ...</td>\n",
       "      <td>500.0</td>\n",
       "      <td>help-me-write-my-second-novel</td>\n",
       "      <td>False</td>\n",
       "      <td>US</td>\n",
       "      <td>USD</td>\n",
       "      <td>1243555740</td>\n",
       "      <td>1243556121</td>\n",
       "      <td>1240963795</td>\n",
       "      <td>1240966730</td>\n",
       "      <td>18</td>\n",
       "      <td>1</td>\n",
       "    </tr>\n",
       "    <tr>\n",
       "      <th>4</th>\n",
       "      <td>kkst1913131122</td>\n",
       "      <td>Support casting my sculpture in bronze</td>\n",
       "      <td>I'm nearing completion on a sculpture, current...</td>\n",
       "      <td>2000.0</td>\n",
       "      <td>support-casting-my-sculpture-in-bronze</td>\n",
       "      <td>False</td>\n",
       "      <td>US</td>\n",
       "      <td>USD</td>\n",
       "      <td>1243769880</td>\n",
       "      <td>1243770317</td>\n",
       "      <td>1241177914</td>\n",
       "      <td>1241180541</td>\n",
       "      <td>1</td>\n",
       "      <td>0</td>\n",
       "    </tr>\n",
       "  </tbody>\n",
       "</table>\n",
       "</div>"
      ],
      "text/plain": [
       "       project_id                                               name  \\\n",
       "0  kkst1451568084                                drawing for dollars   \n",
       "1  kkst1474482071  Sponsor Dereck Blackburn (Lostwars) Artist in ...   \n",
       "2   kkst183622197                                      Mr. Squiggles   \n",
       "3   kkst597742710                     Help me write my second novel.   \n",
       "4  kkst1913131122             Support casting my sculpture in bronze   \n",
       "\n",
       "                                                desc    goal  \\\n",
       "0  I like drawing pictures. and then i color them...    20.0   \n",
       "1  I, Dereck Blackburn will be taking upon an inc...   300.0   \n",
       "2  So I saw darkpony's successfully funded drawin...    30.0   \n",
       "3  Do your part to help out starving artists and ...   500.0   \n",
       "4  I'm nearing completion on a sculpture, current...  2000.0   \n",
       "\n",
       "                                            keywords  disable_communication  \\\n",
       "0                                drawing-for-dollars                  False   \n",
       "1  sponsor-dereck-blackburn-lostwars-artist-in-re...                  False   \n",
       "2                                       mr-squiggles                  False   \n",
       "3                      help-me-write-my-second-novel                  False   \n",
       "4             support-casting-my-sculpture-in-bronze                  False   \n",
       "\n",
       "  country currency    deadline  state_changed_at  created_at  launched_at  \\\n",
       "0      US      USD  1241333999        1241334017  1240600507   1240602723   \n",
       "1      US      USD  1242429000        1242432018  1240960224   1240975592   \n",
       "2      US      USD  1243027560        1243027818  1242163613   1242164398   \n",
       "3      US      USD  1243555740        1243556121  1240963795   1240966730   \n",
       "4      US      USD  1243769880        1243770317  1241177914   1241180541   \n",
       "\n",
       "   backers_count  final_status  \n",
       "0              3             1  \n",
       "1              2             0  \n",
       "2              0             0  \n",
       "3             18             1  \n",
       "4              1             0  "
      ]
     },
     "execution_count": 9,
     "metadata": {},
     "output_type": "execute_result"
    },
    {
     "data": {
      "text/plain": [
       "Index(['project_id', 'name', 'desc', 'goal', 'keywords',\n",
       "       'disable_communication', 'country', 'currency', 'deadline',\n",
       "       'state_changed_at', 'created_at', 'launched_at', 'backers_count',\n",
       "       'final_status'],\n",
       "      dtype='object')"
      ]
     },
     "execution_count": 9,
     "metadata": {},
     "output_type": "execute_result"
    },
    {
     "data": {
      "text/plain": [
       "(108129, 14)"
      ]
     },
     "execution_count": 9,
     "metadata": {},
     "output_type": "execute_result"
    }
   ],
   "source": [
    "data = pd.read_csv('ks_train.csv')\n",
    "data.head()\n",
    "data.columns\n",
    "data.shape"
   ]
  },
  {
   "cell_type": "code",
   "execution_count": 4,
   "metadata": {},
   "outputs": [
    {
     "data": {
      "text/plain": [
       "Index(['project_id', 'name', 'desc', 'goal', 'keywords',\n",
       "       'disable_communication', 'country', 'currency', 'deadline',\n",
       "       'state_changed_at', 'created_at', 'launched_at'],\n",
       "      dtype='object')"
      ]
     },
     "execution_count": 4,
     "metadata": {},
     "output_type": "execute_result"
    }
   ],
   "source": [
    "# import test \n",
    "data_test = pd.read_csv('ks_test.csv')\n",
    "data_test.columns"
   ]
  },
  {
   "cell_type": "markdown",
   "metadata": {},
   "source": [
    "## Formatting Dates \n",
    "Dates are in Unix time, which can be converted with ```pd.to_datetime```, and setting origin to 'unix'"
   ]
  },
  {
   "cell_type": "code",
   "execution_count": 5,
   "metadata": {},
   "outputs": [
    {
     "data": {
      "text/plain": [
       "deadline            datetime64[ns]\n",
       "state_changed_at    datetime64[ns]\n",
       "created_at          datetime64[ns]\n",
       "launched_at         datetime64[ns]\n",
       "dtype: object"
      ]
     },
     "execution_count": 5,
     "metadata": {},
     "output_type": "execute_result"
    },
    {
     "data": {
      "text/html": [
       "<div>\n",
       "<style scoped>\n",
       "    .dataframe tbody tr th:only-of-type {\n",
       "        vertical-align: middle;\n",
       "    }\n",
       "\n",
       "    .dataframe tbody tr th {\n",
       "        vertical-align: top;\n",
       "    }\n",
       "\n",
       "    .dataframe thead th {\n",
       "        text-align: right;\n",
       "    }\n",
       "</style>\n",
       "<table border=\"1\" class=\"dataframe\">\n",
       "  <thead>\n",
       "    <tr style=\"text-align: right;\">\n",
       "      <th></th>\n",
       "      <th>deadline</th>\n",
       "      <th>state_changed_at</th>\n",
       "      <th>created_at</th>\n",
       "      <th>launched_at</th>\n",
       "    </tr>\n",
       "  </thead>\n",
       "  <tbody>\n",
       "    <tr>\n",
       "      <th>0</th>\n",
       "      <td>2009-05-03 06:59:59</td>\n",
       "      <td>2009-05-03 07:00:17</td>\n",
       "      <td>2009-04-24 19:15:07</td>\n",
       "      <td>2009-04-24 19:52:03</td>\n",
       "    </tr>\n",
       "    <tr>\n",
       "      <th>1</th>\n",
       "      <td>2009-05-15 23:10:00</td>\n",
       "      <td>2009-05-16 00:00:18</td>\n",
       "      <td>2009-04-28 23:10:24</td>\n",
       "      <td>2009-04-29 03:26:32</td>\n",
       "    </tr>\n",
       "    <tr>\n",
       "      <th>2</th>\n",
       "      <td>2009-05-22 21:26:00</td>\n",
       "      <td>2009-05-22 21:30:18</td>\n",
       "      <td>2009-05-12 21:26:53</td>\n",
       "      <td>2009-05-12 21:39:58</td>\n",
       "    </tr>\n",
       "    <tr>\n",
       "      <th>3</th>\n",
       "      <td>2009-05-29 00:09:00</td>\n",
       "      <td>2009-05-29 00:15:21</td>\n",
       "      <td>2009-04-29 00:09:55</td>\n",
       "      <td>2009-04-29 00:58:50</td>\n",
       "    </tr>\n",
       "    <tr>\n",
       "      <th>4</th>\n",
       "      <td>2009-05-31 11:38:00</td>\n",
       "      <td>2009-05-31 11:45:17</td>\n",
       "      <td>2009-05-01 11:38:34</td>\n",
       "      <td>2009-05-01 12:22:21</td>\n",
       "    </tr>\n",
       "  </tbody>\n",
       "</table>\n",
       "</div>"
      ],
      "text/plain": [
       "             deadline    state_changed_at          created_at  \\\n",
       "0 2009-05-03 06:59:59 2009-05-03 07:00:17 2009-04-24 19:15:07   \n",
       "1 2009-05-15 23:10:00 2009-05-16 00:00:18 2009-04-28 23:10:24   \n",
       "2 2009-05-22 21:26:00 2009-05-22 21:30:18 2009-05-12 21:26:53   \n",
       "3 2009-05-29 00:09:00 2009-05-29 00:15:21 2009-04-29 00:09:55   \n",
       "4 2009-05-31 11:38:00 2009-05-31 11:45:17 2009-05-01 11:38:34   \n",
       "\n",
       "          launched_at  \n",
       "0 2009-04-24 19:52:03  \n",
       "1 2009-04-29 03:26:32  \n",
       "2 2009-05-12 21:39:58  \n",
       "3 2009-04-29 00:58:50  \n",
       "4 2009-05-01 12:22:21  "
      ]
     },
     "execution_count": 5,
     "metadata": {},
     "output_type": "execute_result"
    }
   ],
   "source": [
    "data.deadline = pd.to_datetime(data.deadline, origin='unix', unit='s')\n",
    "data.state_changed_at = pd.to_datetime(data.state_changed_at, origin='unix', unit='s')\n",
    "data.created_at = pd.to_datetime(data.created_at, origin='unix', unit='s')\n",
    "data.launched_at = pd.to_datetime(data.launched_at, origin='unix', unit='s')\n",
    "data[['deadline','state_changed_at','created_at','launched_at']].dtypes\n",
    "data[['deadline','state_changed_at','created_at','launched_at']].head()"
   ]
  },
  {
   "cell_type": "code",
   "execution_count": 6,
   "metadata": {},
   "outputs": [
    {
     "data": {
      "text/plain": [
       "deadline            datetime64[ns]\n",
       "state_changed_at    datetime64[ns]\n",
       "created_at          datetime64[ns]\n",
       "launched_at         datetime64[ns]\n",
       "dtype: object"
      ]
     },
     "execution_count": 6,
     "metadata": {},
     "output_type": "execute_result"
    },
    {
     "data": {
      "text/html": [
       "<div>\n",
       "<style scoped>\n",
       "    .dataframe tbody tr th:only-of-type {\n",
       "        vertical-align: middle;\n",
       "    }\n",
       "\n",
       "    .dataframe tbody tr th {\n",
       "        vertical-align: top;\n",
       "    }\n",
       "\n",
       "    .dataframe thead th {\n",
       "        text-align: right;\n",
       "    }\n",
       "</style>\n",
       "<table border=\"1\" class=\"dataframe\">\n",
       "  <thead>\n",
       "    <tr style=\"text-align: right;\">\n",
       "      <th></th>\n",
       "      <th>deadline</th>\n",
       "      <th>state_changed_at</th>\n",
       "      <th>created_at</th>\n",
       "      <th>launched_at</th>\n",
       "    </tr>\n",
       "  </thead>\n",
       "  <tbody>\n",
       "    <tr>\n",
       "      <th>0</th>\n",
       "      <td>2015-12-08 23:59:45</td>\n",
       "      <td>2015-12-08 23:59:45</td>\n",
       "      <td>2015-10-28 03:23:01</td>\n",
       "      <td>2015-10-29 22:59:45</td>\n",
       "    </tr>\n",
       "    <tr>\n",
       "      <th>1</th>\n",
       "      <td>2016-01-22 04:07:00</td>\n",
       "      <td>2016-01-22 04:07:00</td>\n",
       "      <td>2015-12-16 20:22:03</td>\n",
       "      <td>2015-12-18 04:07:00</td>\n",
       "    </tr>\n",
       "    <tr>\n",
       "      <th>2</th>\n",
       "      <td>2016-01-03 00:25:00</td>\n",
       "      <td>2016-01-03 00:25:00</td>\n",
       "      <td>2015-11-26 23:42:36</td>\n",
       "      <td>2015-11-28 00:55:28</td>\n",
       "    </tr>\n",
       "    <tr>\n",
       "      <th>3</th>\n",
       "      <td>2015-10-16 18:51:58</td>\n",
       "      <td>2015-10-16 18:52:10</td>\n",
       "      <td>2015-08-30 20:33:50</td>\n",
       "      <td>2015-09-16 18:51:58</td>\n",
       "    </tr>\n",
       "    <tr>\n",
       "      <th>4</th>\n",
       "      <td>2016-05-01 02:14:00</td>\n",
       "      <td>2016-05-01 02:14:04</td>\n",
       "      <td>2016-02-18 03:14:36</td>\n",
       "      <td>2016-03-18 21:01:30</td>\n",
       "    </tr>\n",
       "  </tbody>\n",
       "</table>\n",
       "</div>"
      ],
      "text/plain": [
       "             deadline    state_changed_at          created_at  \\\n",
       "0 2015-12-08 23:59:45 2015-12-08 23:59:45 2015-10-28 03:23:01   \n",
       "1 2016-01-22 04:07:00 2016-01-22 04:07:00 2015-12-16 20:22:03   \n",
       "2 2016-01-03 00:25:00 2016-01-03 00:25:00 2015-11-26 23:42:36   \n",
       "3 2015-10-16 18:51:58 2015-10-16 18:52:10 2015-08-30 20:33:50   \n",
       "4 2016-05-01 02:14:00 2016-05-01 02:14:04 2016-02-18 03:14:36   \n",
       "\n",
       "          launched_at  \n",
       "0 2015-10-29 22:59:45  \n",
       "1 2015-12-18 04:07:00  \n",
       "2 2015-11-28 00:55:28  \n",
       "3 2015-09-16 18:51:58  \n",
       "4 2016-03-18 21:01:30  "
      ]
     },
     "execution_count": 6,
     "metadata": {},
     "output_type": "execute_result"
    }
   ],
   "source": [
    "data_test.deadline = pd.to_datetime(data_test.deadline, origin='unix', unit='s')\n",
    "data_test.state_changed_at = pd.to_datetime(data_test.state_changed_at, origin='unix', unit='s')\n",
    "data_test.created_at = pd.to_datetime(data_test.created_at, origin='unix', unit='s')\n",
    "data_test.launched_at = pd.to_datetime(data_test.launched_at, origin='unix', unit='s')\n",
    "data_test[['deadline','state_changed_at','created_at','launched_at']].dtypes\n",
    "data_test[['deadline','state_changed_at','created_at','launched_at']].head()\n"
   ]
  },
  {
   "cell_type": "markdown",
   "metadata": {},
   "source": [
    "Run summary stats on date fields. <br><br>\n",
    "*Note* <font color=pink> Train</font> set covers 2009-2005 while <font color=green> Test </font> covers 2015-2017 <br><br> \n",
    "From this point, we will only look at the Train set to connect data to outcomes. <br>\n",
    "we also notice the <font color=green> Average Sucess Rate is 32% </font> for the dataset"
   ]
  },
  {
   "cell_type": "code",
   "execution_count": 94,
   "metadata": {},
   "outputs": [
    {
     "name": "stdout",
     "output_type": "stream",
     "text": [
      "train set\n"
     ]
    },
    {
     "data": {
      "text/plain": [
       "count    1.081290e+05\n",
       "mean     1.377299e+09\n",
       "std      4.294421e+07\n",
       "min      1.240603e+09\n",
       "25%      1.343917e+09\n",
       "50%      1.390870e+09\n",
       "75%      1.412807e+09\n",
       "max      1.432658e+09\n",
       "Name: launched_at, dtype: float64"
      ]
     },
     "execution_count": 94,
     "metadata": {},
     "output_type": "execute_result"
    },
    {
     "name": "stdout",
     "output_type": "stream",
     "text": [
      "Avg. Success Rate:  0.3196274819891056\n"
     ]
    }
   ],
   "source": [
    "print(\"train set\") \n",
    "data.launched_at.describe()\n",
    "print(\"Avg. Success Rate: \", np.mean(data['final_status']) )"
   ]
  },
  {
   "cell_type": "markdown",
   "metadata": {},
   "source": [
    "See no. of unique values for each field "
   ]
  },
  {
   "cell_type": "code",
   "execution_count": 90,
   "metadata": {},
   "outputs": [
    {
     "data": {
      "text/plain": [
       "project_id               108129\n",
       "name                     107838\n",
       "desc                     107377\n",
       "goal                       3567\n",
       "keywords                 108129\n",
       "disable_communication         2\n",
       "country                      11\n",
       "currency                      9\n",
       "deadline                 100933\n",
       "state_changed_at         102417\n",
       "created_at               108062\n",
       "launched_at              108039\n",
       "backers_count              2426\n",
       "final_status                  2\n",
       "sust_kw                       2\n",
       "dtype: int64"
      ]
     },
     "execution_count": 90,
     "metadata": {},
     "output_type": "execute_result"
    }
   ],
   "source": [
    "data.nunique(axis=0)"
   ]
  },
  {
   "cell_type": "markdown",
   "metadata": {},
   "source": [
    "### Research on Key words \n",
    "Data Studies with keyword/text fields: <br> \n",
    "1. Funding Successful Projects (320k records) \n",
    "2. Kaggle Project Stats (4k study): Atlantic Study <br> \n",
    "\n",
    "Title: 3 studies had title/name, which can also be explored for following words <br> \n",
    "eco, sustainability, zero-waste, men, unisex, vegan, plant-based, travel, multi-functional, functional, versatile, modern"
   ]
  },
  {
   "cell_type": "code",
   "execution_count": 19,
   "metadata": {},
   "outputs": [
    {
     "name": "stdout",
     "output_type": "stream",
     "text": [
      "number of records with keywords:  7733\n"
     ]
    },
    {
     "data": {
      "text/html": [
       "<div>\n",
       "<style scoped>\n",
       "    .dataframe tbody tr th:only-of-type {\n",
       "        vertical-align: middle;\n",
       "    }\n",
       "\n",
       "    .dataframe tbody tr th {\n",
       "        vertical-align: top;\n",
       "    }\n",
       "\n",
       "    .dataframe thead th {\n",
       "        text-align: right;\n",
       "    }\n",
       "</style>\n",
       "<table border=\"1\" class=\"dataframe\">\n",
       "  <thead>\n",
       "    <tr style=\"text-align: right;\">\n",
       "      <th></th>\n",
       "      <th>project_id</th>\n",
       "      <th>name</th>\n",
       "      <th>desc</th>\n",
       "      <th>goal</th>\n",
       "      <th>keywords</th>\n",
       "      <th>disable_communication</th>\n",
       "      <th>country</th>\n",
       "      <th>currency</th>\n",
       "      <th>deadline</th>\n",
       "      <th>state_changed_at</th>\n",
       "      <th>created_at</th>\n",
       "      <th>launched_at</th>\n",
       "      <th>backers_count</th>\n",
       "      <th>final_status</th>\n",
       "    </tr>\n",
       "  </thead>\n",
       "  <tbody>\n",
       "    <tr>\n",
       "      <th>12065</th>\n",
       "      <td>kkst1133389511</td>\n",
       "      <td>Recording an EP</td>\n",
       "      <td>Songwriter/Producer looking for help to record...</td>\n",
       "      <td>7000.0</td>\n",
       "      <td>recording-an-ep</td>\n",
       "      <td>False</td>\n",
       "      <td>US</td>\n",
       "      <td>USD</td>\n",
       "      <td>1319857760</td>\n",
       "      <td>1319857760</td>\n",
       "      <td>1315967205</td>\n",
       "      <td>1315969760</td>\n",
       "      <td>0</td>\n",
       "      <td>0</td>\n",
       "    </tr>\n",
       "    <tr>\n",
       "      <th>58924</th>\n",
       "      <td>kkst187198617</td>\n",
       "      <td>EveryWare: Your OS, Software and development t...</td>\n",
       "      <td>EveryWare is an online platform that allows yo...</td>\n",
       "      <td>50000.0</td>\n",
       "      <td>everyware-your-os-software-and-development-too...</td>\n",
       "      <td>False</td>\n",
       "      <td>CA</td>\n",
       "      <td>CAD</td>\n",
       "      <td>1400741899</td>\n",
       "      <td>1400741900</td>\n",
       "      <td>1393525438</td>\n",
       "      <td>1396853899</td>\n",
       "      <td>0</td>\n",
       "      <td>0</td>\n",
       "    </tr>\n",
       "    <tr>\n",
       "      <th>92490</th>\n",
       "      <td>kkst140446887</td>\n",
       "      <td>Demo Development</td>\n",
       "      <td>My first single ALIVE is making the rounds, bu...</td>\n",
       "      <td>1800.0</td>\n",
       "      <td>demo-development</td>\n",
       "      <td>False</td>\n",
       "      <td>CA</td>\n",
       "      <td>CAD</td>\n",
       "      <td>1424469600</td>\n",
       "      <td>1424469616</td>\n",
       "      <td>1415647060</td>\n",
       "      <td>1421508890</td>\n",
       "      <td>1</td>\n",
       "      <td>0</td>\n",
       "    </tr>\n",
       "  </tbody>\n",
       "</table>\n",
       "</div>"
      ],
      "text/plain": [
       "           project_id                                               name  \\\n",
       "12065  kkst1133389511                                    Recording an EP   \n",
       "58924   kkst187198617  EveryWare: Your OS, Software and development t...   \n",
       "92490   kkst140446887                                   Demo Development   \n",
       "\n",
       "                                                    desc     goal  \\\n",
       "12065  Songwriter/Producer looking for help to record...   7000.0   \n",
       "58924  EveryWare is an online platform that allows yo...  50000.0   \n",
       "92490  My first single ALIVE is making the rounds, bu...   1800.0   \n",
       "\n",
       "                                                keywords  \\\n",
       "12065                                    recording-an-ep   \n",
       "58924  everyware-your-os-software-and-development-too...   \n",
       "92490                                   demo-development   \n",
       "\n",
       "       disable_communication country currency    deadline  state_changed_at  \\\n",
       "12065                  False      US      USD  1319857760        1319857760   \n",
       "58924                  False      CA      CAD  1400741899        1400741900   \n",
       "92490                  False      CA      CAD  1424469600        1424469616   \n",
       "\n",
       "       created_at  launched_at  backers_count  final_status  \n",
       "12065  1315967205   1315969760              0             0  \n",
       "58924  1393525438   1396853899              0             0  \n",
       "92490  1415647060   1421508890              1             0  "
      ]
     },
     "execution_count": 19,
     "metadata": {},
     "output_type": "execute_result"
    }
   ],
   "source": [
    "str_list = ['eco', ['sustainability','sustainable'], ['zero waste', 'zero-waste'], 'men', 'unisex', \n",
    "            'vegan', 'plant-based', 'travel', 'ulti-functional', 'functional', 'versatile', 'modern']\n",
    "str_records_all = data[data.keywords.str.contains('|'.join(str_list))]\n",
    "print(\"number of records with keywords: \", len(str_records_all)) \n",
    "str_records_all.sample(n=3)\n",
    "# x_test = df1[['Lead ID','description',]][df1.description.str.contains('|'.join(patterns))]"
   ]
  },
  {
   "cell_type": "markdown",
   "metadata": {},
   "source": [
    "### Text Processing \n",
    "Note: A straight \"str.contains\" will not work because of words also containing strings <br> \n",
    " Example: \"Documentary\" and \"women\" contain the word \"men.\" "
   ]
  },
  {
   "cell_type": "code",
   "execution_count": 84,
   "metadata": {},
   "outputs": [],
   "source": [
    "# Function for word presence: takes a string of words, seperates them, and checks for presence of word \n",
    "def str_presence(input_string, search_string):\n",
    "    token = input_string.lower()\n",
    "    token = [tk.strip() for tk in token.split(\"-\")] \n",
    "    token = [tk for tk in token if len(tk)>2]   # remove article words\n",
    "    return int(any(x in token for x in search_string))"
   ]
  },
  {
   "cell_type": "code",
   "execution_count": 85,
   "metadata": {},
   "outputs": [],
   "source": [
    "# Function to run loop to populate array (fill_array) with values \n",
    "def str_presence_full(string_column, search_string): \n",
    "    fill_array = [] \n",
    "    for str in string_column:\n",
    "        present_fl = str_presence(str, search_string)\n",
    "        fill_array.append(present_fl)\n",
    "    return fill_array"
   ]
  },
  {
   "cell_type": "code",
   "execution_count": 101,
   "metadata": {},
   "outputs": [],
   "source": [
    "# add flags to data set \n",
    "data['sust_fl'] = str_presence_full(data.keywords, ['sustainable','sustainability'])\n",
    "data['eco_fl'] = str_presence_full(data.keywords, ['eco'])\n",
    "data['zero_waste_fl'] = str_presence_full(data.keywords, ['zero-waste','zero waste'])\n",
    "data['men_fl'] = str_presence_full(data.keywords, ['men','male'])\n",
    "data['unisex_fl'] = str_presence_full(data.keywords, 'unisex')\n",
    "data['vegan_fl'] = str_presence_full(data.keywords, ['vegan','plant-based','plant based'])\n",
    "data['travel_fl'] = str_presence_full(data.keywords, 'travel')\n",
    "data['functional_fl'] = str_presence_full(data.keywords, ['functional', 'ultra-functional','ultra functional'])\n",
    "data['versatile_fl'] = str_presence_full(data.keywords, 'versatile')\n",
    "data['modern_fl'] = str_presence_full(data.keywords, ['modern','modernity'])"
   ]
  },
  {
   "cell_type": "code",
   "execution_count": null,
   "metadata": {},
   "outputs": [],
   "source": []
  }
 ],
 "metadata": {
  "kernelspec": {
   "display_name": "Python 3",
   "language": "python",
   "name": "python3"
  },
  "language_info": {
   "codemirror_mode": {
    "name": "ipython",
    "version": 3
   },
   "file_extension": ".py",
   "mimetype": "text/x-python",
   "name": "python",
   "nbconvert_exporter": "python",
   "pygments_lexer": "ipython3",
   "version": "3.7.3"
  }
 },
 "nbformat": 4,
 "nbformat_minor": 4
}
