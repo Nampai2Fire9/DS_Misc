{
 "cells": [
  {
   "cell_type": "code",
   "execution_count": 1,
   "metadata": {},
   "outputs": [],
   "source": [
    "import pandas as pd\n",
    "import numpy as np\n",
    "import matplotlib.pyplot as plt\n",
    "from scipy import stats\n",
    "import seaborn as sns\n",
    "import os\n",
    "import re\n",
    "import collections  # returns frequencies "
   ]
  },
  {
   "cell_type": "code",
   "execution_count": 2,
   "metadata": {},
   "outputs": [],
   "source": [
    "os.chdir(r'C:\\Users\\Owner\\OneDrive\\Research\\Tech\\DS_Projects\\Other\\Marketing\\Kickstarter\\Data')\n",
    "from IPython.core.interactiveshell import InteractiveShell\n",
    "InteractiveShell.ast_node_interactivity = \"all\""
   ]
  },
  {
   "cell_type": "code",
   "execution_count": 3,
   "metadata": {},
   "outputs": [
    {
     "name": "stderr",
     "output_type": "stream",
     "text": [
      "C:\\Users\\Owner\\Anaconda3\\lib\\site-packages\\IPython\\core\\interactiveshell.py:3049: DtypeWarning: Columns (13,14,15) have mixed types. Specify dtype option on import or set low_memory=False.\n",
      "  interactivity=interactivity, compiler=compiler, result=result)\n"
     ]
    },
    {
     "data": {
      "text/plain": [
       "(323750, 17)"
      ]
     },
     "execution_count": 3,
     "metadata": {},
     "output_type": "execute_result"
    },
    {
     "data": {
      "text/plain": [
       "(378661, 15)"
      ]
     },
     "execution_count": 3,
     "metadata": {},
     "output_type": "execute_result"
    },
    {
     "data": {
      "text/html": [
       "<div>\n",
       "<style scoped>\n",
       "    .dataframe tbody tr th:only-of-type {\n",
       "        vertical-align: middle;\n",
       "    }\n",
       "\n",
       "    .dataframe tbody tr th {\n",
       "        vertical-align: top;\n",
       "    }\n",
       "\n",
       "    .dataframe thead th {\n",
       "        text-align: right;\n",
       "    }\n",
       "</style>\n",
       "<table border=\"1\" class=\"dataframe\">\n",
       "  <thead>\n",
       "    <tr style=\"text-align: right;\">\n",
       "      <th></th>\n",
       "      <th>ID</th>\n",
       "      <th>name</th>\n",
       "      <th>category</th>\n",
       "      <th>main_category</th>\n",
       "      <th>currency</th>\n",
       "      <th>deadline</th>\n",
       "      <th>goal</th>\n",
       "      <th>launched</th>\n",
       "      <th>pledged</th>\n",
       "      <th>state</th>\n",
       "      <th>backers</th>\n",
       "      <th>country</th>\n",
       "      <th>usd pledged</th>\n",
       "      <th>Unnamed: 13</th>\n",
       "      <th>Unnamed: 14</th>\n",
       "      <th>Unnamed: 15</th>\n",
       "      <th>Unnamed: 16</th>\n",
       "    </tr>\n",
       "  </thead>\n",
       "  <tbody>\n",
       "    <tr>\n",
       "      <th>0</th>\n",
       "      <td>1000002330</td>\n",
       "      <td>The Songs of Adelaide &amp; Abullah</td>\n",
       "      <td>Poetry</td>\n",
       "      <td>Publishing</td>\n",
       "      <td>GBP</td>\n",
       "      <td>2015-10-09 11:36:00</td>\n",
       "      <td>1000</td>\n",
       "      <td>2015-08-11 12:12:28</td>\n",
       "      <td>0</td>\n",
       "      <td>failed</td>\n",
       "      <td>0</td>\n",
       "      <td>GB</td>\n",
       "      <td>0</td>\n",
       "      <td>NaN</td>\n",
       "      <td>NaN</td>\n",
       "      <td>NaN</td>\n",
       "      <td>NaN</td>\n",
       "    </tr>\n",
       "    <tr>\n",
       "      <th>1</th>\n",
       "      <td>1000004038</td>\n",
       "      <td>Where is Hank?</td>\n",
       "      <td>Narrative Film</td>\n",
       "      <td>Film &amp; Video</td>\n",
       "      <td>USD</td>\n",
       "      <td>2013-02-26 00:20:50</td>\n",
       "      <td>45000</td>\n",
       "      <td>2013-01-12 00:20:50</td>\n",
       "      <td>220</td>\n",
       "      <td>failed</td>\n",
       "      <td>3</td>\n",
       "      <td>US</td>\n",
       "      <td>220</td>\n",
       "      <td>NaN</td>\n",
       "      <td>NaN</td>\n",
       "      <td>NaN</td>\n",
       "      <td>NaN</td>\n",
       "    </tr>\n",
       "    <tr>\n",
       "      <th>2</th>\n",
       "      <td>1000007540</td>\n",
       "      <td>ToshiCapital Rekordz Needs Help to Complete Album</td>\n",
       "      <td>Music</td>\n",
       "      <td>Music</td>\n",
       "      <td>USD</td>\n",
       "      <td>2012-04-16 04:24:11</td>\n",
       "      <td>5000</td>\n",
       "      <td>2012-03-17 03:24:11</td>\n",
       "      <td>1</td>\n",
       "      <td>failed</td>\n",
       "      <td>1</td>\n",
       "      <td>US</td>\n",
       "      <td>1</td>\n",
       "      <td>NaN</td>\n",
       "      <td>NaN</td>\n",
       "      <td>NaN</td>\n",
       "      <td>NaN</td>\n",
       "    </tr>\n",
       "    <tr>\n",
       "      <th>3</th>\n",
       "      <td>1000011046</td>\n",
       "      <td>Community Film Project: The Art of Neighborhoo...</td>\n",
       "      <td>Film &amp; Video</td>\n",
       "      <td>Film &amp; Video</td>\n",
       "      <td>USD</td>\n",
       "      <td>2015-08-29 01:00:00</td>\n",
       "      <td>19500</td>\n",
       "      <td>2015-07-04 08:35:03</td>\n",
       "      <td>1283</td>\n",
       "      <td>canceled</td>\n",
       "      <td>14</td>\n",
       "      <td>US</td>\n",
       "      <td>1283</td>\n",
       "      <td>NaN</td>\n",
       "      <td>NaN</td>\n",
       "      <td>NaN</td>\n",
       "      <td>NaN</td>\n",
       "    </tr>\n",
       "    <tr>\n",
       "      <th>4</th>\n",
       "      <td>1000014025</td>\n",
       "      <td>Monarch Espresso Bar</td>\n",
       "      <td>Restaurants</td>\n",
       "      <td>Food</td>\n",
       "      <td>USD</td>\n",
       "      <td>2016-04-01 13:38:27</td>\n",
       "      <td>50000</td>\n",
       "      <td>2016-02-26 13:38:27</td>\n",
       "      <td>52375</td>\n",
       "      <td>successful</td>\n",
       "      <td>224</td>\n",
       "      <td>US</td>\n",
       "      <td>52375</td>\n",
       "      <td>NaN</td>\n",
       "      <td>NaN</td>\n",
       "      <td>NaN</td>\n",
       "      <td>NaN</td>\n",
       "    </tr>\n",
       "  </tbody>\n",
       "</table>\n",
       "</div>"
      ],
      "text/plain": [
       "          ID                                               name   \\\n",
       "0  1000002330                    The Songs of Adelaide & Abullah   \n",
       "1  1000004038                                     Where is Hank?   \n",
       "2  1000007540  ToshiCapital Rekordz Needs Help to Complete Album   \n",
       "3  1000011046  Community Film Project: The Art of Neighborhoo...   \n",
       "4  1000014025                               Monarch Espresso Bar   \n",
       "\n",
       "        category  main_category  currency             deadline   goal   \\\n",
       "0          Poetry     Publishing       GBP  2015-10-09 11:36:00   1000   \n",
       "1  Narrative Film   Film & Video       USD  2013-02-26 00:20:50  45000   \n",
       "2           Music          Music       USD  2012-04-16 04:24:11   5000   \n",
       "3    Film & Video   Film & Video       USD  2015-08-29 01:00:00  19500   \n",
       "4     Restaurants           Food       USD  2016-04-01 13:38:27  50000   \n",
       "\n",
       "             launched  pledged       state  backers  country  usd pledged   \\\n",
       "0  2015-08-11 12:12:28        0      failed        0       GB            0   \n",
       "1  2013-01-12 00:20:50      220      failed        3       US          220   \n",
       "2  2012-03-17 03:24:11        1      failed        1       US            1   \n",
       "3  2015-07-04 08:35:03     1283    canceled       14       US         1283   \n",
       "4  2016-02-26 13:38:27    52375  successful      224       US        52375   \n",
       "\n",
       "  Unnamed: 13 Unnamed: 14 Unnamed: 15  Unnamed: 16  \n",
       "0         NaN         NaN         NaN          NaN  \n",
       "1         NaN         NaN         NaN          NaN  \n",
       "2         NaN         NaN         NaN          NaN  \n",
       "3         NaN         NaN         NaN          NaN  \n",
       "4         NaN         NaN         NaN          NaN  "
      ]
     },
     "execution_count": 3,
     "metadata": {},
     "output_type": "execute_result"
    }
   ],
   "source": [
    "# Pull data coming in Funding Projects KS \n",
    "ks_proj2016 = pd.read_csv('ks-projects-201612.csv', encoding = \"ISO-8859-1\")\n",
    "ks_proj2018 = pd.read_csv('ks-projects-201801.csv')\n",
    "ks_proj2016.shape\n",
    "ks_proj2018.shape\n",
    "ks_proj2016.head()"
   ]
  },
  {
   "cell_type": "code",
   "execution_count": 4,
   "metadata": {},
   "outputs": [],
   "source": [
    "pd.options.display.float_format = '{:.2f}'.format"
   ]
  },
  {
   "cell_type": "code",
   "execution_count": 11,
   "metadata": {},
   "outputs": [
    {
     "data": {
      "text/plain": [
       "Index(['ID', 'name', 'category', 'main_category', 'currency', 'deadline',\n",
       "       'goal', 'launched', 'pledged', 'state', 'backers', 'country',\n",
       "       'usd pledged'],\n",
       "      dtype='object')"
      ]
     },
     "execution_count": 11,
     "metadata": {},
     "output_type": "execute_result"
    },
    {
     "data": {
      "text/plain": [
       "ID                 int64\n",
       "name              object\n",
       "category          object\n",
       "main_category     object\n",
       "currency          object\n",
       "deadline          object\n",
       "goal             float64\n",
       "launched          object\n",
       "pledged          float64\n",
       "state             object\n",
       "backers          float64\n",
       "country           object\n",
       "usd pledged      float64\n",
       "dtype: object"
      ]
     },
     "execution_count": 11,
     "metadata": {},
     "output_type": "execute_result"
    }
   ],
   "source": [
    "# stripe out lead and trailing spaces from columns \n",
    "xcols = [x.strip() for x in ks_proj2016.columns]\n",
    "ks_proj2016.columns = xcols\n",
    "ks_proj2016.columns\n",
    "ks_proj2016.dtypes"
   ]
  },
  {
   "cell_type": "code",
   "execution_count": 6,
   "metadata": {},
   "outputs": [
    {
     "data": {
      "text/plain": [
       "goal           float64\n",
       "pledged        float64\n",
       "usd pledged    float64\n",
       "backers        float64\n",
       "dtype: object"
      ]
     },
     "execution_count": 6,
     "metadata": {},
     "output_type": "execute_result"
    }
   ],
   "source": [
    "# Formating: convert goal, pledged, backers, and usd pledged to numbers \n",
    "ks_proj2016['goal'] = pd.to_numeric(ks_proj2016.goal, errors='coerce')\n",
    "ks_proj2016['pledged'] = pd.to_numeric(ks_proj2016.pledged, errors='coerce')\n",
    "ks_proj2016['usd pledged'] = pd.to_numeric(ks_proj2016['usd pledged'], errors='coerce')\n",
    "ks_proj2016['backers'] = pd.to_numeric(ks_proj2016.backers, errors='coerce')\n",
    "ks_proj2016[['goal','pledged','usd pledged','backers']].dtypes"
   ]
  },
  {
   "cell_type": "code",
   "execution_count": 8,
   "metadata": {},
   "outputs": [
    {
     "data": {
      "text/plain": [
       "625"
      ]
     },
     "execution_count": 8,
     "metadata": {},
     "output_type": "execute_result"
    },
    {
     "data": {
      "text/html": [
       "<div>\n",
       "<style scoped>\n",
       "    .dataframe tbody tr th:only-of-type {\n",
       "        vertical-align: middle;\n",
       "    }\n",
       "\n",
       "    .dataframe tbody tr th {\n",
       "        vertical-align: top;\n",
       "    }\n",
       "\n",
       "    .dataframe thead th {\n",
       "        text-align: right;\n",
       "    }\n",
       "</style>\n",
       "<table border=\"1\" class=\"dataframe\">\n",
       "  <thead>\n",
       "    <tr style=\"text-align: right;\">\n",
       "      <th></th>\n",
       "      <th>Unnamed: 13</th>\n",
       "      <th>Unnamed: 14</th>\n",
       "      <th>Unnamed: 15</th>\n",
       "      <th>Unnamed: 16</th>\n",
       "    </tr>\n",
       "  </thead>\n",
       "  <tbody>\n",
       "    <tr>\n",
       "      <th>1450</th>\n",
       "      <td>NaN</td>\n",
       "      <td>NaN</td>\n",
       "      <td>NaN</td>\n",
       "      <td>nan</td>\n",
       "    </tr>\n",
       "    <tr>\n",
       "      <th>1451</th>\n",
       "      <td>NaN</td>\n",
       "      <td>NaN</td>\n",
       "      <td>NaN</td>\n",
       "      <td>nan</td>\n",
       "    </tr>\n",
       "    <tr>\n",
       "      <th>1452</th>\n",
       "      <td>NaN</td>\n",
       "      <td>NaN</td>\n",
       "      <td>NaN</td>\n",
       "      <td>nan</td>\n",
       "    </tr>\n",
       "    <tr>\n",
       "      <th>1453</th>\n",
       "      <td>NaN</td>\n",
       "      <td>NaN</td>\n",
       "      <td>NaN</td>\n",
       "      <td>nan</td>\n",
       "    </tr>\n",
       "    <tr>\n",
       "      <th>1455</th>\n",
       "      <td>NaN</td>\n",
       "      <td>NaN</td>\n",
       "      <td>NaN</td>\n",
       "      <td>nan</td>\n",
       "    </tr>\n",
       "  </tbody>\n",
       "</table>\n",
       "</div>"
      ],
      "text/plain": [
       "     Unnamed: 13 Unnamed: 14 Unnamed: 15  Unnamed: 16\n",
       "1450         NaN         NaN         NaN          nan\n",
       "1451         NaN         NaN         NaN          nan\n",
       "1452         NaN         NaN         NaN          nan\n",
       "1453         NaN         NaN         NaN          nan\n",
       "1455         NaN         NaN         NaN          nan"
      ]
     },
     "execution_count": 8,
     "metadata": {},
     "output_type": "execute_result"
    }
   ],
   "source": [
    "# Columns \"Unnamed 13\" ... \"Unnamed: 16\" are due to data processing issue\n",
    "    # Multiple rows where name mistakenly expanded out.  \n",
    "len(ks_proj2016[ks_proj2016[\"Unnamed: 13\"].notnull()])   # 625 / 320k rows affected. For simplicity will remove these rows.\n",
    "ks_proj2016 = ks_proj2016[ks_proj2016[\"Unnamed: 13\"].isnull()] # remove rows with extraneous values \n",
    "ks_proj2016.iloc[1450:1455,13:17].head()  # check on record 1454 (one of the affected columns) \n",
    "\n",
    "# remove Unnamed columns: no longer contain any numbers   \n",
    "ks_proj2016 = ks_proj2016.drop(ks_proj2016.columns[13:17],axis=1)"
   ]
  },
  {
   "cell_type": "code",
   "execution_count": 14,
   "metadata": {},
   "outputs": [
    {
     "data": {
      "text/plain": [
       "dtype('<M8[ns]')"
      ]
     },
     "execution_count": 14,
     "metadata": {},
     "output_type": "execute_result"
    },
    {
     "data": {
      "text/plain": [
       "0   58 days 23:23:32\n",
       "1   45 days 00:00:00\n",
       "2   30 days 01:00:00\n",
       "3   55 days 16:24:57\n",
       "4   35 days 00:00:00\n",
       "dtype: timedelta64[ns]"
      ]
     },
     "execution_count": 14,
     "metadata": {},
     "output_type": "execute_result"
    }
   ],
   "source": [
    "# Date Format \n",
    "ks_proj2016['deadline'] = pd.to_datetime(ks_proj2016.deadline, errors='coerce')\n",
    "ks_proj2016.deadline.dtype\n",
    "ks_proj2016['launched'] = pd.to_datetime(ks_proj2016.launched, errors='coerce')\n",
    "lapsed = ks_proj2016.deadline - ks_proj2016.launched   # Time lapse between deadline and launch date \n",
    "lapsed.head() "
   ]
  },
  {
   "cell_type": "code",
   "execution_count": 15,
   "metadata": {},
   "outputs": [
    {
     "name": "stdout",
     "output_type": "stream",
     "text": [
      "ks2016 ID               323125\n",
      "name             321009\n",
      "category            165\n",
      "main_category        15\n",
      "currency             15\n",
      "deadline         294796\n",
      "goal               7562\n",
      "launched         322633\n",
      "pledged           54974\n",
      "state                11\n",
      "backers            3583\n",
      "country              23\n",
      "usd pledged       94360\n",
      "dtype: int64\n"
     ]
    }
   ],
   "source": [
    "# Get unique counts each dataset \n",
    "    # ks_proj2016 count \n",
    "print(\"ks2016\", ks_proj2016.nunique(axis=0)) "
   ]
  },
  {
   "cell_type": "code",
   "execution_count": 16,
   "metadata": {},
   "outputs": [
    {
     "data": {
      "text/plain": [
       "DescribeResult(nobs=323125, minmax=(nan, nan), mean=nan, variance=nan, skewness=nan, kurtosis=nan)"
      ]
     },
     "execution_count": 16,
     "metadata": {},
     "output_type": "execute_result"
    }
   ],
   "source": [
    "#---- RESPONSE Varibles: Proessing \n",
    "    # Candidate variables: 1. no. of backers  2. Status (failed or not: 0 or 1), 3. avg. pledge by backer 4. pledgevgoal \n",
    "        # avg plegdge: if backers = 0, set value to 0 \n",
    "avg_pledge = np.where(ks_proj2016['backers']==0, 0, ks_proj2016['usd pledged'] / ks_proj2016['backers'])\n",
    "stats.describe(avg_pledge)\n",
    "ks_proj2016[\"avg_pledge\"] = avg_pledge "
   ]
  },
  {
   "cell_type": "code",
   "execution_count": 17,
   "metadata": {},
   "outputs": [
    {
     "name": "stdout",
     "output_type": "stream",
     "text": [
      "usd pledge is null 3797\n",
      "num goal is null 7\n"
     ]
    },
    {
     "data": {
      "text/plain": [
       "DescribeResult(nobs=323125, minmax=(0.0, 55266.57), mean=2.610217814872047, variance=30920.224751350874, skewness=190.13349245746394, kurtosis=46356.56195746872)"
      ]
     },
     "execution_count": 17,
     "metadata": {},
     "output_type": "execute_result"
    },
    {
     "name": "stdout",
     "output_type": "stream",
     "text": [
      "median of pledgedvgoal 0.1043285936\n"
     ]
    },
    {
     "data": {
      "text/plain": [
       "count      323118.00\n",
       "mean        47152.52\n",
       "std       1139577.48\n",
       "min             0.01\n",
       "25%          2000.00\n",
       "50%          5000.00\n",
       "75%         15000.00\n",
       "max     100000000.00\n",
       "Name: goal, dtype: float64"
      ]
     },
     "execution_count": 17,
     "metadata": {},
     "output_type": "execute_result"
    },
    {
     "data": {
      "text/plain": [
       "array([0.00000000e+00, 4.88888889e-03, 2.00000000e-04, 6.57948718e-02,\n",
       "       1.04750000e+00])"
      ]
     },
     "execution_count": 17,
     "metadata": {},
     "output_type": "execute_result"
    }
   ],
   "source": [
    "        # pledged vs. goal \n",
    "print(\"usd pledge is null\", len(ks_proj2016[ks_proj2016[\"usd pledged\"].isnull()]))  # null numerator\n",
    "print(\"num goal is null\", len(ks_proj2016[ks_proj2016[\"goal\"].isnull()]))\n",
    "pledgedvgoal = np.where(ks_proj2016[\"usd pledged\"].isnull(), 0, ks_proj2016['usd pledged'] / ks_proj2016['goal'])\n",
    "stats.describe(pledgedvgoal)  # many N/A's.    \n",
    "print(\"median of pledgedvgoal\", np.percentile(pledgedvgoal, 50))\n",
    "ks_proj2016[\"pledgedvgoal\"] = pledgedvgoal\n",
    "ks_proj2016.goal.describe()\n",
    "pledgedvgoal[0:5]"
   ]
  },
  {
   "cell_type": "code",
   "execution_count": 18,
   "metadata": {},
   "outputs": [
    {
     "data": {
      "text/plain": [
       "failed        168221\n",
       "successful    113081\n",
       "canceled       32354\n",
       "live            4428\n",
       "undefined       3555\n",
       "suspended       1479\n",
       "0                  3\n",
       "2503               1\n",
       "6323               1\n",
       "7470               1\n",
       "3280               1\n",
       "Name: state, dtype: int64"
      ]
     },
     "execution_count": 18,
     "metadata": {},
     "output_type": "execute_result"
    }
   ],
   "source": [
    "    # Status: State value counts \n",
    "ks_proj2016.state.value_counts()"
   ]
  },
  {
   "cell_type": "code",
   "execution_count": 19,
   "metadata": {},
   "outputs": [
    {
     "data": {
      "text/plain": [
       "318690"
      ]
     },
     "execution_count": 19,
     "metadata": {},
     "output_type": "execute_result"
    }
   ],
   "source": [
    "    # State: create field \"Status\" \n",
    "        # remove live, undefined, and those with numbers .\n",
    "ks_proj2016 = ks_proj2016[ks_proj2016['state'].isin(['failed','successful','canceled','suspended','undefined'])]\n",
    "len(ks_proj2016)"
   ]
  },
  {
   "cell_type": "code",
   "execution_count": 20,
   "metadata": {},
   "outputs": [
    {
     "name": "stdout",
     "output_type": "stream",
     "text": [
      "stats for canceled\n"
     ]
    },
    {
     "data": {
      "text/plain": [
       "count   32354.00\n",
       "mean        1.42\n",
       "std       118.73\n",
       "min         0.00\n",
       "25%         0.00\n",
       "50%         0.01\n",
       "75%         0.08\n",
       "max     16283.38\n",
       "Name: pledgedvgoal, dtype: float64"
      ]
     },
     "execution_count": 20,
     "metadata": {},
     "output_type": "execute_result"
    },
    {
     "name": "stdout",
     "output_type": "stream",
     "text": [
      "stats for suspended\n"
     ]
    },
    {
     "data": {
      "text/plain": [
       "count   1479.00\n",
       "mean       1.52\n",
       "std       17.80\n",
       "min        0.00\n",
       "25%        0.00\n",
       "50%        0.01\n",
       "75%        0.25\n",
       "max      560.40\n",
       "Name: pledgedvgoal, dtype: float64"
      ]
     },
     "execution_count": 20,
     "metadata": {},
     "output_type": "execute_result"
    },
    {
     "name": "stdout",
     "output_type": "stream",
     "text": [
      "stats for undefined\n"
     ]
    },
    {
     "data": {
      "text/plain": [
       "count   3555.00\n",
       "mean       0.00\n",
       "std        0.00\n",
       "min        0.00\n",
       "25%        0.00\n",
       "50%        0.00\n",
       "75%        0.00\n",
       "max        0.00\n",
       "Name: pledgedvgoal, dtype: float64"
      ]
     },
     "execution_count": 20,
     "metadata": {},
     "output_type": "execute_result"
    }
   ],
   "source": [
    "# State: Evaluate which states to keep \n",
    "print(\"stats for canceled\")\n",
    "ks_proj2016.pledgedvgoal[ks_proj2016['state']=='canceled'].describe()  # median close to 0 with massive outliers \n",
    "print(\"stats for suspended\")\n",
    "ks_proj2016.pledgedvgoal[ks_proj2016['state']=='suspended'].describe()  # designate as fail\n",
    "print(\"stats for undefined\")\n",
    "ks_proj2016.pledgedvgoal[ks_proj2016['state']=='undefined'].describe()  # all zeroes: remove  \n",
    "ks_proj2016 = ks_proj2016[ks_proj2016['state'].isin(['failed','successful','canceled','suspended'])]"
   ]
  },
  {
   "cell_type": "code",
   "execution_count": 28,
   "metadata": {},
   "outputs": [
    {
     "data": {
      "text/plain": [
       "Counter({0: 202054, 1: 113081})"
      ]
     },
     "execution_count": 28,
     "metadata": {},
     "output_type": "execute_result"
    }
   ],
   "source": [
    "# --- RESPONSE Variable Status: Designate 'successful' as 1, everything else as 0\n",
    "status = np.where(ks_proj2016['state'] == 'successful', 1, 0)\n",
    "collections.Counter(status)\n",
    "    # add Status to datafreame \n",
    "ks_proj2016['outcome'] = status"
   ]
  },
  {
   "cell_type": "code",
   "execution_count": null,
   "metadata": {},
   "outputs": [],
   "source": [
    "# Launch month Analysis : Create Field\n",
    "launch_month = ks_proj2016['launched'].dt.month\n",
    "ks_proj2016['launch_month'] = launch_month"
   ]
  },
  {
   "cell_type": "code",
   "execution_count": 52,
   "metadata": {},
   "outputs": [
    {
     "data": {
      "text/plain": [
       "<matplotlib.axes._subplots.AxesSubplot at 0x236831dab70>"
      ]
     },
     "execution_count": 52,
     "metadata": {},
     "output_type": "execute_result"
    },
    {
     "data": {
      "text/html": [
       "<div>\n",
       "<style scoped>\n",
       "    .dataframe tbody tr th:only-of-type {\n",
       "        vertical-align: middle;\n",
       "    }\n",
       "\n",
       "    .dataframe tbody tr th {\n",
       "        vertical-align: top;\n",
       "    }\n",
       "\n",
       "    .dataframe thead th {\n",
       "        text-align: right;\n",
       "    }\n",
       "</style>\n",
       "<table border=\"1\" class=\"dataframe\">\n",
       "  <thead>\n",
       "    <tr style=\"text-align: right;\">\n",
       "      <th>outcome</th>\n",
       "      <th>0</th>\n",
       "      <th>1</th>\n",
       "      <th>success_perc</th>\n",
       "    </tr>\n",
       "    <tr>\n",
       "      <th>launch_month</th>\n",
       "      <th></th>\n",
       "      <th></th>\n",
       "      <th></th>\n",
       "    </tr>\n",
       "  </thead>\n",
       "  <tbody>\n",
       "    <tr>\n",
       "      <th>1</th>\n",
       "      <td>15015</td>\n",
       "      <td>7859</td>\n",
       "      <td>0.34</td>\n",
       "    </tr>\n",
       "    <tr>\n",
       "      <th>2</th>\n",
       "      <td>15766</td>\n",
       "      <td>9500</td>\n",
       "      <td>0.38</td>\n",
       "    </tr>\n",
       "    <tr>\n",
       "      <th>3</th>\n",
       "      <td>17491</td>\n",
       "      <td>10792</td>\n",
       "      <td>0.38</td>\n",
       "    </tr>\n",
       "    <tr>\n",
       "      <th>4</th>\n",
       "      <td>17099</td>\n",
       "      <td>10444</td>\n",
       "      <td>0.38</td>\n",
       "    </tr>\n",
       "    <tr>\n",
       "      <th>5</th>\n",
       "      <td>17520</td>\n",
       "      <td>10298</td>\n",
       "      <td>0.37</td>\n",
       "    </tr>\n",
       "    <tr>\n",
       "      <th>6</th>\n",
       "      <td>17718</td>\n",
       "      <td>10128</td>\n",
       "      <td>0.36</td>\n",
       "    </tr>\n",
       "    <tr>\n",
       "      <th>7</th>\n",
       "      <td>21635</td>\n",
       "      <td>10178</td>\n",
       "      <td>0.32</td>\n",
       "    </tr>\n",
       "    <tr>\n",
       "      <th>8</th>\n",
       "      <td>18377</td>\n",
       "      <td>9212</td>\n",
       "      <td>0.33</td>\n",
       "    </tr>\n",
       "    <tr>\n",
       "      <th>9</th>\n",
       "      <td>16992</td>\n",
       "      <td>9636</td>\n",
       "      <td>0.36</td>\n",
       "    </tr>\n",
       "    <tr>\n",
       "      <th>10</th>\n",
       "      <td>17684</td>\n",
       "      <td>10407</td>\n",
       "      <td>0.37</td>\n",
       "    </tr>\n",
       "    <tr>\n",
       "      <th>11</th>\n",
       "      <td>15546</td>\n",
       "      <td>8867</td>\n",
       "      <td>0.36</td>\n",
       "    </tr>\n",
       "    <tr>\n",
       "      <th>12</th>\n",
       "      <td>11211</td>\n",
       "      <td>5760</td>\n",
       "      <td>0.34</td>\n",
       "    </tr>\n",
       "  </tbody>\n",
       "</table>\n",
       "</div>"
      ],
      "text/plain": [
       "outcome           0      1  success_perc\n",
       "launch_month                            \n",
       "1             15015   7859          0.34\n",
       "2             15766   9500          0.38\n",
       "3             17491  10792          0.38\n",
       "4             17099  10444          0.38\n",
       "5             17520  10298          0.37\n",
       "6             17718  10128          0.36\n",
       "7             21635  10178          0.32\n",
       "8             18377   9212          0.33\n",
       "9             16992   9636          0.36\n",
       "10            17684  10407          0.37\n",
       "11            15546   8867          0.36\n",
       "12            11211   5760          0.34"
      ]
     },
     "execution_count": 52,
     "metadata": {},
     "output_type": "execute_result"
    },
    {
     "data": {
      "image/png": "[encoded data removed]",
      "text/plain": [
       "<Figure size 432x288 with 1 Axes>"
      ]
     },
     "metadata": {
      "needs_background": "light"
     },
     "output_type": "display_data"
    }
   ],
   "source": [
    "# Launch month: find average outcome: success/failure\n",
    "launch_pivot = pd.pivot_table(ks_proj2016, index='launch_month',values='outcome', aggfunc=np.mean)\n",
    "launch_outcome = pd.crosstab(ks_proj2016.launch_month, ks_proj2016.outcome)\n",
    "launch_outcome['success_perc'] = launch_pivot.outcome\n",
    "launch_outcome[launch_outcome.columns[0:2]].plot(kind='bar', \n",
    "            stacked=True, color=['cyan', 'magenta'], grid=False, title='Outcome by month')\n",
    "launch_outcome"
   ]
  },
  {
   "cell_type": "code",
   "execution_count": null,
   "metadata": {},
   "outputs": [],
   "source": [
    "# launch month: see average pledge \n",
    "launch_pivot_ap = pd.pivot_table(ks_proj2016, index='launch_month',values='avg_pledge', aggfunc=np.mean)\n",
    "sns.barplot(x='avg_pledge', y = 'launch_month', \n",
    "            data=launch_pivot_ap).set_title(\"Average Pledge/Backer by Launch Month\")\n",
    "launch_pivot_ap"
   ]
  }
 ],
 "metadata": {
  "kernelspec": {
   "display_name": "Python 3",
   "language": "python",
   "name": "python3"
  },
  "language_info": {
   "codemirror_mode": {
    "name": "ipython",
    "version": 3
   },
   "file_extension": ".py",
   "mimetype": "text/x-python",
   "name": "python",
   "nbconvert_exporter": "python",
   "pygments_lexer": "ipython3",
   "version": "3.7.3"
  }
 },
 "nbformat": 4,
 "nbformat_minor": 2
}
