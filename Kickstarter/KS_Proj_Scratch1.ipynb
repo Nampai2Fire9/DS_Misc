{
 "cells": [
  {
   "cell_type": "code",
   "execution_count": null,
   "metadata": {},
   "outputs": [],
   "source": [
    "import pandas as pd\n",
    "import numpy as np\n",
    "import matplotlib.pyplot as plt\n",
    "from scipy import stats\n",
    "import seaborn as sns\n",
    "import os\n",
    "import re\n",
    "import collections  # returns frequencies "
   ]
  },
  {
   "cell_type": "code",
   "execution_count": null,
   "metadata": {},
   "outputs": [],
   "source": [
    "from IPython.core.interactiveshell import InteractiveShell\n",
    "InteractiveShell.ast_node_interactivity = \"all\""
   ]
  },
  {
   "cell_type": "code",
   "execution_count": null,
   "metadata": {},
   "outputs": [],
   "source": [
    "# Pull data coming in Funding Projects KS \n",
    "ks_proj2016 = pd.read_csv('ks-projects-201612.csv', encoding = \"ISO-8859-1\")\n",
    "ks_proj2018 = pd.read_csv('ks-projects-201801.csv')\n",
    "ks_proj2016.shape\n",
    "ks_proj2018.shape\n",
    "ks_proj2016.head()"
   ]
  },
  {
   "cell_type": "code",
   "execution_count": null,
   "metadata": {},
   "outputs": [],
   "source": [
    "pd.options.display.float_format = '{:.2f}'.format"
   ]
  },
  {
   "cell_type": "code",
   "execution_count": null,
   "metadata": {},
   "outputs": [],
   "source": [
    "# stripe out lead and trailing spaces from columns \n",
    "xcols = [x.strip() for x in ks_proj2016.columns]\n",
    "ks_proj2016.columns = xcols\n",
    "ks_proj2016.columns\n",
    "ks_proj2016.dtypes"
   ]
  },
  {
   "cell_type": "code",
   "execution_count": null,
   "metadata": {},
   "outputs": [],
   "source": [
    "# Formating: convert goal, pledged, backers, and usd pledged to numbers \n",
    "ks_proj2016['goal'] = pd.to_numeric(ks_proj2016.goal, errors='coerce')\n",
    "ks_proj2016['pledged'] = pd.to_numeric(ks_proj2016.pledged, errors='coerce')\n",
    "ks_proj2016['usd pledged'] = pd.to_numeric(ks_proj2016['usd pledged'], errors='coerce')\n",
    "ks_proj2016['backers'] = pd.to_numeric(ks_proj2016.backers, errors='coerce')\n",
    "ks_proj2016[['goal','pledged','usd pledged','backers']].dtypes"
   ]
  },
  {
   "cell_type": "code",
   "execution_count": null,
   "metadata": {},
   "outputs": [],
   "source": [
    "# Columns \"Unnamed 13\" ... \"Unnamed: 16\" are due to data processing issue\n",
    "    # Multiple rows where name mistakenly expanded out.  \n",
    "len(ks_proj2016[ks_proj2016[\"Unnamed: 13\"].notnull()])   # 625 / 320k rows affected. For simplicity will remove these rows.\n",
    "ks_proj2016 = ks_proj2016[ks_proj2016[\"Unnamed: 13\"].isnull()] # remove rows with extraneous values \n",
    "ks_proj2016.iloc[1450:1455,13:17].head()  # check on record 1454 (one of the affected columns) \n",
    "\n",
    "# remove Unnamed columns: no longer contain any numbers   \n",
    "ks_proj2016 = ks_proj2016.drop(ks_proj2016.columns[13:17],axis=1)"
   ]
  },
  {
   "cell_type": "code",
   "execution_count": null,
   "metadata": {},
   "outputs": [],
   "source": [
    "# Date Format \n",
    "ks_proj2016['deadline'] = pd.to_datetime(ks_proj2016.deadline, errors='coerce')\n",
    "ks_proj2016.deadline.dtype\n",
    "ks_proj2016['launched'] = pd.to_datetime(ks_proj2016.launched, errors='coerce')\n",
    "lapsed = ks_proj2016.deadline - ks_proj2016.launched   # Time lapse between deadline and launch date \n",
    "lapsed.head() "
   ]
  },
  {
   "cell_type": "code",
   "execution_count": null,
   "metadata": {},
   "outputs": [],
   "source": [
    "# Get unique counts each dataset \n",
    "    # ks_proj2016 count \n",
    "print(\"ks2016\", ks_proj2016.nunique(axis=0)) "
   ]
  },
  {
   "cell_type": "code",
   "execution_count": null,
   "metadata": {},
   "outputs": [],
   "source": [
    "#---- RESPONSE Varibles: Proessing \n",
    "    # Candidate variables: 1. no. of backers  2. Status (failed or not: 0 or 1), 3. avg. pledge by backer 4. pledgevgoal \n",
    "        # avg plegdge: if backers = 0, set value to 0 \n",
    "avg_pledge = np.where(ks_proj2016['backers']==0, 0, ks_proj2016['usd pledged'] / ks_proj2016['backers'])\n",
    "stats.describe(avg_pledge)\n",
    "ks_proj2016[\"avg_pledge\"] = avg_pledge "
   ]
  },
  {
   "cell_type": "code",
   "execution_count": null,
   "metadata": {},
   "outputs": [],
   "source": [
    "        # pledged vs. goal \n",
    "print(\"usd pledge is null\", len(ks_proj2016[ks_proj2016[\"usd pledged\"].isnull()]))  # null numerator\n",
    "print(\"num goal is null\", len(ks_proj2016[ks_proj2016[\"goal\"].isnull()]))\n",
    "pledgedvgoal = np.where(ks_proj2016[\"usd pledged\"].isnull(), 0, ks_proj2016['usd pledged'] / ks_proj2016['goal'])\n",
    "stats.describe(pledgedvgoal)  # many N/A's.    \n",
    "print(\"median of pledgedvgoal\", np.percentile(pledgedvgoal, 50))\n",
    "ks_proj2016[\"pledgedvgoal\"] = pledgedvgoal\n",
    "ks_proj2016.goal.describe()\n",
    "pledgedvgoal[0:5]"
   ]
  },
  {
   "cell_type": "code",
   "execution_count": null,
   "metadata": {},
   "outputs": [],
   "source": [
    "    # Status: State value counts \n",
    "ks_proj2016.state.value_counts()"
   ]
  },
  {
   "cell_type": "code",
   "execution_count": null,
   "metadata": {},
   "outputs": [],
   "source": [
    "    # State: create field \"Status\" \n",
    "        # remove live, undefined, and those with numbers .\n",
    "ks_proj2016 = ks_proj2016[ks_proj2016['state'].isin(['failed','successful','canceled','suspended','undefined'])]\n",
    "len(ks_proj2016)"
   ]
  },
  {
   "cell_type": "code",
   "execution_count": null,
   "metadata": {},
   "outputs": [],
   "source": [
    "# State: Evaluate which states to keep \n",
    "print(\"stats for canceled\")\n",
    "ks_proj2016.pledgedvgoal[ks_proj2016['state']=='canceled'].describe()  # median close to 0 with massive outliers \n",
    "print(\"stats for suspended\")\n",
    "ks_proj2016.pledgedvgoal[ks_proj2016['state']=='suspended'].describe()  # designate as fail\n",
    "print(\"stats for undefined\")\n",
    "ks_proj2016.pledgedvgoal[ks_proj2016['state']=='undefined'].describe()  # all zeroes: remove  \n",
    "ks_proj2016 = ks_proj2016[ks_proj2016['state'].isin(['failed','successful','canceled','suspended'])]"
   ]
  },
  {
   "cell_type": "code",
   "execution_count": null,
   "metadata": {},
   "outputs": [],
   "source": [
    "# --- RESPONSE Variable Status: Designate 'successful' as 1, everything else as 0\n",
    "status = np.where(ks_proj2016['state'] == 'successful', 1, 0)\n",
    "collections.Counter(status)\n",
    "    # add Status to datafreame \n",
    "ks_proj2016['outcome'] = status"
   ]
  },
  {
   "cell_type": "code",
   "execution_count": null,
   "metadata": {},
   "outputs": [],
   "source": [
    "# Launch month Analysis : Create Field\n",
    "launch_month = ks_proj2016['launched'].dt.month\n",
    "ks_proj2016['launch_month'] = launch_month"
   ]
  },
  {
   "cell_type": "code",
   "execution_count": 60,
   "metadata": {},
   "outputs": [
    {
     "data": {
      "text/plain": [
       "<matplotlib.axes._subplots.AxesSubplot at 0x23734e28128>"
      ]
     },
     "execution_count": 60,
     "metadata": {},
     "output_type": "execute_result"
    },
    {
     "data": {
      "text/html": [
       "<div>\n",
       "<style scoped>\n",
       "    .dataframe tbody tr th:only-of-type {\n",
       "        vertical-align: middle;\n",
       "    }\n",
       "\n",
       "    .dataframe tbody tr th {\n",
       "        vertical-align: top;\n",
       "    }\n",
       "\n",
       "    .dataframe thead th {\n",
       "        text-align: right;\n",
       "    }\n",
       "</style>\n",
       "<table border=\"1\" class=\"dataframe\">\n",
       "  <thead>\n",
       "    <tr style=\"text-align: right;\">\n",
       "      <th>outcome</th>\n",
       "      <th>0</th>\n",
       "      <th>1</th>\n",
       "      <th>success_perc</th>\n",
       "    </tr>\n",
       "    <tr>\n",
       "      <th>launch_month</th>\n",
       "      <th></th>\n",
       "      <th></th>\n",
       "      <th></th>\n",
       "    </tr>\n",
       "  </thead>\n",
       "  <tbody>\n",
       "    <tr>\n",
       "      <th>1</th>\n",
       "      <td>15015</td>\n",
       "      <td>7859</td>\n",
       "      <td>0.34</td>\n",
       "    </tr>\n",
       "    <tr>\n",
       "      <th>2</th>\n",
       "      <td>15766</td>\n",
       "      <td>9500</td>\n",
       "      <td>0.38</td>\n",
       "    </tr>\n",
       "    <tr>\n",
       "      <th>3</th>\n",
       "      <td>17491</td>\n",
       "      <td>10792</td>\n",
       "      <td>0.38</td>\n",
       "    </tr>\n",
       "    <tr>\n",
       "      <th>4</th>\n",
       "      <td>17099</td>\n",
       "      <td>10444</td>\n",
       "      <td>0.38</td>\n",
       "    </tr>\n",
       "    <tr>\n",
       "      <th>5</th>\n",
       "      <td>17520</td>\n",
       "      <td>10298</td>\n",
       "      <td>0.37</td>\n",
       "    </tr>\n",
       "    <tr>\n",
       "      <th>6</th>\n",
       "      <td>17718</td>\n",
       "      <td>10128</td>\n",
       "      <td>0.36</td>\n",
       "    </tr>\n",
       "    <tr>\n",
       "      <th>7</th>\n",
       "      <td>21635</td>\n",
       "      <td>10178</td>\n",
       "      <td>0.32</td>\n",
       "    </tr>\n",
       "    <tr>\n",
       "      <th>8</th>\n",
       "      <td>18377</td>\n",
       "      <td>9212</td>\n",
       "      <td>0.33</td>\n",
       "    </tr>\n",
       "    <tr>\n",
       "      <th>9</th>\n",
       "      <td>16992</td>\n",
       "      <td>9636</td>\n",
       "      <td>0.36</td>\n",
       "    </tr>\n",
       "    <tr>\n",
       "      <th>10</th>\n",
       "      <td>17684</td>\n",
       "      <td>10407</td>\n",
       "      <td>0.37</td>\n",
       "    </tr>\n",
       "    <tr>\n",
       "      <th>11</th>\n",
       "      <td>15546</td>\n",
       "      <td>8867</td>\n",
       "      <td>0.36</td>\n",
       "    </tr>\n",
       "    <tr>\n",
       "      <th>12</th>\n",
       "      <td>11211</td>\n",
       "      <td>5760</td>\n",
       "      <td>0.34</td>\n",
       "    </tr>\n",
       "  </tbody>\n",
       "</table>\n",
       "</div>"
      ],
      "text/plain": [
       "outcome           0      1  success_perc\n",
       "launch_month                            \n",
       "1             15015   7859          0.34\n",
       "2             15766   9500          0.38\n",
       "3             17491  10792          0.38\n",
       "4             17099  10444          0.38\n",
       "5             17520  10298          0.37\n",
       "6             17718  10128          0.36\n",
       "7             21635  10178          0.32\n",
       "8             18377   9212          0.33\n",
       "9             16992   9636          0.36\n",
       "10            17684  10407          0.37\n",
       "11            15546   8867          0.36\n",
       "12            11211   5760          0.34"
      ]
     },
     "execution_count": 60,
     "metadata": {},
     "output_type": "execute_result"
    },
    {
     "data": {
      "image/png": "[encoded data removed]",
      "text/plain": [
       "<Figure size 432x288 with 1 Axes>"
      ]
     },
     "metadata": {
      "needs_background": "light"
     },
     "output_type": "display_data"
    }
   ],
   "source": [
    "# Launch month: find average outcome: success/failure\n",
    "launch_pivot = pd.pivot_table(ks_proj2016, index='launch_month',values='outcome', aggfunc=np.mean)\n",
    "launch_outcome = pd.crosstab(ks_proj2016.launch_month, ks_proj2016.outcome)\n",
    "launch_outcome['success_perc'] = launch_pivot.outcome\n",
    "launch_outcome[launch_outcome.columns[0:2]].plot(kind='bar', \n",
    "            stacked=True, color=['cyan', 'magenta'], grid=False, title='Outcome by month')\n",
    "launch_outcome"
   ]
  },
  {
   "cell_type": "code",
   "execution_count": 59,
   "metadata": {},
   "outputs": [
    {
     "data": {
      "text/plain": [
       "pandas.core.frame.DataFrame"
      ]
     },
     "execution_count": 59,
     "metadata": {},
     "output_type": "execute_result"
    },
    {
     "data": {
      "text/plain": [
       "Text(0.5, 1.0, 'Average Pledge/Backer by Launch Month')"
      ]
     },
     "execution_count": 59,
     "metadata": {},
     "output_type": "execute_result"
    },
    {
     "data": {
      "text/html": [
       "<div>\n",
       "<style scoped>\n",
       "    .dataframe tbody tr th:only-of-type {\n",
       "        vertical-align: middle;\n",
       "    }\n",
       "\n",
       "    .dataframe tbody tr th {\n",
       "        vertical-align: top;\n",
       "    }\n",
       "\n",
       "    .dataframe thead th {\n",
       "        text-align: right;\n",
       "    }\n",
       "</style>\n",
       "<table border=\"1\" class=\"dataframe\">\n",
       "  <thead>\n",
       "    <tr style=\"text-align: right;\">\n",
       "      <th></th>\n",
       "      <th>launch_month</th>\n",
       "      <th>avg_pledge</th>\n",
       "    </tr>\n",
       "  </thead>\n",
       "  <tbody>\n",
       "    <tr>\n",
       "      <th>0</th>\n",
       "      <td>1</td>\n",
       "      <td>57.80</td>\n",
       "    </tr>\n",
       "    <tr>\n",
       "      <th>1</th>\n",
       "      <td>2</td>\n",
       "      <td>63.13</td>\n",
       "    </tr>\n",
       "    <tr>\n",
       "      <th>2</th>\n",
       "      <td>3</td>\n",
       "      <td>65.55</td>\n",
       "    </tr>\n",
       "    <tr>\n",
       "      <th>3</th>\n",
       "      <td>4</td>\n",
       "      <td>64.22</td>\n",
       "    </tr>\n",
       "    <tr>\n",
       "      <th>4</th>\n",
       "      <td>5</td>\n",
       "      <td>66.79</td>\n",
       "    </tr>\n",
       "    <tr>\n",
       "      <th>5</th>\n",
       "      <td>6</td>\n",
       "      <td>63.19</td>\n",
       "    </tr>\n",
       "    <tr>\n",
       "      <th>6</th>\n",
       "      <td>7</td>\n",
       "      <td>51.71</td>\n",
       "    </tr>\n",
       "    <tr>\n",
       "      <th>7</th>\n",
       "      <td>8</td>\n",
       "      <td>53.86</td>\n",
       "    </tr>\n",
       "    <tr>\n",
       "      <th>8</th>\n",
       "      <td>9</td>\n",
       "      <td>59.34</td>\n",
       "    </tr>\n",
       "    <tr>\n",
       "      <th>9</th>\n",
       "      <td>10</td>\n",
       "      <td>59.51</td>\n",
       "    </tr>\n",
       "    <tr>\n",
       "      <th>10</th>\n",
       "      <td>11</td>\n",
       "      <td>65.49</td>\n",
       "    </tr>\n",
       "    <tr>\n",
       "      <th>11</th>\n",
       "      <td>12</td>\n",
       "      <td>63.73</td>\n",
       "    </tr>\n",
       "  </tbody>\n",
       "</table>\n",
       "</div>"
      ],
      "text/plain": [
       "    launch_month  avg_pledge\n",
       "0              1       57.80\n",
       "1              2       63.13\n",
       "2              3       65.55\n",
       "3              4       64.22\n",
       "4              5       66.79\n",
       "5              6       63.19\n",
       "6              7       51.71\n",
       "7              8       53.86\n",
       "8              9       59.34\n",
       "9             10       59.51\n",
       "10            11       65.49\n",
       "11            12       63.73"
      ]
     },
     "execution_count": 59,
     "metadata": {},
     "output_type": "execute_result"
    },
    {
     "data": {
      "image/png": "[encoded data removed]",
      "text/plain": [
       "<Figure size 432x288 with 1 Axes>"
      ]
     },
     "metadata": {
      "needs_background": "light"
     },
     "output_type": "display_data"
    }
   ],
   "source": [
    "# launch month: see average pledge \n",
    "launch_pivot_ap = pd.pivot_table(ks_proj2016, index='launch_month',values='avg_pledge', aggfunc=np.mean).reset_index()\n",
    "type(launch_pivot_ap)\n",
    "sns.barplot(x='launch_month', y = 'avg_pledge', \n",
    "            data=launch_pivot_ap).set_title(\"Average Pledge/Backer by Launch Month\")\n",
    "launch_pivot_ap"
   ]
  }
 ],
 "metadata": {
  "kernelspec": {
   "display_name": "Python 3",
   "language": "python",
   "name": "python3"
  },
  "language_info": {
   "codemirror_mode": {
    "name": "ipython",
    "version": 3
   },
   "file_extension": ".py",
   "mimetype": "text/x-python",
   "name": "python",
   "nbconvert_exporter": "python",
   "pygments_lexer": "ipython3",
   "version": "3.7.3"
  }
 },
 "nbformat": 4,
 "nbformat_minor": 2
}
