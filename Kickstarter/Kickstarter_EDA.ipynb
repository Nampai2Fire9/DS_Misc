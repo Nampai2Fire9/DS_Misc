{
 "cells": [
  {
   "cell_type": "markdown",
   "metadata": {},
   "source": [
    "## Kickstarter EDA\n",
    "This study pulls together an assortment of Kickstarter files and runs an exploratory data analysis (EDA) on how different factors affect success. <br> \n",
    "Depending on the data file, success is defined by one or more of the following metrics: \n",
    "1. Success/Failure: Whether a fundraising goal was reached or not. \n",
    "2. Backers:  Number of backers. \n",
    "3. Magnitude: degree to which goals were passed. "
   ]
  },
  {
   "cell_type": "code",
   "execution_count": 24,
   "metadata": {},
   "outputs": [],
   "source": [
    "import pandas as pd\n",
    "import numpy as np\n",
    "import matplotlib.pyplot as plt\n",
    "from scipy import stats\n",
    "import seaborn as sns\n",
    "import os\n",
    "import re\n",
    "import collections  # returns frequencies \n",
    "\n",
    "# For Text processing\n",
    "import string             # use punctuation method to remove punctuation in lines later \n",
    "from wordcloud import WordCloud, STOPWORDS  \n",
    "from bs4 import BeautifulSoup as bfs  # used to read in website data\n",
    "import nltk \n",
    "# Lemmatizer reduces words into their root form: wolves -> wolf, jumping -> jump, etc. \n",
    "from nltk.stem import WordNetLemmatizer as WNL    \n",
    "from nltk.corpus import wordnet \n",
    "from nltk import pos_tag\n",
    "from nltk.corpus import stopwords"
   ]
  },
  {
   "cell_type": "code",
   "execution_count": 25,
   "metadata": {},
   "outputs": [],
   "source": [
    "# display more than one record in cell \n",
    "from IPython.core.interactiveshell import InteractiveShell\n",
    "InteractiveShell.ast_node_interactivity = \"all\"\n",
    "# Dark mode display \n",
    "from jupyterthemes import jtplot\n",
    "jtplot.style(theme='monokai', context='notebook', ticks=True, grid=False)"
   ]
  },
  {
   "cell_type": "markdown",
   "metadata": {},
   "source": [
    "### Data Files\n",
    "In this study, we pull data files that contain success variables (response variables), with different feature variables (Factors). The data files are taken from: \n",
    "1. [Kickstarter 2010-7](https://www.kaggle.com/carlolepelaars/exploration-of-kickstarter-data-2010-2017/data): data17 \n",
    "2. [Kickstarter: 2010-5](https://www.kaggle.com/dilipajm/kickstarter-project-funding-prediction/data)  data15\n",
    "3. [Short data set with 4k records](https://www.kaggle.com/socathie/kickstarter-project-statistics) data_sht"
   ]
  },
  {
   "cell_type": "code",
   "execution_count": 52,
   "metadata": {},
   "outputs": [],
   "source": [
    "# Import Kickstarter files \n",
    "data17 = pd.read_csv('ks-projects-201612.csv', encoding = \"ISO-8859-1\")\n",
    "data15 = pd.read_csv('ks_train.csv')\n",
    "data_sht = pd.read_csv('most_backed.csv')"
   ]
  },
  {
   "cell_type": "markdown",
   "metadata": {},
   "source": [
    "### Preprocessing\n",
    "Format all numbers within 3 decimal places "
   ]
  },
  {
   "cell_type": "code",
   "execution_count": 27,
   "metadata": {},
   "outputs": [],
   "source": [
    "# first format to 3 decimals \n",
    "pd.options.display.float_format = '{:.2f}'.format"
   ]
  },
  {
   "cell_type": "markdown",
   "metadata": {},
   "source": [
    "### Preprocessing 2010-7 series (data17)\n",
    "This is the largest of the three files (328k records). <br> \n",
    "1. Remove all leading and trailling spaces from **column titles**\n",
    "2. Remove rows where column conversion failed: this shows up as \"unnamed\" columns 13-16. \n",
    "3. Format **date** and **numeric** columns from object to datetime or numeric format \n",
    "4. Check **Duplicates**"
   ]
  },
  {
   "cell_type": "code",
   "execution_count": 56,
   "metadata": {},
   "outputs": [
    {
     "data": {
      "text/plain": [
       "ID                  int64\n",
       "name               object\n",
       "category           object\n",
       "main_category      object\n",
       "currency           object\n",
       "deadline           object\n",
       "goal               object\n",
       "launched           object\n",
       "pledged            object\n",
       "state              object\n",
       "backers            object\n",
       "country            object\n",
       "usd pledged        object\n",
       "Unnamed: 13        object\n",
       "Unnamed: 14        object\n",
       "Unnamed: 15        object\n",
       "Unnamed: 16       float64\n",
       "dtype: object"
      ]
     },
     "execution_count": 56,
     "metadata": {},
     "output_type": "execute_result"
    },
    {
     "data": {
      "text/plain": [
       "Index(['ID', 'name', 'category', 'main_category', 'currency', 'deadline',\n",
       "       'goal', 'launched', 'pledged', 'state', 'backers', 'country',\n",
       "       'usd pledged', 'Unnamed: 13', 'Unnamed: 14', 'Unnamed: 15',\n",
       "       'Unnamed: 16'],\n",
       "      dtype='object')"
      ]
     },
     "execution_count": 56,
     "metadata": {},
     "output_type": "execute_result"
    }
   ],
   "source": [
    "data17.dtypes\n",
    "xcols = [x.strip() for x in data17.columns]\n",
    "data17.columns = xcols\n",
    "data17.columns"
   ]
  },
  {
   "cell_type": "markdown",
   "metadata": {},
   "source": [
    "**Processing 'Unnamed\" columns** <br> \n",
    "Most records have 'Unnamed' columns with are empty. We examine the non-null records and find 625/320+k records have unnamed columns that are not-null.<br> \n",
    "We remove these records "
   ]
  },
  {
   "cell_type": "code",
   "execution_count": 57,
   "metadata": {},
   "outputs": [
    {
     "name": "stdout",
     "output_type": "stream",
     "text": [
      "sample of records with null Unnamed columns \n"
     ]
    },
    {
     "data": {
      "text/html": [
       "<div>\n",
       "<style scoped>\n",
       "    .dataframe tbody tr th:only-of-type {\n",
       "        vertical-align: middle;\n",
       "    }\n",
       "\n",
       "    .dataframe tbody tr th {\n",
       "        vertical-align: top;\n",
       "    }\n",
       "\n",
       "    .dataframe thead th {\n",
       "        text-align: right;\n",
       "    }\n",
       "</style>\n",
       "<table border=\"1\" class=\"dataframe\">\n",
       "  <thead>\n",
       "    <tr style=\"text-align: right;\">\n",
       "      <th></th>\n",
       "      <th>Unnamed: 13</th>\n",
       "      <th>Unnamed: 14</th>\n",
       "      <th>Unnamed: 15</th>\n",
       "      <th>Unnamed: 16</th>\n",
       "    </tr>\n",
       "  </thead>\n",
       "  <tbody>\n",
       "    <tr>\n",
       "      <th>1</th>\n",
       "      <td>NaN</td>\n",
       "      <td>NaN</td>\n",
       "      <td>NaN</td>\n",
       "      <td>nan</td>\n",
       "    </tr>\n",
       "    <tr>\n",
       "      <th>2</th>\n",
       "      <td>NaN</td>\n",
       "      <td>NaN</td>\n",
       "      <td>NaN</td>\n",
       "      <td>nan</td>\n",
       "    </tr>\n",
       "    <tr>\n",
       "      <th>3</th>\n",
       "      <td>NaN</td>\n",
       "      <td>NaN</td>\n",
       "      <td>NaN</td>\n",
       "      <td>nan</td>\n",
       "    </tr>\n",
       "    <tr>\n",
       "      <th>4</th>\n",
       "      <td>NaN</td>\n",
       "      <td>NaN</td>\n",
       "      <td>NaN</td>\n",
       "      <td>nan</td>\n",
       "    </tr>\n",
       "  </tbody>\n",
       "</table>\n",
       "</div>"
      ],
      "text/plain": [
       "  Unnamed: 13 Unnamed: 14 Unnamed: 15  Unnamed: 16\n",
       "1         NaN         NaN         NaN          nan\n",
       "2         NaN         NaN         NaN          nan\n",
       "3         NaN         NaN         NaN          nan\n",
       "4         NaN         NaN         NaN          nan"
      ]
     },
     "execution_count": 57,
     "metadata": {},
     "output_type": "execute_result"
    },
    {
     "name": "stdout",
     "output_type": "stream",
     "text": [
      "No. of records w/ to be removed: 625\n"
     ]
    }
   ],
   "source": [
    "print(\"sample of records with null Unnamed columns \")\n",
    "data17[data17['Unnamed: 13'].isnull()].iloc[1:5,13:17]\n",
    "print(\"No. of records w/ to be removed:\", len(data17[data17['Unnamed: 13'].notnull()]))\n",
    "data17 = data17.drop(data17.columns[13:17],axis=1)"
   ]
  },
  {
   "cell_type": "markdown",
   "metadata": {},
   "source": [
    "**Remove records with null response variables.** <br> \n",
    "Find that removing null goal values also removes all null backers. "
   ]
  },
  {
   "cell_type": "code",
   "execution_count": 60,
   "metadata": {},
   "outputs": [
    {
     "name": "stdout",
     "output_type": "stream",
     "text": [
      "No. of Null Backers\n"
     ]
    },
    {
     "data": {
      "text/plain": [
       "0"
      ]
     },
     "execution_count": 60,
     "metadata": {},
     "output_type": "execute_result"
    },
    {
     "name": "stdout",
     "output_type": "stream",
     "text": [
      "No. of Null goals \n"
     ]
    },
    {
     "data": {
      "text/plain": [
       "0"
      ]
     },
     "execution_count": 60,
     "metadata": {},
     "output_type": "execute_result"
    }
   ],
   "source": [
    "nan_goal_id = data17.ID[data17.goal.isnull()]\n",
    "data17 = data17.drop(data17[data17.ID.isin(nan_goal_id)].index)\n",
    "print('No. of Null Backers')\n",
    "len(data17[data17.backers.isnull()])\n",
    "print(\"No. of Null goals \")\n",
    "len(data17[data17.goal.isnull()])\n"
   ]
  },
  {
   "cell_type": "markdown",
   "metadata": {},
   "source": [
    "**Format dates and numeric fields**"
   ]
  },
  {
   "cell_type": "code",
   "execution_count": 61,
   "metadata": {},
   "outputs": [
    {
     "data": {
      "text/plain": [
       "goal           float64\n",
       "pledged        float64\n",
       "usd pledged    float64\n",
       "backers        float64\n",
       "dtype: object"
      ]
     },
     "execution_count": 61,
     "metadata": {},
     "output_type": "execute_result"
    },
    {
     "data": {
      "text/plain": [
       "ID                        int64\n",
       "name                     object\n",
       "category                 object\n",
       "main_category            object\n",
       "currency                 object\n",
       "deadline         datetime64[ns]\n",
       "goal                    float64\n",
       "launched         datetime64[ns]\n",
       "pledged                 float64\n",
       "state                    object\n",
       "backers                 float64\n",
       "country                  object\n",
       "usd pledged             float64\n",
       "dtype: object"
      ]
     },
     "execution_count": 61,
     "metadata": {},
     "output_type": "execute_result"
    }
   ],
   "source": [
    "# Numeric: convert goal, pledged, backers, and usd pledged to numbers \n",
    "data17['goal'] = pd.to_numeric(data17.goal, errors='coerce')\n",
    "data17['pledged'] = pd.to_numeric(data17.pledged, errors='coerce')\n",
    "data17['usd pledged'] = pd.to_numeric(data17['usd pledged'], errors='coerce')\n",
    "data17['backers'] = pd.to_numeric(data17.backers, errors='coerce')\n",
    "data17[['goal','pledged','usd pledged','backers']].dtypes\n",
    "\n",
    "# Format dates\n",
    "data17.launched = pd.to_datetime(data17.launched)\n",
    "data17.deadline = pd.to_datetime(data17.deadline)\n",
    "data17.dtypes"
   ]
  },
  {
   "cell_type": "code",
   "execution_count": 43,
   "metadata": {},
   "outputs": [
    {
     "data": {
      "text/plain": [
       "0"
      ]
     },
     "execution_count": 43,
     "metadata": {},
     "output_type": "execute_result"
    }
   ],
   "source": [
    "# Check for duplicates='ID'\n",
    "dup = data17[data17.duplicated(subset='ID',keep=False)]\n",
    "len(dup)"
   ]
  },
  {
   "cell_type": "markdown",
   "metadata": {},
   "source": [
    "### Preprocessing Kickstarter 2010-15 Series\n",
    "1. Format Dates \n",
    "2. Check for duplicates"
   ]
  },
  {
   "cell_type": "code",
   "execution_count": 44,
   "metadata": {},
   "outputs": [
    {
     "data": {
      "text/plain": [
       "deadline            datetime64[ns]\n",
       "state_changed_at    datetime64[ns]\n",
       "created_at          datetime64[ns]\n",
       "launched_at         datetime64[ns]\n",
       "dtype: object"
      ]
     },
     "execution_count": 44,
     "metadata": {},
     "output_type": "execute_result"
    },
    {
     "data": {
      "text/html": [
       "<div>\n",
       "<style scoped>\n",
       "    .dataframe tbody tr th:only-of-type {\n",
       "        vertical-align: middle;\n",
       "    }\n",
       "\n",
       "    .dataframe tbody tr th {\n",
       "        vertical-align: top;\n",
       "    }\n",
       "\n",
       "    .dataframe thead th {\n",
       "        text-align: right;\n",
       "    }\n",
       "</style>\n",
       "<table border=\"1\" class=\"dataframe\">\n",
       "  <thead>\n",
       "    <tr style=\"text-align: right;\">\n",
       "      <th></th>\n",
       "      <th>deadline</th>\n",
       "      <th>state_changed_at</th>\n",
       "      <th>created_at</th>\n",
       "      <th>launched_at</th>\n",
       "    </tr>\n",
       "  </thead>\n",
       "  <tbody>\n",
       "    <tr>\n",
       "      <th>0</th>\n",
       "      <td>2009-05-03 06:59:59</td>\n",
       "      <td>2009-05-03 07:00:17</td>\n",
       "      <td>2009-04-24 19:15:07</td>\n",
       "      <td>2009-04-24 19:52:03</td>\n",
       "    </tr>\n",
       "    <tr>\n",
       "      <th>1</th>\n",
       "      <td>2009-05-15 23:10:00</td>\n",
       "      <td>2009-05-16 00:00:18</td>\n",
       "      <td>2009-04-28 23:10:24</td>\n",
       "      <td>2009-04-29 03:26:32</td>\n",
       "    </tr>\n",
       "    <tr>\n",
       "      <th>2</th>\n",
       "      <td>2009-05-22 21:26:00</td>\n",
       "      <td>2009-05-22 21:30:18</td>\n",
       "      <td>2009-05-12 21:26:53</td>\n",
       "      <td>2009-05-12 21:39:58</td>\n",
       "    </tr>\n",
       "    <tr>\n",
       "      <th>3</th>\n",
       "      <td>2009-05-29 00:09:00</td>\n",
       "      <td>2009-05-29 00:15:21</td>\n",
       "      <td>2009-04-29 00:09:55</td>\n",
       "      <td>2009-04-29 00:58:50</td>\n",
       "    </tr>\n",
       "    <tr>\n",
       "      <th>4</th>\n",
       "      <td>2009-05-31 11:38:00</td>\n",
       "      <td>2009-05-31 11:45:17</td>\n",
       "      <td>2009-05-01 11:38:34</td>\n",
       "      <td>2009-05-01 12:22:21</td>\n",
       "    </tr>\n",
       "  </tbody>\n",
       "</table>\n",
       "</div>"
      ],
      "text/plain": [
       "             deadline    state_changed_at          created_at  \\\n",
       "0 2009-05-03 06:59:59 2009-05-03 07:00:17 2009-04-24 19:15:07   \n",
       "1 2009-05-15 23:10:00 2009-05-16 00:00:18 2009-04-28 23:10:24   \n",
       "2 2009-05-22 21:26:00 2009-05-22 21:30:18 2009-05-12 21:26:53   \n",
       "3 2009-05-29 00:09:00 2009-05-29 00:15:21 2009-04-29 00:09:55   \n",
       "4 2009-05-31 11:38:00 2009-05-31 11:45:17 2009-05-01 11:38:34   \n",
       "\n",
       "          launched_at  \n",
       "0 2009-04-24 19:52:03  \n",
       "1 2009-04-29 03:26:32  \n",
       "2 2009-05-12 21:39:58  \n",
       "3 2009-04-29 00:58:50  \n",
       "4 2009-05-01 12:22:21  "
      ]
     },
     "execution_count": 44,
     "metadata": {},
     "output_type": "execute_result"
    }
   ],
   "source": [
    "data15.deadline = pd.to_datetime(data15.deadline, origin='unix', unit='s')\n",
    "data15.state_changed_at = pd.to_datetime(data15.state_changed_at, origin='unix', unit='s')\n",
    "data15.created_at = pd.to_datetime(data15.created_at, origin='unix', unit='s')\n",
    "data15.launched_at = pd.to_datetime(data15.launched_at, origin='unix', unit='s')\n",
    "data15[['deadline','state_changed_at','created_at','launched_at']].dtypes\n",
    "data15[['deadline','state_changed_at','created_at','launched_at']].head()"
   ]
  },
  {
   "cell_type": "code",
   "execution_count": 45,
   "metadata": {},
   "outputs": [
    {
     "data": {
      "text/plain": [
       "0"
      ]
     },
     "execution_count": 45,
     "metadata": {},
     "output_type": "execute_result"
    }
   ],
   "source": [
    "# check for duplicates \n",
    "dup = data15[data15.duplicated(subset='project_id',keep=False) ]\n",
    "len(dup)  # no duplicates "
   ]
  },
  {
   "cell_type": "markdown",
   "metadata": {},
   "source": [
    "## Preprocessing of 4k-record set"
   ]
  },
  {
   "cell_type": "markdown",
   "metadata": {},
   "source": [
    "### 4k set: Processing Pledge & Backer Tiers\n",
    "While small (4k records), this is the only dataset contains **Pledge tiers and backers**, both of which are stored in lists. We use the below functions to create a flattened version of the dataframe. \n",
    "Example list:  [1.0, 14.0, 19.0, 19.0, 35.0, 35.0, 79.0, 79.0, 129.0, 129.0, 849.0, 849.0]\n",
    "Three functions are created assuming list item stored as text with brackets. <br>\n",
    "1. Length of List: Returns length of a list for each row\n",
    "2. Flatten contents: Create new row record for each item in list. \n",
    "3. Create new expanded dataframe with each list item receiving new row (rest of df stays same). "
   ]
  },
  {
   "cell_type": "code",
   "execution_count": 47,
   "metadata": {},
   "outputs": [],
   "source": [
    "# Function: break lists into seperate lines \n",
    "    # Function flat_len_list returns length of each list: \n",
    "def flat_len_list(df, list_column): \n",
    "    len_list = []\n",
    "    for fld_row in range(df.shape[0]):\n",
    "        rec = df[list_column][fld_row][1:-1]   # remove open/close brackets from list \n",
    "        rec_split = rec.split(',') \n",
    "        len_list.append(len(rec_split))       # append list 'lengths'\n",
    "    return len_list \n",
    " \n",
    "    # Function flatten_list_df creates expanded list with each tier receiving a record.  \n",
    "def flatten_list_df(df, list_column): \n",
    "    t_list = []\n",
    "    for fld_row in range(df.shape[0]):\n",
    "        rec = df[list_column][fld_row][1:-1]   # remove open/close brackets from list \n",
    "        rec_split = rec.split(',') \n",
    "        for x in rec_split:\n",
    "            t_list.append(x)\n",
    "    return t_list "
   ]
  },
  {
   "cell_type": "code",
   "execution_count": 48,
   "metadata": {},
   "outputs": [],
   "source": [
    "# Function to flatten og dataset and add flat fields \n",
    "def expand_df_flatten(df, list_column, new_column):\n",
    "    lens_of_lists = flat_len_list(df, list_column) \n",
    "    origin_rows = range(df.shape[0])   # range object for no. of rows: 4k rows \n",
    "    \"\"\" create array marking each digit with its row. \n",
    "    For instance first list (row zero) has 26 digits, 2nd list 75 digits. 3rd list has 457 digits \n",
    "    destination rows will have 26 0's, 75 1's, 457 2's.... \n",
    "    This will be used for number of row copies. \n",
    "    \"\"\"\n",
    "    destination_rows = np.repeat(origin_rows, lens_of_lists)\n",
    "        # create DF excluding list column \n",
    "    non_list_cols = (\n",
    "      [idx for idx, col in enumerate(df.columns)\n",
    "       if col != list_column]\n",
    "    )\n",
    "    expanded_df = df.iloc[destination_rows, non_list_cols].copy()\n",
    "    expanded_df[new_column] = flatten_list_df(df, list_column) \n",
    "    return expanded_df"
   ]
  },
  {
   "cell_type": "markdown",
   "metadata": {},
   "source": [
    "### Text Processing\n",
    "Import packages and load functionns. "
   ]
  },
  {
   "cell_type": "code",
   "execution_count": 5,
   "metadata": {},
   "outputs": [],
   "source": [
    "wlem = WNL()  # Inititate Lemmatizer"
   ]
  },
  {
   "cell_type": "code",
   "execution_count": 6,
   "metadata": {},
   "outputs": [],
   "source": [
    "def get_wordnet_pos(pos_tag):\n",
    "    if pos_tag.startswith('J'):\n",
    "        return wordnet.ADJ\n",
    "    elif pos_tag.startswith('V'):\n",
    "        return wordnet.VERB\n",
    "    elif pos_tag.startswith('N'):\n",
    "        return wordnet.NOUN\n",
    "    elif pos_tag.startswith('R'):\n",
    "        return wordnet.ADV\n",
    "    else:\n",
    "        return wordnet.NOUN"
   ]
  },
  {
   "cell_type": "code",
   "execution_count": 7,
   "metadata": {},
   "outputs": [],
   "source": [
    "# Function for word presence: takes a string of words, seperates them, and checks for presence of word \n",
    "def str_presence(input_string, search_string):\n",
    "    token = input_string\n",
    "    token = token.lower()\n",
    "    token = token.translate(token.maketrans('','',string.punctuation))\n",
    "    token = [tk.strip() for tk in token.split(\"-\")] \n",
    "    token = [tk for tk in token if len(tk)>2]   # remove article words\n",
    "    # pos_tags = pos_tag(token)\n",
    "    # token = [wlem.lemmatize(t[0],get_wordnet_pos(t[1])) for t in pos_tags]\n",
    "    return int(any(x in token for x in search_string))"
   ]
  },
  {
   "cell_type": "markdown",
   "metadata": {},
   "source": [
    "### Response Variables (2010-7 set) \n",
    "1. Average Pledge \n",
    "2. Pledged vs. Goal\n",
    "3. State: Currently has 6 states: convert to 2: success/failure "
   ]
  },
  {
   "cell_type": "code",
   "execution_count": 65,
   "metadata": {},
   "outputs": [
    {
     "name": "stdout",
     "output_type": "stream",
     "text": [
      "Avg Pledge Stats:\n"
     ]
    },
    {
     "data": {
      "text/plain": [
       "DescribeResult(nobs=323118, minmax=(0.0, 10000.0), mean=59.78752558892141, variance=17451.190525467344, skewness=25.40103612965577, kurtosis=1312.1669675800613)"
      ]
     },
     "execution_count": 65,
     "metadata": {},
     "output_type": "execute_result"
    },
    {
     "name": "stdout",
     "output_type": "stream",
     "text": [
      "Pledged v. Goal Stats:\n"
     ]
    },
    {
     "data": {
      "text/plain": [
       "DescribeResult(nobs=323118, minmax=(0.0, 55266.57), mean=2.6102743624017553, variance=30920.894458854862, skewness=190.1314333700369, kurtosis=46355.55784777164)"
      ]
     },
     "execution_count": 65,
     "metadata": {},
     "output_type": "execute_result"
    }
   ],
   "source": [
    "# Average Pledge \n",
    "data17['avg_pledge'] = np.where(data17['backers']==0,0,data17['usd pledged'] / data17['backers'] )\n",
    "print(\"Avg Pledge Stats:\")\n",
    "stats.describe(data17['avg_pledge'])\n",
    "\n",
    "# Pledged v. Goal \n",
    "data17['pledgedvgoal'] = np.where(data17[\"usd pledged\"].isnull(), 0, data17['usd pledged'] / data17['goal'])\n",
    "print(\"Pledged v. Goal Stats:\")\n",
    "stats.describe(data17['pledgedvgoal'])"
   ]
  },
  {
   "cell_type": "markdown",
   "metadata": {},
   "source": [
    "**Evalute State (Data17)**"
   ]
  },
  {
   "cell_type": "code",
   "execution_count": 66,
   "metadata": {},
   "outputs": [
    {
     "data": {
      "text/plain": [
       "failed        168221\n",
       "successful    113081\n",
       "canceled       32354\n",
       "live            4428\n",
       "undefined       3555\n",
       "suspended       1479\n",
       "Name: state, dtype: int64"
      ]
     },
     "execution_count": 66,
     "metadata": {},
     "output_type": "execute_result"
    }
   ],
   "source": [
    "    # Status: State value counts \n",
    "data17.state.value_counts()"
   ]
  },
  {
   "cell_type": "code",
   "execution_count": 67,
   "metadata": {},
   "outputs": [
    {
     "name": "stdout",
     "output_type": "stream",
     "text": [
      "stats for canceled\n"
     ]
    },
    {
     "data": {
      "text/plain": [
       "count   32354.00\n",
       "mean        1.42\n",
       "std       118.73\n",
       "min         0.00\n",
       "25%         0.00\n",
       "50%         0.01\n",
       "75%         0.08\n",
       "max     16283.38\n",
       "Name: pledgedvgoal, dtype: float64"
      ]
     },
     "execution_count": 67,
     "metadata": {},
     "output_type": "execute_result"
    },
    {
     "name": "stdout",
     "output_type": "stream",
     "text": [
      "stats for suspended\n"
     ]
    },
    {
     "data": {
      "text/plain": [
       "count   1479.00\n",
       "mean       1.52\n",
       "std       17.80\n",
       "min        0.00\n",
       "25%        0.00\n",
       "50%        0.01\n",
       "75%        0.25\n",
       "max      560.40\n",
       "Name: pledgedvgoal, dtype: float64"
      ]
     },
     "execution_count": 67,
     "metadata": {},
     "output_type": "execute_result"
    },
    {
     "name": "stdout",
     "output_type": "stream",
     "text": [
      "stats for undefined\n"
     ]
    },
    {
     "data": {
      "text/plain": [
       "count   3555.00\n",
       "mean       0.00\n",
       "std        0.00\n",
       "min        0.00\n",
       "25%        0.00\n",
       "50%        0.00\n",
       "75%        0.00\n",
       "max        0.00\n",
       "Name: pledgedvgoal, dtype: float64"
      ]
     },
     "execution_count": 67,
     "metadata": {},
     "output_type": "execute_result"
    }
   ],
   "source": [
    "# State: Evaluate which states to keep \n",
    "print(\"stats for canceled\")\n",
    "data17.pledgedvgoal[data17['state']=='canceled'].describe()  # median close to 0 with massive outliers \n",
    "print(\"stats for suspended\")\n",
    "data17.pledgedvgoal[data17['state']=='suspended'].describe()  # designate as fail\n",
    "print(\"stats for undefined\")\n",
    "data17.pledgedvgoal[data17['state']=='undefined'].describe()  # all zeroes: remove  \n",
    "data17 = data17[data17['state'].isin(['failed','successful','canceled','suspended'])]"
   ]
  },
  {
   "cell_type": "markdown",
   "metadata": {},
   "source": [
    "From results above, remove 'state' records that are live or undefined <br> \n",
    "For remaining records, Create new field **status**: <br>  \n",
    "1: State = 'Successful' \n",
    "0: everything else "
   ]
  },
  {
   "cell_type": "code",
   "execution_count": 69,
   "metadata": {},
   "outputs": [],
   "source": [
    "# remove Live and undefined \n",
    "data17 = data17[data17['state'].isin(['failed','successful','canceled','undefined'])]"
   ]
  },
  {
   "cell_type": "code",
   "execution_count": 72,
   "metadata": {},
   "outputs": [
    {
     "data": {
      "text/plain": [
       "Counter({0: 200575, 1: 113081})"
      ]
     },
     "execution_count": 72,
     "metadata": {},
     "output_type": "execute_result"
    }
   ],
   "source": [
    "status = np.where(data17['state'] == 'successful', 1, 0)\n",
    "collections.Counter(status)\n",
    "    # add Status to datafreame \n",
    "data17['outcome'] = status"
   ]
  },
  {
   "cell_type": "code",
   "execution_count": 76,
   "metadata": {},
   "outputs": [
    {
     "data": {
      "text/plain": [
       "Index(['ID', 'name', 'category', 'main_category', 'currency', 'deadline',\n",
       "       'goal', 'launched', 'pledged', 'state', 'backers', 'country',\n",
       "       'usd pledged', 'avg_pledge', 'pledgedvgoal', 'outcome'],\n",
       "      dtype='object')"
      ]
     },
     "execution_count": 76,
     "metadata": {},
     "output_type": "execute_result"
    }
   ],
   "source": [
    "data17.columns"
   ]
  },
  {
   "cell_type": "markdown",
   "metadata": {},
   "source": [
    "### Response Variables (2009-5 set: data15) \n",
    "Comes with backer count and status. Pledge amount not provided. "
   ]
  },
  {
   "cell_type": "markdown",
   "metadata": {},
   "source": [
    "### Response Variable (4k set) \n",
    "1. Average Pledge\n",
    "2. Pledged vs. Goal "
   ]
  },
  {
   "cell_type": "code",
   "execution_count": 79,
   "metadata": {},
   "outputs": [],
   "source": [
    "data_sht['avg_pledge'] = data_sht[\"amt.pledged\"] / data_sht['num.backers']    #average pledge per campaign  \n",
    "data_sht['pledged_vgoal'] = data_sht['amt.pledged'] / data_sht['goal']"
   ]
  },
  {
   "cell_type": "markdown",
   "metadata": {},
   "source": [
    "**Response variable (2010-7 set)** <br> \n",
    "   a. Pledged vs. Goal: Measures magnitude of success <br> \n",
    "   b. Average Pledge  <br> "
   ]
  },
  {
   "cell_type": "markdown",
   "metadata": {},
   "source": [
    "## Exploration (EDA) \n",
    "\n",
    "### Category Research (Data_sht set) \n",
    "A quick look the shortest dataset (4k records): shows category and currency are easier to pivot on."
   ]
  },
  {
   "cell_type": "code",
   "execution_count": 22,
   "metadata": {},
   "outputs": [
    {
     "data": {
      "text/plain": [
       "Unnamed: 0          4000\n",
       "amt.pledged         3968\n",
       "blurb               3975\n",
       "by                  3137\n",
       "category             115\n",
       "currency               9\n",
       "goal                 348\n",
       "location             806\n",
       "num.backers         2361\n",
       "num.backers.tier    3993\n",
       "pledge.tier         3973\n",
       "title               3990\n",
       "url                 3993\n",
       "avg_pledge          3993\n",
       "pledged_vgoal       3987\n",
       "dtype: int64"
      ]
     },
     "execution_count": 22,
     "metadata": {},
     "output_type": "execute_result"
    }
   ],
   "source": [
    "data_sht.nunique(axis=0)"
   ]
  },
  {
   "cell_type": "markdown",
   "metadata": {},
   "source": [
    "**Category Research** \n",
    "Pivot on category: <br> \n",
    "1. Top categories are Sculptures, Thrillers, and 3D Printing.  \n",
    "2. Worst Categories: Young Adult, Journals, and Metal. Interestingly, Apps are among worst for average pledge, but among best for outperformance vs. goal. \n"
   ]
  },
  {
   "cell_type": "code",
   "execution_count": 91,
   "metadata": {},
   "outputs": [
    {
     "data": {
      "text/plain": [
       "Index(['Unnamed: 0', 'amt.pledged', 'blurb', 'by', 'category', 'currency',\n",
       "       'goal', 'location', 'num.backers', 'num.backers.tier', 'pledge.tier',\n",
       "       'title', 'url', 'avg_pledge', 'pledged_vgoal'],\n",
       "      dtype='object')"
      ]
     },
     "execution_count": 91,
     "metadata": {},
     "output_type": "execute_result"
    }
   ],
   "source": [
    "data_sht.columns"
   ]
  },
  {
   "cell_type": "code",
   "execution_count": 86,
   "metadata": {},
   "outputs": [
    {
     "data": {
      "text/plain": [
       "Text(0.5, 1.0, 'Top Categories Sorted by Average Pledge')"
      ]
     },
     "execution_count": 86,
     "metadata": {},
     "output_type": "execute_result"
    },
    {
     "data": {
      "image/png": "[encoded data removed]",
      "text/plain": [
       "<Figure size 576x504 with 1 Axes>"
      ]
     },
     "metadata": {},
     "output_type": "display_data"
    }
   ],
   "source": [
    "cat_pd = pd.pivot_table(data_sht,index='category',values=['avg_pledge','pledged_vgoal'], aggfunc=np.mean)\n",
    "cat_pd.sort_values(by = 'avg_pledge', ascending=False)[1:10].plot(kind='bar').set_title(\"Top Categories Sorted by Average Pledge\")"
   ]
  },
  {
   "cell_type": "code",
   "execution_count": 88,
   "metadata": {},
   "outputs": [
    {
     "data": {
      "text/plain": [
       "Text(0.5, 1.0, 'Worst Categories Sorted by Average Pledge')"
      ]
     },
     "execution_count": 88,
     "metadata": {},
     "output_type": "execute_result"
    },
    {
     "data": {
      "image/png": "[encoded data removed]",
      "text/plain": [
       "<Figure size 576x504 with 1 Axes>"
      ]
     },
     "metadata": {},
     "output_type": "display_data"
    }
   ],
   "source": [
    "cat_pd.sort_values(by = 'avg_pledge', ascending=True)[1:10].plot(kind='bar').set_title(\"Worst Categories Sorted by Average Pledge\")"
   ]
  },
  {
   "cell_type": "markdown",
   "metadata": {},
   "source": [
    "We also look at average pledge numbers for the highest frequencies categories. <br> \n"
   ]
  },
  {
   "cell_type": "code",
   "execution_count": 98,
   "metadata": {},
   "outputs": [
    {
     "data": {
      "text/plain": [
       "16"
      ]
     },
     "execution_count": 98,
     "metadata": {},
     "output_type": "execute_result"
    }
   ],
   "source": [
    "# Aggregate: Category level \n",
    "cat_valcount = pd.DataFrame(data_sht.category.value_counts())\n",
    "cat_valcount.reset_index(level=0, inplace=True)\n",
    "cat_valcount.columns = ['category','value_count']\n",
    "avg_pledge_cat = data_sht.groupby(\"category\").apply(lambda x: np.mean(x['amt.pledged']/x['num.backers'])).reset_index()\n",
    "pledged_vgoal = data_sht.groupby('category')['pledged_vgoal'].mean().reset_index()\n",
    "\n",
    "# merge category level aggregations \n",
    "cat_groups = pd.merge(avg_pledge_cat, pledged_vgoal.merge(cat_valcount,on='category'), on='category', how='left')\n",
    "cat_groups_highval = cat_groups[cat_groups.value_count >= 40]  # isolate only highest frequency values \n",
    "len(cat_groups_highval) \n",
    "cat_groups_highval.columns = ['category','avg_pledge_backer','pledged_vgoal','value_count']"
   ]
  },
  {
   "cell_type": "code",
   "execution_count": 100,
   "metadata": {},
   "outputs": [
    {
     "data": {
      "text/plain": [
       "Text(0.5, 1.0, 'Average Pledge/Backer vs. Category  Top Freq Category')"
      ]
     },
     "execution_count": 100,
     "metadata": {},
     "output_type": "execute_result"
    },
    {
     "data": {
      "image/png": "[encoded data removed]",
      "text/plain": [
       "<Figure size 576x504 with 1 Axes>"
      ]
     },
     "metadata": {},
     "output_type": "display_data"
    }
   ],
   "source": [
    "# plot Average pledge/backer against categories for high frequency categories\n",
    "sns.barplot(x='avg_pledge_backer', y = 'category', \n",
    "            data=cat_groups_highval).set_title(\"Average Pledge/Backer vs. Category  Top Freq Category\")"
   ]
  },
  {
   "cell_type": "markdown",
   "metadata": {},
   "source": [
    "### Category Research (Data 17): \n",
    "Data17 has over 300k records and shows both a \"main category\" and a sub-category <br> \n",
    "We take a look at Fashion and the **sub-category counts** within it. "
   ]
  },
  {
   "cell_type": "code",
   "execution_count": 89,
   "metadata": {},
   "outputs": [
    {
     "data": {
      "text/plain": [
       "<matplotlib.axes._subplots.AxesSubplot at 0x28d3bff0828>"
      ]
     },
     "execution_count": 89,
     "metadata": {},
     "output_type": "execute_result"
    },
    {
     "name": "stdout",
     "output_type": "stream",
     "text": [
      "num records in main category: Fashion 17938\n"
     ]
    },
    {
     "data": {
      "image/png": "[encoded data removed]",
      "text/plain": [
       "<Figure size 576x504 with 1 Axes>"
      ]
     },
     "metadata": {},
     "output_type": "display_data"
    }
   ],
   "source": [
    "# create df just for fashion \n",
    "ks_fash = data17[data17.main_category=='Fashion']\n",
    "ks_fash.category.value_counts().plot(kind='bar')\n",
    "print(\"num records in main category: Fashion\", len(ks_fash))"
   ]
  },
  {
   "cell_type": "markdown",
   "metadata": {},
   "source": [
    "We now expand past the broader Fashion cateogry (**Orelse** categories), and run the same count per sub-category. The main addition is 'Product Design' which has nearly 17k additional records. "
   ]
  },
  {
   "cell_type": "code",
   "execution_count": 105,
   "metadata": {},
   "outputs": [
    {
     "name": "stdout",
     "output_type": "stream",
     "text": [
      "Num of records in Orelse Category:  38448\n"
     ]
    },
    {
     "data": {
      "text/plain": [
       "<matplotlib.axes._subplots.AxesSubplot at 0x28d45630cf8>"
      ]
     },
     "execution_count": 105,
     "metadata": {},
     "output_type": "execute_result"
    },
    {
     "data": {
      "image/png": "[encoded data removed]",
      "text/plain": [
       "<Figure size 576x504 with 1 Axes>"
      ]
     },
     "metadata": {},
     "output_type": "display_data"
    }
   ],
   "source": [
    "# Edit Orelse category list \n",
    "oe_cat = ['Apparel','Accessories','Childrenswear','Couture', 'Crafts', 'Fashion', 'Jewelry',\n",
    "          'Knitting','Pet Fashion', 'Product Design', 'Quilts','Ready-to-wear','Textiles', 'Weaving']\n",
    "ks_oe = data17[data17.category.isin(oe_cat)]\n",
    "print(\"Num of records in Orelse Category: \", len(ks_oe))\n",
    "ks_oe.category.value_counts().plot(kind='bar')"
   ]
  },
  {
   "cell_type": "markdown",
   "metadata": {},
   "source": [
    "### Launch Month Analysis "
   ]
  },
  {
   "cell_type": "code",
   "execution_count": 106,
   "metadata": {},
   "outputs": [],
   "source": [
    "# Launch month Analysis : Create Field\n",
    "launch_month = data17['launched'].dt.month\n",
    "data17['launch_month'] = launch_month\n",
    "ks_oe = data17[data17.category.isin(oe_cat)]"
   ]
  },
  {
   "cell_type": "code",
   "execution_count": 107,
   "metadata": {},
   "outputs": [
    {
     "data": {
      "text/plain": [
       "<matplotlib.axes._subplots.AxesSubplot at 0x28d52530320>"
      ]
     },
     "execution_count": 107,
     "metadata": {},
     "output_type": "execute_result"
    },
    {
     "data": {
      "text/html": [
       "<div>\n",
       "<style scoped>\n",
       "    .dataframe tbody tr th:only-of-type {\n",
       "        vertical-align: middle;\n",
       "    }\n",
       "\n",
       "    .dataframe tbody tr th {\n",
       "        vertical-align: top;\n",
       "    }\n",
       "\n",
       "    .dataframe thead th {\n",
       "        text-align: right;\n",
       "    }\n",
       "</style>\n",
       "<table border=\"1\" class=\"dataframe\">\n",
       "  <thead>\n",
       "    <tr style=\"text-align: right;\">\n",
       "      <th>outcome</th>\n",
       "      <th>0</th>\n",
       "      <th>1</th>\n",
       "      <th>success_perc</th>\n",
       "    </tr>\n",
       "    <tr>\n",
       "      <th>launch_month</th>\n",
       "      <th></th>\n",
       "      <th></th>\n",
       "      <th></th>\n",
       "    </tr>\n",
       "  </thead>\n",
       "  <tbody>\n",
       "    <tr>\n",
       "      <th>1</th>\n",
       "      <td>2028</td>\n",
       "      <td>718</td>\n",
       "      <td>0.26</td>\n",
       "    </tr>\n",
       "    <tr>\n",
       "      <th>2</th>\n",
       "      <td>2138</td>\n",
       "      <td>806</td>\n",
       "      <td>0.27</td>\n",
       "    </tr>\n",
       "    <tr>\n",
       "      <th>3</th>\n",
       "      <td>2380</td>\n",
       "      <td>980</td>\n",
       "      <td>0.29</td>\n",
       "    </tr>\n",
       "    <tr>\n",
       "      <th>4</th>\n",
       "      <td>2176</td>\n",
       "      <td>930</td>\n",
       "      <td>0.30</td>\n",
       "    </tr>\n",
       "    <tr>\n",
       "      <th>5</th>\n",
       "      <td>2259</td>\n",
       "      <td>896</td>\n",
       "      <td>0.28</td>\n",
       "    </tr>\n",
       "    <tr>\n",
       "      <th>6</th>\n",
       "      <td>2468</td>\n",
       "      <td>975</td>\n",
       "      <td>0.28</td>\n",
       "    </tr>\n",
       "    <tr>\n",
       "      <th>7</th>\n",
       "      <td>2666</td>\n",
       "      <td>995</td>\n",
       "      <td>0.27</td>\n",
       "    </tr>\n",
       "    <tr>\n",
       "      <th>8</th>\n",
       "      <td>2410</td>\n",
       "      <td>891</td>\n",
       "      <td>0.27</td>\n",
       "    </tr>\n",
       "    <tr>\n",
       "      <th>9</th>\n",
       "      <td>2371</td>\n",
       "      <td>1029</td>\n",
       "      <td>0.30</td>\n",
       "    </tr>\n",
       "    <tr>\n",
       "      <th>10</th>\n",
       "      <td>2542</td>\n",
       "      <td>1204</td>\n",
       "      <td>0.32</td>\n",
       "    </tr>\n",
       "    <tr>\n",
       "      <th>11</th>\n",
       "      <td>2337</td>\n",
       "      <td>1086</td>\n",
       "      <td>0.32</td>\n",
       "    </tr>\n",
       "    <tr>\n",
       "      <th>12</th>\n",
       "      <td>1555</td>\n",
       "      <td>608</td>\n",
       "      <td>0.28</td>\n",
       "    </tr>\n",
       "  </tbody>\n",
       "</table>\n",
       "</div>"
      ],
      "text/plain": [
       "outcome          0     1  success_perc\n",
       "launch_month                          \n",
       "1             2028   718          0.26\n",
       "2             2138   806          0.27\n",
       "3             2380   980          0.29\n",
       "4             2176   930          0.30\n",
       "5             2259   896          0.28\n",
       "6             2468   975          0.28\n",
       "7             2666   995          0.27\n",
       "8             2410   891          0.27\n",
       "9             2371  1029          0.30\n",
       "10            2542  1204          0.32\n",
       "11            2337  1086          0.32\n",
       "12            1555   608          0.28"
      ]
     },
     "execution_count": 107,
     "metadata": {},
     "output_type": "execute_result"
    },
    {
     "data": {
      "image/png": "[encoded data removed]",
      "text/plain": [
       "<Figure size 576x504 with 1 Axes>"
      ]
     },
     "metadata": {},
     "output_type": "display_data"
    }
   ],
   "source": [
    "# check launch month for fashion categories: See Average PLedge \n",
    "launch_pivot = pd.pivot_table(ks_oe, index='launch_month',values='outcome', aggfunc=np.mean)\n",
    "launch_outcome = pd.crosstab(ks_oe.launch_month, ks_oe.outcome)\n",
    "launch_outcome['success_perc'] = launch_pivot.outcome\n",
    "launch_outcome[launch_outcome.columns[0:2]].plot(kind='bar', \n",
    "            stacked=True, color=['cyan', 'magenta'], grid=False, title='Outcome by month')\n",
    "launch_outcome   # Note  Lower outcome rates for Orelse categories"
   ]
  },
  {
   "cell_type": "code",
   "execution_count": 109,
   "metadata": {},
   "outputs": [
    {
     "data": {
      "text/plain": [
       "pandas.core.frame.DataFrame"
      ]
     },
     "execution_count": 109,
     "metadata": {},
     "output_type": "execute_result"
    },
    {
     "data": {
      "text/plain": [
       "Text(0.5, 1.0, 'Average Pledge/Backer by Launch Month')"
      ]
     },
     "execution_count": 109,
     "metadata": {},
     "output_type": "execute_result"
    },
    {
     "data": {
      "text/html": [
       "<div>\n",
       "<style scoped>\n",
       "    .dataframe tbody tr th:only-of-type {\n",
       "        vertical-align: middle;\n",
       "    }\n",
       "\n",
       "    .dataframe tbody tr th {\n",
       "        vertical-align: top;\n",
       "    }\n",
       "\n",
       "    .dataframe thead th {\n",
       "        text-align: right;\n",
       "    }\n",
       "</style>\n",
       "<table border=\"1\" class=\"dataframe\">\n",
       "  <thead>\n",
       "    <tr style=\"text-align: right;\">\n",
       "      <th></th>\n",
       "      <th>launch_month</th>\n",
       "      <th>avg_pledge</th>\n",
       "    </tr>\n",
       "  </thead>\n",
       "  <tbody>\n",
       "    <tr>\n",
       "      <th>0</th>\n",
       "      <td>1</td>\n",
       "      <td>57.81</td>\n",
       "    </tr>\n",
       "    <tr>\n",
       "      <th>1</th>\n",
       "      <td>2</td>\n",
       "      <td>63.10</td>\n",
       "    </tr>\n",
       "    <tr>\n",
       "      <th>2</th>\n",
       "      <td>3</td>\n",
       "      <td>65.68</td>\n",
       "    </tr>\n",
       "    <tr>\n",
       "      <th>3</th>\n",
       "      <td>4</td>\n",
       "      <td>64.25</td>\n",
       "    </tr>\n",
       "    <tr>\n",
       "      <th>4</th>\n",
       "      <td>5</td>\n",
       "      <td>66.50</td>\n",
       "    </tr>\n",
       "    <tr>\n",
       "      <th>5</th>\n",
       "      <td>6</td>\n",
       "      <td>63.12</td>\n",
       "    </tr>\n",
       "    <tr>\n",
       "      <th>6</th>\n",
       "      <td>7</td>\n",
       "      <td>51.57</td>\n",
       "    </tr>\n",
       "    <tr>\n",
       "      <th>7</th>\n",
       "      <td>8</td>\n",
       "      <td>53.90</td>\n",
       "    </tr>\n",
       "    <tr>\n",
       "      <th>8</th>\n",
       "      <td>9</td>\n",
       "      <td>59.40</td>\n",
       "    </tr>\n",
       "    <tr>\n",
       "      <th>9</th>\n",
       "      <td>10</td>\n",
       "      <td>59.20</td>\n",
       "    </tr>\n",
       "    <tr>\n",
       "      <th>10</th>\n",
       "      <td>11</td>\n",
       "      <td>65.53</td>\n",
       "    </tr>\n",
       "    <tr>\n",
       "      <th>11</th>\n",
       "      <td>12</td>\n",
       "      <td>63.92</td>\n",
       "    </tr>\n",
       "  </tbody>\n",
       "</table>\n",
       "</div>"
      ],
      "text/plain": [
       "    launch_month  avg_pledge\n",
       "0              1       57.81\n",
       "1              2       63.10\n",
       "2              3       65.68\n",
       "3              4       64.25\n",
       "4              5       66.50\n",
       "5              6       63.12\n",
       "6              7       51.57\n",
       "7              8       53.90\n",
       "8              9       59.40\n",
       "9             10       59.20\n",
       "10            11       65.53\n",
       "11            12       63.92"
      ]
     },
     "execution_count": 109,
     "metadata": {},
     "output_type": "execute_result"
    },
    {
     "data": {
      "image/png": "[encoded data removed]",
      "text/plain": [
       "<Figure size 576x504 with 1 Axes>"
      ]
     },
     "metadata": {},
     "output_type": "display_data"
    }
   ],
   "source": [
    "# launch month: see average pledge \n",
    "launch_pivot_ap = pd.pivot_table(data17, index='launch_month',values='avg_pledge', aggfunc=np.mean).reset_index()\n",
    "type(launch_pivot_ap)\n",
    "sns.barplot(x='launch_month', y = 'avg_pledge', \n",
    "            data=launch_pivot_ap).set_title(\"Average Pledge/Backer by Launch Month\")\n",
    "launch_pivot_ap"
   ]
  },
  {
   "cell_type": "markdown",
   "metadata": {},
   "source": [
    "In terms of both success rate and average pledge, the numbers are similar by month with February-May better for the latter, and Feb-May and Nov/Dec for the average pledge. "
   ]
  },
  {
   "cell_type": "code",
   "execution_count": 8,
   "metadata": {},
   "outputs": [
    {
     "data": {
      "text/plain": [
       "(57996, 14)"
      ]
     },
     "execution_count": 8,
     "metadata": {},
     "output_type": "execute_result"
    }
   ],
   "source": [
    "# First flatten pledge tier then add flatted num of backers lists \n",
    "data_sht_exp = expand_df_flatten(data_sht, \"pledge.tier\", \"pledge_tier2\")\n",
    "data_sht_exp['num_backers'] = flatten_list_df(data_sht, \"num.backers.tier\")\n",
    "data_sht_exp.shape"
   ]
  },
  {
   "cell_type": "code",
   "execution_count": 14,
   "metadata": {},
   "outputs": [
    {
     "data": {
      "text/plain": [
       "<matplotlib.axes._subplots.AxesSubplot at 0x14cf7d54710>"
      ]
     },
     "execution_count": 14,
     "metadata": {},
     "output_type": "execute_result"
    },
    {
     "data": {
      "image/png": "[encoded data removed]",
      "text/plain": [
       "<Figure size 432x288 with 1 Axes>"
      ]
     },
     "metadata": {
      "needs_background": "light"
     },
     "output_type": "display_data"
    }
   ],
   "source": [
    "# Scatterplot of num_backers per pledge Tier \n",
    "df2_exp['pledge_tier2'] = pd.to_numeric(df2_exp['pledge_tier2'], errors='coerce')  # convert pledge_tiers to numbers \n",
    "sns.regplot(x=df2_exp['num.backers'], y=df2_exp['pledge_tier2'])"
   ]
  },
  {
   "cell_type": "code",
   "execution_count": 9,
   "metadata": {},
   "outputs": [
    {
     "data": {
      "text/plain": [
       "Index(['Unnamed: 0', 'amt.pledged', 'blurb', 'by', 'category', 'currency',\n",
       "       'goal', 'location', 'num.backers', 'num.backers.tier', 'pledge.tier',\n",
       "       'title', 'url'],\n",
       "      dtype='object')"
      ]
     },
     "execution_count": 9,
     "metadata": {},
     "output_type": "execute_result"
    }
   ],
   "source": [
    "data_sht.columns"
   ]
  },
  {
   "cell_type": "code",
   "execution_count": null,
   "metadata": {},
   "outputs": [],
   "source": []
  }
 ],
 "metadata": {
  "kernelspec": {
   "display_name": "Python 3",
   "language": "python",
   "name": "python3"
  },
  "language_info": {
   "codemirror_mode": {
    "name": "ipython",
    "version": 3
   },
   "file_extension": ".py",
   "mimetype": "text/x-python",
   "name": "python",
   "nbconvert_exporter": "python",
   "pygments_lexer": "ipython3",
   "version": "3.7.3"
  }
 },
 "nbformat": 4,
 "nbformat_minor": 4
}
