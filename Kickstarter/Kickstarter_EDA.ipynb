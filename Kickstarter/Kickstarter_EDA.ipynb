{
 "cells": [
  {
   "cell_type": "markdown",
   "metadata": {},
   "source": [
    "## Kickstarter EDA\n",
    "This study pulls together an assortment of Kickstarter files and runs an exploratory data analysis (EDA) on how different factors affect success. <br> \n",
    "Depending on the data file, success is defined by one or more of the following metrics: \n",
    "1. Success/Failure: Whether a fundraising goal was reached or not. \n",
    "2. Backers:  Number of backers. \n",
    "3. Magnitude: degree to which goals were passed. "
   ]
  },
  {
   "cell_type": "code",
   "execution_count": 1,
   "metadata": {},
   "outputs": [],
   "source": [
    "import pandas as pd\n",
    "import numpy as np\n",
    "import matplotlib.pyplot as plt\n",
    "from scipy import stats\n",
    "import seaborn as sns\n",
    "import os\n",
    "import re\n",
    "import collections  # returns frequencies \n",
    "\n",
    "# For Text processing\n",
    "import string             # use punctuation method to remove punctuation in lines later \n",
    "from wordcloud import WordCloud, STOPWORDS  \n",
    "from bs4 import BeautifulSoup as bfs  # used to read in website data\n",
    "import nltk \n",
    "# Lemmatizer reduces words into their root form: wolves -> wolf, jumping -> jump, etc. \n",
    "from nltk.stem import WordNetLemmatizer as WNL    \n",
    "from nltk.corpus import wordnet \n",
    "from nltk import pos_tag\n",
    "from nltk.corpus import stopwords"
   ]
  },
  {
   "cell_type": "code",
   "execution_count": 2,
   "metadata": {},
   "outputs": [],
   "source": [
    "# display more than one record in cell \n",
    "from IPython.core.interactiveshell import InteractiveShell\n",
    "InteractiveShell.ast_node_interactivity = \"all\"\n",
    "# Dark mode display \n",
    "from jupyterthemes import jtplot\n",
    "jtplot.style(theme='monokai', context='notebook', ticks=True, grid=False)"
   ]
  },
  {
   "cell_type": "markdown",
   "metadata": {},
   "source": [
    "### Data Files\n",
    "In this study, we pull data files that contain success variables (response variables), with different feature variables (Factors). The data files are taken from: \n",
    "1. [Kickstarter 2010-7](https://www.kaggle.com/carlolepelaars/exploration-of-kickstarter-data-2010-2017/data): data17 \n",
    "2. [Kickstarter: 2010-5](https://www.kaggle.com/dilipajm/kickstarter-project-funding-prediction/data)  data15\n",
    "3. [Short data set with 4k records](https://www.kaggle.com/socathie/kickstarter-project-statistics) data_sht"
   ]
  },
  {
   "cell_type": "code",
   "execution_count": 3,
   "metadata": {},
   "outputs": [
    {
     "name": "stderr",
     "output_type": "stream",
     "text": [
      "C:\\Users\\Owner\\Anaconda3\\lib\\site-packages\\IPython\\core\\interactiveshell.py:3051: DtypeWarning: Columns (13,14,15) have mixed types. Specify dtype option on import or set low_memory=False.\n",
      "  interactivity=interactivity, compiler=compiler, result=result)\n"
     ]
    }
   ],
   "source": [
    "# Import Kickstarter files \n",
    "data17 = pd.read_csv('ks-projects-201612.csv', encoding = \"ISO-8859-1\")\n",
    "data15 = pd.read_csv('ks_train.csv')\n",
    "data_sht = pd.read_csv('most_backed.csv')"
   ]
  },
  {
   "cell_type": "markdown",
   "metadata": {},
   "source": [
    "### Preprocessing\n",
    "Format all numbers within 3 decimal places "
   ]
  },
  {
   "cell_type": "code",
   "execution_count": 5,
   "metadata": {},
   "outputs": [],
   "source": [
    "# first format to 3 decimals \n",
    "pd.options.display.float_format = '{:.2f}'.format"
   ]
  },
  {
   "cell_type": "markdown",
   "metadata": {},
   "source": [
    "### Preprocessing 2010-7 series (data17)\n",
    "This is the largest of the three files (328k records). <br> \n",
    "1. Remove all leading and trailling spaces from **column titles**\n",
    "2. Remove rows where column conversion failed: this shows up as \"unnamed\" columns 13-16. \n",
    "3. Format **date** and **numeric** columns from object to datetime or numeric format \n",
    "4. Add fields for response variable: <br> \n",
    "   a. Pledged vs. Goal: Measures magnitude of success <br> \n",
    "   b. Average Pledge  <br> \n",
    "5. Check **Duplicates**"
   ]
  },
  {
   "cell_type": "code",
   "execution_count": 7,
   "metadata": {},
   "outputs": [
    {
     "data": {
      "text/plain": [
       "ID                  int64\n",
       "name               object\n",
       "category           object\n",
       "main_category      object\n",
       "currency           object\n",
       "deadline           object\n",
       "goal               object\n",
       "launched           object\n",
       "pledged            object\n",
       "state              object\n",
       "backers            object\n",
       "country            object\n",
       "usd pledged        object\n",
       "Unnamed: 13        object\n",
       "Unnamed: 14        object\n",
       "Unnamed: 15        object\n",
       "Unnamed: 16       float64\n",
       "dtype: object"
      ]
     },
     "execution_count": 7,
     "metadata": {},
     "output_type": "execute_result"
    },
    {
     "data": {
      "text/plain": [
       "Index(['ID', 'name', 'category', 'main_category', 'currency', 'deadline',\n",
       "       'goal', 'launched', 'pledged', 'state', 'backers', 'country',\n",
       "       'usd pledged', 'Unnamed: 13', 'Unnamed: 14', 'Unnamed: 15',\n",
       "       'Unnamed: 16'],\n",
       "      dtype='object')"
      ]
     },
     "execution_count": 7,
     "metadata": {},
     "output_type": "execute_result"
    }
   ],
   "source": [
    "data17.dtypes\n",
    "xcols = [x.strip() for x in data17.columns]\n",
    "data17.columns = xcols\n",
    "data17.columns"
   ]
  },
  {
   "cell_type": "markdown",
   "metadata": {},
   "source": [
    "**Processing 'Unnamed\" columns** <br> \n",
    "Most records have 'Unnamed' columns with are empty. We examine the non-null records and find 625/320+k records have unnamed columns that are not-null.<br> \n",
    "We remove these records "
   ]
  },
  {
   "cell_type": "code",
   "execution_count": 15,
   "metadata": {},
   "outputs": [
    {
     "name": "stdout",
     "output_type": "stream",
     "text": [
      "sample of records with null Unnamed columns \n"
     ]
    },
    {
     "data": {
      "text/html": [
       "<div>\n",
       "<style scoped>\n",
       "    .dataframe tbody tr th:only-of-type {\n",
       "        vertical-align: middle;\n",
       "    }\n",
       "\n",
       "    .dataframe tbody tr th {\n",
       "        vertical-align: top;\n",
       "    }\n",
       "\n",
       "    .dataframe thead th {\n",
       "        text-align: right;\n",
       "    }\n",
       "</style>\n",
       "<table border=\"1\" class=\"dataframe\">\n",
       "  <thead>\n",
       "    <tr style=\"text-align: right;\">\n",
       "      <th></th>\n",
       "      <th>Unnamed: 13</th>\n",
       "      <th>Unnamed: 14</th>\n",
       "      <th>Unnamed: 15</th>\n",
       "      <th>Unnamed: 16</th>\n",
       "    </tr>\n",
       "  </thead>\n",
       "  <tbody>\n",
       "    <tr>\n",
       "      <th>1</th>\n",
       "      <td>NaN</td>\n",
       "      <td>NaN</td>\n",
       "      <td>NaN</td>\n",
       "      <td>nan</td>\n",
       "    </tr>\n",
       "    <tr>\n",
       "      <th>2</th>\n",
       "      <td>NaN</td>\n",
       "      <td>NaN</td>\n",
       "      <td>NaN</td>\n",
       "      <td>nan</td>\n",
       "    </tr>\n",
       "    <tr>\n",
       "      <th>3</th>\n",
       "      <td>NaN</td>\n",
       "      <td>NaN</td>\n",
       "      <td>NaN</td>\n",
       "      <td>nan</td>\n",
       "    </tr>\n",
       "    <tr>\n",
       "      <th>4</th>\n",
       "      <td>NaN</td>\n",
       "      <td>NaN</td>\n",
       "      <td>NaN</td>\n",
       "      <td>nan</td>\n",
       "    </tr>\n",
       "  </tbody>\n",
       "</table>\n",
       "</div>"
      ],
      "text/plain": [
       "  Unnamed: 13 Unnamed: 14 Unnamed: 15  Unnamed: 16\n",
       "1         NaN         NaN         NaN          nan\n",
       "2         NaN         NaN         NaN          nan\n",
       "3         NaN         NaN         NaN          nan\n",
       "4         NaN         NaN         NaN          nan"
      ]
     },
     "execution_count": 15,
     "metadata": {},
     "output_type": "execute_result"
    },
    {
     "name": "stdout",
     "output_type": "stream",
     "text": [
      "No. of records w/ to be removed: 625\n"
     ]
    }
   ],
   "source": [
    "print(\"sample of records with null Unnamed columns \")\n",
    "data17[data17['Unnamed: 13'].isnull()].iloc[1:5,13:17]\n",
    "print(\"No. of records w/ to be removed:\", len(data17[data17['Unnamed: 13'].notnull()]))\n",
    "data17 = data17.drop(data17.columns[13:17],axis=1)"
   ]
  },
  {
   "cell_type": "markdown",
   "metadata": {},
   "source": [
    "**Remove records with null response variables.** <br> \n",
    "Find that removing null goal values also removes all null backers. "
   ]
  },
  {
   "cell_type": "code",
   "execution_count": 31,
   "metadata": {},
   "outputs": [
    {
     "name": "stdout",
     "output_type": "stream",
     "text": [
      "No. of Null Backers\n"
     ]
    },
    {
     "data": {
      "text/plain": [
       "0"
      ]
     },
     "execution_count": 31,
     "metadata": {},
     "output_type": "execute_result"
    },
    {
     "name": "stdout",
     "output_type": "stream",
     "text": [
      "No. of Null goals \n"
     ]
    },
    {
     "data": {
      "text/plain": [
       "0"
      ]
     },
     "execution_count": 31,
     "metadata": {},
     "output_type": "execute_result"
    }
   ],
   "source": [
    "nan_goal_id = data17.ID[data17.goal.isnull()]\n",
    "data17 = data17.drop(data17[data17.ID.isin(nan_goal_id)].index)\n",
    "print('No. of Null Backers')\n",
    "len(data17[data17.backers.isnull()])\n",
    "print(\"No. of Null goals \")\n",
    "len(data17[data17.goal.isnull()])\n"
   ]
  },
  {
   "cell_type": "markdown",
   "metadata": {},
   "source": [
    "**Format dates and numeric fields**"
   ]
  },
  {
   "cell_type": "code",
   "execution_count": 32,
   "metadata": {},
   "outputs": [
    {
     "data": {
      "text/plain": [
       "goal           float64\n",
       "pledged        float64\n",
       "usd pledged    float64\n",
       "backers        float64\n",
       "dtype: object"
      ]
     },
     "execution_count": 32,
     "metadata": {},
     "output_type": "execute_result"
    },
    {
     "data": {
      "text/plain": [
       "ID                        int64\n",
       "name                     object\n",
       "category                 object\n",
       "main_category            object\n",
       "currency                 object\n",
       "deadline         datetime64[ns]\n",
       "goal                    float64\n",
       "launched         datetime64[ns]\n",
       "pledged                 float64\n",
       "state                    object\n",
       "backers                 float64\n",
       "country                  object\n",
       "usd pledged             float64\n",
       "dtype: object"
      ]
     },
     "execution_count": 32,
     "metadata": {},
     "output_type": "execute_result"
    }
   ],
   "source": [
    "# Numeric: convert goal, pledged, backers, and usd pledged to numbers \n",
    "data17['goal'] = pd.to_numeric(data17.goal, errors='coerce')\n",
    "data17['pledged'] = pd.to_numeric(data17.pledged, errors='coerce')\n",
    "data17['usd pledged'] = pd.to_numeric(data17['usd pledged'], errors='coerce')\n",
    "data17['backers'] = pd.to_numeric(data17.backers, errors='coerce')\n",
    "data17[['goal','pledged','usd pledged','backers']].dtypes\n",
    "\n",
    "# Format dates\n",
    "data17.launched = pd.to_datetime(data17.launched)\n",
    "data17.deadline = pd.to_datetime(data17.deadline)\n",
    "data17.dtypes"
   ]
  },
  {
   "cell_type": "markdown",
   "metadata": {},
   "source": [
    "**Process Response Variables**\n",
    "1. Average Pledge \n",
    "2. Pledged vs. Goal"
   ]
  },
  {
   "cell_type": "code",
   "execution_count": 48,
   "metadata": {},
   "outputs": [
    {
     "name": "stdout",
     "output_type": "stream",
     "text": [
      "Avg Pledge Stats:\n"
     ]
    },
    {
     "data": {
      "text/plain": [
       "DescribeResult(nobs=323118, minmax=(0.0, 10000.0), mean=59.78752558892141, variance=17451.190525467344, skewness=25.40103612965577, kurtosis=1312.1669675800613)"
      ]
     },
     "execution_count": 48,
     "metadata": {},
     "output_type": "execute_result"
    },
    {
     "name": "stdout",
     "output_type": "stream",
     "text": [
      "Pledged v. Goal Stats:\n"
     ]
    },
    {
     "data": {
      "text/plain": [
       "DescribeResult(nobs=323118, minmax=(0.0, 55266.57), mean=2.6102743624017553, variance=30920.894458854862, skewness=190.1314333700369, kurtosis=46355.55784777164)"
      ]
     },
     "execution_count": 48,
     "metadata": {},
     "output_type": "execute_result"
    }
   ],
   "source": [
    "# Average Pledge \n",
    "data17['avg_pledge'] = np.where(data17['backers']==0,0,data17['usd pledged'] / data17['backers'] )\n",
    "print(\"Avg Pledge Stats:\")\n",
    "stats.describe(data17['avg_pledge'])\n",
    "\n",
    "# Pledged v. Goal \n",
    "data17['pledgedvgoal'] = np.where(data17[\"usd pledged\"].isnull(), 0, data17['usd pledged'] / data17['goal'])\n",
    "print(\"Pledged v. Goal Stats:\")\n",
    "stats.describe(data17['pledgedvgoal'])"
   ]
  },
  {
   "cell_type": "code",
   "execution_count": 52,
   "metadata": {},
   "outputs": [
    {
     "data": {
      "text/plain": [
       "0"
      ]
     },
     "execution_count": 52,
     "metadata": {},
     "output_type": "execute_result"
    }
   ],
   "source": [
    "# Check for duplicates='ID'\n",
    "dup = data17[data17.duplicated(subset='ID',keep=False)]\n",
    "len(dup)"
   ]
  },
  {
   "cell_type": "markdown",
   "metadata": {},
   "source": [
    "### Preprocessing Kickstarter 2010-15 Series\n",
    "1. Format Dates \n",
    "2. Check for duplicates"
   ]
  },
  {
   "cell_type": "code",
   "execution_count": 50,
   "metadata": {},
   "outputs": [
    {
     "data": {
      "text/plain": [
       "deadline            datetime64[ns]\n",
       "state_changed_at    datetime64[ns]\n",
       "created_at          datetime64[ns]\n",
       "launched_at         datetime64[ns]\n",
       "dtype: object"
      ]
     },
     "execution_count": 50,
     "metadata": {},
     "output_type": "execute_result"
    },
    {
     "data": {
      "text/html": [
       "<div>\n",
       "<style scoped>\n",
       "    .dataframe tbody tr th:only-of-type {\n",
       "        vertical-align: middle;\n",
       "    }\n",
       "\n",
       "    .dataframe tbody tr th {\n",
       "        vertical-align: top;\n",
       "    }\n",
       "\n",
       "    .dataframe thead th {\n",
       "        text-align: right;\n",
       "    }\n",
       "</style>\n",
       "<table border=\"1\" class=\"dataframe\">\n",
       "  <thead>\n",
       "    <tr style=\"text-align: right;\">\n",
       "      <th></th>\n",
       "      <th>deadline</th>\n",
       "      <th>state_changed_at</th>\n",
       "      <th>created_at</th>\n",
       "      <th>launched_at</th>\n",
       "    </tr>\n",
       "  </thead>\n",
       "  <tbody>\n",
       "    <tr>\n",
       "      <th>0</th>\n",
       "      <td>2009-05-03 06:59:59</td>\n",
       "      <td>2009-05-03 07:00:17</td>\n",
       "      <td>2009-04-24 19:15:07</td>\n",
       "      <td>2009-04-24 19:52:03</td>\n",
       "    </tr>\n",
       "    <tr>\n",
       "      <th>1</th>\n",
       "      <td>2009-05-15 23:10:00</td>\n",
       "      <td>2009-05-16 00:00:18</td>\n",
       "      <td>2009-04-28 23:10:24</td>\n",
       "      <td>2009-04-29 03:26:32</td>\n",
       "    </tr>\n",
       "    <tr>\n",
       "      <th>2</th>\n",
       "      <td>2009-05-22 21:26:00</td>\n",
       "      <td>2009-05-22 21:30:18</td>\n",
       "      <td>2009-05-12 21:26:53</td>\n",
       "      <td>2009-05-12 21:39:58</td>\n",
       "    </tr>\n",
       "    <tr>\n",
       "      <th>3</th>\n",
       "      <td>2009-05-29 00:09:00</td>\n",
       "      <td>2009-05-29 00:15:21</td>\n",
       "      <td>2009-04-29 00:09:55</td>\n",
       "      <td>2009-04-29 00:58:50</td>\n",
       "    </tr>\n",
       "    <tr>\n",
       "      <th>4</th>\n",
       "      <td>2009-05-31 11:38:00</td>\n",
       "      <td>2009-05-31 11:45:17</td>\n",
       "      <td>2009-05-01 11:38:34</td>\n",
       "      <td>2009-05-01 12:22:21</td>\n",
       "    </tr>\n",
       "  </tbody>\n",
       "</table>\n",
       "</div>"
      ],
      "text/plain": [
       "             deadline    state_changed_at          created_at  \\\n",
       "0 2009-05-03 06:59:59 2009-05-03 07:00:17 2009-04-24 19:15:07   \n",
       "1 2009-05-15 23:10:00 2009-05-16 00:00:18 2009-04-28 23:10:24   \n",
       "2 2009-05-22 21:26:00 2009-05-22 21:30:18 2009-05-12 21:26:53   \n",
       "3 2009-05-29 00:09:00 2009-05-29 00:15:21 2009-04-29 00:09:55   \n",
       "4 2009-05-31 11:38:00 2009-05-31 11:45:17 2009-05-01 11:38:34   \n",
       "\n",
       "          launched_at  \n",
       "0 2009-04-24 19:52:03  \n",
       "1 2009-04-29 03:26:32  \n",
       "2 2009-05-12 21:39:58  \n",
       "3 2009-04-29 00:58:50  \n",
       "4 2009-05-01 12:22:21  "
      ]
     },
     "execution_count": 50,
     "metadata": {},
     "output_type": "execute_result"
    }
   ],
   "source": [
    "data15.deadline = pd.to_datetime(data15.deadline, origin='unix', unit='s')\n",
    "data15.state_changed_at = pd.to_datetime(data15.state_changed_at, origin='unix', unit='s')\n",
    "data15.created_at = pd.to_datetime(data15.created_at, origin='unix', unit='s')\n",
    "data15.launched_at = pd.to_datetime(data15.launched_at, origin='unix', unit='s')\n",
    "data15[['deadline','state_changed_at','created_at','launched_at']].dtypes\n",
    "data15[['deadline','state_changed_at','created_at','launched_at']].head()"
   ]
  },
  {
   "cell_type": "code",
   "execution_count": 51,
   "metadata": {},
   "outputs": [
    {
     "data": {
      "text/plain": [
       "0"
      ]
     },
     "execution_count": 51,
     "metadata": {},
     "output_type": "execute_result"
    }
   ],
   "source": [
    "# check for duplicates \n",
    "dup = data15[data15.duplicated(subset='project_id',keep=False) ]\n",
    "len(dup)  # no duplicates "
   ]
  },
  {
   "cell_type": "markdown",
   "metadata": {},
   "source": [
    "### Preprocessing of 4k-record set\n",
    "While small (4k records), this is the only dataset is **Pledge tiers and backers**, both of which are stored in lists. We use the below functions to create a flattened version of the dataframe. "
   ]
  },
  {
   "cell_type": "code",
   "execution_count": 11,
   "metadata": {},
   "outputs": [],
   "source": [
    "# Function: break lists into seperate lines \n",
    "    # Function flat_len_list returns length of each list: \n",
    "    # Sample list: [1.0, 14.0, 19.0, 19.0, 35.0, 35.0, 79.0, 79.0, 129.0, 129.0, 849.0, 849.0]\n",
    "        # starts with brackets, seperated by rows  \n",
    "def flat_len_list(df, list_column): \n",
    "    len_list = []\n",
    "    for fld_row in range(df.shape[0]):\n",
    "        rec = df[list_column][fld_row][1:-1]   # remove open/close brackets from list \n",
    "        rec_split = rec.split(',') \n",
    "        len_list.append(len(rec_split))       # append list 'lengths'\n",
    "    return len_list \n",
    " \n",
    "    # Function flatten_list_df creates expanded list with each tier receiving a record.  \n",
    "def flatten_list_df(df, list_column): \n",
    "    t_list = []\n",
    "    for fld_row in range(df.shape[0]):\n",
    "        rec = df[list_column][fld_row][1:-1]   # remove open/close brackets from list \n",
    "        rec_split = rec.split(',') \n",
    "        for x in rec_split:\n",
    "            t_list.append(x)\n",
    "    return t_list \n",
    "\n",
    "flat_pledge = flatten_list_df(df2, \"pledge.tier\")\n",
    "flat_backers = flatten_list_df(df2, \"num.backers.tier\")"
   ]
  },
  {
   "cell_type": "code",
   "execution_count": 12,
   "metadata": {},
   "outputs": [],
   "source": [
    "# Function to flatten og dataset and add flat fields \n",
    "def expand_df_flatten(df, list_column, new_column):\n",
    "    lens_of_lists = flat_len_list(df, list_column) \n",
    "    origin_rows = range(df.shape[0])   # range object for no. of rows: 4k rows \n",
    "    \"\"\" create array marking each digit with its row. \n",
    "    For instance first list (row zero) has 26 digits, 2nd list 75 digits. 3rd list has 457 digits \n",
    "    destination rows will have 26 0's, 75 1's, 457 2's.... \n",
    "    This will be used for number of row copies. \n",
    "    \"\"\"\n",
    "    destination_rows = np.repeat(origin_rows, lens_of_lists)\n",
    "        # create DF excluding list column \n",
    "    non_list_cols = (\n",
    "      [idx for idx, col in enumerate(df.columns)\n",
    "       if col != list_column]\n",
    "    )\n",
    "    expanded_df = df.iloc[destination_rows, non_list_cols].copy()\n",
    "    expanded_df[new_column] = flatten_list_df(df, list_column) \n",
    "    return expanded_df"
   ]
  },
  {
   "cell_type": "code",
   "execution_count": null,
   "metadata": {},
   "outputs": [],
   "source": []
  },
  {
   "cell_type": "markdown",
   "metadata": {},
   "source": [
    "### Text Processing\n",
    "Import packages and load functionns. "
   ]
  },
  {
   "cell_type": "code",
   "execution_count": 5,
   "metadata": {},
   "outputs": [],
   "source": [
    "wlem = WNL()  # Inititate Lemmatizer"
   ]
  },
  {
   "cell_type": "code",
   "execution_count": 6,
   "metadata": {},
   "outputs": [],
   "source": [
    "def get_wordnet_pos(pos_tag):\n",
    "    if pos_tag.startswith('J'):\n",
    "        return wordnet.ADJ\n",
    "    elif pos_tag.startswith('V'):\n",
    "        return wordnet.VERB\n",
    "    elif pos_tag.startswith('N'):\n",
    "        return wordnet.NOUN\n",
    "    elif pos_tag.startswith('R'):\n",
    "        return wordnet.ADV\n",
    "    else:\n",
    "        return wordnet.NOUN"
   ]
  },
  {
   "cell_type": "code",
   "execution_count": 7,
   "metadata": {},
   "outputs": [],
   "source": [
    "# Function for word presence: takes a string of words, seperates them, and checks for presence of word \n",
    "def str_presence(input_string, search_string):\n",
    "    token = input_string\n",
    "    token = token.lower()\n",
    "    token = token.translate(token.maketrans('','',string.punctuation))\n",
    "    token = [tk.strip() for tk in token.split(\"-\")] \n",
    "    token = [tk for tk in token if len(tk)>2]   # remove article words\n",
    "    # pos_tags = pos_tag(token)\n",
    "    # token = [wlem.lemmatize(t[0],get_wordnet_pos(t[1])) for t in pos_tags]\n",
    "    return int(any(x in token for x in search_string))"
   ]
  },
  {
   "cell_type": "code",
   "execution_count": null,
   "metadata": {},
   "outputs": [],
   "source": []
  }
 ],
 "metadata": {
  "kernelspec": {
   "display_name": "Python 3",
   "language": "python",
   "name": "python3"
  },
  "language_info": {
   "codemirror_mode": {
    "name": "ipython",
    "version": 3
   },
   "file_extension": ".py",
   "mimetype": "text/x-python",
   "name": "python",
   "nbconvert_exporter": "python",
   "pygments_lexer": "ipython3",
   "version": "3.7.3"
  }
 },
 "nbformat": 4,
 "nbformat_minor": 4
}
