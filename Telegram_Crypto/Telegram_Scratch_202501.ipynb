{
 "cells": [
  {
   "cell_type": "markdown",
   "id": "24a446ad-390d-49e4-aaa6-bd469dab3007",
   "metadata": {},
   "source": [
    "### Telegram Scratch"
   ]
  },
  {
   "cell_type": "code",
   "execution_count": 80,
   "id": "c65a9377-4791-4020-8631-c15f58971f89",
   "metadata": {},
   "outputs": [],
   "source": [
    "import numpy as np\n",
    "import pandas as pd\n",
    "from telethon import TelegramClient\n",
    "import os\n",
    "import re\n",
    "import requests\n",
    "import json\n",
    "import asyncio\n",
    "\n",
    "import requests"
   ]
  },
  {
   "cell_type": "code",
   "execution_count": 2,
   "id": "0d77b75d-3ff8-47f7-8f0e-66c292e45db0",
   "metadata": {},
   "outputs": [],
   "source": [
    "base_path = os.path.dirname(os.getcwd())\n",
    "thr_int_path = os.path.join(base_path, 'Threat_intel')\n",
    "ref_path = os.path.join(thr_int_path, 'Reference')\n",
    "output_path = os.path.join(thr_int_path, 'Output')"
   ]
  },
  {
   "cell_type": "code",
   "execution_count": 57,
   "id": "69c01c45-7e18-492c-98dc-8aca5a4b479a",
   "metadata": {},
   "outputs": [],
   "source": [
    "os.chdir(ref_path)\n",
    "# import scraping functions\n",
    "import scrape\n",
    "tel_tags = pd.read_csv('telegram_tags.csv')\n",
    "# grab app_id and hash\n",
    "api_id = int(tel_tags['App_ID'][tel_tags['Source']=='Telegram'].iloc[0])\n",
    "api_hash = tel_tags['Hash'][tel_tags['Source']=='Telegram'].iloc[0]"
   ]
  },
  {
   "cell_type": "code",
   "execution_count": 58,
   "id": "a54e8e56-58b0-4e0f-9be3-f47e0535301f",
   "metadata": {},
   "outputs": [],
   "source": [
    "client=TelegramClient('anon', api_id, api_hash)"
   ]
  },
  {
   "cell_type": "markdown",
   "id": "df290115-8661-4306-909b-0b9a8afe92ae",
   "metadata": {},
   "source": [
    "### Sample Functions from Telethon"
   ]
  },
  {
   "cell_type": "markdown",
   "id": "b1bedfec-904f-4b47-9a2a-f0f516745145",
   "metadata": {},
   "source": [
    "**<font color=cyan>Send test message to own channel</font>**"
   ]
  },
  {
   "cell_type": "code",
   "execution_count": 8,
   "id": "71b13962-f4e3-4d58-b703-edd4247e43e3",
   "metadata": {},
   "outputs": [],
   "source": [
    "async def main():\n",
    "    async with client: \n",
    "        await client.send_message('me','Hello from Python!')\n",
    "# with client:\n",
    "#     client.loop.run_until_complete(main())\n",
    "await main()"
   ]
  },
  {
   "cell_type": "code",
   "execution_count": 25,
   "id": "dd2d72e1-1c0f-481d-bd2f-00f042381794",
   "metadata": {},
   "outputs": [
    {
     "name": "stdout",
     "output_type": "stream",
     "text": [
      "Succesfully joined channel https://t.me/BinancePumpTracker\n"
     ]
    }
   ],
   "source": [
    "#  Join a new channel\n",
    "from telethon.tl.functions.channels import JoinChannelRequest\n",
    "async def join_channel(client,channel_link):\n",
    "    try:\n",
    "        if not client.is_connected():\n",
    "            await client.connect()\n",
    "\n",
    "        await client(JoinChannelRequest(channel_link))\n",
    "        print(f'Succesfully joined channel {channel_link}')\n",
    "\n",
    "    except Exception as e:\n",
    "        print(f'Failed to join channel {channel_link}', e)\n",
    "\n",
    "async def main():\n",
    "    async with client:\n",
    "        channel_link = 'https://t.me/BinancePumpTracker'\n",
    "        await join_channel(client, channel_link) \n",
    "\n",
    "await main()"
   ]
  },
  {
   "cell_type": "markdown",
   "id": "c917d34b-d9e5-45dc-9f02-c44de33da259",
   "metadata": {},
   "source": [
    "### Scrape Messages"
   ]
  },
  {
   "cell_type": "code",
   "execution_count": 25,
   "id": "8af73c18-fd1e-446f-975a-b29cbdedf58f",
   "metadata": {},
   "outputs": [],
   "source": [
    "num_msgs = 5\n",
    "\n",
    "async def scrape_message(client, channel, limit=100):\n",
    "    message_list = []\n",
    "    try:\n",
    "        if not client.is_connected():\n",
    "            await client.connect()  # Ensure connection before making requests\n",
    "        \n",
    "        async for each_message in client.iter_messages(channel, limit=limit):\n",
    "            if each_message.text:  # Check if the message has text content\n",
    "                message_list.append(each_message.stringify())\n",
    "                # print(each_message.stringify())  # Print the message content\n",
    "    except Exception as e: \n",
    "        print(f'Failed connection to channel {channel}. Error: {e}')\n",
    "    return message_list\n",
    "\n",
    "# async def main():\n",
    "async with client:  # Ensure the client is properly connected\n",
    "    # channel_link = 'https://t.me/BinancePumpTracker'\n",
    "    channel_link = 'BinancePumpTracker'  # Use the channel username, NOT the full URL!\n",
    "    message_list = await scrape_message(client, channel_link, 5) \n",
    "\n",
    "# async def main():\n",
    "    # async with client:  # Ensure the client is properly connected\n",
    "    #     # channel_link = 'https://t.me/BinancePumpTracker'\n",
    "    #     channel_link = 'BinancePumpTracker'  # Use the channel username, NOT the full URL!\n",
    "    #     message_list = await scrape_message(client, channel_link, 5) \n"
   ]
  },
  {
   "cell_type": "code",
   "execution_count": 66,
   "id": "0a4ad26d-e05c-4a0d-b62d-66c3b35817e4",
   "metadata": {},
   "outputs": [],
   "source": [
    "msg_list_proc = []\n",
    "# regex_start = r\"message='\"\n",
    "regex_start = r'message=([\"\\'])(.*?)\\1' # captures either single or double quote\n",
    "regex_end = r\"out=False\"\n",
    "re_cut = r'\\\\(n|t|xa0|\\\\)'\n",
    "\n",
    "for i in range(num_msgs):\n",
    "    msg_str = message_list[i]\n",
    "    msg_str_stage1 = scrape.pullsubstr_begend(regex_start, regex_end, msg_str)\n",
    "    msg_str_stage2 = re.sub(re_cut, '', msg_str_stage1)\n",
    "    msg_list_proc.append(msg_str_stage2)"
   ]
  },
  {
   "cell_type": "code",
   "execution_count": 69,
   "id": "ed2cc954-0445-4e8e-8876-bb20d4d2c1dd",
   "metadata": {},
   "outputs": [
    {
     "name": "stdout",
     "output_type": "stream",
     "text": [
      "message='#PIVX 👈 https://www.binance.com/en/trade/PIVX_BTCBuying Zone 310-330 Sell🤑 360🤑 360- 400🚀 400- 450 💃 450 -500 & aboveBullish above- 300🔼Death Zone below-300🔽',\n",
      "\t\n",
      "message='#ADX 👈https://www.binance.com/en/trade/ADX_BTCBuying Zone 230-250 👆Sell🤑 270-280🤑 280-310🚀 310-340💃 340-370 😱 370- 400 & aboveBullish over - 220',\n",
      "\t\n"
     ]
    }
   ],
   "source": [
    "#print sample messages \n",
    "for i in range(2):\n",
    "    print(msg_list_proc[i])"
   ]
  },
  {
   "cell_type": "markdown",
   "id": "70169f18-49a8-4241-aac9-895827a4e5be",
   "metadata": {},
   "source": [
    "**<font color=cyan> Look up quoted tickers and add info from CoinMarketCap </font>**  \n",
    "Tickers are generally characterized by: \n",
    "- '#' or a '$'\n",
    "- All caps. "
   ]
  },
  {
   "cell_type": "code",
   "execution_count": 84,
   "id": "585cad55-7042-4c8a-b4d1-cd02890fef2a",
   "metadata": {},
   "outputs": [],
   "source": [
    "reg_ticker =  r'[#\\$][A-Z]+'  # Identifies ticker preceded by \n",
    "symbols_list_stage = [list(set(re.findall(reg_ticker, msg))) for msg in msg_list_proc]\n",
    "symbols_list = [[symbol[1:] for symbol in symbols] for symbols in symbols_list_stage]\n",
    "symbols_list = [list(set(sym_list)) for sym_list in symbols_list]"
   ]
  },
  {
   "cell_type": "markdown",
   "id": "f27f7ffa-52bf-4c20-8d83-909395997332",
   "metadata": {},
   "source": [
    "**Create Dataframe to store messages, tickers, and later: market info**"
   ]
  },
  {
   "cell_type": "code",
   "execution_count": 85,
   "id": "c1e62654-e59d-48b4-900c-57b965f0c785",
   "metadata": {},
   "outputs": [
    {
     "data": {
      "text/html": [
       "<div>\n",
       "<style scoped>\n",
       "    .dataframe tbody tr th:only-of-type {\n",
       "        vertical-align: middle;\n",
       "    }\n",
       "\n",
       "    .dataframe tbody tr th {\n",
       "        vertical-align: top;\n",
       "    }\n",
       "\n",
       "    .dataframe thead th {\n",
       "        text-align: right;\n",
       "    }\n",
       "</style>\n",
       "<table border=\"1\" class=\"dataframe\">\n",
       "  <thead>\n",
       "    <tr style=\"text-align: right;\">\n",
       "      <th></th>\n",
       "      <th>Msg_Scraped</th>\n",
       "      <th>Tickers</th>\n",
       "    </tr>\n",
       "  </thead>\n",
       "  <tbody>\n",
       "    <tr>\n",
       "      <th>0</th>\n",
       "      <td>message='#PIVX 👈 https://www.binance.com/en/tr...</td>\n",
       "      <td>[PIVX]</td>\n",
       "    </tr>\n",
       "    <tr>\n",
       "      <th>1</th>\n",
       "      <td>message='#ADX 👈https://www.binance.com/en/trad...</td>\n",
       "      <td>[ADX]</td>\n",
       "    </tr>\n",
       "    <tr>\n",
       "      <th>2</th>\n",
       "      <td>message=\"#ADX 👈 ✨Call given hereHit 305Targets...</td>\n",
       "      <td>[ADX]</td>\n",
       "    </tr>\n",
       "    <tr>\n",
       "      <th>3</th>\n",
       "      <td>message='🔼 🥰😇🥰🥰 hits an Impressive 202.57% APY...</td>\n",
       "      <td>[HOLD, C, L, B, CET]</td>\n",
       "    </tr>\n",
       "    <tr>\n",
       "      <th>4</th>\n",
       "      <td>message=\"🚀 CET Hits 197.73% APY!CoinEx's empow...</td>\n",
       "      <td>[C, L, B, LKY, BTC, CET]</td>\n",
       "    </tr>\n",
       "  </tbody>\n",
       "</table>\n",
       "</div>"
      ],
      "text/plain": [
       "                                         Msg_Scraped                   Tickers\n",
       "0  message='#PIVX 👈 https://www.binance.com/en/tr...                    [PIVX]\n",
       "1  message='#ADX 👈https://www.binance.com/en/trad...                     [ADX]\n",
       "2  message=\"#ADX 👈 ✨Call given hereHit 305Targets...                     [ADX]\n",
       "3  message='🔼 🥰😇🥰🥰 hits an Impressive 202.57% APY...      [HOLD, C, L, B, CET]\n",
       "4  message=\"🚀 CET Hits 197.73% APY!CoinEx's empow...  [C, L, B, LKY, BTC, CET]"
      ]
     },
     "execution_count": 85,
     "metadata": {},
     "output_type": "execute_result"
    }
   ],
   "source": [
    "df_msg_mkt = pd.DataFrame(msg_list_proc, columns=['Msg_Scraped'])\n",
    "# Add symbols_list to table\n",
    "df_msg_mkt['Tickers'] = symbols_list\n",
    "df_msg_mkt"
   ]
  },
  {
   "cell_type": "markdown",
   "id": "1b67920f-d820-4a5b-8e8f-70111be3e2c8",
   "metadata": {},
   "source": [
    "### <font color=cyan>Add Market Info</font>\n",
    "**[API Documentation](https://coinmarketcap.com/api/documentation/v1/#operation/getV1CryptocurrencyListingsHistorical)**"
   ]
  },
  {
   "cell_type": "code",
   "execution_count": 64,
   "id": "e835ecc0-1c59-4c2d-bd9f-73c4bc21849e",
   "metadata": {},
   "outputs": [],
   "source": [
    "# grab api key\n",
    "cmc_hash = tel_tags['Hash'][tel_tags['Source']=='Coinmarketcap'].iloc[0]\n",
    "\n",
    "# set up headers and portal\n",
    "url = \"https://pro-api.coinmarketcap.com/v1/cryptocurrency/quotes/latest\"\n",
    "headers = {\n",
    "    'Accepts': 'application/json',\n",
    "    'X-CMC_PRO_API_KEY': cmc_hash,  # Replace with your API key\n",
    "}"
   ]
  },
  {
   "cell_type": "code",
   "execution_count": 105,
   "id": "66979db5-c78e-4c21-b24b-468a37f37281",
   "metadata": {},
   "outputs": [],
   "source": [
    "cmc_vals_list = [] # will house list values from CMC\n",
    "\n",
    "coin_names_list = []\n",
    "last_pxs_list = []\n",
    "mkt_caps_list = []\n",
    "perc_ch_1h_list = []\n",
    "perc_ch_1d_list = []\n",
    "perc_ch_1wk_list = []\n",
    "\n",
    "for sym_list in symbols_list:\n",
    "    # convert list into string separated by commas\n",
    "    sym_list_str = ','.join(sym_list)\n",
    "    response = requests.get(url, headers=headers, params=params)\n",
    "    data = response.json()\n",
    "\n",
    "    coin_name_list_stage = []\n",
    "    last_px_list_stage = []\n",
    "    mkt_cap_list_stage = []\n",
    "    perc_ch_1h_list_stage = []\n",
    "    perc_ch_1d_list_stage = []\n",
    "    perc_ch_1wk_list_stage = []\n",
    "    \n",
    "    for symbol in data['data']:\n",
    "        try:\n",
    "            coin = data['data'][symbol]\n",
    "            coin_name_list_stage.append(coin['name'])\n",
    "            last_px_list_stage.append(coin['quote']['USD']['price'])\n",
    "            mkt_cap_list_stage.append(coin['quote']['USD']['market_cap'])\n",
    "            perc_ch_1h_list_stage.append(coin['quote']['USD']['percent_change_1h'])\n",
    "            perc_ch_1d_list_stage.append(coin['quote']['USD']['percent_change_24h'])\n",
    "            perc_ch_1wk_list_stage.append(coin['quote']['USD']['percent_change_7d'])\n",
    "                                  \n",
    "        except Exception as e:\n",
    "            print(f'failed on symbol {symbol}')\n",
    "\n",
    "    coin_names_list.append(coin_name_list_stage)\n",
    "    last_pxs_list.append(last_px_list_stage)\n",
    "    mkt_caps_list.append(mkt_cap_list_stage)\n",
    "    perc_ch_1h_list.append(perc_ch_1h_list_stage)\n",
    "    perc_ch_1d_list.append(perc_ch_1d_list_stage)\n",
    "    perc_ch_1wk_list.append(perc_ch_1wk_list_stage)"
   ]
  },
  {
   "cell_type": "code",
   "execution_count": 113,
   "id": "57897c3b-f7e2-40eb-9f2a-024ced475c09",
   "metadata": {},
   "outputs": [
    {
     "data": {
      "text/html": [
       "<div>\n",
       "<style scoped>\n",
       "    .dataframe tbody tr th:only-of-type {\n",
       "        vertical-align: middle;\n",
       "    }\n",
       "\n",
       "    .dataframe tbody tr th {\n",
       "        vertical-align: top;\n",
       "    }\n",
       "\n",
       "    .dataframe thead th {\n",
       "        text-align: right;\n",
       "    }\n",
       "</style>\n",
       "<table border=\"1\" class=\"dataframe\">\n",
       "  <thead>\n",
       "    <tr style=\"text-align: right;\">\n",
       "      <th></th>\n",
       "      <th>Msg_Scraped</th>\n",
       "      <th>Tickers</th>\n",
       "      <th>Name</th>\n",
       "      <th>Price</th>\n",
       "      <th>mkt_cap</th>\n",
       "      <th>Perc_ch_1h</th>\n",
       "      <th>Perc_ch_1d</th>\n",
       "      <th>Perc_ch_1wk</th>\n",
       "    </tr>\n",
       "  </thead>\n",
       "  <tbody>\n",
       "    <tr>\n",
       "      <th>0</th>\n",
       "      <td>message='#PIVX 👈 https://www.binance.com/en/tr...</td>\n",
       "      <td>[PIVX]</td>\n",
       "      <td>[Carbon Coin, CoinEx Token, HoldCoin]</td>\n",
       "      <td>[None, 0.0883255058624474, 0.0005272752437625379]</td>\n",
       "      <td>[None, 62590419.601268105, 0]</td>\n",
       "      <td>[0, -0.05197085, 0.93357981]</td>\n",
       "      <td>[0, 0.0165666, -6.76763176]</td>\n",
       "      <td>[3.59206866, -1.90485507, 303.58414551]</td>\n",
       "    </tr>\n",
       "    <tr>\n",
       "      <th>1</th>\n",
       "      <td>message='#ADX 👈https://www.binance.com/en/trad...</td>\n",
       "      <td>[ADX]</td>\n",
       "      <td>[Carbon Coin, CoinEx Token, HoldCoin]</td>\n",
       "      <td>[None, 0.0883255058624474, 0.0005272752437625379]</td>\n",
       "      <td>[None, 62590419.601268105, 0]</td>\n",
       "      <td>[0, -0.05197085, 0.93357981]</td>\n",
       "      <td>[0, 0.0165666, -6.76763176]</td>\n",
       "      <td>[3.59206866, -1.90485507, 303.58414551]</td>\n",
       "    </tr>\n",
       "    <tr>\n",
       "      <th>2</th>\n",
       "      <td>message=\"#ADX 👈 ✨Call given hereHit 305Targets...</td>\n",
       "      <td>[ADX]</td>\n",
       "      <td>[Carbon Coin, CoinEx Token, HoldCoin]</td>\n",
       "      <td>[None, 0.0883255058624474, 0.0005272752437625379]</td>\n",
       "      <td>[None, 62590419.601268105, 0]</td>\n",
       "      <td>[0, -0.05197085, 0.93357981]</td>\n",
       "      <td>[0, 0.0165666, -6.76763176]</td>\n",
       "      <td>[3.59206866, -1.90485507, 303.58414551]</td>\n",
       "    </tr>\n",
       "    <tr>\n",
       "      <th>3</th>\n",
       "      <td>message='🔼 🥰😇🥰🥰 hits an Impressive 202.57% APY...</td>\n",
       "      <td>[HOLD, C, L, B, CET]</td>\n",
       "      <td>[Carbon Coin, CoinEx Token, HoldCoin]</td>\n",
       "      <td>[None, 0.0883255058624474, 0.0005272752437625379]</td>\n",
       "      <td>[None, 62590419.601268105, 0]</td>\n",
       "      <td>[0, -0.05197085, 0.93357981]</td>\n",
       "      <td>[0, 0.0165666, -6.76763176]</td>\n",
       "      <td>[3.59206866, -1.90485507, 303.58414551]</td>\n",
       "    </tr>\n",
       "    <tr>\n",
       "      <th>4</th>\n",
       "      <td>message=\"🚀 CET Hits 197.73% APY!CoinEx's empow...</td>\n",
       "      <td>[C, L, B, LKY, BTC, CET]</td>\n",
       "      <td>[Carbon Coin, CoinEx Token, HoldCoin]</td>\n",
       "      <td>[None, 0.0883255058624474, 0.0005272752437625379]</td>\n",
       "      <td>[None, 62590419.601268105, 0]</td>\n",
       "      <td>[0, -0.05197085, 0.93357981]</td>\n",
       "      <td>[0, 0.0165666, -6.76763176]</td>\n",
       "      <td>[3.59206866, -1.90485507, 303.58414551]</td>\n",
       "    </tr>\n",
       "  </tbody>\n",
       "</table>\n",
       "</div>"
      ],
      "text/plain": [
       "                                         Msg_Scraped  \\\n",
       "0  message='#PIVX 👈 https://www.binance.com/en/tr...   \n",
       "1  message='#ADX 👈https://www.binance.com/en/trad...   \n",
       "2  message=\"#ADX 👈 ✨Call given hereHit 305Targets...   \n",
       "3  message='🔼 🥰😇🥰🥰 hits an Impressive 202.57% APY...   \n",
       "4  message=\"🚀 CET Hits 197.73% APY!CoinEx's empow...   \n",
       "\n",
       "                    Tickers                                   Name  \\\n",
       "0                    [PIVX]  [Carbon Coin, CoinEx Token, HoldCoin]   \n",
       "1                     [ADX]  [Carbon Coin, CoinEx Token, HoldCoin]   \n",
       "2                     [ADX]  [Carbon Coin, CoinEx Token, HoldCoin]   \n",
       "3      [HOLD, C, L, B, CET]  [Carbon Coin, CoinEx Token, HoldCoin]   \n",
       "4  [C, L, B, LKY, BTC, CET]  [Carbon Coin, CoinEx Token, HoldCoin]   \n",
       "\n",
       "                                               Price  \\\n",
       "0  [None, 0.0883255058624474, 0.0005272752437625379]   \n",
       "1  [None, 0.0883255058624474, 0.0005272752437625379]   \n",
       "2  [None, 0.0883255058624474, 0.0005272752437625379]   \n",
       "3  [None, 0.0883255058624474, 0.0005272752437625379]   \n",
       "4  [None, 0.0883255058624474, 0.0005272752437625379]   \n",
       "\n",
       "                         mkt_cap                    Perc_ch_1h  \\\n",
       "0  [None, 62590419.601268105, 0]  [0, -0.05197085, 0.93357981]   \n",
       "1  [None, 62590419.601268105, 0]  [0, -0.05197085, 0.93357981]   \n",
       "2  [None, 62590419.601268105, 0]  [0, -0.05197085, 0.93357981]   \n",
       "3  [None, 62590419.601268105, 0]  [0, -0.05197085, 0.93357981]   \n",
       "4  [None, 62590419.601268105, 0]  [0, -0.05197085, 0.93357981]   \n",
       "\n",
       "                    Perc_ch_1d                              Perc_ch_1wk  \n",
       "0  [0, 0.0165666, -6.76763176]  [3.59206866, -1.90485507, 303.58414551]  \n",
       "1  [0, 0.0165666, -6.76763176]  [3.59206866, -1.90485507, 303.58414551]  \n",
       "2  [0, 0.0165666, -6.76763176]  [3.59206866, -1.90485507, 303.58414551]  \n",
       "3  [0, 0.0165666, -6.76763176]  [3.59206866, -1.90485507, 303.58414551]  \n",
       "4  [0, 0.0165666, -6.76763176]  [3.59206866, -1.90485507, 303.58414551]  "
      ]
     },
     "execution_count": 113,
     "metadata": {},
     "output_type": "execute_result"
    }
   ],
   "source": [
    "df_msg_mkt['Name'] = coin_names_list\n",
    "df_msg_mkt['Price'] = last_pxs_list\n",
    "df_msg_mkt['mkt_cap']=mkt_caps_list\n",
    "df_msg_mkt['Perc_ch_1h'] = perc_ch_1h_list\n",
    "df_msg_mkt['Perc_ch_1d'] = perc_ch_1d_list\n",
    "df_msg_mkt['Perc_ch_1wk'] = perc_ch_1wk_list\n",
    "df_msg_mkt"
   ]
  },
  {
   "cell_type": "code",
   "execution_count": null,
   "id": "845dbbaf-db09-4a41-aa23-904b675c85f5",
   "metadata": {},
   "outputs": [],
   "source": []
  }
 ],
 "metadata": {
  "kernelspec": {
   "display_name": "Python 3 (ipykernel)",
   "language": "python",
   "name": "python3"
  },
  "language_info": {
   "codemirror_mode": {
    "name": "ipython",
    "version": 3
   },
   "file_extension": ".py",
   "mimetype": "text/x-python",
   "name": "python",
   "nbconvert_exporter": "python",
   "pygments_lexer": "ipython3",
   "version": "3.11.5"
  }
 },
 "nbformat": 4,
 "nbformat_minor": 5
}
