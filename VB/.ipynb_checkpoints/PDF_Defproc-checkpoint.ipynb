{
 "cells": [
  {
   "cell_type": "code",
   "execution_count": 1,
   "metadata": {},
   "outputs": [],
   "source": [
    "# library import\n",
    "import os\n",
    "import re\n",
    "import pdfplumber\n",
    "import numpy as np\n",
    "import pandas as pd \n",
    "import json\n",
    "\n",
    "import scrape   # custom file"
   ]
  },
  {
   "cell_type": "code",
   "execution_count": 2,
   "metadata": {},
   "outputs": [],
   "source": [
    "# Enable multiple output per cell. \n",
    "from IPython.core.interactiveshell import InteractiveShell\n",
    "InteractiveShell.ast_node_interactivity = \"all\""
   ]
  },
  {
   "cell_type": "markdown",
   "metadata": {},
   "source": [
    "### Definition Lists\n",
    "Grab full list of definition names from two files"
   ]
  },
  {
   "cell_type": "code",
   "execution_count": 4,
   "metadata": {},
   "outputs": [],
   "source": [
    "file_name_vib = 'Vibrant VIII - Indenture(133849278_1).pdf'\n",
    "start_page_vib = 8\n",
    "end_page_vib = 74\n",
    "\n",
    "file_name_oh = 'OHA XII Indenture.pdf'\n",
    "start_page_oh = 8\n",
    "end_page_oh = 85"
   ]
  },
  {
   "cell_type": "code",
   "execution_count": 5,
   "metadata": {},
   "outputs": [],
   "source": [
    "# extract pages from both documents\n",
    "oh_pages = scrape.pdf_extract_pages(file_name_oh, start_page_oh, end_page_oh)\n",
    "doc_str_oh = scrape.combine_strings(oh_pages) \n",
    "vib_pages = scrape.pdf_extract_pages(file_name_vib, start_page_vib, end_page_vib)\n",
    "doc_str_vib = scrape.combine_strings(vib_pages)"
   ]
  },
  {
   "cell_type": "code",
   "execution_count": 6,
   "metadata": {},
   "outputs": [],
   "source": [
    "# isolate ranges for both files\n",
    "regex_oh = r'“.*”:'\n",
    "regex_vib = r'\".*\":'\n",
    "name_range_oh = scrape.text_match_str2list(regex_oh, doc_str_oh)\n",
    "name_range_vib = scrape.text_match_str2list(regex_vib, doc_str_vib)"
   ]
  },
  {
   "cell_type": "markdown",
   "metadata": {},
   "source": [
    "Store of list of definition names into dictionary, then export through dataframe"
   ]
  },
  {
   "cell_type": "code",
   "execution_count": 7,
   "metadata": {},
   "outputs": [],
   "source": [
    "# filter out beginning and end quote/colon from each line \n",
    "name_range_oh = [x[1:(len(x)-2)] for x in name_range_oh]\n",
    "name_range_vib = [x[1:(len(x)-2)] for x in name_range_vib]"
   ]
  },
  {
   "cell_type": "code",
   "execution_count": 8,
   "metadata": {},
   "outputs": [],
   "source": [
    "doc_def_dict={}\n",
    "doc_def_dict['OH'] = name_range_oh\n",
    "doc_def_dict['Vib'] = name_range_vib"
   ]
  },
  {
   "cell_type": "code",
   "execution_count": 9,
   "metadata": {},
   "outputs": [
    {
     "data": {
      "text/html": [
       "<div>\n",
       "<style scoped>\n",
       "    .dataframe tbody tr th:only-of-type {\n",
       "        vertical-align: middle;\n",
       "    }\n",
       "\n",
       "    .dataframe tbody tr th {\n",
       "        vertical-align: top;\n",
       "    }\n",
       "\n",
       "    .dataframe thead th {\n",
       "        text-align: right;\n",
       "    }\n",
       "</style>\n",
       "<table border=\"1\" class=\"dataframe\">\n",
       "  <thead>\n",
       "    <tr style=\"text-align: right;\">\n",
       "      <th></th>\n",
       "      <th>OH</th>\n",
       "      <th>Vib</th>\n",
       "    </tr>\n",
       "  </thead>\n",
       "  <tbody>\n",
       "    <tr>\n",
       "      <th>0</th>\n",
       "      <td>Acceleration Event</td>\n",
       "      <td>17g-5 Information Provider</td>\n",
       "    </tr>\n",
       "    <tr>\n",
       "      <th>1</th>\n",
       "      <td>Acceleration  Priority  of  Payments</td>\n",
       "      <td>17g-5  Information  Provider's  Website</td>\n",
       "    </tr>\n",
       "    <tr>\n",
       "      <th>2</th>\n",
       "      <td>Account Agreement</td>\n",
       "      <td>Acceleration Event</td>\n",
       "    </tr>\n",
       "    <tr>\n",
       "      <th>3</th>\n",
       "      <td>Accountants’ Effective Date Comparison AUP Report</td>\n",
       "      <td>Accountants' Report</td>\n",
       "    </tr>\n",
       "    <tr>\n",
       "      <th>4</th>\n",
       "      <td>Accountants’ Effective Date Recalculation AUP ...</td>\n",
       "      <td>Accounts</td>\n",
       "    </tr>\n",
       "  </tbody>\n",
       "</table>\n",
       "</div>"
      ],
      "text/plain": [
       "                                                  OH  \\\n",
       "0                                 Acceleration Event   \n",
       "1               Acceleration  Priority  of  Payments   \n",
       "2                                  Account Agreement   \n",
       "3  Accountants’ Effective Date Comparison AUP Report   \n",
       "4  Accountants’ Effective Date Recalculation AUP ...   \n",
       "\n",
       "                                       Vib  \n",
       "0               17g-5 Information Provider  \n",
       "1  17g-5  Information  Provider's  Website  \n",
       "2                       Acceleration Event  \n",
       "3                      Accountants' Report  \n",
       "4                                 Accounts  "
      ]
     },
     "execution_count": 9,
     "metadata": {},
     "output_type": "execute_result"
    }
   ],
   "source": [
    "df1 = pd.DataFrame(data=doc_def_dict['OH'])\n",
    "df1.columns = ['OH']\n",
    "df2 = pd.DataFrame(data=doc_def_dict['Vib'])\n",
    "df2.columns = ['Vib']\n",
    "df = pd.concat([df1, df2], axis=1)\n",
    "df.head() "
   ]
  },
  {
   "cell_type": "markdown",
   "metadata": {},
   "source": [
    "### Table of Definitions: Raw definitions (no table/buullet processing) "
   ]
  },
  {
   "cell_type": "code",
   "execution_count": null,
   "metadata": {},
   "outputs": [],
   "source": []
  }
 ],
 "metadata": {
  "kernelspec": {
   "display_name": "Python 3",
   "language": "python",
   "name": "python3"
  },
  "language_info": {
   "codemirror_mode": {
    "name": "ipython",
    "version": 3
   },
   "file_extension": ".py",
   "mimetype": "text/x-python",
   "name": "python",
   "nbconvert_exporter": "python",
   "pygments_lexer": "ipython3",
   "version": "3.7.3"
  }
 },
 "nbformat": 4,
 "nbformat_minor": 4
}
