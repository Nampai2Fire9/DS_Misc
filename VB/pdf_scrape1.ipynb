{
 "cells": [
  {
   "cell_type": "code",
   "execution_count": 1,
   "metadata": {},
   "outputs": [],
   "source": [
    "import os\n",
    "import re\n",
    "import pdfplumber\n",
    "import numpy as np\n",
    "import pandas as pd \n",
    "import json\n",
    "\n",
    "import plotly.graph_objs as go\n",
    "import datetime as dt\n",
    "import plotly as py\n",
    "from plotly.subplots import make_subplots"
   ]
  },
  {
   "cell_type": "code",
   "execution_count": 2,
   "metadata": {},
   "outputs": [],
   "source": [
    "# Enable multiple output per cell. \n",
    "from IPython.core.interactiveshell import InteractiveShell\n",
    "InteractiveShell.ast_node_interactivity = \"all\"\n",
    "\n",
    "os.chdir(r'C:\\Users\\Owner\\OneDrive\\Digital Mosaic\\Product\\Solutions\\Vibrant')"
   ]
  },
  {
   "cell_type": "markdown",
   "metadata": {},
   "source": [
    "### Extract Pages\n",
    "Goal is create table with sample sections for <font color=cyan>Collateral Quality Test </font>. \n",
    "1. Extract relevant pages from pdf then combine into one string.\n",
    "2. Search <font color=cyan> \"Collateral Quality Test\" & \"Collections Account\" </font>, with the latter being the section that follows Collateral Quality. \n",
    "3. Use regex to isolate bullet points and store values in table. "
   ]
  },
  {
   "cell_type": "code",
   "execution_count": 5,
   "metadata": {},
   "outputs": [],
   "source": [
    "start_page = 22\n",
    "end_page = 35 \n",
    "text_list = [] \n",
    "with pdfplumber.open('OHA XII Indenture.pdf') as pdf:\n",
    "    for i in np.arange(start_page,end_page):\n",
    "        page = pdf.pages[i]\n",
    "        text = page.extract_text()\n",
    "        text_list.append(text)"
   ]
  },
  {
   "cell_type": "code",
   "execution_count": 8,
   "metadata": {},
   "outputs": [
    {
     "data": {
      "text/plain": [
       "36980"
      ]
     },
     "execution_count": 8,
     "metadata": {},
     "output_type": "execute_result"
    }
   ],
   "source": [
    "# combine document string \n",
    "doc_str = text_list[0]\n",
    "for i in np.arange(1, len(text_list)):\n",
    "    doc_str = doc_str + text_list[i]\n",
    "len(doc_str) "
   ]
  },
  {
   "cell_type": "code",
   "execution_count": 4,
   "metadata": {},
   "outputs": [
    {
     "data": {
      "text/plain": [
       "1907"
      ]
     },
     "execution_count": 4,
     "metadata": {},
     "output_type": "execute_result"
    }
   ],
   "source": [
    "doc_str = text_list[0] + text_list[1]\n",
    "end_doc = len(doc_str) "
   ]
  },
  {
   "cell_type": "code",
   "execution_count": 6,
   "metadata": {},
   "outputs": [
    {
     "data": {
      "text/plain": [
       "34"
      ]
     },
     "execution_count": 6,
     "metadata": {},
     "output_type": "execute_result"
    }
   ],
   "source": [
    "# Calc lines on one page \n",
    "pg1 = text_list[0]\n",
    "num_lines = 0 \n",
    "for i, line in enumerate(pg1.split('\\n')):\n",
    "    num_lines += 1\n",
    "num_lines"
   ]
  },
  {
   "cell_type": "code",
   "execution_count": 7,
   "metadata": {},
   "outputs": [
    {
     "name": "stdout",
     "output_type": "stream",
     "text": [
      "15 “Collateral Quality Test”:  A test satisfied if, as of any Measurement Date, for so \n"
     ]
    },
    {
     "data": {
      "text/plain": [
       "15"
      ]
     },
     "execution_count": 7,
     "metadata": {},
     "output_type": "execute_result"
    }
   ],
   "source": [
    "# Test isolateing on search string and end string \n",
    "for i, line in enumerate(doc_str.split('\\n')):\n",
    "    col = line.find(\"Collateral Quality Test\")\n",
    "    if col == 1:\n",
    "        match_line = i\n",
    "        print(i, line)\n",
    "match_line "
   ]
  },
  {
   "cell_type": "code",
   "execution_count": 46,
   "metadata": {},
   "outputs": [
    {
     "data": {
      "text/plain": [
       "2647"
      ]
     },
     "execution_count": 46,
     "metadata": {},
     "output_type": "execute_result"
    },
    {
     "data": {
      "text/plain": [
       "'“Concentration Limitations”'"
      ]
     },
     "execution_count": 46,
     "metadata": {},
     "output_type": "execute_result"
    }
   ],
   "source": [
    "# Alternative for finding \"Collaterla Quality Test\"\n",
    "search_string = '“Concentration Limitations”'\n",
    "    # collat_st_re = re.compile(r'“Collateral Quality Test”')\n",
    "collat_st_re = re.compile(search_string)\n",
    "# \"(.*?)\"\n",
    "collat_match = collat_st_re.finditer(doc_str)\n",
    "for match in collat_match:\n",
    "    start_collat = match.span()[0]\n",
    "    end_collat = match.span()[1]\n",
    "    start_collat\n",
    "    doc_str[start_collat:end_collat]"
   ]
  },
  {
   "cell_type": "markdown",
   "metadata": {},
   "source": [
    "### Exploring end of section \n",
    "1. Explicitly typing name of next section. 2\n",
    "2. search on quotation (more generalized) "
   ]
  },
  {
   "cell_type": "code",
   "execution_count": 9,
   "metadata": {},
   "outputs": [
    {
     "data": {
      "text/plain": [
       "1705"
      ]
     },
     "execution_count": 9,
     "metadata": {},
     "output_type": "execute_result"
    },
    {
     "data": {
      "text/plain": [
       "'“Collection Account”'"
      ]
     },
     "execution_count": 9,
     "metadata": {},
     "output_type": "execute_result"
    }
   ],
   "source": [
    "# Alternative for finding \"Collectin Account\"\n",
    "collect_st_re = re.compile(r'“Collection Account”')\n",
    "# collat_st_re2 = re.compile(search_string)\n",
    "# \"(.*?)\"\n",
    "collect_match = collect_st_re.finditer(doc_str)\n",
    "for match in collect_match:\n",
    "    start_collect = match.span()[0]\n",
    "    end_collect = match.span()[1]\n",
    "    start_collect\n",
    "    doc_str[start_collect:end_collect]"
   ]
  },
  {
   "cell_type": "code",
   "execution_count": 48,
   "metadata": {},
   "outputs": [
    {
     "data": {
      "text/plain": [
       "''"
      ]
     },
     "execution_count": 48,
     "metadata": {},
     "output_type": "execute_result"
    },
    {
     "data": {
      "text/plain": [
       "2647"
      ]
     },
     "execution_count": 48,
     "metadata": {},
     "output_type": "execute_result"
    }
   ],
   "source": [
    "# find next open quotation: “ \n",
    "first_word_len = len(search_string)\n",
    "doc_sub = doc_str[(start_collat+1):end_doc]   #substring of section to end of doc\n",
    "next_loc = doc_sub.find('“')\n",
    "doc_sub[next_loc:next_loc+11]\n",
    "start_next = start_collat + next_loc + 1 \n",
    "start_next"
   ]
  },
  {
   "cell_type": "markdown",
   "metadata": {},
   "source": [
    "Create substring with just Collateral Quality Section "
   ]
  },
  {
   "cell_type": "code",
   "execution_count": 38,
   "metadata": {},
   "outputs": [],
   "source": [
    "sub_doc_str = doc_str[start_collat:start_next]\n",
    "sub_doc_str2 = sub_doc_str.replace('\\n','') # same string with newlines removed"
   ]
  },
  {
   "cell_type": "code",
   "execution_count": 39,
   "metadata": {
    "collapsed": true,
    "jupyter": {
     "outputs_hidden": true
    }
   },
   "outputs": [
    {
     "name": "stdout",
     "output_type": "stream",
     "text": [
      "(400, 403)\n"
     ]
    },
    {
     "data": {
      "text/plain": [
       "'(i)'"
      ]
     },
     "execution_count": 39,
     "metadata": {},
     "output_type": "execute_result"
    },
    {
     "name": "stdout",
     "output_type": "stream",
     "text": [
      "(437, 441)\n"
     ]
    },
    {
     "data": {
      "text/plain": [
       "'(ii)'"
      ]
     },
     "execution_count": 39,
     "metadata": {},
     "output_type": "execute_result"
    },
    {
     "name": "stdout",
     "output_type": "stream",
     "text": [
      "(478, 483)\n"
     ]
    },
    {
     "data": {
      "text/plain": [
       "'(iii)'"
      ]
     },
     "execution_count": 39,
     "metadata": {},
     "output_type": "execute_result"
    },
    {
     "name": "stdout",
     "output_type": "stream",
     "text": [
      "(526, 530)\n"
     ]
    },
    {
     "data": {
      "text/plain": [
       "'(iv)'"
      ]
     },
     "execution_count": 39,
     "metadata": {},
     "output_type": "execute_result"
    },
    {
     "name": "stdout",
     "output_type": "stream",
     "text": [
      "(561, 564)\n"
     ]
    },
    {
     "data": {
      "text/plain": [
       "'(v)'"
      ]
     },
     "execution_count": 39,
     "metadata": {},
     "output_type": "execute_result"
    },
    {
     "name": "stdout",
     "output_type": "stream",
     "text": [
      "(624, 628)\n"
     ]
    },
    {
     "data": {
      "text/plain": [
       "'(vi)'"
      ]
     },
     "execution_count": 39,
     "metadata": {},
     "output_type": "execute_result"
    },
    {
     "name": "stdout",
     "output_type": "stream",
     "text": [
      "(663, 668)\n"
     ]
    },
    {
     "data": {
      "text/plain": [
       "'(vii)'"
      ]
     },
     "execution_count": 39,
     "metadata": {},
     "output_type": "execute_result"
    },
    {
     "name": "stdout",
     "output_type": "stream",
     "text": [
      "(763, 769)\n"
     ]
    },
    {
     "data": {
      "text/plain": [
       "'(viii)'"
      ]
     },
     "execution_count": 39,
     "metadata": {},
     "output_type": "execute_result"
    }
   ],
   "source": [
    "# new_re = re.compile(r\"\\([vix]+\\).*;\")\n",
    "new_re = re.compile(r\"\\([vix]+\\)\")\n",
    "matches = new_re.finditer(sub_doc_str)\n",
    "bullet_ranges = []\n",
    "for match in matches:\n",
    "    print(match.span()) \n",
    "    bullet_ranges.append(match.span())\n",
    "    start_roman = match.span()[0]\n",
    "    end_roman = match.span()[1]\n",
    "    sub_doc_str[start_roman:end_roman]"
   ]
  },
  {
   "cell_type": "markdown",
   "metadata": {},
   "source": [
    "Append all conditions except last for Collateral Quality through loop, then append the last condition (ends at start of \"Collection Account\")"
   ]
  },
  {
   "cell_type": "code",
   "execution_count": 40,
   "metadata": {},
   "outputs": [],
   "source": [
    "collat_qual_def = [] \n",
    "for i in np.arange(0, (len(bullet_ranges)-1)):\n",
    "    start_loc = bullet_ranges[i][0]\n",
    "    end_loc = bullet_ranges[i+1][0] - 1 \n",
    "    collat_qual_def.append(sub_doc_str[start_loc:end_loc])"
   ]
  },
  {
   "cell_type": "code",
   "execution_count": 41,
   "metadata": {},
   "outputs": [],
   "source": [
    "lstart_loc = bullet_ranges[len(bullet_ranges)-1][0]\n",
    "collat_qual_def.append(sub_doc_str[lstart_loc:start_collect])"
   ]
  },
  {
   "cell_type": "code",
   "execution_count": 42,
   "metadata": {},
   "outputs": [
    {
     "data": {
      "text/plain": [
       "['(i)  the Minimum Fixed Coupon Test ',\n",
       " '(ii)  the Minimum Floating Spread Test ',\n",
       " '(iii)  the Maximum Moody’s Rating Factor Test ',\n",
       " '(iv)  the Moody’s Diversity Test ',\n",
       " '(v)  the Minimum Weighted Average Moody’s Recovery Rate Test ',\n",
       " '(vi)  the Weighted Average Life Test ',\n",
       " '(vii)  the S&P Minimum Weighted Average Recovery Rate Test so long as S&P is a Rating Agency and ',\n",
       " '(viii)  during the Reinvestment Period only, the S&P CDO Monitor Test so long as S&P is a Rating Agency. ']"
      ]
     },
     "execution_count": 42,
     "metadata": {},
     "output_type": "execute_result"
    }
   ],
   "source": [
    "# remove any semi colons and new line\n",
    "collat_qual_def2 = []\n",
    "for item in collat_qual_def:\n",
    "    str1 = item.replace('\\n', '')\n",
    "    str1 = str1.replace(';','')\n",
    "    collat_qual_def2.append(str1)\n",
    "collat_qual_def2"
   ]
  },
  {
   "cell_type": "code",
   "execution_count": 16,
   "metadata": {},
   "outputs": [],
   "source": [
    "conditions_dict = {}\n",
    "conditions_dict['Collateral Quality Test'] = collat_qual_def2"
   ]
  },
  {
   "cell_type": "markdown",
   "metadata": {},
   "source": [
    "Export to Excel"
   ]
  },
  {
   "cell_type": "code",
   "execution_count": 25,
   "metadata": {},
   "outputs": [],
   "source": [
    "df = pd.DataFrame(data=conditions_dict)\n",
    "df.to_excel('df_test.xlsx')"
   ]
  },
  {
   "cell_type": "code",
   "execution_count": null,
   "metadata": {},
   "outputs": [],
   "source": []
  }
 ],
 "metadata": {
  "kernelspec": {
   "display_name": "Python 3",
   "language": "python",
   "name": "python3"
  },
  "language_info": {
   "codemirror_mode": {
    "name": "ipython",
    "version": 3
   },
   "file_extension": ".py",
   "mimetype": "text/x-python",
   "name": "python",
   "nbconvert_exporter": "python",
   "pygments_lexer": "ipython3",
   "version": "3.7.3"
  }
 },
 "nbformat": 4,
 "nbformat_minor": 4
}
